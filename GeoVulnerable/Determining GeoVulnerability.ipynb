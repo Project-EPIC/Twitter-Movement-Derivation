{
 "cells": [
  {
   "cell_type": "markdown",
   "metadata": {},
   "source": [
    "# Are users home locations in Zone A?"
   ]
  },
  {
   "cell_type": "code",
   "execution_count": 1,
   "metadata": {
    "collapsed": true
   },
   "outputs": [],
   "source": [
    "import pandas as pd; import numpy as np; from multiprocessing import Pool, Manager; import numpy as np; import geopandas as gpd\n",
    "import matplotlib.pyplot as plt; import seaborn as sns\n",
    "import matplotlib, os, json, sys, time, datetime\n",
    "from bson import json_util"
   ]
  },
  {
   "cell_type": "code",
   "execution_count": 3,
   "metadata": {
    "collapsed": true
   },
   "outputs": [],
   "source": [
    "input_directory = \"/data/chime/geo/sandy_zone_a/stage_2_temporal_clusters_with_home\"\n",
    "output_directory = \"/data/chime/geo/sandy_zone_a/geo_vulnerable_users\""
   ]
  },
  {
   "cell_type": "markdown",
   "metadata": {},
   "source": [
    "#### Import the ZoneA Geometry"
   ]
  },
  {
   "cell_type": "code",
   "execution_count": 4,
   "metadata": {
    "collapsed": false
   },
   "outputs": [
    {
     "data": {
      "text/plain": [
       "True"
      ]
     },
     "execution_count": 4,
     "metadata": {},
     "output_type": "execute_result"
    }
   ],
   "source": [
    "import fiona, shapely; from osgeo import ogr; from shapely.geometry import mapping, shape\n",
    "c = fiona.open('../ZoneA_Geometry/ZoneA/OGRGeoJSON.shp','r')\n",
    "pol = c.next(); zoneA = shape(pol['geometry']).buffer(0); zoneA.is_valid"
   ]
  },
  {
   "cell_type": "markdown",
   "metadata": {},
   "source": [
    "#### Import the user metadata DF"
   ]
  },
  {
   "cell_type": "code",
   "execution_count": 11,
   "metadata": {
    "collapsed": true
   },
   "outputs": [],
   "source": [
    "_user_meta = pd.read_json(input_directory+'/temporal_clustered_user_meta.json')"
   ]
  },
  {
   "cell_type": "code",
   "execution_count": 14,
   "metadata": {
    "collapsed": false
   },
   "outputs": [
    {
     "data": {
      "text/html": [
       "<div>\n",
       "<table border=\"1\" class=\"dataframe\">\n",
       "  <thead>\n",
       "    <tr style=\"text-align: right;\">\n",
       "      <th></th>\n",
       "      <th>home_cluster</th>\n",
       "      <th>tweets</th>\n",
       "      <th>uid</th>\n",
       "      <th>user</th>\n",
       "    </tr>\n",
       "  </thead>\n",
       "  <tbody>\n",
       "    <tr>\n",
       "      <th>0</th>\n",
       "      <td>1.0</td>\n",
       "      <td>72</td>\n",
       "      <td>165486875</td>\n",
       "      <td>Alliegallo</td>\n",
       "    </tr>\n",
       "    <tr>\n",
       "      <th>1</th>\n",
       "      <td>NaN</td>\n",
       "      <td>35</td>\n",
       "      <td>20529586</td>\n",
       "      <td>AlexanderRea</td>\n",
       "    </tr>\n",
       "    <tr>\n",
       "      <th>2</th>\n",
       "      <td>NaN</td>\n",
       "      <td>32</td>\n",
       "      <td>20088745</td>\n",
       "      <td>AdamGabbatt</td>\n",
       "    </tr>\n",
       "  </tbody>\n",
       "</table>\n",
       "</div>"
      ],
      "text/plain": [
       "   home_cluster  tweets        uid          user\n",
       "0           1.0      72  165486875    Alliegallo\n",
       "1           NaN      35   20529586  AlexanderRea\n",
       "2           NaN      32   20088745   AdamGabbatt"
      ]
     },
     "execution_count": 14,
     "metadata": {},
     "output_type": "execute_result"
    }
   ],
   "source": [
    "_user_meta = _user_meta.sort_index()\n",
    "_user_meta.head(3)"
   ]
  },
  {
   "cell_type": "markdown",
   "metadata": {},
   "source": [
    "## 0. Import all of the individual user dataframes"
   ]
  },
  {
   "cell_type": "code",
   "execution_count": 21,
   "metadata": {
    "collapsed": false
   },
   "outputs": [
    {
     "name": "stdout",
     "output_type": "stream",
     "text": [
      "Found 3 users in /data/chime/geo/sandy_zone_a/stage_2_temporal_clusters_with_home\n"
     ]
    }
   ],
   "source": [
    "users_in = sorted(os.listdir(input_directory))\n",
    "users_in = [x for x in users_in if x != \"temporal_clustered_user_meta.json\"]\n",
    "print(\"Found {0} users in {1}\".format(len(users_in), input_directory))"
   ]
  },
  {
   "cell_type": "code",
   "execution_count": 22,
   "metadata": {
    "collapsed": true
   },
   "outputs": [],
   "source": [
    "def loader_function(args):\n",
    "    uFile, path, q = args\n",
    "    u = json.load(open(path+\"/\"+uFile,'r'))\n",
    "    tweets = []\n",
    "    for t in u['features']:\n",
    "        t['properties']['geometry'] = shape(t['geometry'])\n",
    "        t['properties']['date'] = pd.Timestamp(t['properties']['date'])\n",
    "        tweets.append(t['properties'])\n",
    "    q.put(1)\n",
    "    return gpd.GeoDataFrame(tweets)"
   ]
  },
  {
   "cell_type": "code",
   "execution_count": 23,
   "metadata": {
    "collapsed": false
   },
   "outputs": [
    {
     "name": "stderr",
     "output_type": "stream",
     "text": [
      "Processed: 3, 100%"
     ]
    }
   ],
   "source": [
    "#Parallel runtime\n",
    "p = Pool(30)\n",
    "m = Manager()\n",
    "q = m.Queue()\n",
    "\n",
    "args = [(i, input_directory, q) for i in users_in[:200]]\n",
    "result = p.map_async(loader_function, args)\n",
    "\n",
    "# monitor loop\n",
    "while True:\n",
    "    if result.ready():\n",
    "        break\n",
    "    else:\n",
    "        size = q.qsize()\n",
    "        sys.stderr.write(\"\\rProcessed: {0}, {1:.3g}%\".format(size, size/len(args)*100))\n",
    "        time.sleep(0.5)\n",
    "sys.stderr.write(\"\\rProcessed: {0}, {1:.3g}%\".format(q.qsize(), q.qsize()/len(args)*100))\n",
    "users = result.get()\n",
    "p.close()"
   ]
  },
  {
   "cell_type": "code",
   "execution_count": 24,
   "metadata": {
    "collapsed": false
   },
   "outputs": [],
   "source": [
    "users.sort( key=lambda x: len(x), reverse=True ) "
   ]
  },
  {
   "cell_type": "markdown",
   "metadata": {},
   "source": [
    "`users` is an array of user dataframes. Now find which users have _home locations_ in Zone A"
   ]
  },
  {
   "cell_type": "code",
   "execution_count": 40,
   "metadata": {
    "collapsed": false
   },
   "outputs": [
    {
     "data": {
      "text/plain": [
       "<shapely.geometry.point.Point at 0x7fe3060b9320>"
      ]
     },
     "execution_count": 40,
     "metadata": {},
     "output_type": "execute_result"
    }
   ],
   "source": [
    "def get_home_cluster_center(x):\n",
    "    return shape(json.loads(x.query('cluster=='+str(x.home_cluster_id.values[0])).cluster_center.values[0]))\n",
    "\n",
    "get_home_cluster_center(users[1])"
   ]
  },
  {
   "cell_type": "markdown",
   "metadata": {},
   "source": [
    "## Determine who's home cluster center is in Zone A"
   ]
  },
  {
   "cell_type": "code",
   "execution_count": 41,
   "metadata": {
    "collapsed": true
   },
   "outputs": [],
   "source": [
    "def insideZoneA(p):\n",
    "    if p==None:\n",
    "        return False\n",
    "    else:\n",
    "        return p.within(zoneA)"
   ]
  },
  {
   "cell_type": "code",
   "execution_count": 66,
   "metadata": {
    "collapsed": false
   },
   "outputs": [],
   "source": [
    "_user_meta['inZoneA'] = _user_meta.apply(lambda row: insideZoneA(row['hc_center']), axis=1)"
   ]
  },
  {
   "cell_type": "code",
   "execution_count": 67,
   "metadata": {
    "collapsed": false
   },
   "outputs": [
    {
     "data": {
      "text/html": [
       "<div>\n",
       "<table border=\"1\" class=\"dataframe\">\n",
       "  <thead>\n",
       "    <tr style=\"text-align: right;\">\n",
       "      <th></th>\n",
       "      <th>HomeCluster</th>\n",
       "      <th>tweets</th>\n",
       "      <th>user</th>\n",
       "      <th>hc_center</th>\n",
       "      <th>inZoneA</th>\n",
       "    </tr>\n",
       "  </thead>\n",
       "  <tbody>\n",
       "    <tr>\n",
       "      <th>4</th>\n",
       "      <td>2.0</td>\n",
       "      <td>3462</td>\n",
       "      <td>NZavaa</td>\n",
       "      <td>POINT (-73.80392010800064 40.81081586865448)</td>\n",
       "      <td>True</td>\n",
       "    </tr>\n",
       "    <tr>\n",
       "      <th>15</th>\n",
       "      <td>2.0</td>\n",
       "      <td>2573</td>\n",
       "      <td>_an_oak_tree_</td>\n",
       "      <td>POINT (-74.00711654755784 40.74712723907435)</td>\n",
       "      <td>True</td>\n",
       "    </tr>\n",
       "    <tr>\n",
       "      <th>42</th>\n",
       "      <td>2.0</td>\n",
       "      <td>1718</td>\n",
       "      <td>MyLuvisKING</td>\n",
       "      <td>POINT (-74.01307974015074 40.71548709588853)</td>\n",
       "      <td>True</td>\n",
       "    </tr>\n",
       "  </tbody>\n",
       "</table>\n",
       "</div>"
      ],
      "text/plain": [
       "    HomeCluster  tweets           user  \\\n",
       "4           2.0    3462         NZavaa   \n",
       "15          2.0    2573  _an_oak_tree_   \n",
       "42          2.0    1718    MyLuvisKING   \n",
       "\n",
       "                                       hc_center inZoneA  \n",
       "4   POINT (-73.80392010800064 40.81081586865448)    True  \n",
       "15  POINT (-74.00711654755784 40.74712723907435)    True  \n",
       "42  POINT (-74.01307974015074 40.71548709588853)    True  "
      ]
     },
     "execution_count": 67,
     "metadata": {},
     "output_type": "execute_result"
    }
   ],
   "source": [
    "_user_meta.query('inZoneA').head(3)"
   ]
  },
  {
   "cell_type": "code",
   "execution_count": 68,
   "metadata": {
    "collapsed": false
   },
   "outputs": [
    {
     "data": {
      "text/plain": [
       "['{\"coordinates\": [-73.80392010800064, 40.81081586865448], \"type\": \"Point\"}',\n",
       " '{\"coordinates\": [-74.00711654755784, 40.74712723907435], \"type\": \"Point\"}',\n",
       " '{\"coordinates\": [-74.01307974015074, 40.715487095888534], \"type\": \"Point\"}',\n",
       " '{\"coordinates\": [-73.79006214377567, 40.85626400344152], \"type\": \"Point\"}',\n",
       " '{\"coordinates\": [-74.0056795964912, 40.74782570175439], \"type\": \"Point\"}']"
      ]
     },
     "execution_count": 68,
     "metadata": {},
     "output_type": "execute_result"
    }
   ],
   "source": [
    "list(_user_meta.query('inZoneA').head(5).hc_center.apply(lambda x: json.dumps(mapping(x))))"
   ]
  },
  {
   "cell_type": "code",
   "execution_count": 20,
   "metadata": {
    "collapsed": false
   },
   "outputs": [],
   "source": [
    "vulnerable_users = list(_user_meta.query('inZoneA').user)"
   ]
  },
  {
   "cell_type": "code",
   "execution_count": null,
   "metadata": {
    "collapsed": false
   },
   "outputs": [],
   "source": [
    "os.mkdir('../working_data/geovulnerable_users')"
   ]
  },
  {
   "cell_type": "code",
   "execution_count": 214,
   "metadata": {
    "collapsed": false
   },
   "outputs": [
    {
     "name": "stderr",
     "output_type": "stream",
     "text": [
      "4858 processed"
     ]
    }
   ],
   "source": [
    "from bson import json_util\n",
    "for idx, u in enumerate(users):\n",
    "    if u.user[0] in vulnerable_users:\n",
    "        with open('../working_data/geovulnerable_users/'+u.user[0].lower()+'.geojson','w') as oFile:\n",
    "            oFile.write(u.to_json(default=json_util.default))\n",
    "    sys.stderr.write(\"\\r{0} processed\".format(idx))"
   ]
  },
  {
   "cell_type": "markdown",
   "metadata": {},
   "source": [
    "# Write out simpler GeoJSON for visualizations of GeoVulnerable"
   ]
  },
  {
   "cell_type": "code",
   "execution_count": 34,
   "metadata": {
    "collapsed": false
   },
   "outputs": [
    {
     "name": "stderr",
     "output_type": "stream",
     "text": [
      "4858 processed"
     ]
    }
   ],
   "source": [
    "geovulnerable_users = []\n",
    "for idx, u in enumerate(users):\n",
    "    if u.user[0] in vulnerable_users:\n",
    "        geovulnerable_users.append(u)\n",
    "    sys.stderr.write(\"\\r{0} processed\".format(idx))"
   ]
  },
  {
   "cell_type": "code",
   "execution_count": 35,
   "metadata": {
    "collapsed": false
   },
   "outputs": [
    {
     "data": {
      "text/plain": [
       "118"
      ]
     },
     "execution_count": 35,
     "metadata": {},
     "output_type": "execute_result"
    }
   ],
   "source": [
    "len(geovulnerable_users)"
   ]
  },
  {
   "cell_type": "code",
   "execution_count": 36,
   "metadata": {
    "collapsed": true
   },
   "outputs": [],
   "source": [
    "os.mkdir('/data/www/jennings/geovulnerable/inZoneA')"
   ]
  },
  {
   "cell_type": "code",
   "execution_count": 41,
   "metadata": {
    "collapsed": true
   },
   "outputs": [],
   "source": [
    "def pad0(num):\n",
    "    if num<10:\n",
    "        return \"0\"+str(num)\n",
    "    else:\n",
    "        return str(num)"
   ]
  },
  {
   "cell_type": "code",
   "execution_count": 52,
   "metadata": {
    "collapsed": false
   },
   "outputs": [
    {
     "name": "stdout",
     "output_type": "stream",
     "text": [
      "nzavaa\thttp://www.townsendjennings.com/geojson-tweets?geojson=http://epic-analytics.cs.colorado.edu:9000/jennings/geovulnerable/inZoneA/nzavaa.geojson&start=2012-09-09T19:49&end=2012-11-08&unit=minutes\n",
      "_an_oak_tree_\thttp://www.townsendjennings.com/geojson-tweets?geojson=http://epic-analytics.cs.colorado.edu:9000/jennings/geovulnerable/inZoneA/_an_oak_tree_.geojson&start=2012-09-01T00:41&end=2012-11-29&unit=minutes\n",
      "myluvisking\thttp://www.townsendjennings.com/geojson-tweets?geojson=http://epic-analytics.cs.colorado.edu:9000/jennings/geovulnerable/inZoneA/myluvisking.geojson&start=2012-10-06T21:56&end=2012-11-29&unit=minutes\n",
      "brianaaanicolee\thttp://www.townsendjennings.com/geojson-tweets?geojson=http://epic-analytics.cs.colorado.edu:9000/jennings/geovulnerable/inZoneA/brianaaanicolee.geojson&start=2012-09-01T04:47&end=2012-11-29&unit=minutes\n",
      "objorionto\thttp://www.townsendjennings.com/geojson-tweets?geojson=http://epic-analytics.cs.colorado.edu:9000/jennings/geovulnerable/inZoneA/objorionto.geojson&start=2012-09-01T03:45&end=2012-11-29&unit=minutes\n",
      "sfloridia98\thttp://www.townsendjennings.com/geojson-tweets?geojson=http://epic-analytics.cs.colorado.edu:9000/jennings/geovulnerable/inZoneA/sfloridia98.geojson&start=2012-09-07T14:54&end=2012-11-29&unit=minutes\n",
      "explicit_clutch\thttp://www.townsendjennings.com/geojson-tweets?geojson=http://epic-analytics.cs.colorado.edu:9000/jennings/geovulnerable/inZoneA/explicit_clutch.geojson&start=2012-09-01T08:06&end=2012-11-29&unit=minutes\n",
      "carminenyc\thttp://www.townsendjennings.com/geojson-tweets?geojson=http://epic-analytics.cs.colorado.edu:9000/jennings/geovulnerable/inZoneA/carminenyc.geojson&start=2012-09-03T00:35&end=2012-11-29&unit=minutes\n",
      "dem_callmi_tutu\thttp://www.townsendjennings.com/geojson-tweets?geojson=http://epic-analytics.cs.colorado.edu:9000/jennings/geovulnerable/inZoneA/dem_callmi_tutu.geojson&start=2012-09-27T01:32&end=2012-11-29&unit=minutes\n",
      "rollingstoned40\thttp://www.townsendjennings.com/geojson-tweets?geojson=http://epic-analytics.cs.colorado.edu:9000/jennings/geovulnerable/inZoneA/rollingstoned40.geojson&start=2012-09-01T20:52&end=2012-11-29&unit=minutes\n",
      "chinkeyeyez3\thttp://www.townsendjennings.com/geojson-tweets?geojson=http://epic-analytics.cs.colorado.edu:9000/jennings/geovulnerable/inZoneA/chinkeyeyez3.geojson&start=2012-09-16T16:18&end=2012-11-24&unit=minutes\n",
      "mikeviktorenko\thttp://www.townsendjennings.com/geojson-tweets?geojson=http://epic-analytics.cs.colorado.edu:9000/jennings/geovulnerable/inZoneA/mikeviktorenko.geojson&start=2012-10-07T18:30&end=2012-11-27&unit=minutes\n",
      "trimarchi023\thttp://www.townsendjennings.com/geojson-tweets?geojson=http://epic-analytics.cs.colorado.edu:9000/jennings/geovulnerable/inZoneA/trimarchi023.geojson&start=2012-10-19T02:18&end=2012-11-29&unit=minutes\n",
      "sarahphara_tw\thttp://www.townsendjennings.com/geojson-tweets?geojson=http://epic-analytics.cs.colorado.edu:9000/jennings/geovulnerable/inZoneA/sarahphara_tw.geojson&start=2012-09-02T00:41&end=2012-11-29&unit=minutes\n",
      "therealgowanus\thttp://www.townsendjennings.com/geojson-tweets?geojson=http://epic-analytics.cs.colorado.edu:9000/jennings/geovulnerable/inZoneA/therealgowanus.geojson&start=2012-09-01T00:15&end=2012-11-29&unit=minutes\n",
      "lauren_morra\thttp://www.townsendjennings.com/geojson-tweets?geojson=http://epic-analytics.cs.colorado.edu:9000/jennings/geovulnerable/inZoneA/lauren_morra.geojson&start=2012-09-03T01:02&end=2012-11-11&unit=minutes\n",
      "honeyberk\thttp://www.townsendjennings.com/geojson-tweets?geojson=http://epic-analytics.cs.colorado.edu:9000/jennings/geovulnerable/inZoneA/honeyberk.geojson&start=2012-09-01T03:17&end=2012-11-24&unit=minutes\n",
      "jaclyn_collins\thttp://www.townsendjennings.com/geojson-tweets?geojson=http://epic-analytics.cs.colorado.edu:9000/jennings/geovulnerable/inZoneA/jaclyn_collins.geojson&start=2012-09-02T00:11&end=2012-11-29&unit=minutes\n",
      "georgieeeninjaa\thttp://www.townsendjennings.com/geojson-tweets?geojson=http://epic-analytics.cs.colorado.edu:9000/jennings/geovulnerable/inZoneA/georgieeeninjaa.geojson&start=2012-09-29T06:10&end=2012-11-29&unit=minutes\n",
      "shes_ayee_shmut\thttp://www.townsendjennings.com/geojson-tweets?geojson=http://epic-analytics.cs.colorado.edu:9000/jennings/geovulnerable/inZoneA/shes_ayee_shmut.geojson&start=2012-09-01T20:37&end=2012-11-29&unit=minutes\n",
      "g0ttalov3him\thttp://www.townsendjennings.com/geojson-tweets?geojson=http://epic-analytics.cs.colorado.edu:9000/jennings/geovulnerable/inZoneA/g0ttalov3him.geojson&start=2012-09-01T03:35&end=2012-11-29&unit=minutes\n",
      "loneladyrider\thttp://www.townsendjennings.com/geojson-tweets?geojson=http://epic-analytics.cs.colorado.edu:9000/jennings/geovulnerable/inZoneA/loneladyrider.geojson&start=2012-09-10T13:37&end=2012-10-29&unit=minutes\n",
      "dommydom24\thttp://www.townsendjennings.com/geojson-tweets?geojson=http://epic-analytics.cs.colorado.edu:9000/jennings/geovulnerable/inZoneA/dommydom24.geojson&start=2012-09-28T13:06&end=2012-11-29&unit=minutes\n",
      "arnellmilton\thttp://www.townsendjennings.com/geojson-tweets?geojson=http://epic-analytics.cs.colorado.edu:9000/jennings/geovulnerable/inZoneA/arnellmilton.geojson&start=2012-10-01T04:26&end=2012-11-27&unit=minutes\n",
      "japan2021\thttp://www.townsendjennings.com/geojson-tweets?geojson=http://epic-analytics.cs.colorado.edu:9000/jennings/geovulnerable/inZoneA/japan2021.geojson&start=2012-10-04T03:32&end=2012-11-29&unit=minutes\n",
      "jcelona_\thttp://www.townsendjennings.com/geojson-tweets?geojson=http://epic-analytics.cs.colorado.edu:9000/jennings/geovulnerable/inZoneA/jcelona_.geojson&start=2012-09-27T13:07&end=2012-11-29&unit=minutes\n",
      "pattyyunen\thttp://www.townsendjennings.com/geojson-tweets?geojson=http://epic-analytics.cs.colorado.edu:9000/jennings/geovulnerable/inZoneA/pattyyunen.geojson&start=2012-09-06T16:42&end=2012-11-17&unit=minutes\n",
      "laurakazam\thttp://www.townsendjennings.com/geojson-tweets?geojson=http://epic-analytics.cs.colorado.edu:9000/jennings/geovulnerable/inZoneA/laurakazam.geojson&start=2012-09-01T01:07&end=2012-11-29&unit=minutes\n",
      "mzmimi_82\thttp://www.townsendjennings.com/geojson-tweets?geojson=http://epic-analytics.cs.colorado.edu:9000/jennings/geovulnerable/inZoneA/mzmimi_82.geojson&start=2012-10-25T02:41&end=2012-11-16&unit=minutes\n",
      "gkor29\thttp://www.townsendjennings.com/geojson-tweets?geojson=http://epic-analytics.cs.colorado.edu:9000/jennings/geovulnerable/inZoneA/gkor29.geojson&start=2012-09-01T21:07&end=2012-11-29&unit=minutes\n",
      "nickvargas6\thttp://www.townsendjennings.com/geojson-tweets?geojson=http://epic-analytics.cs.colorado.edu:9000/jennings/geovulnerable/inZoneA/nickvargas6.geojson&start=2012-09-02T04:46&end=2012-11-29&unit=minutes\n",
      "smoshysydney\thttp://www.townsendjennings.com/geojson-tweets?geojson=http://epic-analytics.cs.colorado.edu:9000/jennings/geovulnerable/inZoneA/smoshysydney.geojson&start=2012-09-03T17:49&end=2012-10-30&unit=minutes\n",
      "ladygaga11228\thttp://www.townsendjennings.com/geojson-tweets?geojson=http://epic-analytics.cs.colorado.edu:9000/jennings/geovulnerable/inZoneA/ladygaga11228.geojson&start=2012-09-01T15:29&end=2012-11-29&unit=minutes\n",
      "kmfmack\thttp://www.townsendjennings.com/geojson-tweets?geojson=http://epic-analytics.cs.colorado.edu:9000/jennings/geovulnerable/inZoneA/kmfmack.geojson&start=2012-09-05T05:20&end=2012-11-29&unit=minutes\n",
      "mrspuertorico\thttp://www.townsendjennings.com/geojson-tweets?geojson=http://epic-analytics.cs.colorado.edu:9000/jennings/geovulnerable/inZoneA/mrspuertorico.geojson&start=2012-09-02T18:19&end=2012-11-29&unit=minutes\n",
      "squish108\thttp://www.townsendjennings.com/geojson-tweets?geojson=http://epic-analytics.cs.colorado.edu:9000/jennings/geovulnerable/inZoneA/squish108.geojson&start=2012-09-02T16:32&end=2012-11-29&unit=minutes\n",
      "eelain212\thttp://www.townsendjennings.com/geojson-tweets?geojson=http://epic-analytics.cs.colorado.edu:9000/jennings/geovulnerable/inZoneA/eelain212.geojson&start=2012-09-01T12:04&end=2012-11-29&unit=minutes\n",
      "onicadiana\thttp://www.townsendjennings.com/geojson-tweets?geojson=http://epic-analytics.cs.colorado.edu:9000/jennings/geovulnerable/inZoneA/onicadiana.geojson&start=2012-09-04T15:50&end=2012-11-25&unit=minutes\n",
      "justmealiseo\thttp://www.townsendjennings.com/geojson-tweets?geojson=http://epic-analytics.cs.colorado.edu:9000/jennings/geovulnerable/inZoneA/justmealiseo.geojson&start=2012-10-23T13:13&end=2012-11-27&unit=minutes\n",
      "kflow94\thttp://www.townsendjennings.com/geojson-tweets?geojson=http://epic-analytics.cs.colorado.edu:9000/jennings/geovulnerable/inZoneA/kflow94.geojson&start=2012-09-01T07:00&end=2012-11-28&unit=minutes\n",
      "uthmanbaksh\thttp://www.townsendjennings.com/geojson-tweets?geojson=http://epic-analytics.cs.colorado.edu:9000/jennings/geovulnerable/inZoneA/uthmanbaksh.geojson&start=2012-09-06T03:26&end=2012-11-29&unit=minutes\n",
      "realsarp\thttp://www.townsendjennings.com/geojson-tweets?geojson=http://epic-analytics.cs.colorado.edu:9000/jennings/geovulnerable/inZoneA/realsarp.geojson&start=2012-09-01T18:05&end=2012-11-19&unit=minutes\n",
      "alliegallo\thttp://www.townsendjennings.com/geojson-tweets?geojson=http://epic-analytics.cs.colorado.edu:9000/jennings/geovulnerable/inZoneA/alliegallo.geojson&start=2012-09-02T20:09&end=2012-11-29&unit=minutes\n",
      "m3lissasays\thttp://www.townsendjennings.com/geojson-tweets?geojson=http://epic-analytics.cs.colorado.edu:9000/jennings/geovulnerable/inZoneA/m3lissasays.geojson&start=2012-09-30T17:19&end=2012-11-29&unit=minutes\n",
      "marky_mark34\thttp://www.townsendjennings.com/geojson-tweets?geojson=http://epic-analytics.cs.colorado.edu:9000/jennings/geovulnerable/inZoneA/marky_mark34.geojson&start=2012-10-24T03:10&end=2012-11-05&unit=minutes\n",
      "garyalonynyc\thttp://www.townsendjennings.com/geojson-tweets?geojson=http://epic-analytics.cs.colorado.edu:9000/jennings/geovulnerable/inZoneA/garyalonynyc.geojson&start=2012-09-01T01:58&end=2012-11-29&unit=minutes\n",
      "morgansteve\thttp://www.townsendjennings.com/geojson-tweets?geojson=http://epic-analytics.cs.colorado.edu:9000/jennings/geovulnerable/inZoneA/morgansteve.geojson&start=2012-09-02T03:56&end=2012-11-29&unit=minutes\n",
      "jojohankey\thttp://www.townsendjennings.com/geojson-tweets?geojson=http://epic-analytics.cs.colorado.edu:9000/jennings/geovulnerable/inZoneA/jojohankey.geojson&start=2012-10-17T16:43&end=2012-11-29&unit=minutes\n",
      "skiftnews\thttp://www.townsendjennings.com/geojson-tweets?geojson=http://epic-analytics.cs.colorado.edu:9000/jennings/geovulnerable/inZoneA/skiftnews.geojson&start=2012-09-05T14:38&end=2012-11-28&unit=minutes\n",
      "umakhouny\thttp://www.townsendjennings.com/geojson-tweets?geojson=http://epic-analytics.cs.colorado.edu:9000/jennings/geovulnerable/inZoneA/umakhouny.geojson&start=2012-09-02T01:30&end=2012-11-28&unit=minutes\n",
      "adrianamisoul\thttp://www.townsendjennings.com/geojson-tweets?geojson=http://epic-analytics.cs.colorado.edu:9000/jennings/geovulnerable/inZoneA/adrianamisoul.geojson&start=2012-09-13T19:29&end=2012-11-27&unit=minutes\n",
      "continuumcycles\thttp://www.townsendjennings.com/geojson-tweets?geojson=http://epic-analytics.cs.colorado.edu:9000/jennings/geovulnerable/inZoneA/continuumcycles.geojson&start=2012-09-02T13:37&end=2012-11-27&unit=minutes\n",
      "rafat\thttp://www.townsendjennings.com/geojson-tweets?geojson=http://epic-analytics.cs.colorado.edu:9000/jennings/geovulnerable/inZoneA/rafat.geojson&start=2012-09-04T15:00&end=2012-11-28&unit=minutes\n",
      "lalahearts\thttp://www.townsendjennings.com/geojson-tweets?geojson=http://epic-analytics.cs.colorado.edu:9000/jennings/geovulnerable/inZoneA/lalahearts.geojson&start=2012-09-08T07:22&end=2012-11-24&unit=minutes\n",
      "agate86\thttp://www.townsendjennings.com/geojson-tweets?geojson=http://epic-analytics.cs.colorado.edu:9000/jennings/geovulnerable/inZoneA/agate86.geojson&start=2012-09-01T04:31&end=2012-11-29&unit=minutes\n",
      "eddiegeenyc\thttp://www.townsendjennings.com/geojson-tweets?geojson=http://epic-analytics.cs.colorado.edu:9000/jennings/geovulnerable/inZoneA/eddiegeenyc.geojson&start=2012-10-06T00:23&end=2012-11-27&unit=minutes\n",
      "readyrock7\thttp://www.townsendjennings.com/geojson-tweets?geojson=http://epic-analytics.cs.colorado.edu:9000/jennings/geovulnerable/inZoneA/readyrock7.geojson&start=2012-09-01T23:34&end=2012-11-28&unit=minutes\n",
      "cavemanrobles\thttp://www.townsendjennings.com/geojson-tweets?geojson=http://epic-analytics.cs.colorado.edu:9000/jennings/geovulnerable/inZoneA/cavemanrobles.geojson&start=2012-10-06T20:01&end=2012-11-27&unit=minutes\n",
      "jonclarkjr\thttp://www.townsendjennings.com/geojson-tweets?geojson=http://epic-analytics.cs.colorado.edu:9000/jennings/geovulnerable/inZoneA/jonclarkjr.geojson&start=2012-09-16T02:45&end=2012-11-29&unit=minutes\n",
      "anas_a1\thttp://www.townsendjennings.com/geojson-tweets?geojson=http://epic-analytics.cs.colorado.edu:9000/jennings/geovulnerable/inZoneA/anas_a1.geojson&start=2012-09-28T20:41&end=2012-11-08&unit=minutes\n",
      "dj2020\thttp://www.townsendjennings.com/geojson-tweets?geojson=http://epic-analytics.cs.colorado.edu:9000/jennings/geovulnerable/inZoneA/dj2020.geojson&start=2012-09-18T02:38&end=2012-11-25&unit=minutes\n",
      "t_o_m_3\thttp://www.townsendjennings.com/geojson-tweets?geojson=http://epic-analytics.cs.colorado.edu:9000/jennings/geovulnerable/inZoneA/t_o_m_3.geojson&start=2012-09-24T02:17&end=2012-11-12&unit=minutes\n",
      "dcamz5\thttp://www.townsendjennings.com/geojson-tweets?geojson=http://epic-analytics.cs.colorado.edu:9000/jennings/geovulnerable/inZoneA/dcamz5.geojson&start=2012-10-12T14:56&end=2012-11-24&unit=minutes\n",
      "laumc822\thttp://www.townsendjennings.com/geojson-tweets?geojson=http://epic-analytics.cs.colorado.edu:9000/jennings/geovulnerable/inZoneA/laumc822.geojson&start=2012-09-05T04:23&end=2012-11-04&unit=minutes\n",
      "bridgetekelly\thttp://www.townsendjennings.com/geojson-tweets?geojson=http://epic-analytics.cs.colorado.edu:9000/jennings/geovulnerable/inZoneA/bridgetekelly.geojson&start=2012-09-01T04:12&end=2012-11-27&unit=minutes\n",
      "wizbyf\thttp://www.townsendjennings.com/geojson-tweets?geojson=http://epic-analytics.cs.colorado.edu:9000/jennings/geovulnerable/inZoneA/wizbyf.geojson&start=2012-09-04T12:36&end=2012-11-28&unit=minutes\n",
      "chrisrodemeyer\thttp://www.townsendjennings.com/geojson-tweets?geojson=http://epic-analytics.cs.colorado.edu:9000/jennings/geovulnerable/inZoneA/chrisrodemeyer.geojson&start=2012-09-06T02:51&end=2012-11-22&unit=minutes\n",
      "rockawaytrading\thttp://www.townsendjennings.com/geojson-tweets?geojson=http://epic-analytics.cs.colorado.edu:9000/jennings/geovulnerable/inZoneA/rockawaytrading.geojson&start=2012-10-07T14:11&end=2012-11-19&unit=minutes\n",
      "stepliana\thttp://www.townsendjennings.com/geojson-tweets?geojson=http://epic-analytics.cs.colorado.edu:9000/jennings/geovulnerable/inZoneA/stepliana.geojson&start=2012-09-03T23:10&end=2012-11-20&unit=minutes\n",
      "britescrnmedia\thttp://www.townsendjennings.com/geojson-tweets?geojson=http://epic-analytics.cs.colorado.edu:9000/jennings/geovulnerable/inZoneA/britescrnmedia.geojson&start=2012-09-05T16:33&end=2012-11-29&unit=minutes\n",
      "john_flip11\thttp://www.townsendjennings.com/geojson-tweets?geojson=http://epic-analytics.cs.colorado.edu:9000/jennings/geovulnerable/inZoneA/john_flip11.geojson&start=2012-09-16T05:08&end=2012-10-29&unit=minutes\n",
      "mkduffy518\thttp://www.townsendjennings.com/geojson-tweets?geojson=http://epic-analytics.cs.colorado.edu:9000/jennings/geovulnerable/inZoneA/mkduffy518.geojson&start=2012-10-08T01:25&end=2012-10-29&unit=minutes\n",
      "pullacky\thttp://www.townsendjennings.com/geojson-tweets?geojson=http://epic-analytics.cs.colorado.edu:9000/jennings/geovulnerable/inZoneA/pullacky.geojson&start=2012-10-18T20:13&end=2012-11-05&unit=minutes\n",
      "beatzzzz\thttp://www.townsendjennings.com/geojson-tweets?geojson=http://epic-analytics.cs.colorado.edu:9000/jennings/geovulnerable/inZoneA/beatzzzz.geojson&start=2012-09-01T16:22&end=2012-11-29&unit=minutes\n",
      "sotnakny\thttp://www.townsendjennings.com/geojson-tweets?geojson=http://epic-analytics.cs.colorado.edu:9000/jennings/geovulnerable/inZoneA/sotnakny.geojson&start=2012-09-10T00:02&end=2012-11-28&unit=minutes\n",
      "jonmcl\thttp://www.townsendjennings.com/geojson-tweets?geojson=http://epic-analytics.cs.colorado.edu:9000/jennings/geovulnerable/inZoneA/jonmcl.geojson&start=2012-09-07T00:47&end=2012-11-23&unit=minutes\n",
      "joemckinzie\thttp://www.townsendjennings.com/geojson-tweets?geojson=http://epic-analytics.cs.colorado.edu:9000/jennings/geovulnerable/inZoneA/joemckinzie.geojson&start=2012-09-01T13:34&end=2012-11-07&unit=minutes\n",
      "bencashfarouq\thttp://www.townsendjennings.com/geojson-tweets?geojson=http://epic-analytics.cs.colorado.edu:9000/jennings/geovulnerable/inZoneA/bencashfarouq.geojson&start=2012-09-02T21:22&end=2012-11-19&unit=minutes\n",
      "fanlyeduardo\thttp://www.townsendjennings.com/geojson-tweets?geojson=http://epic-analytics.cs.colorado.edu:9000/jennings/geovulnerable/inZoneA/fanlyeduardo.geojson&start=2012-10-17T05:10&end=2012-11-26&unit=minutes\n",
      "nyloves_1d\thttp://www.townsendjennings.com/geojson-tweets?geojson=http://epic-analytics.cs.colorado.edu:9000/jennings/geovulnerable/inZoneA/nyloves_1d.geojson&start=2012-10-08T17:05&end=2012-11-29&unit=minutes\n",
      "porcelina1023\thttp://www.townsendjennings.com/geojson-tweets?geojson=http://epic-analytics.cs.colorado.edu:9000/jennings/geovulnerable/inZoneA/porcelina1023.geojson&start=2012-09-22T23:11&end=2012-11-24&unit=minutes\n",
      "zacrivera\thttp://www.townsendjennings.com/geojson-tweets?geojson=http://epic-analytics.cs.colorado.edu:9000/jennings/geovulnerable/inZoneA/zacrivera.geojson&start=2012-09-01T15:52&end=2012-11-17&unit=minutes\n",
      "sean_manion\thttp://www.townsendjennings.com/geojson-tweets?geojson=http://epic-analytics.cs.colorado.edu:9000/jennings/geovulnerable/inZoneA/sean_manion.geojson&start=2012-09-01T17:09&end=2012-11-29&unit=minutes\n",
      "aladesnr\thttp://www.townsendjennings.com/geojson-tweets?geojson=http://epic-analytics.cs.colorado.edu:9000/jennings/geovulnerable/inZoneA/aladesnr.geojson&start=2012-09-02T17:08&end=2012-11-06&unit=minutes\n",
      "trinityboxing\thttp://www.townsendjennings.com/geojson-tweets?geojson=http://epic-analytics.cs.colorado.edu:9000/jennings/geovulnerable/inZoneA/trinityboxing.geojson&start=2012-09-11T10:35&end=2012-11-17&unit=minutes\n",
      "katcatoure\thttp://www.townsendjennings.com/geojson-tweets?geojson=http://epic-analytics.cs.colorado.edu:9000/jennings/geovulnerable/inZoneA/katcatoure.geojson&start=2012-10-19T16:36&end=2012-11-03&unit=minutes\n",
      "cooper_smith\thttp://www.townsendjennings.com/geojson-tweets?geojson=http://epic-analytics.cs.colorado.edu:9000/jennings/geovulnerable/inZoneA/cooper_smith.geojson&start=2012-09-15T21:06&end=2012-11-18&unit=minutes\n",
      "marotin507\thttp://www.townsendjennings.com/geojson-tweets?geojson=http://epic-analytics.cs.colorado.edu:9000/jennings/geovulnerable/inZoneA/marotin507.geojson&start=2012-10-18T15:34&end=2012-11-27&unit=minutes\n",
      "emmarocks\thttp://www.townsendjennings.com/geojson-tweets?geojson=http://epic-analytics.cs.colorado.edu:9000/jennings/geovulnerable/inZoneA/emmarocks.geojson&start=2012-09-04T00:37&end=2012-11-25&unit=minutes\n",
      "ygross\thttp://www.townsendjennings.com/geojson-tweets?geojson=http://epic-analytics.cs.colorado.edu:9000/jennings/geovulnerable/inZoneA/ygross.geojson&start=2012-09-11T23:52&end=2012-11-28&unit=minutes\n",
      "amanda_xtelle\thttp://www.townsendjennings.com/geojson-tweets?geojson=http://epic-analytics.cs.colorado.edu:9000/jennings/geovulnerable/inZoneA/amanda_xtelle.geojson&start=2012-09-18T00:36&end=2012-11-25&unit=minutes\n",
      "maderised\thttp://www.townsendjennings.com/geojson-tweets?geojson=http://epic-analytics.cs.colorado.edu:9000/jennings/geovulnerable/inZoneA/maderised.geojson&start=2012-09-07T03:43&end=2012-11-27&unit=minutes\n",
      "dj_vasquezz\thttp://www.townsendjennings.com/geojson-tweets?geojson=http://epic-analytics.cs.colorado.edu:9000/jennings/geovulnerable/inZoneA/dj_vasquezz.geojson&start=2012-10-20T18:19&end=2012-11-21&unit=minutes\n",
      "mallorymcmorrow\thttp://www.townsendjennings.com/geojson-tweets?geojson=http://epic-analytics.cs.colorado.edu:9000/jennings/geovulnerable/inZoneA/mallorymcmorrow.geojson&start=2012-10-17T02:53&end=2012-11-25&unit=minutes\n",
      "heatherjeanhd\thttp://www.townsendjennings.com/geojson-tweets?geojson=http://epic-analytics.cs.colorado.edu:9000/jennings/geovulnerable/inZoneA/heatherjeanhd.geojson&start=2012-09-05T02:55&end=2012-11-18&unit=minutes\n",
      "jamesshowell\thttp://www.townsendjennings.com/geojson-tweets?geojson=http://epic-analytics.cs.colorado.edu:9000/jennings/geovulnerable/inZoneA/jamesshowell.geojson&start=2012-09-09T05:47&end=2012-11-23&unit=minutes\n",
      "lunaparkconeyis\thttp://www.townsendjennings.com/geojson-tweets?geojson=http://epic-analytics.cs.colorado.edu:9000/jennings/geovulnerable/inZoneA/lunaparkconeyis.geojson&start=2012-09-01T16:09&end=2012-11-29&unit=minutes\n",
      "moishgeorge86\thttp://www.townsendjennings.com/geojson-tweets?geojson=http://epic-analytics.cs.colorado.edu:9000/jennings/geovulnerable/inZoneA/moishgeorge86.geojson&start=2012-09-09T17:12&end=2012-11-18&unit=minutes\n",
      "chissyn\thttp://www.townsendjennings.com/geojson-tweets?geojson=http://epic-analytics.cs.colorado.edu:9000/jennings/geovulnerable/inZoneA/chissyn.geojson&start=2012-09-23T01:59&end=2012-11-29&unit=minutes\n",
      "nyicecream\thttp://www.townsendjennings.com/geojson-tweets?geojson=http://epic-analytics.cs.colorado.edu:9000/jennings/geovulnerable/inZoneA/nyicecream.geojson&start=2012-09-25T21:47&end=2012-11-20&unit=minutes\n",
      "muchotoomucho\thttp://www.townsendjennings.com/geojson-tweets?geojson=http://epic-analytics.cs.colorado.edu:9000/jennings/geovulnerable/inZoneA/muchotoomucho.geojson&start=2012-09-02T21:49&end=2012-10-29&unit=minutes\n",
      "jevicak\thttp://www.townsendjennings.com/geojson-tweets?geojson=http://epic-analytics.cs.colorado.edu:9000/jennings/geovulnerable/inZoneA/jevicak.geojson&start=2012-09-01T14:54&end=2012-11-29&unit=minutes\n",
      "beliebinfinate\thttp://www.townsendjennings.com/geojson-tweets?geojson=http://epic-analytics.cs.colorado.edu:9000/jennings/geovulnerable/inZoneA/beliebinfinate.geojson&start=2012-09-10T03:30&end=2012-10-29&unit=minutes\n",
      "dee9996\thttp://www.townsendjennings.com/geojson-tweets?geojson=http://epic-analytics.cs.colorado.edu:9000/jennings/geovulnerable/inZoneA/dee9996.geojson&start=2012-10-06T03:09&end=2012-11-20&unit=minutes\n",
      "julianandsara\thttp://www.townsendjennings.com/geojson-tweets?geojson=http://epic-analytics.cs.colorado.edu:9000/jennings/geovulnerable/inZoneA/julianandsara.geojson&start=2012-09-06T23:09&end=2012-11-16&unit=minutes\n",
      "edelsingh\thttp://www.townsendjennings.com/geojson-tweets?geojson=http://epic-analytics.cs.colorado.edu:9000/jennings/geovulnerable/inZoneA/edelsingh.geojson&start=2012-10-04T18:25&end=2012-11-17&unit=minutes\n",
      "princessdds\thttp://www.townsendjennings.com/geojson-tweets?geojson=http://epic-analytics.cs.colorado.edu:9000/jennings/geovulnerable/inZoneA/princessdds.geojson&start=2012-09-06T12:23&end=2012-11-28&unit=minutes\n",
      "tiffhere\thttp://www.townsendjennings.com/geojson-tweets?geojson=http://epic-analytics.cs.colorado.edu:9000/jennings/geovulnerable/inZoneA/tiffhere.geojson&start=2012-09-04T04:24&end=2012-11-07&unit=minutes\n",
      "newyorkcpt\thttp://www.townsendjennings.com/geojson-tweets?geojson=http://epic-analytics.cs.colorado.edu:9000/jennings/geovulnerable/inZoneA/newyorkcpt.geojson&start=2012-10-04T02:22&end=2012-11-29&unit=minutes\n",
      "yamtempura\thttp://www.townsendjennings.com/geojson-tweets?geojson=http://epic-analytics.cs.colorado.edu:9000/jennings/geovulnerable/inZoneA/yamtempura.geojson&start=2012-09-24T16:02&end=2012-11-22&unit=minutes\n",
      "cnysurvivor1\thttp://www.townsendjennings.com/geojson-tweets?geojson=http://epic-analytics.cs.colorado.edu:9000/jennings/geovulnerable/inZoneA/cnysurvivor1.geojson&start=2012-09-19T22:40&end=2012-10-31&unit=minutes\n",
      "georgiaafowler\thttp://www.townsendjennings.com/geojson-tweets?geojson=http://epic-analytics.cs.colorado.edu:9000/jennings/geovulnerable/inZoneA/georgiaafowler.geojson&start=2012-09-07T05:52&end=2012-10-29&unit=minutes\n",
      "tabeek\thttp://www.townsendjennings.com/geojson-tweets?geojson=http://epic-analytics.cs.colorado.edu:9000/jennings/geovulnerable/inZoneA/tabeek.geojson&start=2012-09-01T14:10&end=2012-10-30&unit=minutes\n",
      "lindseyhankes\thttp://www.townsendjennings.com/geojson-tweets?geojson=http://epic-analytics.cs.colorado.edu:9000/jennings/geovulnerable/inZoneA/lindseyhankes.geojson&start=2012-10-04T02:27&end=2012-11-07&unit=minutes\n",
      "grady_iv\thttp://www.townsendjennings.com/geojson-tweets?geojson=http://epic-analytics.cs.colorado.edu:9000/jennings/geovulnerable/inZoneA/grady_iv.geojson&start=2012-09-10T23:11&end=2012-11-03&unit=minutes\n",
      "murphym45\thttp://www.townsendjennings.com/geojson-tweets?geojson=http://epic-analytics.cs.colorado.edu:9000/jennings/geovulnerable/inZoneA/murphym45.geojson&start=2012-10-02T00:56&end=2012-11-06&unit=minutes\n",
      "wsb66\thttp://www.townsendjennings.com/geojson-tweets?geojson=http://epic-analytics.cs.colorado.edu:9000/jennings/geovulnerable/inZoneA/wsb66.geojson&start=2012-09-15T18:58&end=2012-11-21&unit=minutes\n",
      "tracygoldberg\thttp://www.townsendjennings.com/geojson-tweets?geojson=http://epic-analytics.cs.colorado.edu:9000/jennings/geovulnerable/inZoneA/tracygoldberg.geojson&start=2012-10-01T02:01&end=2012-11-27&unit=minutes\n"
     ]
    }
   ],
   "source": [
    "for u in geovulnerable_users:\n",
    "    file = name = u['user'][0].lower()\n",
    "    g = u[['geometry','text','user','date']].copy()\n",
    "    first_date = g['date'][0]\n",
    "    last_date  = g['date'][len(g)-1]\n",
    "    g['time'] = g['date'].apply(lambda x: datetime.datetime.strftime(x, '%Y-%m-%dT%H:%M:%SZ'))\n",
    "    g['h']    = g['date'].apply(lambda x: int((x - first_date).total_seconds()/3600))\n",
    "    g['m']    = g['date'].apply(lambda x: int((x - first_date).total_seconds()/60))\n",
    "#     with open(\"/data/www/jennings/geovulnerable/inZoneA/\"+file+\".geojson\",'w') as oFile:\n",
    "#         oFile.write(g.to_json(default=json_util.default))\n",
    "    start = \"{0}-{1}-{2}T{3}:{4}\".format(first_date.year,pad0(first_date.month),pad0(first_date.day),pad0(first_date.hour),pad0(first_date.minute))\n",
    "    end   = last_date.date()\n",
    "    print(name + \"\\t\" +\"http://www.townsendjennings.com/geojson-tweets?geojson=http://epic-analytics.cs.colorado.edu:9000/jennings/geovulnerable/inZoneA/{0}.geojson&start={1}&end={2}&unit=minutes\".format(file, start, end))"
   ]
  },
  {
   "cell_type": "code",
   "execution_count": 69,
   "metadata": {
    "collapsed": false
   },
   "outputs": [
    {
     "data": {
      "text/html": [
       "<div>\n",
       "<table border=\"1\" class=\"dataframe\">\n",
       "  <thead>\n",
       "    <tr style=\"text-align: right;\">\n",
       "      <th></th>\n",
       "      <th>HomeCluster</th>\n",
       "      <th>tweets</th>\n",
       "      <th>user</th>\n",
       "      <th>hc_center</th>\n",
       "      <th>inZoneA</th>\n",
       "    </tr>\n",
       "  </thead>\n",
       "  <tbody>\n",
       "    <tr>\n",
       "      <th>1730</th>\n",
       "      <td>2.0</td>\n",
       "      <td>102</td>\n",
       "      <td>AdrianaMisoul</td>\n",
       "      <td>POINT (-74.00504726378374 40.70733905216217)</td>\n",
       "      <td>True</td>\n",
       "    </tr>\n",
       "  </tbody>\n",
       "</table>\n",
       "</div>"
      ],
      "text/plain": [
       "      HomeCluster  tweets           user  \\\n",
       "1730          2.0     102  AdrianaMisoul   \n",
       "\n",
       "                                         hc_center inZoneA  \n",
       "1730  POINT (-74.00504726378374 40.70733905216217)    True  "
      ]
     },
     "execution_count": 69,
     "metadata": {},
     "output_type": "execute_result"
    }
   ],
   "source": [
    "_user_meta.query(\"user=='AdrianaMisoul'\")"
   ]
  },
  {
   "cell_type": "code",
   "execution_count": 70,
   "metadata": {
    "collapsed": true
   },
   "outputs": [],
   "source": [
    "os.mkdir('/data/www/jennings/geovulnerable/meta')"
   ]
  },
  {
   "cell_type": "code",
   "execution_count": 81,
   "metadata": {
    "collapsed": false
   },
   "outputs": [],
   "source": [
    "for idx, u in _user_meta.query('HomeCluster>0').iterrows():\n",
    "    file = u.user.lower()\n",
    "    \n",
    "    featColl = {\"type\":\"Feature\",\"geometry\":mapping(u.hc_center),\n",
    "                \"properties\":{\"user\":u.user, \"tCount\": u.tweets}}\n",
    "    \n",
    "    with open(\"/data/www/jennings/geovulnerable/meta/\"+file+\".geojson\",'w') as oFileMeta:\n",
    "        json.dump(featColl, oFileMeta)"
   ]
  },
  {
   "cell_type": "code",
   "execution_count": 87,
   "metadata": {
    "collapsed": false
   },
   "outputs": [],
   "source": [
    "hc_test = pd.DataFrame(_user_meta.query(\"HomeCluster>0\"))"
   ]
  },
  {
   "cell_type": "code",
   "execution_count": 89,
   "metadata": {
    "collapsed": false
   },
   "outputs": [
    {
     "data": {
      "text/html": [
       "<div>\n",
       "<table border=\"1\" class=\"dataframe\">\n",
       "  <thead>\n",
       "    <tr style=\"text-align: right;\">\n",
       "      <th></th>\n",
       "      <th>HomeCluster</th>\n",
       "      <th>tweets</th>\n",
       "      <th>user</th>\n",
       "      <th>hc_center</th>\n",
       "      <th>inZoneA</th>\n",
       "    </tr>\n",
       "  </thead>\n",
       "  <tbody>\n",
       "    <tr>\n",
       "      <th>0</th>\n",
       "      <td>1.0</td>\n",
       "      <td>14231</td>\n",
       "      <td>Andrewthemark</td>\n",
       "      <td>POINT (-73.69255456263605 40.67338539101333)</td>\n",
       "      <td>False</td>\n",
       "    </tr>\n",
       "    <tr>\n",
       "      <th>1</th>\n",
       "      <td>3.0</td>\n",
       "      <td>4934</td>\n",
       "      <td>frankieciv608</td>\n",
       "      <td>POINT (-73.81751579057131 40.82403772085716)</td>\n",
       "      <td>False</td>\n",
       "    </tr>\n",
       "    <tr>\n",
       "      <th>2</th>\n",
       "      <td>2.0</td>\n",
       "      <td>4566</td>\n",
       "      <td>NewYorkPuck</td>\n",
       "      <td>POINT (-74.19747629434777 40.55514102555725)</td>\n",
       "      <td>False</td>\n",
       "    </tr>\n",
       "    <tr>\n",
       "      <th>3</th>\n",
       "      <td>1.0</td>\n",
       "      <td>4008</td>\n",
       "      <td>DerekBFelix</td>\n",
       "      <td>POINT (-74.19747539022777 40.55502571900404)</td>\n",
       "      <td>False</td>\n",
       "    </tr>\n",
       "    <tr>\n",
       "      <th>4</th>\n",
       "      <td>2.0</td>\n",
       "      <td>3462</td>\n",
       "      <td>NZavaa</td>\n",
       "      <td>POINT (-73.80392010800064 40.81081586865448)</td>\n",
       "      <td>True</td>\n",
       "    </tr>\n",
       "  </tbody>\n",
       "</table>\n",
       "</div>"
      ],
      "text/plain": [
       "   HomeCluster  tweets           user  \\\n",
       "0          1.0   14231  Andrewthemark   \n",
       "1          3.0    4934  frankieciv608   \n",
       "2          2.0    4566    NewYorkPuck   \n",
       "3          1.0    4008    DerekBFelix   \n",
       "4          2.0    3462         NZavaa   \n",
       "\n",
       "                                      hc_center inZoneA  \n",
       "0  POINT (-73.69255456263605 40.67338539101333)   False  \n",
       "1  POINT (-73.81751579057131 40.82403772085716)   False  \n",
       "2  POINT (-74.19747629434777 40.55514102555725)   False  \n",
       "3  POINT (-74.19747539022777 40.55502571900404)   False  \n",
       "4  POINT (-73.80392010800064 40.81081586865448)    True  "
      ]
     },
     "execution_count": 89,
     "metadata": {},
     "output_type": "execute_result"
    }
   ],
   "source": [
    "hc_test.head()"
   ]
  },
  {
   "cell_type": "code",
   "execution_count": 90,
   "metadata": {
    "collapsed": true
   },
   "outputs": [],
   "source": [
    "df = gpd.GeoDataFrame(hc_test,geometry='hc_center')"
   ]
  },
  {
   "cell_type": "code",
   "execution_count": 93,
   "metadata": {
    "collapsed": false
   },
   "outputs": [
    {
     "data": {
      "text/plain": [
       "<matplotlib.axes._subplots.AxesSubplot at 0x7f94e4bab4a8>"
      ]
     },
     "execution_count": 93,
     "metadata": {},
     "output_type": "execute_result"
    }
   ],
   "source": [
    "df.plot()"
   ]
  },
  {
   "cell_type": "code",
   "execution_count": 94,
   "metadata": {
    "collapsed": true
   },
   "outputs": [],
   "source": [
    "%matplotlib inline"
   ]
  },
  {
   "cell_type": "code",
   "execution_count": 99,
   "metadata": {
    "collapsed": false
   },
   "outputs": [],
   "source": [
    "df['text'] = df['user']\n",
    "df['time'] = df['tweets']"
   ]
  },
  {
   "cell_type": "code",
   "execution_count": 100,
   "metadata": {
    "collapsed": true
   },
   "outputs": [],
   "source": [
    "with open('/data/www/jennings/home_locations_1200.geojson','w') as oFile:\n",
    "    oFile.write(df.to_json())"
   ]
  },
  {
   "cell_type": "code",
   "execution_count": 101,
   "metadata": {
    "collapsed": false
   },
   "outputs": [
    {
     "data": {
      "text/html": [
       "<div>\n",
       "<table border=\"1\" class=\"dataframe\">\n",
       "  <thead>\n",
       "    <tr style=\"text-align: right;\">\n",
       "      <th></th>\n",
       "      <th>cluster</th>\n",
       "      <th>coords</th>\n",
       "      <th>date</th>\n",
       "      <th>day_cluster</th>\n",
       "      <th>geo_delta</th>\n",
       "      <th>geometry</th>\n",
       "      <th>speed</th>\n",
       "      <th>text</th>\n",
       "      <th>time_delta</th>\n",
       "      <th>user</th>\n",
       "      <th>cluster_center</th>\n",
       "    </tr>\n",
       "  </thead>\n",
       "  <tbody>\n",
       "    <tr>\n",
       "      <th>0</th>\n",
       "      <td>1</td>\n",
       "      <td>[-73.69149255, 40.67361288]</td>\n",
       "      <td>2012-09-04 00:21:21+00:00</td>\n",
       "      <td>5</td>\n",
       "      <td>NaN</td>\n",
       "      <td>POINT (-73.69149255000001 40.67361288)</td>\n",
       "      <td>NaN</td>\n",
       "      <td>Why cant cole be joined?</td>\n",
       "      <td>NaN</td>\n",
       "      <td>Andrewthemark</td>\n",
       "      <td>POINT (-73.69255456263605 40.67338539101333)</td>\n",
       "    </tr>\n",
       "    <tr>\n",
       "      <th>1</th>\n",
       "      <td>1</td>\n",
       "      <td>[-73.69149255, 40.67361288]</td>\n",
       "      <td>2012-09-04 00:22:43+00:00</td>\n",
       "      <td>5</td>\n",
       "      <td>0.00000</td>\n",
       "      <td>POINT (-73.69149255000001 40.67361288)</td>\n",
       "      <td>0.000000</td>\n",
       "      <td>Um... Wut.</td>\n",
       "      <td>82.0</td>\n",
       "      <td>Andrewthemark</td>\n",
       "      <td>POINT (-73.69255456263605 40.67338539101333)</td>\n",
       "    </tr>\n",
       "    <tr>\n",
       "      <th>2</th>\n",
       "      <td>1</td>\n",
       "      <td>[-73.69149255, 40.67361288]</td>\n",
       "      <td>2012-09-04 00:22:57+00:00</td>\n",
       "      <td>5</td>\n",
       "      <td>0.00000</td>\n",
       "      <td>POINT (-73.69149255000001 40.67361288)</td>\n",
       "      <td>0.000000</td>\n",
       "      <td>THEYRE CHANTING LETS GO SHEAMUS!</td>\n",
       "      <td>14.0</td>\n",
       "      <td>Andrewthemark</td>\n",
       "      <td>POINT (-73.69255456263605 40.67338539101333)</td>\n",
       "    </tr>\n",
       "    <tr>\n",
       "      <th>3</th>\n",
       "      <td>1</td>\n",
       "      <td>[-73.69149255, 40.67361288]</td>\n",
       "      <td>2012-09-04 00:24:06+00:00</td>\n",
       "      <td>5</td>\n",
       "      <td>0.00000</td>\n",
       "      <td>POINT (-73.69149255000001 40.67361288)</td>\n",
       "      <td>0.000000</td>\n",
       "      <td>Why are there only 3 commentators in vince's m...</td>\n",
       "      <td>69.0</td>\n",
       "      <td>Andrewthemark</td>\n",
       "      <td>POINT (-73.69255456263605 40.67338539101333)</td>\n",
       "    </tr>\n",
       "    <tr>\n",
       "      <th>4</th>\n",
       "      <td>1</td>\n",
       "      <td>[-73.69153706, 40.67357022]</td>\n",
       "      <td>2012-09-04 00:27:03+00:00</td>\n",
       "      <td>5</td>\n",
       "      <td>6.04912</td>\n",
       "      <td>POINT (-73.69153706 40.67357022)</td>\n",
       "      <td>0.034176</td>\n",
       "      <td>Why would they take out lawler and mathews?</td>\n",
       "      <td>177.0</td>\n",
       "      <td>Andrewthemark</td>\n",
       "      <td>POINT (-73.69255456263605 40.67338539101333)</td>\n",
       "    </tr>\n",
       "  </tbody>\n",
       "</table>\n",
       "</div>"
      ],
      "text/plain": [
       "   cluster                       coords                      date  \\\n",
       "0        1  [-73.69149255, 40.67361288] 2012-09-04 00:21:21+00:00   \n",
       "1        1  [-73.69149255, 40.67361288] 2012-09-04 00:22:43+00:00   \n",
       "2        1  [-73.69149255, 40.67361288] 2012-09-04 00:22:57+00:00   \n",
       "3        1  [-73.69149255, 40.67361288] 2012-09-04 00:24:06+00:00   \n",
       "4        1  [-73.69153706, 40.67357022] 2012-09-04 00:27:03+00:00   \n",
       "\n",
       "   day_cluster  geo_delta                                geometry     speed  \\\n",
       "0            5        NaN  POINT (-73.69149255000001 40.67361288)       NaN   \n",
       "1            5    0.00000  POINT (-73.69149255000001 40.67361288)  0.000000   \n",
       "2            5    0.00000  POINT (-73.69149255000001 40.67361288)  0.000000   \n",
       "3            5    0.00000  POINT (-73.69149255000001 40.67361288)  0.000000   \n",
       "4            5    6.04912        POINT (-73.69153706 40.67357022)  0.034176   \n",
       "\n",
       "                                                text  time_delta  \\\n",
       "0                           Why cant cole be joined?         NaN   \n",
       "1                                         Um... Wut.        82.0   \n",
       "2                   THEYRE CHANTING LETS GO SHEAMUS!        14.0   \n",
       "3  Why are there only 3 commentators in vince's m...        69.0   \n",
       "4        Why would they take out lawler and mathews?       177.0   \n",
       "\n",
       "            user                                cluster_center  \n",
       "0  Andrewthemark  POINT (-73.69255456263605 40.67338539101333)  \n",
       "1  Andrewthemark  POINT (-73.69255456263605 40.67338539101333)  \n",
       "2  Andrewthemark  POINT (-73.69255456263605 40.67338539101333)  \n",
       "3  Andrewthemark  POINT (-73.69255456263605 40.67338539101333)  \n",
       "4  Andrewthemark  POINT (-73.69255456263605 40.67338539101333)  "
      ]
     },
     "execution_count": 101,
     "metadata": {},
     "output_type": "execute_result"
    }
   ],
   "source": [
    "_users_with_centroids[0].head()"
   ]
  },
  {
   "cell_type": "code",
   "execution_count": 102,
   "metadata": {
    "collapsed": false
   },
   "outputs": [
    {
     "data": {
      "text/plain": [
       "4859"
      ]
     },
     "execution_count": 102,
     "metadata": {},
     "output_type": "execute_result"
    }
   ],
   "source": [
    "len(_users_with_centroids)"
   ]
  },
  {
   "cell_type": "code",
   "execution_count": null,
   "metadata": {
    "collapsed": true
   },
   "outputs": [],
   "source": []
  }
 ],
 "metadata": {
  "kernelspec": {
   "display_name": "IPython (Python 3)",
   "language": "python",
   "name": "python3"
  },
  "language_info": {
   "codemirror_mode": {
    "name": "ipython",
    "version": 3
   },
   "file_extension": ".py",
   "mimetype": "text/x-python",
   "name": "python",
   "nbconvert_exporter": "python",
   "pygments_lexer": "ipython3",
   "version": "3.4.3"
  }
 },
 "nbformat": 4,
 "nbformat_minor": 1
}
