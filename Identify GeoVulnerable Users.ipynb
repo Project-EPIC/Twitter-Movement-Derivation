{
 "cells": [
  {
   "cell_type": "code",
   "execution_count": 22,
   "metadata": {},
   "outputs": [],
   "source": [
    "var _    = require('lodash')\n",
    "var fs   = require('fs')\n",
    "var turf = require('../node_modules/@turf/turf')\n",
    "var pointsInPolygon = require('../node_modules/@turf/points-within-polygon')"
   ]
  },
  {
   "cell_type": "markdown",
   "metadata": {},
   "source": [
    "Load user metadata and evacuation zone information to determine if a user's home location is in an evacuation zone"
   ]
  },
  {
   "cell_type": "code",
   "execution_count": 23,
   "metadata": {},
   "outputs": [],
   "source": [
    "// Harvey\n",
    "//var EVACUATION_ZONE = './EvacuationZones/HarveyIrmaMaria/Texas-EvacuationCounties.geojson'\n",
    "//var USER_META_DIR   = '/data/chime/geo2/NEW/HARVEY2'\n",
    "\n",
    "// //Irma\n",
    "// var EVACUATION_ZONE = './EvacuationZones/HarveyIrmaMaria/Miami-DadeABC.geojson'\n",
    "// var USER_META_DIR   = '/data/chime/geo2/NEW/IRMA-STORMPATH2'\n",
    "\n",
    "//Sandy Zone A\n",
    "var EVACUATION_ZONE = './EvacuationZones/Sandy/ZoneA.geojson'\n",
    "var USER_META_DIR   = '/data/chime/geo2/NEW/NYC_ZONEA'"
   ]
  },
  {
   "cell_type": "code",
   "execution_count": 24,
   "metadata": {},
   "outputs": [
    {
     "name": "stderr",
     "output_type": "stream",
     "text": [
      "1\n"
     ]
    }
   ],
   "source": [
    "EVACUATION_AREA = JSON.parse(fs.readFileSync(EVACUATION_ZONE))\n",
    "console.warn(EVACUATION_AREA.features.length)\n",
    "var EVACUATION_AREA = EVACUATION_AREA.features[0]"
   ]
  },
  {
   "cell_type": "markdown",
   "metadata": {},
   "source": [
    "Load all the user metadata files"
   ]
  },
  {
   "cell_type": "code",
   "execution_count": 25,
   "metadata": {},
   "outputs": [
    {
     "name": "stderr",
     "output_type": "stream",
     "text": [
      "Loaded 135 users with likely Home clusters\n"
     ]
    }
   ],
   "source": [
    "var userMetas = []\n",
    "fs.readdirSync(USER_META_DIR).forEach(function(fileName){\n",
    "  if (fileName.endsWith('-meta.geojson')){\n",
    "    var user = JSON.parse(fs.readFileSync(USER_META_DIR+\"/\"+fileName))\n",
    "    if (user.features.length==1){\n",
    "        return false;\n",
    "    }\n",
    "    user.features.forEach(function(cluster){\n",
    "      if(cluster.properties.hasOwnProperty('likelyHome')){\n",
    "        userMetas.push({type:\"Feature\",\n",
    "                        properties: {user : fileName.substring(0,fileName.length-13)},\n",
    "                        geometry: cluster.geometry});\n",
    "      }\n",
    "    })\n",
    "  }\n",
    "})\n",
    "console.warn(\"Loaded \" + userMetas.length + \" users with likely Home clusters\")"
   ]
  },
  {
   "cell_type": "code",
   "execution_count": 26,
   "metadata": {},
   "outputs": [
    {
     "name": "stderr",
     "output_type": "stream",
     "text": [
      "Found 4 geographically vulnerable users\n"
     ]
    }
   ],
   "source": [
    "var geographicallyVulnerableUsers = pointsInPolygon({type: \"FeatureCollection\", features: userMetas}, EVACUATION_AREA)\n",
    "console.warn(\"Found \" + geographicallyVulnerableUsers.features.length + \" geographically vulnerable users\")"
   ]
  },
  {
   "cell_type": "code",
   "execution_count": 27,
   "metadata": {
    "scrolled": false
   },
   "outputs": [
    {
     "name": "stdout",
     "output_type": "stream",
     "text": [
      "KevyKevsaunders\n",
      "LaLaHearts\n",
      "WizbyF\n",
      "tlal2\n"
     ]
    }
   ],
   "source": [
    "geographicallyVulnerableUsers.features.forEach(function(u){\n",
    "    console.log(u.properties.user)\n",
    "})"
   ]
  },
  {
   "cell_type": "code",
   "execution_count": 21,
   "metadata": {},
   "outputs": [],
   "source": [
    "fs.writeFileSync('/data/chime/geo2/NEW/SANDY-ZoneA-geovulnerable.geojson',JSON.stringify(geographicallyVulnerableUsers))"
   ]
  },
  {
   "cell_type": "code",
   "execution_count": 29,
   "metadata": {},
   "outputs": [],
   "source": [
    "fs.writeFileSync('/data/chime/geo2/SANDY-ZoneA-homes.geojson',JSON.stringify({type: \"FeatureCollection\", features: userMetas}))"
   ]
  },
  {
   "cell_type": "code",
   "execution_count": null,
   "metadata": {},
   "outputs": [],
   "source": []
  }
 ],
 "metadata": {
  "kernelspec": {
   "display_name": "NodeJS",
   "language": "javascript",
   "name": "nodejs"
  },
  "language_info": {
   "codemirror_mode": "javascript",
   "file_extension": ".js",
   "mimetype": "text/javascript",
   "name": "nodejs",
   "pygments_lexer": "javascript",
   "version": "0.10"
  }
 },
 "nbformat": 4,
 "nbformat_minor": 2
}
