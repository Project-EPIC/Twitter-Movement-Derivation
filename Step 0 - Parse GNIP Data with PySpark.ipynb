{
 "cells": [
  {
   "cell_type": "code",
   "execution_count": 1,
   "metadata": {
    "collapsed": true
   },
   "outputs": [],
   "source": [
    "import json, iso8601, pprint, os, codecs"
   ]
  },
  {
   "cell_type": "markdown",
   "metadata": {},
   "source": [
    "# Load, Clean, Sort, Convert GeoLocated data collected form Twitter (GNIP)\n",
    "\n",
    "This notebook: \n",
    "\n",
    "1. Loads raw gnip data\n",
    "1. Writes full GNIP GEOJSONL files per user\n",
    "\n",
    "## [Spark Status](http://epic-analytics.cs.colorado.edu:4040/jobs/)"
   ]
  },
  {
   "cell_type": "code",
   "execution_count": 2,
   "metadata": {
    "collapsed": true
   },
   "outputs": [],
   "source": [
    "input_directory  = \"/data/chime/HurricaneNate/GNIP/\"\n",
    "output_directory = \"/data/chime/geo2/NATE\""
   ]
  },
  {
   "cell_type": "markdown",
   "metadata": {},
   "source": [
    "## Step 1. Load all the Tweets!"
   ]
  },
  {
   "cell_type": "code",
   "execution_count": 3,
   "metadata": {
    "collapsed": true
   },
   "outputs": [],
   "source": [
    "#Load the files\n",
    "raw_strings = sc.textFile(input_directory)\n",
    "\n",
    "#Filter out the duds\n",
    "strings = raw_strings.filter(lambda x: x!=\"\")\n",
    "\n",
    "#JSONs\n",
    "jsons  = strings.map(json.loads)\n",
    "\n",
    "tweets = jsons.filter(lambda x: 'info' not in x.keys())"
   ]
  },
  {
   "cell_type": "markdown",
   "metadata": {},
   "source": [
    "### Check that this is working so far"
   ]
  },
  {
   "cell_type": "code",
   "execution_count": 4,
   "metadata": {},
   "outputs": [
    {
     "name": "stdout",
     "output_type": "stream",
     "text": [
      "{u'actor': {u'displayName': u'Townsquare-Tusc-WX',\n",
      "            u'favoritesCount': 44,\n",
      "            u'followersCount': 175,\n",
      "            u'friendsCount': 443,\n",
      "            u'id': u'id:twitter.com:2828832719',\n",
      "            u'image': u'https://pbs.twimg.com/profile_images/830328335171407872/xLrhW0lL_normal.jpg',\n",
      "            u'languages': [u'en'],\n",
      "            u'link': u'http://www.twitter.com/WX4ALA',\n",
      "            u'links': [{u'href': u'https://radioweathernetwork.com',\n",
      "                        u'rel': u'me'}],\n",
      "            u'listedCount': 2,\n",
      "            u'location': {u'displayName': u'Tuscaloosa, AL',\n",
      "                          u'objectType': u'place'},\n",
      "            u'objectType': u'person',\n",
      "            u'postedTime': u'2014-10-14T02:27:05.000Z',\n",
      "            u'preferredUsername': u'WX4ALA',\n",
      "            u'statusesCount': 2175,\n",
      "            u'summary': u\"Townsquare Media-Tuscaloosa! West, Alabama's ONLY Live & Local Severe & Winter Weather Coverage By LOCAL Meteorologist; Bobby Best!\",\n",
      "            u'twitterTimeZone': u'Central Time (US & Canada)',\n",
      "            u'utcOffset': u'-18000',\n",
      "            u'verified': False},\n",
      " u'body': u\"***HERE'S MY 1am UPDATE ON HURRICANE NATE, ATTACHED BELOW***\\n\\nTownsquare Media-Tuscaloosa Meteorologist; Bobby Best https://t.co/UYtkbCg3bs\",\n",
      " u'favoritesCount': 0,\n",
      " u'generator': {u'displayName': u'Facebook',\n",
      "                u'link': u'http://www.facebook.com/twitter'},\n",
      " u'gnip': {u'matching_rules': [{u'id': 2217759139107007618,\n",
      "                                u'id_str': u'2217759139107007618',\n",
      "                                u'tag': u'nate-terms'},\n",
      "                               {u'id': 6749132523590672224,\n",
      "                                u'id_str': u'6749132523590672224',\n",
      "                                u'tag': u'hurricane-terms'}],\n",
      "           u'urls': [{u'expanded_status': 200,\n",
      "                      u'expanded_url': u'https://www.facebook.com/WinstonCountyAmateurRadioGroup/posts/1424779027637854',\n",
      "                      u'expanded_url_description': u\"***HERE'S MY 1am UPDATE ON HURRICANE NATE, ATTACHED BELOW*** Townsquare Media-Tuscaloosa Meteorologist; Bobby Best\",\n",
      "                      u'expanded_url_title': u'Winston County Amateur Radio/SKYWARN Group',\n",
      "                      u'url': u'https://t.co/UYtkbCg3bs'}]},\n",
      " u'id': u'tag:search.twitter.com,2005:916908515976937473',\n",
      " u'link': u'http://twitter.com/WX4ALA/statuses/916908515976937473',\n",
      " u'object': {u'id': u'object:search.twitter.com,2005:916908515976937473',\n",
      "             u'link': u'http://twitter.com/WX4ALA/statuses/916908515976937473',\n",
      "             u'objectType': u'note',\n",
      "             u'postedTime': u'2017-10-08T06:10:00.000Z',\n",
      "             u'summary': u\"***HERE'S MY 1am UPDATE ON HURRICANE NATE, ATTACHED BELOW***\\n\\nTownsquare Media-Tuscaloosa Meteorologist; Bobby Best https://t.co/UYtkbCg3bs\"},\n",
      " u'objectType': u'activity',\n",
      " u'postedTime': u'2017-10-08T06:10:00.000Z',\n",
      " u'provider': {u'displayName': u'Twitter',\n",
      "               u'link': u'http://www.twitter.com',\n",
      "               u'objectType': u'service'},\n",
      " u'retweetCount': 0,\n",
      " u'twitter_entities': {u'hashtags': [],\n",
      "                       u'symbols': [],\n",
      "                       u'urls': [{u'display_url': u'fb.me/yaK8bi0e',\n",
      "                                  u'expanded_url': u'http://fb.me/yaK8bi0e',\n",
      "                                  u'indices': [116, 139],\n",
      "                                  u'url': u'https://t.co/UYtkbCg3bs'}],\n",
      "                       u'user_mentions': []},\n",
      " u'twitter_filter_level': u'low',\n",
      " u'twitter_lang': u'en',\n",
      " u'verb': u'post'}\n"
     ]
    }
   ],
   "source": [
    "pprint.pprint(tweets.take(1)[0])"
   ]
  },
  {
   "cell_type": "markdown",
   "metadata": {},
   "source": [
    "## Step 2: Group tweets by user"
   ]
  },
  {
   "cell_type": "code",
   "execution_count": 5,
   "metadata": {},
   "outputs": [
    {
     "data": {
      "text/plain": [
       "PythonRDD[7] at RDD at PythonRDD.scala:53"
      ]
     },
     "execution_count": 5,
     "metadata": {},
     "output_type": "execute_result"
    }
   ],
   "source": [
    "tweets_gb_user = tweets.groupBy(lambda t: t['actor']['id'])\n",
    "tweets_gb_user.cache() #We should probably cache these? If we want to use them again?"
   ]
  },
  {
   "cell_type": "markdown",
   "metadata": {},
   "source": [
    "#### Check on the status of this operation, should see a tuple of: `(user_id, iterable)`"
   ]
  },
  {
   "cell_type": "code",
   "execution_count": 6,
   "metadata": {},
   "outputs": [
    {
     "name": "stdout",
     "output_type": "stream",
     "text": [
      "(u'id:twitter.com:243844846',\n",
      " <pyspark.resultiterable.ResultIterable object at 0x7f494c7007d0>)\n"
     ]
    }
   ],
   "source": [
    "pprint.pprint(tweets_gb_user.take(1)[0])"
   ]
  },
  {
   "cell_type": "code",
   "execution_count": 7,
   "metadata": {
    "collapsed": true
   },
   "outputs": [],
   "source": [
    "def writeGeoJSON(uTuple):\n",
    "    u, iterable = uTuple\n",
    "    tweets = list(iterable)\n",
    "    handle = tweets[0]['actor']['preferredUsername']\n",
    "    tweets.sort(key=lambda t: t['postedTime'])\n",
    "    \n",
    "    #First, check for `geo`\n",
    "    features = []\n",
    "    geo_count = 0;\n",
    "    \n",
    "    for t in tweets:\n",
    "        try:\n",
    "            geo = t.get('geo',None)\n",
    "            if geo:\n",
    "                geo_count += 1;\n",
    "                geo = {'type':\"Point\",'coordinates':list(reversed(geo['coordinates']))}\n",
    "            feat = {\n",
    "                'type':'Feature',\n",
    "                'geometry': geo,\n",
    "                'properties':{\n",
    "                    'user':t['actor']['preferredUsername'],\n",
    "                    'text':t['body'],\n",
    "                    'date':t['postedTime'],\n",
    "                    'tweetID': t['id'].split(\":\")[2]\n",
    "                }\n",
    "            }\n",
    "            features.append(feat)\n",
    "        except:\n",
    "            raise\n",
    "    \n",
    "    #Minimum tweet count?\n",
    "    if geo_count > 5:\n",
    "        json.dump({'type':'FeatureCollection', 'features': features},\n",
    "                  codecs.open(output_directory + handle+\".geojson\",'w'))        "
   ]
  },
  {
   "cell_type": "markdown",
   "metadata": {},
   "source": [
    "## Step 3: Write out the `geojsonl` files\n",
    "\n",
    "For now just writing the full GNIP files, but in the future, this can probably be streamlined?"
   ]
  },
  {
   "cell_type": "code",
   "execution_count": 8,
   "metadata": {
    "collapsed": true
   },
   "outputs": [],
   "source": [
    "if not os.path.exists(output_directory):\n",
    "    os.mkdir(output_directory)"
   ]
  },
  {
   "cell_type": "code",
   "execution_count": 9,
   "metadata": {
    "collapsed": true
   },
   "outputs": [],
   "source": [
    "tweets_gb_user.foreach( writeGeoJSON )"
   ]
  },
  {
   "cell_type": "code",
   "execution_count": null,
   "metadata": {
    "collapsed": true
   },
   "outputs": [],
   "source": []
  }
 ],
 "metadata": {
  "kernelspec": {
   "display_name": "pySpark (Spark 1.5.2)",
   "language": "python",
   "name": "pyspark"
  },
  "language_info": {
   "codemirror_mode": {
    "name": "ipython",
    "version": 2
   },
   "file_extension": ".py",
   "mimetype": "text/x-python",
   "name": "python",
   "nbconvert_exporter": "python",
   "pygments_lexer": "ipython2",
   "version": "2.7.12"
  }
 },
 "nbformat": 4,
 "nbformat_minor": 1
}
