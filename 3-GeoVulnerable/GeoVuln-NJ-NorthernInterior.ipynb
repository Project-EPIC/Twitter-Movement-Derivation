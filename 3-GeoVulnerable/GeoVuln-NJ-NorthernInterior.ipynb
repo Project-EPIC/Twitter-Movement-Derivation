{
 "cells": [
  {
   "cell_type": "markdown",
   "metadata": {},
   "source": [
    "# Are users home locations in Vulnerable Locations?"
   ]
  },
  {
   "cell_type": "code",
   "execution_count": 1,
   "metadata": {
    "collapsed": true
   },
   "outputs": [],
   "source": [
    "import pandas as pd; import numpy as np; from multiprocessing import Pool, Manager; import numpy as np; import geopandas as gpd\n",
    "import matplotlib.pyplot as plt; import seaborn as sns\n",
    "import matplotlib, os, json, sys, time, datetime\n",
    "from bson import json_util"
   ]
  },
  {
   "cell_type": "code",
   "execution_count": 2,
   "metadata": {
    "collapsed": true
   },
   "outputs": [],
   "source": [
    "input_directory  = \"/data/chime/geo2/PROCESSED/NJ/NorthernInterior_Stage2/\"\n",
    "output_directory = \"/data/chime/geo2/PROCESSED/NJ/NorthernInterior_Stage3/\"\n",
    "zoneGeometry     = \"../EvacuationZones/NewJersey/NJ_NorthernInterior.shp\""
   ]
  },
  {
   "cell_type": "markdown",
   "metadata": {},
   "source": [
    "#### Import the ZoneA Geometry"
   ]
  },
  {
   "cell_type": "code",
   "execution_count": 3,
   "metadata": {},
   "outputs": [
    {
     "name": "stderr",
     "output_type": "stream",
     "text": [
      "/usr/local/lib/python3.5/dist-packages/ipykernel_launcher.py:3: DeprecationWarning: Collection.__next__() is buggy and will be removed in Fiona 2.0. Switch to `next(iter(collection))`.\n",
      "  This is separate from the ipykernel package so we can avoid doing imports until\n"
     ]
    },
    {
     "data": {
      "text/plain": [
       "True"
      ]
     },
     "execution_count": 3,
     "metadata": {},
     "output_type": "execute_result"
    }
   ],
   "source": [
    "import fiona, shapely; from osgeo import ogr; from shapely.geometry import mapping, shape\n",
    "c = fiona.open(zoneGeometry,'r')\n",
    "pol = c.next(); zone = shape(pol['geometry']).buffer(0); zone.is_valid"
   ]
  },
  {
   "cell_type": "markdown",
   "metadata": {},
   "source": [
    "#### Import the user metadata DF (Phasing this out)"
   ]
  },
  {
   "cell_type": "code",
   "execution_count": 4,
   "metadata": {
    "collapsed": true
   },
   "outputs": [],
   "source": [
    "_user_meta = pd.read_json(input_directory+'/temporal_clustered_user_meta.json')"
   ]
  },
  {
   "cell_type": "code",
   "execution_count": 5,
   "metadata": {},
   "outputs": [
    {
     "data": {
      "text/html": [
       "<div>\n",
       "<style>\n",
       "    .dataframe thead tr:only-child th {\n",
       "        text-align: right;\n",
       "    }\n",
       "\n",
       "    .dataframe thead th {\n",
       "        text-align: left;\n",
       "    }\n",
       "\n",
       "    .dataframe tbody tr th {\n",
       "        vertical-align: top;\n",
       "    }\n",
       "</style>\n",
       "<table border=\"1\" class=\"dataframe\">\n",
       "  <thead>\n",
       "    <tr style=\"text-align: right;\">\n",
       "      <th></th>\n",
       "      <th>home_cluster</th>\n",
       "      <th>home_cluster_coords</th>\n",
       "      <th>tweets</th>\n",
       "      <th>uid</th>\n",
       "      <th>user</th>\n",
       "    </tr>\n",
       "  </thead>\n",
       "  <tbody>\n",
       "    <tr>\n",
       "      <th>0</th>\n",
       "      <td>1.0</td>\n",
       "      <td>{\"type\": \"Point\", \"coordinates\": [-73.69247457...</td>\n",
       "      <td>14231</td>\n",
       "      <td>75153082</td>\n",
       "      <td>Andrewthemark</td>\n",
       "    </tr>\n",
       "    <tr>\n",
       "      <th>1</th>\n",
       "      <td>1.0</td>\n",
       "      <td>{\"type\": \"Point\", \"coordinates\": [-74.17544402...</td>\n",
       "      <td>3115</td>\n",
       "      <td>250117107</td>\n",
       "      <td>AmandaaTar</td>\n",
       "    </tr>\n",
       "    <tr>\n",
       "      <th>2</th>\n",
       "      <td>1.0</td>\n",
       "      <td>{\"type\": \"Point\", \"coordinates\": [-74.20528803...</td>\n",
       "      <td>2055</td>\n",
       "      <td>336126439</td>\n",
       "      <td>FreddyJ_23</td>\n",
       "    </tr>\n",
       "  </tbody>\n",
       "</table>\n",
       "</div>"
      ],
      "text/plain": [
       "   home_cluster                                home_cluster_coords  tweets  \\\n",
       "0           1.0  {\"type\": \"Point\", \"coordinates\": [-73.69247457...   14231   \n",
       "1           1.0  {\"type\": \"Point\", \"coordinates\": [-74.17544402...    3115   \n",
       "2           1.0  {\"type\": \"Point\", \"coordinates\": [-74.20528803...    2055   \n",
       "\n",
       "         uid           user  \n",
       "0   75153082  Andrewthemark  \n",
       "1  250117107     AmandaaTar  \n",
       "2  336126439     FreddyJ_23  "
      ]
     },
     "execution_count": 5,
     "metadata": {},
     "output_type": "execute_result"
    }
   ],
   "source": [
    "_user_meta = _user_meta.sort_index()\n",
    "_user_meta.head(3)"
   ]
  },
  {
   "cell_type": "markdown",
   "metadata": {},
   "source": [
    "## 0. Import all of the individual user dataframes"
   ]
  },
  {
   "cell_type": "code",
   "execution_count": 6,
   "metadata": {},
   "outputs": [
    {
     "name": "stdout",
     "output_type": "stream",
     "text": [
      "Found 266 users in /data/chime/geo2/PROCESSED/NJ/NorthernInterior_Stage2/\n"
     ]
    }
   ],
   "source": [
    "users_in = sorted(os.listdir(input_directory))\n",
    "users_in = [x for x in users_in if x != \"temporal_clustered_user_meta.json\"]\n",
    "print(\"Found {0} users in {1}\".format(len(users_in), input_directory))"
   ]
  },
  {
   "cell_type": "code",
   "execution_count": 7,
   "metadata": {
    "collapsed": true
   },
   "outputs": [],
   "source": [
    "def loader_function(args):\n",
    "    uFile, path, q = args\n",
    "    u = json.load(open(path+\"/\"+uFile,'r'))\n",
    "    tweets = []\n",
    "    for t in u['features']:\n",
    "        if t['geometry']:\n",
    "            t['properties']['geometry'] = shape(t['geometry'])\n",
    "        t['properties']['date'] = pd.Timestamp(t['properties']['date'])\n",
    "        tweets.append(t['properties'])\n",
    "    q.put(1)\n",
    "    return gpd.GeoDataFrame(tweets)"
   ]
  },
  {
   "cell_type": "code",
   "execution_count": 8,
   "metadata": {},
   "outputs": [
    {
     "name": "stderr",
     "output_type": "stream",
     "text": [
      "Processed: 266, 100%%"
     ]
    }
   ],
   "source": [
    "#Parallel runtime\n",
    "p = Pool(30)\n",
    "m = Manager()\n",
    "q = m.Queue()\n",
    "\n",
    "args = [(i, input_directory, q) for i in users_in]\n",
    "result = p.map_async(loader_function, args)\n",
    "\n",
    "# monitor loop\n",
    "while True:\n",
    "    if result.ready():\n",
    "        break\n",
    "    else:\n",
    "        size = q.qsize()\n",
    "        sys.stderr.write(\"\\rProcessed: {0}, {1:.3g}%\".format(size, size/len(args)*100))\n",
    "        time.sleep(0.5)\n",
    "sys.stderr.write(\"\\rProcessed: {0}, {1:.3g}%\".format(q.qsize(), q.qsize()/len(args)*100))\n",
    "users = result.get()\n",
    "p.close()"
   ]
  },
  {
   "cell_type": "code",
   "execution_count": 9,
   "metadata": {},
   "outputs": [],
   "source": [
    "users.sort( key=lambda x: len(x), reverse=True ) "
   ]
  },
  {
   "cell_type": "markdown",
   "metadata": {},
   "source": [
    "`users` is an array of user dataframes. Now find which users have _home locations_ in Zone A"
   ]
  },
  {
   "cell_type": "code",
   "execution_count": 10,
   "metadata": {},
   "outputs": [
    {
     "name": "stdout",
     "output_type": "stream",
     "text": [
      "258\n"
     ]
    },
    {
     "data": {
      "text/html": [
       "<div>\n",
       "<style>\n",
       "    .dataframe thead tr:only-child th {\n",
       "        text-align: right;\n",
       "    }\n",
       "\n",
       "    .dataframe thead th {\n",
       "        text-align: left;\n",
       "    }\n",
       "\n",
       "    .dataframe tbody tr th {\n",
       "        vertical-align: top;\n",
       "    }\n",
       "</style>\n",
       "<table border=\"1\" class=\"dataframe\">\n",
       "  <thead>\n",
       "    <tr style=\"text-align: right;\">\n",
       "      <th></th>\n",
       "      <th>cluster</th>\n",
       "      <th>cluster_center</th>\n",
       "      <th>coords</th>\n",
       "      <th>date</th>\n",
       "      <th>day_cluster</th>\n",
       "      <th>geo_delta</th>\n",
       "      <th>geometry</th>\n",
       "      <th>home_cluster_id</th>\n",
       "      <th>speed</th>\n",
       "      <th>text</th>\n",
       "      <th>time_delta</th>\n",
       "      <th>tweet_id</th>\n",
       "      <th>uid</th>\n",
       "      <th>user</th>\n",
       "    </tr>\n",
       "  </thead>\n",
       "  <tbody>\n",
       "    <tr>\n",
       "      <th>0</th>\n",
       "      <td>1</td>\n",
       "      <td>{\"type\": \"Point\", \"coordinates\": [-73.98472529...</td>\n",
       "      <td>[-73.98476121, 40.68895653]</td>\n",
       "      <td>2012-09-08 19:11:07+00:00</td>\n",
       "      <td>10</td>\n",
       "      <td>NaN</td>\n",
       "      <td>POINT (-73.98476121 40.68895653)</td>\n",
       "      <td>1.0</td>\n",
       "      <td>NaN</td>\n",
       "      <td>Madonna third row!!!  So excited!!!!!</td>\n",
       "      <td>NaN</td>\n",
       "      <td>244513212781961216</td>\n",
       "      <td>418404465</td>\n",
       "      <td>kittycolorist</td>\n",
       "    </tr>\n",
       "  </tbody>\n",
       "</table>\n",
       "</div>"
      ],
      "text/plain": [
       "   cluster                                     cluster_center  \\\n",
       "0        1  {\"type\": \"Point\", \"coordinates\": [-73.98472529...   \n",
       "\n",
       "                        coords                      date  day_cluster  \\\n",
       "0  [-73.98476121, 40.68895653] 2012-09-08 19:11:07+00:00           10   \n",
       "\n",
       "   geo_delta                          geometry  home_cluster_id  speed  \\\n",
       "0        NaN  POINT (-73.98476121 40.68895653)              1.0    NaN   \n",
       "\n",
       "                                    text  time_delta            tweet_id  \\\n",
       "0  Madonna third row!!!  So excited!!!!!         NaN  244513212781961216   \n",
       "\n",
       "         uid           user  \n",
       "0  418404465  kittycolorist  "
      ]
     },
     "execution_count": 10,
     "metadata": {},
     "output_type": "execute_result"
    }
   ],
   "source": [
    "x = users[100]\n",
    "print(len(x))\n",
    "x.head(1)"
   ]
  },
  {
   "cell_type": "code",
   "execution_count": 11,
   "metadata": {},
   "outputs": [
    {
     "data": {
      "text/plain": [
       "False"
      ]
     },
     "execution_count": 11,
     "metadata": {},
     "output_type": "execute_result"
    }
   ],
   "source": [
    "def get_home_cluster_center(userDF):\n",
    "    return shape(json.loads(userDF.query('cluster=='+str(userDF.home_cluster_id.values[0])).cluster_center.values[0]))\n",
    "\n",
    "get_home_cluster_center(users[0]).within(zone)"
   ]
  },
  {
   "cell_type": "markdown",
   "metadata": {},
   "source": [
    "## 1. Determine who's home cluster center is in ZONE"
   ]
  },
  {
   "cell_type": "code",
   "execution_count": 12,
   "metadata": {
    "collapsed": true
   },
   "outputs": [],
   "source": [
    "def insideZone(p):\n",
    "    if p==None:\n",
    "        return False\n",
    "    else:\n",
    "        return p.within(zone)"
   ]
  },
  {
   "cell_type": "code",
   "execution_count": 13,
   "metadata": {},
   "outputs": [
    {
     "name": "stderr",
     "output_type": "stream",
     "text": [
      "Done...Identified 137 vulnerable users and 129 non-vulnerable"
     ]
    }
   ],
   "source": [
    "vuln = []\n",
    "non_vuln = []\n",
    "for idx, u in enumerate(users):\n",
    "    if (insideZone(get_home_cluster_center(u))):\n",
    "        vuln.append(u)\n",
    "    else:\n",
    "        non_vuln.append(u)\n",
    "    sys.stderr.write(\"\\r\"+str(idx+1))\n",
    "sys.stderr.write(\"\\rDone...\")\n",
    "sys.stderr.write(\"Identified {0} vulnerable users and {1} non-vulnerable\".format(len(vuln),len(non_vuln)))"
   ]
  },
  {
   "cell_type": "code",
   "execution_count": 14,
   "metadata": {},
   "outputs": [],
   "source": [
    "if not os.path.exists(output_directory):\n",
    "    os.mkdir(output_directory)"
   ]
  },
  {
   "cell_type": "markdown",
   "metadata": {},
   "source": [
    "## 2. Write out just the GeoVulnerable, just in case we need them for something later"
   ]
  },
  {
   "cell_type": "code",
   "execution_count": 15,
   "metadata": {
    "collapsed": true
   },
   "outputs": [],
   "source": [
    "def safe_mapping(p):\n",
    "    if p==None or np.isnan(p).any():\n",
    "        return None\n",
    "    else:\n",
    "        return mapping(p)\n",
    "def safe_json_export(args):\n",
    "    df, path = args\n",
    "    df = df.copy()\n",
    "    uName = df.head(1).user.values[0].lower()\n",
    "    df['date'] = df['date'].apply(lambda t: datetime.datetime.strftime(t,'%Y-%m-%dT%H:%M:%SZ'))\n",
    "\n",
    "    clean = df.where((pd.notnull(df)), None)\n",
    "    geojson = {\"type\":\"FeatureCollection\",\"features\":[]}\n",
    "    for _, row in clean.iterrows():\n",
    "        geom = safe_mapping(row.geometry)\n",
    "        feature = {'type':'Feature',\n",
    "                   'geometry':geom,\n",
    "                   'properties':row.to_dict()\n",
    "                    }\n",
    "        del feature['properties']['geometry']\n",
    "        geojson['features'].append(feature)\n",
    "    \n",
    "    with open(path+\"/\"+uName+'.geojson','w') as oFile:\n",
    "        json.dump(geojson, oFile) "
   ]
  },
  {
   "cell_type": "code",
   "execution_count": 16,
   "metadata": {},
   "outputs": [
    {
     "name": "stderr",
     "output_type": "stream",
     "text": [
      "137 processed"
     ]
    }
   ],
   "source": [
    "for idx, u in enumerate(vuln):\n",
    "    safe_json_export((u,output_directory))\n",
    "    sys.stderr.write(\"\\r{0} processed\".format(idx+1))"
   ]
  },
  {
   "cell_type": "markdown",
   "metadata": {},
   "source": [
    "# 3. Prepare for Analysis\n",
    "\n",
    "All of these users should already exist in a format prepared for visualizing, these users can be pasted into Google Sheets"
   ]
  },
  {
   "cell_type": "code",
   "execution_count": 15,
   "metadata": {
    "scrolled": false
   },
   "outputs": [
    {
     "name": "stdout",
     "output_type": "stream",
     "text": [
      "___mariahleigh\n",
      "_aggression_\n",
      "adeblas17\n",
      "alex_florke\n",
      "alexisgebbia\n",
      "alfey10\n",
      "amandaatar\n",
      "andreajg129\n",
      "aschwerzy\n",
      "autumnmonologue\n",
      "bailyes62\n",
      "bcr1209\n",
      "beanie5469\n",
      "bethelsasser\n",
      "breannespainhow\n",
      "breecookiee\n",
      "brittany_mckeon\n",
      "bstendardo\n",
      "caittfoley\n",
      "camerondaisy\n",
      "casey_raso\n",
      "caseykrauss\n",
      "cfaraldi\n",
      "cheerbowsndhoes\n",
      "chrisstineey\n",
      "cianikae\n",
      "cicibarton\n",
      "cohen91493\n",
      "coleebabyyy\n",
      "danrobertori\n",
      "dantemojares18\n",
      "darrianrojas\n",
      "davidjclark89\n",
      "dcarb3\n",
      "defrizzel\n",
      "doubythegod\n",
      "drewjerzy\n",
      "dylan_woodruff\n",
      "eekaspigel\n",
      "emmuhhlee_k\n",
      "erfence\n",
      "erin_breza\n",
      "fboardingham\n",
      "fmz81\n",
      "freddyj_23\n",
      "gabbbcam\n",
      "gabbgonzalez_\n",
      "gh_velma\n",
      "grantklimek\n",
      "heidiho37\n",
      "i_am_decoy_man\n",
      "isabella7820\n",
      "izztheboss_xv\n",
      "jakegoldstein2\n",
      "jandreskixo\n",
      "jarch_\n",
      "jasontbedell\n",
      "jayjohnsonlikes\n",
      "jayrelyea\n",
      "jesalbhatt\n",
      "jesssgilligan\n",
      "jodink93\n",
      "joeesmith19\n",
      "jordynnxxhayes\n",
      "josephsoto21\n",
      "joshua_dwight\n",
      "jrzeegrl32\n",
      "judypascale\n",
      "juliannatruppa\n",
      "justinmcc345\n",
      "k_trillz_xo\n",
      "karu2013\n",
      "kaylajeanx5\n",
      "kellybrownizzle\n",
      "kmart890\n",
      "kr3at\n",
      "kurtdelledonne\n",
      "larrydabal\n",
      "leenakeghlian\n",
      "loffredojeremy\n",
      "loveforeversws\n",
      "luv_jenna\n",
      "marcvarvaro\n",
      "marleegreenberg\n",
      "masiabooskie\n",
      "matt_j_mcmahon\n",
      "mattcrisalli\n",
      "mattyf410\n",
      "meowllyson\n",
      "mikedicristina\n",
      "mikemonto\n",
      "mikerusso17\n",
      "milleradri\n",
      "miquellabaker\n",
      "nashababi\n",
      "nick9shirey\n",
      "nickzbranak\n",
      "nj_aviator\n",
      "njbusinesses\n",
      "oceancountymall\n",
      "ohheyannax3\n",
      "page_human\n",
      "patromano1597\n",
      "pinkishhoodie\n",
      "plotra\n",
      "pwpowerhouse\n",
      "rachelfreddie\n",
      "rayfinelli\n",
      "sallybiase\n",
      "sam_alllen\n",
      "samanthha_xo\n",
      "sarah_farmarco\n",
      "sazzy_zen\n",
      "sclovetales\n",
      "seanricany\n",
      "shainahutton\n",
      "shanson5\n",
      "shawniemikes\n",
      "sreilly1406\n",
      "suckstobeshadow\n",
      "tash_larson\n",
      "taylorkeehn\n",
      "the_richuation\n",
      "thicknprety\n",
      "tpilovsky\n",
      "tracystag\n",
      "travismarmora\n",
      "tylermachnik\n",
      "valentinisgene\n",
      "vfarmer24\n",
      "whatsupstevee\n",
      "x0x0xj\n",
      "xbabyd0llx3x\n",
      "xdani3ll3nic0l3\n",
      "xokatlynnn\n",
      "xx_krystal\n",
      "yungjerm02\n"
     ]
    }
   ],
   "source": [
    "for uName in sorted([u.user[0].lower() for u in vuln]):\n",
    "    print(uName)"
   ]
  },
  {
   "cell_type": "code",
   "execution_count": 16,
   "metadata": {},
   "outputs": [
    {
     "data": {
      "text/plain": [
       "137"
      ]
     },
     "execution_count": 16,
     "metadata": {},
     "output_type": "execute_result"
    }
   ],
   "source": [
    "len(vuln)"
   ]
  },
  {
   "cell_type": "code",
   "execution_count": 18,
   "metadata": {},
   "outputs": [
    {
     "name": "stderr",
     "output_type": "stream",
     "text": [
      "91"
     ]
    },
    {
     "name": "stdout",
     "output_type": "stream",
     "text": [
      "48\n",
      "\n",
      "alex_florke\n",
      "alexisgebbia\n",
      "alfey10\n",
      "amandaatar\n",
      "aschwerzy\n",
      "brittany_mckeon\n",
      "casey_raso\n",
      "caseykrauss\n",
      "cfaraldi\n",
      "chrisstineey\n",
      "cicibarton\n",
      "defrizzel\n",
      "dylan_woodruff\n",
      "emmuhhlee_k\n",
      "erfence\n",
      "fboardingham\n",
      "fmz81\n",
      "freddyj_23\n",
      "gabbbcam\n",
      "gabbgonzalez_\n",
      "grantklimek\n",
      "i_am_decoy_man\n",
      "jarch_\n",
      "jasontbedell\n",
      "jesalbhatt\n",
      "jesssgilligan\n",
      "joeesmith19\n",
      "joshua_dwight\n",
      "jrzeegrl32\n",
      "kellybrownizzle\n",
      "kr3at\n",
      "marleegreenberg\n",
      "matt_j_mcmahon\n",
      "mattyf410\n",
      "milleradri\n",
      "miquellabaker\n",
      "nick9shirey\n",
      "nickzbranak\n",
      "ohheyannax3\n",
      "page_human\n",
      "pwpowerhouse\n",
      "sarah_farmarco\n",
      "sclovetales\n",
      "seanricany\n",
      "tash_larson\n",
      "valentinisgene\n",
      "xokatlynnn\n",
      "yungjerm02\n"
     ]
    },
    {
     "name": "stderr",
     "output_type": "stream",
     "text": [
      "\r",
      "92\r",
      "93\r",
      "94\r",
      "95\r",
      "96\r",
      "97\r",
      "98\r",
      "99\r",
      "100\r",
      "101\r",
      "102\r",
      "103\r",
      "104\r",
      "105\r",
      "106\r",
      "107\r",
      "108\r",
      "109\r",
      "110\r",
      "111\r",
      "112\r",
      "113\r",
      "114\r",
      "115\r",
      "116\r",
      "117\r",
      "118\r",
      "119\r",
      "120\r",
      "121\r",
      "122\r",
      "123\r",
      "124\r",
      "125\r",
      "126\r",
      "127\r",
      "128\r",
      "129\r",
      "130\r",
      "131\r",
      "132\r",
      "133\r",
      "134\r",
      "135\r",
      "136"
     ]
    }
   ],
   "source": [
    "def good_storm_tweets(userDF):\n",
    "    return len(userDF.query(\"date > 201210300000 & date < 201210310000\")) \n",
    "    \n",
    "good_data = []\n",
    "res = []\n",
    "for idx, u in enumerate(vuln):\n",
    "    if good_storm_tweets(u) > 2:\n",
    "        good_data.append(u)\n",
    "    \n",
    "    sys.stderr.write(\"\\r\"+str(idx))\n",
    "\n",
    "print(str(len(good_data)))\n",
    "print()\n",
    "for uName in sorted([u.user[0].lower() for u in good_data]):\n",
    "    print(uName)\n"
   ]
  },
  {
   "cell_type": "markdown",
   "metadata": {
    "collapsed": true
   },
   "source": [
    "# Create rules file from UID"
   ]
  },
  {
   "cell_type": "code",
   "execution_count": 19,
   "metadata": {},
   "outputs": [],
   "source": [
    "rules = []\n",
    "these_rules = []\n",
    "for idx,u in enumerate(vuln):\n",
    "\n",
    "    rule = \"from:\"+u.uid[0]\n",
    "    these_rules.append(rule)\n",
    "    \n",
    "    if idx%25==0 and idx>0:\n",
    "        rules.append(\" OR \".join(these_rules))\n",
    "        these_rules = []\n",
    "\n",
    "output = []\n",
    "for r in rules:\n",
    "    output.append({\"value\":r})\n",
    "\n",
    "with open('../../GNIP/Sandy/NJ_GeoVulnerable_Contextual/rules.json','w') as oFile:\n",
    "    json.dump(output, oFile)"
   ]
  },
  {
   "cell_type": "code",
   "execution_count": null,
   "metadata": {
    "collapsed": true
   },
   "outputs": [],
   "source": []
  }
 ],
 "metadata": {
  "kernelspec": {
   "display_name": "Python 3",
   "language": "python",
   "name": "python3"
  },
  "language_info": {
   "codemirror_mode": {
    "name": "ipython",
    "version": 3
   },
   "file_extension": ".py",
   "mimetype": "text/x-python",
   "name": "python",
   "nbconvert_exporter": "python",
   "pygments_lexer": "ipython3",
   "version": "3.5.2"
  }
 },
 "nbformat": 4,
 "nbformat_minor": 1
}
