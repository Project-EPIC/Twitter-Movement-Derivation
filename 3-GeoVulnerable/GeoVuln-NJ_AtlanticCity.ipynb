{
 "cells": [
  {
   "cell_type": "markdown",
   "metadata": {},
   "source": [
    "# Are users home locations in Vulnerable Locations?"
   ]
  },
  {
   "cell_type": "code",
   "execution_count": 2,
   "metadata": {},
   "outputs": [],
   "source": [
    "import pandas as pd; import numpy as np; from multiprocessing import Pool, Manager; import numpy as np; import geopandas as gpd\n",
    "import matplotlib.pyplot as plt; import seaborn as sns\n",
    "import matplotlib, os, json, sys, time, datetime\n",
    "from bson import json_util"
   ]
  },
  {
   "cell_type": "code",
   "execution_count": 3,
   "metadata": {
    "collapsed": true
   },
   "outputs": [],
   "source": [
    "input_directory  = \"/data/chime/geo2/PROCESSED/NJ/AtlanticCity_Stage2/\"\n",
    "output_directory = \"/data/chime/geo2/PROCESSED/NJ/AtlanticCity_Stage3/\"\n",
    "zoneGeometry     = \"../EvacuationZones/NewJersey/NJ_AtlanticCity.shp\""
   ]
  },
  {
   "cell_type": "markdown",
   "metadata": {},
   "source": [
    "#### Import the ZoneA Geometry"
   ]
  },
  {
   "cell_type": "code",
   "execution_count": 4,
   "metadata": {},
   "outputs": [
    {
     "name": "stderr",
     "output_type": "stream",
     "text": [
      "/usr/local/lib/python3.5/dist-packages/ipykernel_launcher.py:3: DeprecationWarning: Collection.__next__() is buggy and will be removed in Fiona 2.0. Switch to `next(iter(collection))`.\n",
      "  This is separate from the ipykernel package so we can avoid doing imports until\n"
     ]
    },
    {
     "data": {
      "text/plain": [
       "True"
      ]
     },
     "execution_count": 4,
     "metadata": {},
     "output_type": "execute_result"
    }
   ],
   "source": [
    "import fiona, shapely; from osgeo import ogr; from shapely.geometry import mapping, shape\n",
    "c = fiona.open(zoneGeometry,'r')\n",
    "pol = c.next(); zone = shape(pol['geometry']).buffer(0); zone.is_valid"
   ]
  },
  {
   "cell_type": "markdown",
   "metadata": {},
   "source": [
    "#### Import the user metadata DF (Phasing this out)"
   ]
  },
  {
   "cell_type": "code",
   "execution_count": 5,
   "metadata": {
    "collapsed": true
   },
   "outputs": [],
   "source": [
    "_user_meta = pd.read_json(input_directory+'/temporal_clustered_user_meta.json')"
   ]
  },
  {
   "cell_type": "code",
   "execution_count": 6,
   "metadata": {},
   "outputs": [
    {
     "data": {
      "text/html": [
       "<div>\n",
       "<style>\n",
       "    .dataframe thead tr:only-child th {\n",
       "        text-align: right;\n",
       "    }\n",
       "\n",
       "    .dataframe thead th {\n",
       "        text-align: left;\n",
       "    }\n",
       "\n",
       "    .dataframe tbody tr th {\n",
       "        vertical-align: top;\n",
       "    }\n",
       "</style>\n",
       "<table border=\"1\" class=\"dataframe\">\n",
       "  <thead>\n",
       "    <tr style=\"text-align: right;\">\n",
       "      <th></th>\n",
       "      <th>home_cluster</th>\n",
       "      <th>home_cluster_coords</th>\n",
       "      <th>tweets</th>\n",
       "      <th>uid</th>\n",
       "      <th>user</th>\n",
       "    </tr>\n",
       "  </thead>\n",
       "  <tbody>\n",
       "    <tr>\n",
       "      <th>0</th>\n",
       "      <td>1.0</td>\n",
       "      <td>{\"coordinates\": [-73.69247457249924, 40.673434...</td>\n",
       "      <td>14231</td>\n",
       "      <td>75153082</td>\n",
       "      <td>Andrewthemark</td>\n",
       "    </tr>\n",
       "    <tr>\n",
       "      <th>1</th>\n",
       "      <td>2.0</td>\n",
       "      <td>{\"coordinates\": [-74.40499262545818, 39.386719...</td>\n",
       "      <td>3857</td>\n",
       "      <td>318103926</td>\n",
       "      <td>lanceeryann</td>\n",
       "    </tr>\n",
       "    <tr>\n",
       "      <th>2</th>\n",
       "      <td>1.0</td>\n",
       "      <td>{\"coordinates\": [-73.81296028845227, 40.776988...</td>\n",
       "      <td>3778</td>\n",
       "      <td>190488649</td>\n",
       "      <td>giaco1025</td>\n",
       "    </tr>\n",
       "  </tbody>\n",
       "</table>\n",
       "</div>"
      ],
      "text/plain": [
       "   home_cluster                                home_cluster_coords  tweets  \\\n",
       "0           1.0  {\"coordinates\": [-73.69247457249924, 40.673434...   14231   \n",
       "1           2.0  {\"coordinates\": [-74.40499262545818, 39.386719...    3857   \n",
       "2           1.0  {\"coordinates\": [-73.81296028845227, 40.776988...    3778   \n",
       "\n",
       "         uid           user  \n",
       "0   75153082  Andrewthemark  \n",
       "1  318103926    lanceeryann  \n",
       "2  190488649      giaco1025  "
      ]
     },
     "execution_count": 6,
     "metadata": {},
     "output_type": "execute_result"
    }
   ],
   "source": [
    "_user_meta = _user_meta.sort_index()\n",
    "_user_meta.head(3)"
   ]
  },
  {
   "cell_type": "markdown",
   "metadata": {},
   "source": [
    "## 0. Import all of the individual user dataframes"
   ]
  },
  {
   "cell_type": "code",
   "execution_count": 7,
   "metadata": {},
   "outputs": [
    {
     "name": "stdout",
     "output_type": "stream",
     "text": [
      "Found 239 users in /data/chime/geo2/PROCESSED/NJ/AtlanticCity_Stage2/\n"
     ]
    }
   ],
   "source": [
    "users_in = sorted(os.listdir(input_directory))\n",
    "users_in = [x for x in users_in if x != \"temporal_clustered_user_meta.json\"]\n",
    "print(\"Found {0} users in {1}\".format(len(users_in), input_directory))"
   ]
  },
  {
   "cell_type": "code",
   "execution_count": 8,
   "metadata": {
    "collapsed": true
   },
   "outputs": [],
   "source": [
    "def loader_function(args):\n",
    "    uFile, path, q = args\n",
    "    u = json.load(open(path+\"/\"+uFile,'r'))\n",
    "    tweets = []\n",
    "    for t in u['features']:\n",
    "        if t['geometry']:\n",
    "            t['properties']['geometry'] = shape(t['geometry'])\n",
    "        t['properties']['date'] = pd.Timestamp(t['properties']['date'])\n",
    "        tweets.append(t['properties'])\n",
    "    q.put(1)\n",
    "    return gpd.GeoDataFrame(tweets)"
   ]
  },
  {
   "cell_type": "code",
   "execution_count": 9,
   "metadata": {},
   "outputs": [
    {
     "name": "stderr",
     "output_type": "stream",
     "text": [
      "Processed: 239, 100%%"
     ]
    }
   ],
   "source": [
    "#Parallel runtime\n",
    "p = Pool(30)\n",
    "m = Manager()\n",
    "q = m.Queue()\n",
    "\n",
    "args = [(i, input_directory, q) for i in users_in]\n",
    "result = p.map_async(loader_function, args)\n",
    "\n",
    "# monitor loop\n",
    "while True:\n",
    "    if result.ready():\n",
    "        break\n",
    "    else:\n",
    "        size = q.qsize()\n",
    "        sys.stderr.write(\"\\rProcessed: {0}, {1:.3g}%\".format(size, size/len(args)*100))\n",
    "        time.sleep(0.5)\n",
    "sys.stderr.write(\"\\rProcessed: {0}, {1:.3g}%\".format(q.qsize(), q.qsize()/len(args)*100))\n",
    "users = result.get()\n",
    "p.close()"
   ]
  },
  {
   "cell_type": "code",
   "execution_count": 10,
   "metadata": {},
   "outputs": [],
   "source": [
    "users.sort( key=lambda x: len(x), reverse=True ) "
   ]
  },
  {
   "cell_type": "markdown",
   "metadata": {},
   "source": [
    "`users` is an array of user dataframes. Now find which users have _home locations_ in Zone A"
   ]
  },
  {
   "cell_type": "code",
   "execution_count": 11,
   "metadata": {},
   "outputs": [
    {
     "name": "stdout",
     "output_type": "stream",
     "text": [
      "182\n"
     ]
    },
    {
     "data": {
      "text/html": [
       "<div>\n",
       "<style>\n",
       "    .dataframe thead tr:only-child th {\n",
       "        text-align: right;\n",
       "    }\n",
       "\n",
       "    .dataframe thead th {\n",
       "        text-align: left;\n",
       "    }\n",
       "\n",
       "    .dataframe tbody tr th {\n",
       "        vertical-align: top;\n",
       "    }\n",
       "</style>\n",
       "<table border=\"1\" class=\"dataframe\">\n",
       "  <thead>\n",
       "    <tr style=\"text-align: right;\">\n",
       "      <th></th>\n",
       "      <th>cluster</th>\n",
       "      <th>cluster_center</th>\n",
       "      <th>coords</th>\n",
       "      <th>date</th>\n",
       "      <th>day_cluster</th>\n",
       "      <th>geo_delta</th>\n",
       "      <th>geometry</th>\n",
       "      <th>home_cluster_id</th>\n",
       "      <th>speed</th>\n",
       "      <th>text</th>\n",
       "      <th>time_delta</th>\n",
       "      <th>tweet_id</th>\n",
       "      <th>uid</th>\n",
       "      <th>user</th>\n",
       "    </tr>\n",
       "  </thead>\n",
       "  <tbody>\n",
       "    <tr>\n",
       "      <th>0</th>\n",
       "      <td>-1</td>\n",
       "      <td>null</td>\n",
       "      <td>[-74.38602445, 40.54273933]</td>\n",
       "      <td>2012-09-02 16:24:44+00:00</td>\n",
       "      <td>9</td>\n",
       "      <td>NaN</td>\n",
       "      <td>POINT (-74.38602444999999 40.54273933)</td>\n",
       "      <td>1.0</td>\n",
       "      <td>NaN</td>\n",
       "      <td>@_uptoPAR AC</td>\n",
       "      <td>NaN</td>\n",
       "      <td>242297015298560000</td>\n",
       "      <td>244000867</td>\n",
       "      <td>Cflo412</td>\n",
       "    </tr>\n",
       "  </tbody>\n",
       "</table>\n",
       "</div>"
      ],
      "text/plain": [
       "   cluster cluster_center                       coords  \\\n",
       "0       -1           null  [-74.38602445, 40.54273933]   \n",
       "\n",
       "                       date  day_cluster  geo_delta  \\\n",
       "0 2012-09-02 16:24:44+00:00            9        NaN   \n",
       "\n",
       "                                 geometry  home_cluster_id  speed  \\\n",
       "0  POINT (-74.38602444999999 40.54273933)              1.0    NaN   \n",
       "\n",
       "           text  time_delta            tweet_id        uid     user  \n",
       "0  @_uptoPAR AC         NaN  242297015298560000  244000867  Cflo412  "
      ]
     },
     "execution_count": 11,
     "metadata": {},
     "output_type": "execute_result"
    }
   ],
   "source": [
    "x = users[100]\n",
    "print(len(x))\n",
    "x.head(1)"
   ]
  },
  {
   "cell_type": "code",
   "execution_count": 12,
   "metadata": {},
   "outputs": [
    {
     "data": {
      "text/plain": [
       "False"
      ]
     },
     "execution_count": 12,
     "metadata": {},
     "output_type": "execute_result"
    }
   ],
   "source": [
    "def get_home_cluster_center(userDF):\n",
    "    return shape(json.loads(userDF.query('cluster=='+str(userDF.home_cluster_id.values[0])).cluster_center.values[0]))\n",
    "\n",
    "get_home_cluster_center(users[0]).within(zone)"
   ]
  },
  {
   "cell_type": "markdown",
   "metadata": {},
   "source": [
    "## 1. Determine who's home cluster center is in ZONE"
   ]
  },
  {
   "cell_type": "code",
   "execution_count": 13,
   "metadata": {
    "collapsed": true
   },
   "outputs": [],
   "source": [
    "def insideZone(p):\n",
    "    if p==None:\n",
    "        return False\n",
    "    else:\n",
    "        return p.within(zone)"
   ]
  },
  {
   "cell_type": "code",
   "execution_count": 14,
   "metadata": {},
   "outputs": [
    {
     "name": "stderr",
     "output_type": "stream",
     "text": [
      "Done...Identified 37 vulnerable users and 202 non-vulnerable"
     ]
    }
   ],
   "source": [
    "vuln = []\n",
    "non_vuln = []\n",
    "for idx, u in enumerate(users):\n",
    "    if (insideZone(get_home_cluster_center(u))):\n",
    "        vuln.append(u)\n",
    "    else:\n",
    "        non_vuln.append(u)\n",
    "    sys.stderr.write(\"\\r\"+str(idx+1))\n",
    "sys.stderr.write(\"\\rDone...\")\n",
    "sys.stderr.write(\"Identified {0} vulnerable users and {1} non-vulnerable\".format(len(vuln),len(non_vuln)))"
   ]
  },
  {
   "cell_type": "code",
   "execution_count": 17,
   "metadata": {},
   "outputs": [],
   "source": [
    "if not os.path.exists(output_directory):\n",
    "    os.mkdir(output_directory)"
   ]
  },
  {
   "cell_type": "markdown",
   "metadata": {},
   "source": [
    "## 2. Write out just the GeoVulnerable, just in case we need them for something later"
   ]
  },
  {
   "cell_type": "code",
   "execution_count": 18,
   "metadata": {
    "collapsed": true
   },
   "outputs": [],
   "source": [
    "def safe_mapping(p):\n",
    "    if p==None or np.isnan(p).any():\n",
    "        return None\n",
    "    else:\n",
    "        return mapping(p)\n",
    "def safe_json_export(args):\n",
    "    df, path = args\n",
    "    df = df.copy()\n",
    "    uName = df.head(1).user.values[0].lower()\n",
    "    df['date'] = df['date'].apply(lambda t: datetime.datetime.strftime(t,'%Y-%m-%dT%H:%M:%SZ'))\n",
    "\n",
    "    clean = df.where((pd.notnull(df)), None)\n",
    "    geojson = {\"type\":\"FeatureCollection\",\"features\":[]}\n",
    "    for _, row in clean.iterrows():\n",
    "        geom = safe_mapping(row.geometry)\n",
    "        feature = {'type':'Feature',\n",
    "                   'geometry':geom,\n",
    "                   'properties':row.to_dict()\n",
    "                    }\n",
    "        del feature['properties']['geometry']\n",
    "        geojson['features'].append(feature)\n",
    "    \n",
    "    with open(path+\"/\"+uName+'.geojson','w') as oFile:\n",
    "        json.dump(geojson, oFile) "
   ]
  },
  {
   "cell_type": "code",
   "execution_count": 16,
   "metadata": {},
   "outputs": [
    {
     "name": "stderr",
     "output_type": "stream",
     "text": [
      "37 processed"
     ]
    }
   ],
   "source": [
    "for idx, u in enumerate(vuln):\n",
    "    safe_json_export((u,output_directory))\n",
    "    sys.stderr.write(\"\\r{0} processed\".format(idx+1))"
   ]
  },
  {
   "cell_type": "markdown",
   "metadata": {},
   "source": [
    "# 3. Prepare for Analysis\n",
    "\n",
    "All of these users should already exist in a format prepared for visualizing, these users can be pasted into Google Sheets"
   ]
  },
  {
   "cell_type": "code",
   "execution_count": 15,
   "metadata": {
    "scrolled": false
   },
   "outputs": [
    {
     "name": "stdout",
     "output_type": "stream",
     "text": [
      "aclive35\n",
      "adalicandro\n",
      "alanjonesbeats\n",
      "alreadywifedup1\n",
      "anniexdarling\n",
      "bellax3\n",
      "chuck430\n",
      "chugggss\n",
      "coachhollywoodp\n",
      "eazy_sims\n",
      "elfilosofo92\n",
      "eyeofh\n",
      "gacafone\n",
      "inspired_view\n",
      "jerodlhoward\n",
      "jl092479\n",
      "jockeymajorac\n",
      "joeythefox323\n",
      "jpr021\n",
      "keithpwhite\n",
      "leeuhbfab\n",
      "lynd5969\n",
      "maarieemaariee_\n",
      "markamccormack\n",
      "mmmmarguerite\n",
      "newjerseymma\n",
      "newjerseypoker\n",
      "nyr11messier\n",
      "phantasmosphere\n",
      "redjazz43\n",
      "rif_raff13\n",
      "seanplanesmusic\n",
      "skinnyminnieee_\n",
      "summershinystar\n",
      "tabriahthough\n",
      "thejkinz\n",
      "tonyventnor\n"
     ]
    }
   ],
   "source": [
    "for uName in sorted([u.user[0].lower() for u in vuln]):\n",
    "    print(uName)"
   ]
  },
  {
   "cell_type": "code",
   "execution_count": 16,
   "metadata": {},
   "outputs": [
    {
     "data": {
      "text/plain": [
       "37"
      ]
     },
     "execution_count": 16,
     "metadata": {},
     "output_type": "execute_result"
    }
   ],
   "source": [
    "len(vuln)"
   ]
  },
  {
   "cell_type": "code",
   "execution_count": 17,
   "metadata": {},
   "outputs": [
    {
     "name": "stderr",
     "output_type": "stream",
     "text": [
      "36"
     ]
    }
   ],
   "source": [
    "def good_storm_tweets(userDF):\n",
    "    return len(userDF.query(\"date > 201210300000 & date < 201210310000\")) \n",
    "    \n",
    "good_data = []\n",
    "res = []\n",
    "for idx, u in enumerate(vuln):\n",
    "    if good_storm_tweets(u) > 2:\n",
    "        good_data.append(u)\n",
    "    \n",
    "    sys.stderr.write(\"\\r\"+str(idx))"
   ]
  },
  {
   "cell_type": "code",
   "execution_count": 18,
   "metadata": {},
   "outputs": [
    {
     "data": {
      "text/plain": [
       "11"
      ]
     },
     "execution_count": 18,
     "metadata": {},
     "output_type": "execute_result"
    }
   ],
   "source": [
    "len(good_data)"
   ]
  },
  {
   "cell_type": "code",
   "execution_count": 23,
   "metadata": {},
   "outputs": [
    {
     "name": "stderr",
     "output_type": "stream",
     "text": [
      "\r",
      "0\r",
      "1\r",
      "2\r",
      "3\r",
      "4\r",
      "5\r",
      "6\r",
      "7\r",
      "8\r",
      "9\r",
      "10\r",
      "11\r",
      "12\r",
      "13\r",
      "14\r",
      "15\r",
      "16\r",
      "17\r",
      "18\r",
      "19\r",
      "20\r",
      "21\r",
      "22\r",
      "23"
     ]
    },
    {
     "name": "stdout",
     "output_type": "stream",
     "text": [
      "alanjonesbeats\n",
      "alreadywifedup1\n",
      "bellax3\n",
      "chugggss\n",
      "leeuhbfab\n",
      "lynd5969\n",
      "nyr11messier\n",
      "redjazz43\n",
      "rif_raff13\n",
      "tabriahthough\n",
      "thejkinz\n"
     ]
    },
    {
     "name": "stderr",
     "output_type": "stream",
     "text": [
      "\r",
      "24\r",
      "25\r",
      "26\r",
      "27\r",
      "28\r",
      "29\r",
      "30\r",
      "31\r",
      "32\r",
      "33\r",
      "34\r",
      "35\r",
      "36\r",
      "11"
     ]
    }
   ],
   "source": [
    "def good_storm_tweets(userDF):\n",
    "    return len(userDF.query(\"date > 201210300000 & date < 201210310000\")) \n",
    "    \n",
    "good_data = []\n",
    "res = []\n",
    "for idx, u in enumerate(vuln):\n",
    "    if good_storm_tweets(u) > 2:\n",
    "        good_data.append(u)\n",
    "    \n",
    "    sys.stderr.write(\"\\r\"+str(idx))\n",
    "\n",
    "sys.stderr.write(\"\\r\"+str(len(good_data)))\n",
    "for uName in sorted([u.user[0].lower() for u in good_data]):\n",
    "    print(uName)"
   ]
  },
  {
   "cell_type": "markdown",
   "metadata": {
    "collapsed": true
   },
   "source": [
    "# Create rules file from UID"
   ]
  },
  {
   "cell_type": "code",
   "execution_count": 19,
   "metadata": {},
   "outputs": [],
   "source": [
    "rules = []\n",
    "these_rules = []\n",
    "for idx,u in enumerate(vuln):\n",
    "\n",
    "    rule = \"from:\"+u.uid[0]\n",
    "    these_rules.append(rule)\n",
    "    \n",
    "    if idx%25==0 and idx>0:\n",
    "        rules.append(\" OR \".join(these_rules))\n",
    "        these_rules = []\n",
    "\n",
    "output = []\n",
    "for r in rules:\n",
    "    output.append({\"value\":r})\n",
    "\n",
    "with open('../../GNIP/Sandy/NJ_GeoVulnerable_Contextual/rules.json','w') as oFile:\n",
    "    json.dump(output, oFile)"
   ]
  },
  {
   "cell_type": "code",
   "execution_count": null,
   "metadata": {
    "collapsed": true
   },
   "outputs": [],
   "source": []
  }
 ],
 "metadata": {
  "kernelspec": {
   "display_name": "Python 3",
   "language": "python",
   "name": "python3"
  },
  "language_info": {
   "codemirror_mode": {
    "name": "ipython",
    "version": 3
   },
   "file_extension": ".py",
   "mimetype": "text/x-python",
   "name": "python",
   "nbconvert_exporter": "python",
   "pygments_lexer": "ipython3",
   "version": "3.5.2"
  }
 },
 "nbformat": 4,
 "nbformat_minor": 1
}
