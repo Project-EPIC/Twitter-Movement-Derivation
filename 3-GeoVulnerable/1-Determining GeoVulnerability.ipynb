{
 "cells": [
  {
   "cell_type": "markdown",
   "metadata": {},
   "source": [
    "# Are users home locations in Vulnerable Locations?"
   ]
  },
  {
   "cell_type": "code",
   "execution_count": 1,
   "metadata": {
    "collapsed": true
   },
   "outputs": [],
   "source": [
    "import pandas as pd; import numpy as np; from multiprocessing import Pool, Manager; import numpy as np; import geopandas as gpd\n",
    "import matplotlib.pyplot as plt; import seaborn as sns\n",
    "import matplotlib, os, json, sys, time, datetime\n",
    "from bson import json_util"
   ]
  },
  {
   "cell_type": "code",
   "execution_count": 2,
   "metadata": {
    "collapsed": true
   },
   "outputs": [],
   "source": [
    "input_directory = \"/data/chime/geo/sandy_new_jersey_coastline_users_stage2\"\n",
    "output_directory = \"/data/chime/geo/sandy_new_jersey_coastline_users_geovulnerable\""
   ]
  },
  {
   "cell_type": "markdown",
   "metadata": {},
   "source": [
    "#### Import the ZoneA Geometry"
   ]
  },
  {
   "cell_type": "code",
   "execution_count": 3,
   "metadata": {
    "collapsed": false
   },
   "outputs": [
    {
     "data": {
      "text/plain": [
       "True"
      ]
     },
     "execution_count": 3,
     "metadata": {},
     "output_type": "execute_result"
    }
   ],
   "source": [
    "import fiona, shapely; from osgeo import ogr; from shapely.geometry import mapping, shape\n",
    "c = fiona.open('../EvacuationZones/New_Jersey/coastline.shp','r')\n",
    "pol = c.next(); zoneA = shape(pol['geometry']).buffer(0); zoneA.is_valid"
   ]
  },
  {
   "cell_type": "markdown",
   "metadata": {},
   "source": [
    "#### Import the user metadata DF (Phasing this out)"
   ]
  },
  {
   "cell_type": "code",
   "execution_count": 4,
   "metadata": {
    "collapsed": true
   },
   "outputs": [],
   "source": [
    "_user_meta = pd.read_json(input_directory+'/temporal_clustered_user_meta.json')"
   ]
  },
  {
   "cell_type": "code",
   "execution_count": 5,
   "metadata": {
    "collapsed": false
   },
   "outputs": [
    {
     "data": {
      "text/html": [
       "<div>\n",
       "<table border=\"1\" class=\"dataframe\">\n",
       "  <thead>\n",
       "    <tr style=\"text-align: right;\">\n",
       "      <th></th>\n",
       "      <th>home_cluster</th>\n",
       "      <th>home_cluster_coords</th>\n",
       "      <th>tweets</th>\n",
       "      <th>uid</th>\n",
       "      <th>user</th>\n",
       "    </tr>\n",
       "  </thead>\n",
       "  <tbody>\n",
       "    <tr>\n",
       "      <th>0</th>\n",
       "      <td>1.0</td>\n",
       "      <td>{\"type\": \"Point\", \"coordinates\": [-73.69255456...</td>\n",
       "      <td>14231</td>\n",
       "      <td>75153082</td>\n",
       "      <td>Andrewthemark</td>\n",
       "    </tr>\n",
       "    <tr>\n",
       "      <th>1</th>\n",
       "      <td>2.0</td>\n",
       "      <td>{\"type\": \"Point\", \"coordinates\": [-74.40503166...</td>\n",
       "      <td>3857</td>\n",
       "      <td>318103926</td>\n",
       "      <td>lanceeryann</td>\n",
       "    </tr>\n",
       "    <tr>\n",
       "      <th>2</th>\n",
       "      <td>1.0</td>\n",
       "      <td>{\"type\": \"Point\", \"coordinates\": [-73.81305625...</td>\n",
       "      <td>3778</td>\n",
       "      <td>190488649</td>\n",
       "      <td>giaco1025</td>\n",
       "    </tr>\n",
       "  </tbody>\n",
       "</table>\n",
       "</div>"
      ],
      "text/plain": [
       "   home_cluster                                home_cluster_coords  tweets  \\\n",
       "0           1.0  {\"type\": \"Point\", \"coordinates\": [-73.69255456...   14231   \n",
       "1           2.0  {\"type\": \"Point\", \"coordinates\": [-74.40503166...    3857   \n",
       "2           1.0  {\"type\": \"Point\", \"coordinates\": [-73.81305625...    3778   \n",
       "\n",
       "         uid           user  \n",
       "0   75153082  Andrewthemark  \n",
       "1  318103926    lanceeryann  \n",
       "2  190488649      giaco1025  "
      ]
     },
     "execution_count": 5,
     "metadata": {},
     "output_type": "execute_result"
    }
   ],
   "source": [
    "_user_meta = _user_meta.sort_index()\n",
    "_user_meta.head(3)"
   ]
  },
  {
   "cell_type": "markdown",
   "metadata": {},
   "source": [
    "## 0. Import all of the individual user dataframes"
   ]
  },
  {
   "cell_type": "code",
   "execution_count": 6,
   "metadata": {
    "collapsed": false
   },
   "outputs": [
    {
     "name": "stdout",
     "output_type": "stream",
     "text": [
      "Found 1160 users in /data/chime/geo/sandy_new_jersey_coastline_users_stage2\n"
     ]
    }
   ],
   "source": [
    "users_in = sorted(os.listdir(input_directory))\n",
    "users_in = [x for x in users_in if x != \"temporal_clustered_user_meta.json\"]\n",
    "print(\"Found {0} users in {1}\".format(len(users_in), input_directory))"
   ]
  },
  {
   "cell_type": "code",
   "execution_count": 7,
   "metadata": {
    "collapsed": true
   },
   "outputs": [],
   "source": [
    "def loader_function(args):\n",
    "    uFile, path, q = args\n",
    "    u = json.load(open(path+\"/\"+uFile,'r'))\n",
    "    tweets = []\n",
    "    for t in u['features']:\n",
    "        if t['geometry']:\n",
    "            t['properties']['geometry'] = shape(t['geometry'])\n",
    "        t['properties']['date'] = pd.Timestamp(t['properties']['date'])\n",
    "        tweets.append(t['properties'])\n",
    "    q.put(1)\n",
    "    return gpd.GeoDataFrame(tweets)"
   ]
  },
  {
   "cell_type": "code",
   "execution_count": 8,
   "metadata": {
    "collapsed": false
   },
   "outputs": [
    {
     "name": "stderr",
     "output_type": "stream",
     "text": [
      "Processed: 1160, 100%"
     ]
    }
   ],
   "source": [
    "#Parallel runtime\n",
    "p = Pool(30)\n",
    "m = Manager()\n",
    "q = m.Queue()\n",
    "\n",
    "args = [(i, input_directory, q) for i in users_in]\n",
    "result = p.map_async(loader_function, args)\n",
    "\n",
    "# monitor loop\n",
    "while True:\n",
    "    if result.ready():\n",
    "        break\n",
    "    else:\n",
    "        size = q.qsize()\n",
    "        sys.stderr.write(\"\\rProcessed: {0}, {1:.3g}%\".format(size, size/len(args)*100))\n",
    "        time.sleep(0.5)\n",
    "sys.stderr.write(\"\\rProcessed: {0}, {1:.3g}%\".format(q.qsize(), q.qsize()/len(args)*100))\n",
    "users = result.get()\n",
    "p.close()"
   ]
  },
  {
   "cell_type": "code",
   "execution_count": 9,
   "metadata": {
    "collapsed": false
   },
   "outputs": [],
   "source": [
    "users.sort( key=lambda x: len(x), reverse=True ) "
   ]
  },
  {
   "cell_type": "markdown",
   "metadata": {},
   "source": [
    "`users` is an array of user dataframes. Now find which users have _home locations_ in Zone A"
   ]
  },
  {
   "cell_type": "code",
   "execution_count": 10,
   "metadata": {
    "collapsed": false
   },
   "outputs": [
    {
     "name": "stdout",
     "output_type": "stream",
     "text": [
      "684\n"
     ]
    },
    {
     "data": {
      "text/html": [
       "<div>\n",
       "<table border=\"1\" class=\"dataframe\">\n",
       "  <thead>\n",
       "    <tr style=\"text-align: right;\">\n",
       "      <th></th>\n",
       "      <th>cluster</th>\n",
       "      <th>cluster_center</th>\n",
       "      <th>coords</th>\n",
       "      <th>date</th>\n",
       "      <th>day_cluster</th>\n",
       "      <th>geo_delta</th>\n",
       "      <th>geometry</th>\n",
       "      <th>home_cluster_id</th>\n",
       "      <th>speed</th>\n",
       "      <th>text</th>\n",
       "      <th>time_delta</th>\n",
       "      <th>tweet_id</th>\n",
       "      <th>uid</th>\n",
       "      <th>user</th>\n",
       "    </tr>\n",
       "  </thead>\n",
       "  <tbody>\n",
       "    <tr>\n",
       "      <th>0</th>\n",
       "      <td>1</td>\n",
       "      <td>{\"type\": \"Point\", \"coordinates\": [-74.42105253...</td>\n",
       "      <td>[-74.42105253, 39.37529605]</td>\n",
       "      <td>2012-09-01 16:11:17+00:00</td>\n",
       "      <td>9</td>\n",
       "      <td>NaN</td>\n",
       "      <td>POINT (-74.42105253 39.37529605)</td>\n",
       "      <td>5.0</td>\n",
       "      <td>NaN</td>\n",
       "      <td>Out to eat with my grandmom (:</td>\n",
       "      <td>NaN</td>\n",
       "      <td>241931239983046656</td>\n",
       "      <td>265033252</td>\n",
       "      <td>Hottoddy___</td>\n",
       "    </tr>\n",
       "  </tbody>\n",
       "</table>\n",
       "</div>"
      ],
      "text/plain": [
       "   cluster                                     cluster_center  \\\n",
       "0        1  {\"type\": \"Point\", \"coordinates\": [-74.42105253...   \n",
       "\n",
       "                        coords                      date  day_cluster  \\\n",
       "0  [-74.42105253, 39.37529605] 2012-09-01 16:11:17+00:00            9   \n",
       "\n",
       "   geo_delta                          geometry  home_cluster_id  speed  \\\n",
       "0        NaN  POINT (-74.42105253 39.37529605)              5.0    NaN   \n",
       "\n",
       "                             text  time_delta            tweet_id        uid  \\\n",
       "0  Out to eat with my grandmom (:         NaN  241931239983046656  265033252   \n",
       "\n",
       "          user  \n",
       "0  Hottoddy___  "
      ]
     },
     "execution_count": 10,
     "metadata": {},
     "output_type": "execute_result"
    }
   ],
   "source": [
    "x = users[100]\n",
    "print(len(x))\n",
    "x.head(1)"
   ]
  },
  {
   "cell_type": "code",
   "execution_count": 11,
   "metadata": {
    "collapsed": false
   },
   "outputs": [
    {
     "data": {
      "text/plain": [
       "False"
      ]
     },
     "execution_count": 11,
     "metadata": {},
     "output_type": "execute_result"
    }
   ],
   "source": [
    "def get_home_cluster_center(userDF):\n",
    "    return shape(json.loads(userDF.query('cluster=='+str(userDF.home_cluster_id.values[0])).cluster_center.values[0]))\n",
    "\n",
    "get_home_cluster_center(users[0]).within(zoneA)"
   ]
  },
  {
   "cell_type": "markdown",
   "metadata": {},
   "source": [
    "## 1. Determine who's home cluster center is in Zone A"
   ]
  },
  {
   "cell_type": "code",
   "execution_count": 12,
   "metadata": {
    "collapsed": true
   },
   "outputs": [],
   "source": [
    "def insideZoneA(p):\n",
    "    if p==None:\n",
    "        return False\n",
    "    else:\n",
    "        return p.within(zoneA)"
   ]
  },
  {
   "cell_type": "code",
   "execution_count": 13,
   "metadata": {
    "collapsed": false
   },
   "outputs": [
    {
     "name": "stderr",
     "output_type": "stream",
     "text": [
      "Done...Identified 356 vulnerable users and 804 non-vulnerable"
     ]
    }
   ],
   "source": [
    "vuln = []\n",
    "non_vuln = []\n",
    "for idx, u in enumerate(users):\n",
    "    if (insideZoneA(get_home_cluster_center(u))):\n",
    "        vuln.append(u)\n",
    "    else:\n",
    "        non_vuln.append(u)\n",
    "    sys.stderr.write(\"\\r\"+str(idx+1))\n",
    "sys.stderr.write(\"\\rDone...\")\n",
    "sys.stderr.write(\"Identified {0} vulnerable users and {1} non-vulnerable\".format(len(vuln),len(non_vuln)))"
   ]
  },
  {
   "cell_type": "code",
   "execution_count": 14,
   "metadata": {
    "collapsed": false
   },
   "outputs": [],
   "source": [
    "if not os.path.exists(output_directory):\n",
    "    os.mkdir(output_directory)"
   ]
  },
  {
   "cell_type": "markdown",
   "metadata": {},
   "source": [
    "## 2. Write out just the GeoVulnerable, just in case we need them for something later"
   ]
  },
  {
   "cell_type": "code",
   "execution_count": 15,
   "metadata": {
    "collapsed": true
   },
   "outputs": [],
   "source": [
    "def safe_mapping(p):\n",
    "    if p==None or np.isnan(p).any():\n",
    "        return None\n",
    "    else:\n",
    "        return mapping(p)\n",
    "def safe_json_export(args):\n",
    "    df, path = args\n",
    "    df = df.copy()\n",
    "    uName = df.head(1).user.values[0].lower()\n",
    "    df['date'] = df['date'].apply(lambda t: datetime.datetime.strftime(t,'%Y-%m-%dT%H:%M:%SZ'))\n",
    "\n",
    "    clean = df.where((pd.notnull(df)), None)\n",
    "    geojson = {\"type\":\"FeatureCollection\",\"features\":[]}\n",
    "    for _, row in clean.iterrows():\n",
    "        geom = safe_mapping(row.geometry)\n",
    "        feature = {'type':'Feature',\n",
    "                   'geometry':geom,\n",
    "                   'properties':row.to_dict()\n",
    "                    }\n",
    "        del feature['properties']['geometry']\n",
    "        geojson['features'].append(feature)\n",
    "    \n",
    "    with open(path+\"/\"+uName+'.geojson','w') as oFile:\n",
    "        json.dump(geojson, oFile) "
   ]
  },
  {
   "cell_type": "code",
   "execution_count": 16,
   "metadata": {
    "collapsed": false
   },
   "outputs": [
    {
     "name": "stderr",
     "output_type": "stream",
     "text": [
      "356 processed"
     ]
    }
   ],
   "source": [
    "for idx, u in enumerate(vuln):\n",
    "    safe_json_export((u,output_directory))\n",
    "    sys.stderr.write(\"\\r{0} processed\".format(idx+1))"
   ]
  },
  {
   "cell_type": "markdown",
   "metadata": {},
   "source": [
    "# 3. Prepare for Analysis\n",
    "\n",
    "All of these users should already exist in a format prepared for visualizing, these users can be pasted into Google Sheets"
   ]
  },
  {
   "cell_type": "code",
   "execution_count": 17,
   "metadata": {
    "collapsed": false,
    "scrolled": false
   },
   "outputs": [
    {
     "name": "stdout",
     "output_type": "stream",
     "text": [
      "08243\n",
      "1stfitnessmc\n",
      "_asvplady\n",
      "_daniellevaldez\n",
      "aclive35\n",
      "adtwenty7\n",
      "aimee_sh\n",
      "alanjonesbeats\n",
      "alex_florke\n",
      "alexrosenkranz\n",
      "alreadywifedup1\n",
      "alyssagabrielaa\n",
      "amandaatar\n",
      "amandastilts\n",
      "amberaalonzo\n",
      "ameliaianiro\n",
      "americabheleem\n",
      "amkowski11\n",
      "amyy1026\n",
      "amyywalshh\n",
      "angie_was_heree\n",
      "anniexdarling\n",
      "appiemallous\n",
      "aprilydavis\n",
      "arozcoy\n",
      "aschwerzy\n",
      "asianbrizl3\n",
      "ayo_tahj\n",
      "b_bott84\n",
      "b_mazzz\n",
      "badblasian\n",
      "barbershairport\n",
      "bbygrl_xoxo\n",
      "bbytripk\n",
      "beanie5469\n",
      "bellax3\n",
      "belmardays\n",
      "benirvine\n",
      "billyhoward423\n",
      "bkhomesteader\n",
      "bleedblue0415\n",
      "brian_perks\n",
      "brii_fi\n",
      "brittni_linn\n",
      "brooklynbridgex\n",
      "broxlan\n",
      "brucknerchase\n",
      "brycenihill\n",
      "c_it_my_way\n",
      "caittfoley\n",
      "calllmejas_\n",
      "camposr1979\n",
      "carleylarrison\n",
      "caseadilia\n",
      "catymogo\n",
      "chandlernichols\n",
      "cheerbowsndhoes\n",
      "chettyoubetcha\n",
      "chippiesue\n",
      "chris22_steve\n",
      "chrisalicious85\n",
      "chrissie115\n",
      "chrisstineey\n",
      "chuck430\n",
      "chugggss\n",
      "claire_reffitt\n",
      "cmccluskey18\n",
      "coachhollywoodp\n",
      "coastalartists\n",
      "cookecapemay\n",
      "coolinlike_\n",
      "coolkym\n",
      "courtneyhabick\n",
      "cravejams\n",
      "creamstaffa\n",
      "cwalks3\n",
      "cybernjm\n",
      "d_fitz_187\n",
      "daddyjerzey\n",
      "damageathletics\n",
      "daniellemillen1\n",
      "darrianrojas\n",
      "debhanaway\n",
      "deelooch\n",
      "defrizzel\n",
      "dinamarie8\n",
      "dinofa\n",
      "djphilnappen\n",
      "djsonatra\n",
      "dominicksolazzo\n",
      "donovanism\n",
      "doubythegod\n",
      "drewjerzy\n",
      "drumbr4\n",
      "drumplayer67\n",
      "dudestein1958\n",
      "dustinjkoch\n",
      "dustinzinnj\n",
      "dwells6222\n",
      "e_kevin_tron\n",
      "eatmeimasian\n",
      "eazy_sims\n",
      "eengirlsimon\n",
      "elena_hart\n",
      "elfilosofo92\n",
      "elizuhbitch\n",
      "emilyy_walsh\n",
      "emmuhhlee_k\n",
      "erica_rae_\n",
      "erin_breza\n",
      "fail_general\n",
      "faithnapolitano\n",
      "fay_bes\n",
      "fboardingham\n",
      "filmfresser\n",
      "fmz81\n",
      "francocopuff\n",
      "freakyyyg\n",
      "fredbee22\n",
      "gabbgonzalez_\n",
      "gabbieniemczyk\n",
      "gianizg\n",
      "giggleyjordan\n",
      "ginaiannace\n",
      "giovannigmackg\n",
      "greekiegrl25\n",
      "greenstrings\n",
      "gregparadee\n",
      "haley__brooke\n",
      "havebrandon\n",
      "hewitt_ray\n",
      "heyimgina\n",
      "hiimmarcella\n",
      "hottoddy___\n",
      "i_am_decoy_man\n",
      "iamhannahcesen\n",
      "ienvision\n",
      "ikhoibui\n",
      "inspired_view\n",
      "itsbbridget\n",
      "izztheboss_xv\n",
      "james_thompsonn\n",
      "jandreskixo\n",
      "jarch_\n",
      "jasontbedell\n",
      "jayjohnsonlikes\n",
      "jayrelyea\n",
      "jdfromugc\n",
      "jeff_revelle\n",
      "jeffscottgould\n",
      "jennsurvive\n",
      "jeremygano\n",
      "jerodlhoward\n",
      "jessj0nez\n",
      "jesssgilligan\n",
      "jildofaggins\n",
      "jjustj\n",
      "jl092479\n",
      "jobon0\n",
      "jockeymajorac\n",
      "joeesmith19\n",
      "joeythefox323\n",
      "johnnykucera\n",
      "johnridgeway\n",
      "johnschmelz\n",
      "joniclare\n",
      "jordandebarth\n",
      "joseph_maurer\n",
      "joshua_dwight\n",
      "jpr021\n",
      "jsthunder25\n",
      "justinmcc345\n",
      "justmeelexi001\n",
      "k8boyle\n",
      "kaitlyn89\n",
      "karlymcnamara\n",
      "kateflaherty24\n",
      "katmaloney1\n",
      "kaylajeanx5\n",
      "kcgirl2003\n",
      "keithpwhite\n",
      "kellybrownizzle\n",
      "kellycsogi\n",
      "kenspenlen\n",
      "kerryweiland\n",
      "khomannn\n",
      "khopkinsapp\n",
      "kirstynshibla\n",
      "kmart890\n",
      "korobellis20\n",
      "kr3at\n",
      "kristensully88\n",
      "krys1o_\n",
      "la_frin\n",
      "laara_pereira\n",
      "lalaurenashleyy\n",
      "lanceeryann\n",
      "laurenbrattli\n",
      "laurensanti18\n",
      "layshea24\n",
      "leannesamm\n",
      "leeuhbfab\n",
      "lexi_derrickson\n",
      "lildevos\n",
      "lisfink\n",
      "littlenicky208\n",
      "lobsterrob\n",
      "loper30030x\n",
      "louie_orlando\n",
      "love192701\n",
      "luis_minor7th\n",
      "luisfilipe_7\n",
      "lya_anderson\n",
      "lynd5969\n",
      "lynsiepatterson\n",
      "maarieemaariee_\n",
      "mad_ballerr_max\n",
      "madsmilees\n",
      "magikbus\n",
      "mahal_wilson\n",
      "makalieholman\n",
      "manuelemy\n",
      "marieshantee\n",
      "markamccormack\n",
      "marshtompgombos\n",
      "masiabooskie\n",
      "matt_leo_18\n",
      "mattcrisalli\n",
      "mattphadams\n",
      "mattyf410\n",
      "mdcspace\n",
      "mdrew_nelson\n",
      "mediagiraffes\n",
      "mhoran921\n",
      "michaelludwig21\n",
      "michaelsprauld2\n",
      "mikec0rnelius\n",
      "mikecoyneee\n",
      "miltonmorais\n",
      "miquellabaker\n",
      "mizlizzy\n",
      "mmmmarguerite\n",
      "moesalama\n",
      "molllyx0\n",
      "moonlightchef\n",
      "mrmartyparty\n",
      "mrvillainc\n",
      "msrockherhips\n",
      "mynameisluissss\n",
      "newjerseymma\n",
      "newjerseypoker\n",
      "nickyyleigh\n",
      "nigelo123\n",
      "niiicolecapurso\n",
      "nj_aviator\n",
      "ohheyannax3\n",
      "oliviasacaridis\n",
      "omgitssjadee\n",
      "onacitaveoz\n",
      "ottomcvey\n",
      "pattymaldjian\n",
      "paulseyffart\n",
      "pg_yolo\n",
      "phantasmosphere\n",
      "phatdaddyb2\n",
      "pinkishhoodie\n",
      "pjkelly18\n",
      "pjsjr1\n",
      "plotra\n",
      "puckstoppin34\n",
      "pulleez\n",
      "quinnvaticanox3\n",
      "r_l_c\n",
      "rachelambrose1\n",
      "rayellisiii\n",
      "realjmac247\n",
      "rebecca_weiner\n",
      "rebecccamarilyn\n",
      "redjazz43\n",
      "rfollers\n",
      "richardtfalls\n",
      "rif_raff13\n",
      "rufftooth\n",
      "ruiz22\n",
      "ryandubicki\n",
      "rydoyylee\n",
      "rynochaser88\n",
      "sallybiase\n",
      "samantha_lynn07\n",
      "samgabbay\n",
      "sammaye\n",
      "sarnooo\n",
      "sazzy_zen\n",
      "sbonora35\n",
      "sclovetales\n",
      "seanplanesmusic\n",
      "seanricany\n",
      "seresagrillo\n",
      "shainahutton\n",
      "shawniemikes\n",
      "shell_babii\n",
      "sk8tergirl4321\n",
      "skinnyminnieee_\n",
      "slidewayz4122\n",
      "socialgenius\n",
      "stephentobias0\n",
      "suckstobeshadow\n",
      "summers_shaun\n",
      "summershinystar\n",
      "surfer4lifenj\n",
      "susanrdunn\n",
      "sutahonthebeach\n",
      "sweetdaddyds\n",
      "swimngolf\n",
      "synister3314\n",
      "taaywalsh\n",
      "tabriahthough\n",
      "tash_larson\n",
      "tastemy_ink\n",
      "tayylloor922\n",
      "tcrimz\n",
      "tessabadrabo\n",
      "th3_stat3m3nt\n",
      "thatbitch_mamas\n",
      "thatscassforya\n",
      "the_goose_609\n",
      "thedean24\n",
      "theepinkprinces\n",
      "theescottyutz\n",
      "thejkinz\n",
      "thejryayo\n",
      "thelarryshows\n",
      "thelizziebean\n",
      "therat959\n",
      "theresaaaa_32\n",
      "theresafowler\n",
      "tindysly\n",
      "tinithatsme\n",
      "tocororo1931\n",
      "tonyventnor\n",
      "traceyknits\n",
      "tracystag\n",
      "tubbysofly\n",
      "two4onebill\n",
      "valentinisgene\n",
      "veryprive\n",
      "victoriakat1\n",
      "whatsupstevee\n",
      "willrotolo11\n",
      "x0x0xj\n",
      "xosarahbearaxo\n",
      "yanni_david\n",
      "yoasisyogurt\n",
      "young_kevc\n",
      "zachbarkus\n",
      "zackhoff3\n"
     ]
    }
   ],
   "source": [
    "for uName in sorted([u.user[0].lower() for u in vuln]):\n",
    "    print(uName)"
   ]
  },
  {
   "cell_type": "code",
   "execution_count": 18,
   "metadata": {
    "collapsed": false
   },
   "outputs": [
    {
     "data": {
      "text/plain": [
       "356"
      ]
     },
     "execution_count": 18,
     "metadata": {},
     "output_type": "execute_result"
    }
   ],
   "source": [
    "len(vuln)"
   ]
  },
  {
   "cell_type": "markdown",
   "metadata": {
    "collapsed": true
   },
   "source": [
    "# Create rules file from UID"
   ]
  },
  {
   "cell_type": "code",
   "execution_count": 19,
   "metadata": {
    "collapsed": false
   },
   "outputs": [],
   "source": [
    "rules = []\n",
    "these_rules = []\n",
    "for idx,u in enumerate(vuln):\n",
    "\n",
    "    rule = \"from:\"+u.uid[0]\n",
    "    these_rules.append(rule)\n",
    "    \n",
    "    if idx%25==0 and idx>0:\n",
    "        rules.append(\" OR \".join(these_rules))\n",
    "        these_rules = []\n",
    "\n",
    "output = []\n",
    "for r in rules:\n",
    "    output.append({\"value\":r})\n",
    "\n",
    "with open('../../GNIP/Sandy/NJ_GeoVulnerable_Contextual/rules.json','w') as oFile:\n",
    "    json.dump(output, oFile)"
   ]
  },
  {
   "cell_type": "code",
   "execution_count": null,
   "metadata": {
    "collapsed": true
   },
   "outputs": [],
   "source": []
  }
 ],
 "metadata": {
  "kernelspec": {
   "display_name": "IPython (Python 3)",
   "language": "python",
   "name": "python3"
  },
  "language_info": {
   "codemirror_mode": {
    "name": "ipython",
    "version": 3
   },
   "file_extension": ".py",
   "mimetype": "text/x-python",
   "name": "python",
   "nbconvert_exporter": "python",
   "pygments_lexer": "ipython3",
   "version": "3.4.3"
  }
 },
 "nbformat": 4,
 "nbformat_minor": 1
}
