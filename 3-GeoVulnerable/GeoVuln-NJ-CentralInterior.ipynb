{
 "cells": [
  {
   "cell_type": "markdown",
   "metadata": {},
   "source": [
    "# Are users home locations in Vulnerable Locations?"
   ]
  },
  {
   "cell_type": "code",
   "execution_count": 1,
   "metadata": {
    "collapsed": true
   },
   "outputs": [],
   "source": [
    "import pandas as pd; import numpy as np; from multiprocessing import Pool, Manager; import numpy as np; import geopandas as gpd\n",
    "import matplotlib.pyplot as plt; import seaborn as sns\n",
    "import matplotlib, os, json, sys, time, datetime\n",
    "from bson import json_util"
   ]
  },
  {
   "cell_type": "code",
   "execution_count": 2,
   "metadata": {
    "collapsed": true
   },
   "outputs": [],
   "source": [
    "input_directory  = \"/data/chime/geo2/PROCESSED/NJ/CentralInterior_Stage2/\"\n",
    "output_directory = \"/data/chime/geo2/PROCESSED/NJ/CentralInterior_Stage3/\"\n",
    "zoneGeometry     = \"../EvacuationZones/NewJersey/NJ_CentralInterior.shp\""
   ]
  },
  {
   "cell_type": "markdown",
   "metadata": {},
   "source": [
    "#### Import the ZoneA Geometry"
   ]
  },
  {
   "cell_type": "code",
   "execution_count": 3,
   "metadata": {},
   "outputs": [
    {
     "name": "stderr",
     "output_type": "stream",
     "text": [
      "/usr/local/lib/python3.5/dist-packages/ipykernel_launcher.py:3: DeprecationWarning: Collection.__next__() is buggy and will be removed in Fiona 2.0. Switch to `next(iter(collection))`.\n",
      "  This is separate from the ipykernel package so we can avoid doing imports until\n"
     ]
    },
    {
     "data": {
      "text/plain": [
       "True"
      ]
     },
     "execution_count": 3,
     "metadata": {},
     "output_type": "execute_result"
    }
   ],
   "source": [
    "import fiona, shapely; from osgeo import ogr; from shapely.geometry import mapping, shape\n",
    "c = fiona.open(zoneGeometry,'r')\n",
    "pol = c.next(); zone = shape(pol['geometry']).buffer(0); zone.is_valid"
   ]
  },
  {
   "cell_type": "markdown",
   "metadata": {},
   "source": [
    "#### Import the user metadata DF (Phasing this out)"
   ]
  },
  {
   "cell_type": "code",
   "execution_count": 4,
   "metadata": {
    "collapsed": true
   },
   "outputs": [],
   "source": [
    "_user_meta = pd.read_json(input_directory+'/temporal_clustered_user_meta.json')"
   ]
  },
  {
   "cell_type": "code",
   "execution_count": 5,
   "metadata": {},
   "outputs": [
    {
     "data": {
      "text/html": [
       "<div>\n",
       "<style>\n",
       "    .dataframe thead tr:only-child th {\n",
       "        text-align: right;\n",
       "    }\n",
       "\n",
       "    .dataframe thead th {\n",
       "        text-align: left;\n",
       "    }\n",
       "\n",
       "    .dataframe tbody tr th {\n",
       "        vertical-align: top;\n",
       "    }\n",
       "</style>\n",
       "<table border=\"1\" class=\"dataframe\">\n",
       "  <thead>\n",
       "    <tr style=\"text-align: right;\">\n",
       "      <th></th>\n",
       "      <th>home_cluster</th>\n",
       "      <th>home_cluster_coords</th>\n",
       "      <th>tweets</th>\n",
       "      <th>uid</th>\n",
       "      <th>user</th>\n",
       "    </tr>\n",
       "  </thead>\n",
       "  <tbody>\n",
       "    <tr>\n",
       "      <th>0</th>\n",
       "      <td>1.0</td>\n",
       "      <td>{\"coordinates\": [-73.69247457249924, 40.673434...</td>\n",
       "      <td>14231</td>\n",
       "      <td>75153082</td>\n",
       "      <td>Andrewthemark</td>\n",
       "    </tr>\n",
       "    <tr>\n",
       "      <th>1</th>\n",
       "      <td>2.0</td>\n",
       "      <td>{\"coordinates\": [-74.40499262545818, 39.386719...</td>\n",
       "      <td>3857</td>\n",
       "      <td>318103926</td>\n",
       "      <td>lanceeryann</td>\n",
       "    </tr>\n",
       "    <tr>\n",
       "      <th>2</th>\n",
       "      <td>1.0</td>\n",
       "      <td>{\"coordinates\": [-73.81296028845227, 40.776988...</td>\n",
       "      <td>3778</td>\n",
       "      <td>190488649</td>\n",
       "      <td>giaco1025</td>\n",
       "    </tr>\n",
       "  </tbody>\n",
       "</table>\n",
       "</div>"
      ],
      "text/plain": [
       "   home_cluster                                home_cluster_coords  tweets  \\\n",
       "0           1.0  {\"coordinates\": [-73.69247457249924, 40.673434...   14231   \n",
       "1           2.0  {\"coordinates\": [-74.40499262545818, 39.386719...    3857   \n",
       "2           1.0  {\"coordinates\": [-73.81296028845227, 40.776988...    3778   \n",
       "\n",
       "         uid           user  \n",
       "0   75153082  Andrewthemark  \n",
       "1  318103926    lanceeryann  \n",
       "2  190488649      giaco1025  "
      ]
     },
     "execution_count": 5,
     "metadata": {},
     "output_type": "execute_result"
    }
   ],
   "source": [
    "_user_meta = _user_meta.sort_index()\n",
    "_user_meta.head(3)"
   ]
  },
  {
   "cell_type": "markdown",
   "metadata": {},
   "source": [
    "## 0. Import all of the individual user dataframes"
   ]
  },
  {
   "cell_type": "code",
   "execution_count": 6,
   "metadata": {},
   "outputs": [
    {
     "name": "stdout",
     "output_type": "stream",
     "text": [
      "Found 196 users in /data/chime/geo2/PROCESSED/NJ/CentralInterior_Stage2/\n"
     ]
    }
   ],
   "source": [
    "users_in = sorted(os.listdir(input_directory))\n",
    "users_in = [x for x in users_in if x != \"temporal_clustered_user_meta.json\"]\n",
    "print(\"Found {0} users in {1}\".format(len(users_in), input_directory))"
   ]
  },
  {
   "cell_type": "code",
   "execution_count": 7,
   "metadata": {
    "collapsed": true
   },
   "outputs": [],
   "source": [
    "def loader_function(args):\n",
    "    uFile, path, q = args\n",
    "    u = json.load(open(path+\"/\"+uFile,'r'))\n",
    "    tweets = []\n",
    "    for t in u['features']:\n",
    "        if t['geometry']:\n",
    "            t['properties']['geometry'] = shape(t['geometry'])\n",
    "        t['properties']['date'] = pd.Timestamp(t['properties']['date'])\n",
    "        tweets.append(t['properties'])\n",
    "    q.put(1)\n",
    "    return gpd.GeoDataFrame(tweets)"
   ]
  },
  {
   "cell_type": "code",
   "execution_count": 8,
   "metadata": {},
   "outputs": [
    {
     "name": "stderr",
     "output_type": "stream",
     "text": [
      "Processed: 196, 100%%"
     ]
    }
   ],
   "source": [
    "#Parallel runtime\n",
    "p = Pool(30)\n",
    "m = Manager()\n",
    "q = m.Queue()\n",
    "\n",
    "args = [(i, input_directory, q) for i in users_in]\n",
    "result = p.map_async(loader_function, args)\n",
    "\n",
    "# monitor loop\n",
    "while True:\n",
    "    if result.ready():\n",
    "        break\n",
    "    else:\n",
    "        size = q.qsize()\n",
    "        sys.stderr.write(\"\\rProcessed: {0}, {1:.3g}%\".format(size, size/len(args)*100))\n",
    "        time.sleep(0.5)\n",
    "sys.stderr.write(\"\\rProcessed: {0}, {1:.3g}%\".format(q.qsize(), q.qsize()/len(args)*100))\n",
    "users = result.get()\n",
    "p.close()"
   ]
  },
  {
   "cell_type": "code",
   "execution_count": 9,
   "metadata": {
    "collapsed": true
   },
   "outputs": [],
   "source": [
    "users.sort( key=lambda x: len(x), reverse=True ) "
   ]
  },
  {
   "cell_type": "markdown",
   "metadata": {},
   "source": [
    "`users` is an array of user dataframes. Now find which users have _home locations_ in Zone A"
   ]
  },
  {
   "cell_type": "code",
   "execution_count": 10,
   "metadata": {},
   "outputs": [
    {
     "name": "stdout",
     "output_type": "stream",
     "text": [
      "186\n"
     ]
    },
    {
     "data": {
      "text/html": [
       "<div>\n",
       "<style>\n",
       "    .dataframe thead tr:only-child th {\n",
       "        text-align: right;\n",
       "    }\n",
       "\n",
       "    .dataframe thead th {\n",
       "        text-align: left;\n",
       "    }\n",
       "\n",
       "    .dataframe tbody tr th {\n",
       "        vertical-align: top;\n",
       "    }\n",
       "</style>\n",
       "<table border=\"1\" class=\"dataframe\">\n",
       "  <thead>\n",
       "    <tr style=\"text-align: right;\">\n",
       "      <th></th>\n",
       "      <th>cluster</th>\n",
       "      <th>cluster_center</th>\n",
       "      <th>coords</th>\n",
       "      <th>date</th>\n",
       "      <th>day_cluster</th>\n",
       "      <th>geo_delta</th>\n",
       "      <th>geometry</th>\n",
       "      <th>home_cluster_id</th>\n",
       "      <th>speed</th>\n",
       "      <th>text</th>\n",
       "      <th>time_delta</th>\n",
       "      <th>tweet_id</th>\n",
       "      <th>uid</th>\n",
       "      <th>user</th>\n",
       "    </tr>\n",
       "  </thead>\n",
       "  <tbody>\n",
       "    <tr>\n",
       "      <th>0</th>\n",
       "      <td>1</td>\n",
       "      <td>{\"coordinates\": [-74.47722239625, 39.367818025...</td>\n",
       "      <td>[-74.47627774, 39.36818787]</td>\n",
       "      <td>2012-09-27 17:52:56+00:00</td>\n",
       "      <td>4</td>\n",
       "      <td>NaN</td>\n",
       "      <td>POINT (-74.47627774 39.36818787)</td>\n",
       "      <td>2.0</td>\n",
       "      <td>NaN</td>\n",
       "      <td>get me the fuck out of here</td>\n",
       "      <td>NaN</td>\n",
       "      <td>251378905343213568</td>\n",
       "      <td>368597676</td>\n",
       "      <td>lexi_derrickson</td>\n",
       "    </tr>\n",
       "  </tbody>\n",
       "</table>\n",
       "</div>"
      ],
      "text/plain": [
       "   cluster                                     cluster_center  \\\n",
       "0        1  {\"coordinates\": [-74.47722239625, 39.367818025...   \n",
       "\n",
       "                        coords                      date  day_cluster  \\\n",
       "0  [-74.47627774, 39.36818787] 2012-09-27 17:52:56+00:00            4   \n",
       "\n",
       "   geo_delta                          geometry  home_cluster_id  speed  \\\n",
       "0        NaN  POINT (-74.47627774 39.36818787)              2.0    NaN   \n",
       "\n",
       "                          text  time_delta            tweet_id        uid  \\\n",
       "0  get me the fuck out of here         NaN  251378905343213568  368597676   \n",
       "\n",
       "              user  \n",
       "0  lexi_derrickson  "
      ]
     },
     "execution_count": 10,
     "metadata": {},
     "output_type": "execute_result"
    }
   ],
   "source": [
    "x = users[100]\n",
    "print(len(x))\n",
    "x.head(1)"
   ]
  },
  {
   "cell_type": "code",
   "execution_count": 11,
   "metadata": {},
   "outputs": [
    {
     "data": {
      "text/plain": [
       "False"
      ]
     },
     "execution_count": 11,
     "metadata": {},
     "output_type": "execute_result"
    }
   ],
   "source": [
    "def get_home_cluster_center(userDF):\n",
    "    return shape(json.loads(userDF.query('cluster=='+str(userDF.home_cluster_id.values[0])).cluster_center.values[0]))\n",
    "\n",
    "get_home_cluster_center(users[0]).within(zone)"
   ]
  },
  {
   "cell_type": "markdown",
   "metadata": {},
   "source": [
    "## 1. Determine who's home cluster center is in ZONE"
   ]
  },
  {
   "cell_type": "code",
   "execution_count": 12,
   "metadata": {
    "collapsed": true
   },
   "outputs": [],
   "source": [
    "def insideZone(p):\n",
    "    if p==None:\n",
    "        return False\n",
    "    else:\n",
    "        return p.within(zone)"
   ]
  },
  {
   "cell_type": "code",
   "execution_count": 13,
   "metadata": {},
   "outputs": [
    {
     "name": "stderr",
     "output_type": "stream",
     "text": [
      "Done...Identified 93 vulnerable users and 103 non-vulnerable"
     ]
    }
   ],
   "source": [
    "vuln = []\n",
    "non_vuln = []\n",
    "for idx, u in enumerate(users):\n",
    "    if (insideZone(get_home_cluster_center(u))):\n",
    "        vuln.append(u)\n",
    "    else:\n",
    "        non_vuln.append(u)\n",
    "    sys.stderr.write(\"\\r\"+str(idx+1))\n",
    "sys.stderr.write(\"\\rDone...\")\n",
    "sys.stderr.write(\"Identified {0} vulnerable users and {1} non-vulnerable\".format(len(vuln),len(non_vuln)))"
   ]
  },
  {
   "cell_type": "code",
   "execution_count": 14,
   "metadata": {
    "collapsed": true
   },
   "outputs": [],
   "source": [
    "if not os.path.exists(output_directory):\n",
    "    os.mkdir(output_directory)"
   ]
  },
  {
   "cell_type": "markdown",
   "metadata": {},
   "source": [
    "## 2. Write out just the GeoVulnerable, just in case we need them for something later"
   ]
  },
  {
   "cell_type": "code",
   "execution_count": 16,
   "metadata": {
    "collapsed": true
   },
   "outputs": [],
   "source": [
    "def safe_mapping(p):\n",
    "    if p==None or np.isnan(p).any():\n",
    "        return None\n",
    "    else:\n",
    "        return mapping(p)\n",
    "def safe_json_export(args):\n",
    "    df, path = args\n",
    "    df = df.copy()\n",
    "    uName = df.head(1).user.values[0].lower()\n",
    "    df['date'] = df['date'].apply(lambda t: datetime.datetime.strftime(t,'%Y-%m-%dT%H:%M:%SZ'))\n",
    "\n",
    "    clean = df.where((pd.notnull(df)), None)\n",
    "    geojson = {\"type\":\"FeatureCollection\",\"features\":[]}\n",
    "    for _, row in clean.iterrows():\n",
    "        geom = safe_mapping(row.geometry)\n",
    "        feature = {'type':'Feature',\n",
    "                   'geometry':geom,\n",
    "                   'properties':row.to_dict()\n",
    "                    }\n",
    "        del feature['properties']['geometry']\n",
    "        geojson['features'].append(feature)\n",
    "    \n",
    "    with open(path+\"/\"+uName+'.geojson','w') as oFile:\n",
    "        json.dump(geojson, oFile) "
   ]
  },
  {
   "cell_type": "code",
   "execution_count": 15,
   "metadata": {},
   "outputs": [
    {
     "ename": "NameError",
     "evalue": "name 'safe_json_export' is not defined",
     "output_type": "error",
     "traceback": [
      "\u001b[0;31m---------------------------------------------------------------------------\u001b[0m",
      "\u001b[0;31mNameError\u001b[0m                                 Traceback (most recent call last)",
      "\u001b[0;32m<ipython-input-15-dd119de8411a>\u001b[0m in \u001b[0;36m<module>\u001b[0;34m()\u001b[0m\n\u001b[1;32m      1\u001b[0m \u001b[0;32mfor\u001b[0m \u001b[0midx\u001b[0m\u001b[0;34m,\u001b[0m \u001b[0mu\u001b[0m \u001b[0;32min\u001b[0m \u001b[0menumerate\u001b[0m\u001b[0;34m(\u001b[0m\u001b[0mvuln\u001b[0m\u001b[0;34m)\u001b[0m\u001b[0;34m:\u001b[0m\u001b[0;34m\u001b[0m\u001b[0m\n\u001b[0;32m----> 2\u001b[0;31m     \u001b[0msafe_json_export\u001b[0m\u001b[0;34m(\u001b[0m\u001b[0;34m(\u001b[0m\u001b[0mu\u001b[0m\u001b[0;34m,\u001b[0m\u001b[0moutput_directory\u001b[0m\u001b[0;34m)\u001b[0m\u001b[0;34m)\u001b[0m\u001b[0;34m\u001b[0m\u001b[0m\n\u001b[0m\u001b[1;32m      3\u001b[0m     \u001b[0msys\u001b[0m\u001b[0;34m.\u001b[0m\u001b[0mstderr\u001b[0m\u001b[0;34m.\u001b[0m\u001b[0mwrite\u001b[0m\u001b[0;34m(\u001b[0m\u001b[0;34m\"\\r{0} processed\"\u001b[0m\u001b[0;34m.\u001b[0m\u001b[0mformat\u001b[0m\u001b[0;34m(\u001b[0m\u001b[0midx\u001b[0m\u001b[0;34m+\u001b[0m\u001b[0;36m1\u001b[0m\u001b[0;34m)\u001b[0m\u001b[0;34m)\u001b[0m\u001b[0;34m\u001b[0m\u001b[0m\n",
      "\u001b[0;31mNameError\u001b[0m: name 'safe_json_export' is not defined"
     ]
    }
   ],
   "source": [
    "for idx, u in enumerate(vuln):\n",
    "    safe_json_export((u,output_directory))\n",
    "    sys.stderr.write(\"\\r{0} processed\".format(idx+1))"
   ]
  },
  {
   "cell_type": "markdown",
   "metadata": {},
   "source": [
    "# 3. Prepare for Analysis\n",
    "\n",
    "All of these users should already exist in a format prepared for visualizing, these users can be pasted into Google Sheets"
   ]
  },
  {
   "cell_type": "code",
   "execution_count": 16,
   "metadata": {
    "scrolled": false
   },
   "outputs": [
    {
     "name": "stdout",
     "output_type": "stream",
     "text": [
      "alyssagabrielaa\n",
      "amirtoptier\n",
      "arielwoodson\n",
      "b_weezy\n",
      "badblasian\n",
      "benfwillems\n",
      "bennettsrants\n",
      "benz2020\n",
      "birddreams\n",
      "blarro91\n",
      "bobbytpodg\n",
      "bree_gardner\n",
      "bry_coons\n",
      "bubsxgreen\n",
      "chodemuncher96\n",
      "coolkym\n",
      "devashanandpara\n",
      "elbparker\n",
      "enancemorbillz\n",
      "espritnomade\n",
      "floxily\n",
      "fornicateera\n",
      "gmillett\n",
      "greekconcertpro\n",
      "haleymight\n",
      "heather_joness\n",
      "heyimgina\n",
      "hottoddy___\n",
      "iamhannahcesen\n",
      "iilaur3nn\n",
      "imeelicioustea\n",
      "james_thompsonn\n",
      "janeecouture\n",
      "jason613wilson\n",
      "jeff_revelle\n",
      "jeremygano\n",
      "jesterplay\n",
      "joel__22\n",
      "john_scalera\n",
      "jordandebarth\n",
      "juliannarose3x\n",
      "kempkempoh\n",
      "king_obey\n",
      "koranny_609\n",
      "laurenxturner\n",
      "leannesamm\n",
      "louie_orlando\n",
      "marieshantee\n",
      "mariog263\n",
      "maslife\n",
      "melanieevelyna\n",
      "mikeyg41393\n",
      "mirandalamey\n",
      "mmirags73\n",
      "molllyx0\n",
      "ohhhmister\n",
      "pattilicious62\n",
      "pauldooner\n",
      "prettyjocky\n",
      "rachcakesxo\n",
      "rachelambrose1\n",
      "rayellisiii\n",
      "rfugee08\n",
      "rhifabel\n",
      "rissassuite\n",
      "rozay_che\n",
      "sblong007\n",
      "semievilgenius\n",
      "sjersey_girl\n",
      "snukumsss\n",
      "spilup9\n",
      "summers_shaun\n",
      "surfer4lifenj\n",
      "susanrdunn\n",
      "sweetdaddyds\n",
      "taaywalsh\n",
      "tayfaisst10\n",
      "tayosterman\n",
      "tcrimz\n",
      "teatimelovely\n",
      "thatbitch_mamas\n",
      "theckman\n",
      "thelizziebean\n",
      "therightist\n",
      "thomasjohnkinch\n",
      "tubbysofly\n",
      "viciousromantic\n",
      "vitalejeff\n",
      "whosantalberici\n",
      "xoxolulubrownn\n",
      "yamzdoee\n",
      "yanni_david\n",
      "zaksetzer\n"
     ]
    }
   ],
   "source": [
    "for uName in sorted([u.user[0].lower() for u in vuln]):\n",
    "    print(uName)"
   ]
  },
  {
   "cell_type": "code",
   "execution_count": 17,
   "metadata": {},
   "outputs": [
    {
     "data": {
      "text/plain": [
       "93"
      ]
     },
     "execution_count": 17,
     "metadata": {},
     "output_type": "execute_result"
    }
   ],
   "source": [
    "len(vuln)"
   ]
  },
  {
   "cell_type": "code",
   "execution_count": 18,
   "metadata": {},
   "outputs": [
    {
     "name": "stderr",
     "output_type": "stream",
     "text": [
      "48"
     ]
    },
    {
     "name": "stdout",
     "output_type": "stream",
     "text": [
      "alyssagabrielaa\n",
      "amirtoptier\n",
      "arielwoodson\n",
      "bennettsrants\n",
      "blarro91\n",
      "bree_gardner\n",
      "bry_coons\n",
      "devashanandpara\n",
      "enancemorbillz\n",
      "espritnomade\n",
      "fornicateera\n",
      "gmillett\n",
      "haleymight\n",
      "heather_joness\n",
      "heyimgina\n",
      "hottoddy___\n",
      "iamhannahcesen\n",
      "iilaur3nn\n",
      "james_thompsonn\n",
      "jeff_revelle\n",
      "jesterplay\n",
      "john_scalera\n",
      "juliannarose3x\n",
      "laurenxturner\n",
      "leannesamm\n",
      "marieshantee\n",
      "maslife\n",
      "pattilicious62\n",
      "prettyjocky\n",
      "rayellisiii\n",
      "rfugee08\n",
      "semievilgenius\n",
      "sjersey_girl\n",
      "surfer4lifenj\n",
      "tayfaisst10\n",
      "tcrimz\n",
      "thatbitch_mamas\n",
      "thelizziebean\n",
      "therightist\n",
      "tubbysofly\n",
      "xoxolulubrownn\n",
      "yamzdoee\n",
      "zaksetzer\n"
     ]
    },
    {
     "name": "stderr",
     "output_type": "stream",
     "text": [
      "\r",
      "49\r",
      "50\r",
      "51\r",
      "52\r",
      "53\r",
      "54\r",
      "55\r",
      "56\r",
      "57\r",
      "58\r",
      "59\r",
      "60\r",
      "61\r",
      "62\r",
      "63\r",
      "64\r",
      "65\r",
      "66\r",
      "67\r",
      "68\r",
      "69\r",
      "70\r",
      "71\r",
      "72\r",
      "73\r",
      "74\r",
      "75\r",
      "76\r",
      "77\r",
      "78\r",
      "79\r",
      "80\r",
      "81\r",
      "82\r",
      "83\r",
      "84\r",
      "85\r",
      "86\r",
      "87\r",
      "88\r",
      "89\r",
      "90\r",
      "91\r",
      "92\r",
      "43"
     ]
    }
   ],
   "source": [
    "def good_storm_tweets(userDF):\n",
    "    return len(userDF.query(\"date > 201210300000 & date < 201210310000\")) \n",
    "    \n",
    "good_data = []\n",
    "res = []\n",
    "for idx, u in enumerate(vuln):\n",
    "    if good_storm_tweets(u) > 2:\n",
    "        good_data.append(u)\n",
    "    \n",
    "    sys.stderr.write(\"\\r\"+str(idx))\n",
    "\n",
    "sys.stderr.write(\"\\r\"+str(len(good_data)))\n",
    "for uName in sorted([u.user[0].lower() for u in good_data]):\n",
    "    print(uName)"
   ]
  },
  {
   "cell_type": "markdown",
   "metadata": {
    "collapsed": true
   },
   "source": [
    "# Create rules file from UID"
   ]
  },
  {
   "cell_type": "code",
   "execution_count": 20,
   "metadata": {
    "collapsed": true
   },
   "outputs": [],
   "source": [
    "rules = []\n",
    "these_rules = []\n",
    "for idx,u in enumerate(vuln):\n",
    "\n",
    "    rule = \"from:\"+u.uid[0]\n",
    "    these_rules.append(rule)\n",
    "    \n",
    "    if idx%25==0 and idx>0:\n",
    "        rules.append(\" OR \".join(these_rules))\n",
    "        these_rules = []\n",
    "\n",
    "output = []\n",
    "for r in rules:\n",
    "    output.append({\"value\":r})\n",
    "\n",
    "with open('../../GNIP/Sandy/NJ_GeoVulnerable_Contextual/rules.json','w') as oFile:\n",
    "    json.dump(output, oFile)"
   ]
  },
  {
   "cell_type": "code",
   "execution_count": null,
   "metadata": {
    "collapsed": true
   },
   "outputs": [],
   "source": []
  }
 ],
 "metadata": {
  "kernelspec": {
   "display_name": "Python 3",
   "language": "python",
   "name": "python3"
  },
  "language_info": {
   "codemirror_mode": {
    "name": "ipython",
    "version": 3
   },
   "file_extension": ".py",
   "mimetype": "text/x-python",
   "name": "python",
   "nbconvert_exporter": "python",
   "pygments_lexer": "ipython3",
   "version": "3.5.2"
  }
 },
 "nbformat": 4,
 "nbformat_minor": 1
}
