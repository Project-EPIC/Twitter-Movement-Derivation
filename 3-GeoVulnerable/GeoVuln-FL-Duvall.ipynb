{
 "cells": [
  {
   "cell_type": "markdown",
   "metadata": {},
   "source": [
    "# Are users home locations in Vulnerable Locations?"
   ]
  },
  {
   "cell_type": "code",
   "execution_count": 16,
   "metadata": {
    "collapsed": true
   },
   "outputs": [],
   "source": [
    "import pandas as pd; import numpy as np; from multiprocessing import Pool, Manager; import numpy as np; import geopandas as gpd\n",
    "import matplotlib.pyplot as plt; import seaborn as sns\n",
    "import matplotlib, os, json, sys, time, datetime\n",
    "from bson import json_util"
   ]
  },
  {
   "cell_type": "code",
   "execution_count": 47,
   "metadata": {
    "collapsed": true
   },
   "outputs": [],
   "source": [
    "input_directory  = \"/data/chime/geo2/PROCESSED/FL/duvall_county_Stage2/\"\n",
    "output_directory = \"/data/chime/geo2/PROCESSED/FL/duvall_county_Stage3/\"\n",
    "zoneGeometry     = \"../EvacuationZones/Florida/DuvallCountyPlus_Hull.geojson\""
   ]
  },
  {
   "cell_type": "markdown",
   "metadata": {},
   "source": [
    "#### Import the ZoneA Geometry"
   ]
  },
  {
   "cell_type": "code",
   "execution_count": 48,
   "metadata": {},
   "outputs": [
    {
     "data": {
      "text/plain": [
       "True"
      ]
     },
     "execution_count": 48,
     "metadata": {},
     "output_type": "execute_result"
    }
   ],
   "source": [
    "import fiona, shapely; from osgeo import ogr; from shapely.geometry import mapping, shape\n",
    "zone = shape(json.load(open(zoneGeometry, 'r'))['geometry']); zone.is_valid"
   ]
  },
  {
   "cell_type": "markdown",
   "metadata": {},
   "source": [
    "#### Import the user metadata DF (Phasing this out)"
   ]
  },
  {
   "cell_type": "code",
   "execution_count": 49,
   "metadata": {},
   "outputs": [],
   "source": [
    "_user_meta = pd.read_json(input_directory+'/temporal_clustered_user_meta.json')"
   ]
  },
  {
   "cell_type": "code",
   "execution_count": 50,
   "metadata": {},
   "outputs": [
    {
     "data": {
      "text/html": [
       "<div>\n",
       "<style>\n",
       "    .dataframe thead tr:only-child th {\n",
       "        text-align: right;\n",
       "    }\n",
       "\n",
       "    .dataframe thead th {\n",
       "        text-align: left;\n",
       "    }\n",
       "\n",
       "    .dataframe tbody tr th {\n",
       "        vertical-align: top;\n",
       "    }\n",
       "</style>\n",
       "<table border=\"1\" class=\"dataframe\">\n",
       "  <thead>\n",
       "    <tr style=\"text-align: right;\">\n",
       "      <th></th>\n",
       "      <th>home_cluster</th>\n",
       "      <th>home_cluster_coords</th>\n",
       "      <th>tweets</th>\n",
       "      <th>uid</th>\n",
       "      <th>user</th>\n",
       "    </tr>\n",
       "  </thead>\n",
       "  <tbody>\n",
       "    <tr>\n",
       "      <th>0</th>\n",
       "      <td>1.0</td>\n",
       "      <td>{\"type\": \"Point\", \"coordinates\": [-81.65339545...</td>\n",
       "      <td>8067</td>\n",
       "      <td>62050708</td>\n",
       "      <td>JacksonvilleCP</td>\n",
       "    </tr>\n",
       "    <tr>\n",
       "      <th>1</th>\n",
       "      <td>3.0</td>\n",
       "      <td>{\"type\": \"Point\", \"coordinates\": [-81.49451000...</td>\n",
       "      <td>7010</td>\n",
       "      <td>195193753</td>\n",
       "      <td>JobsDirectJAX</td>\n",
       "    </tr>\n",
       "    <tr>\n",
       "      <th>2</th>\n",
       "      <td>134.0</td>\n",
       "      <td>{\"type\": \"Point\", \"coordinates\": [-78.01829999...</td>\n",
       "      <td>3523</td>\n",
       "      <td>4754740136</td>\n",
       "      <td>ebbtidebot</td>\n",
       "    </tr>\n",
       "  </tbody>\n",
       "</table>\n",
       "</div>"
      ],
      "text/plain": [
       "   home_cluster                                home_cluster_coords  tweets  \\\n",
       "0           1.0  {\"type\": \"Point\", \"coordinates\": [-81.65339545...    8067   \n",
       "1           3.0  {\"type\": \"Point\", \"coordinates\": [-81.49451000...    7010   \n",
       "2         134.0  {\"type\": \"Point\", \"coordinates\": [-78.01829999...    3523   \n",
       "\n",
       "          uid            user  \n",
       "0    62050708  JacksonvilleCP  \n",
       "1   195193753   JobsDirectJAX  \n",
       "2  4754740136      ebbtidebot  "
      ]
     },
     "execution_count": 50,
     "metadata": {},
     "output_type": "execute_result"
    }
   ],
   "source": [
    "_user_meta = _user_meta.sort_index()\n",
    "_user_meta.head(3)"
   ]
  },
  {
   "cell_type": "markdown",
   "metadata": {},
   "source": [
    "## 0. Import all of the individual user dataframes"
   ]
  },
  {
   "cell_type": "code",
   "execution_count": 51,
   "metadata": {},
   "outputs": [
    {
     "name": "stdout",
     "output_type": "stream",
     "text": [
      "Found 340 users in /data/chime/geo2/PROCESSED/FL/duvall_county_Stage2/\n"
     ]
    }
   ],
   "source": [
    "users_in = sorted(os.listdir(input_directory))\n",
    "users_in = [x for x in users_in if x != \"temporal_clustered_user_meta.json\"]\n",
    "print(\"Found {0} users in {1}\".format(len(users_in), input_directory))"
   ]
  },
  {
   "cell_type": "code",
   "execution_count": 52,
   "metadata": {
    "collapsed": true
   },
   "outputs": [],
   "source": [
    "def loader_function(args):\n",
    "    uFile, path, q = args\n",
    "    u = json.load(open(path+\"/\"+uFile,'r'))\n",
    "    tweets = []\n",
    "    for t in u['features']:\n",
    "        if t['geometry']:\n",
    "            t['properties']['geometry'] = shape(t['geometry'])\n",
    "        t['properties']['date'] = pd.Timestamp(t['properties']['date'])\n",
    "        tweets.append(t['properties'])\n",
    "    q.put(1)\n",
    "    return gpd.GeoDataFrame(tweets)"
   ]
  },
  {
   "cell_type": "code",
   "execution_count": 54,
   "metadata": {},
   "outputs": [
    {
     "name": "stderr",
     "output_type": "stream",
     "text": [
      "Processed: 340, 100%%"
     ]
    }
   ],
   "source": [
    "#Parallel runtime\n",
    "p = Pool(30)\n",
    "m = Manager()\n",
    "q = m.Queue()\n",
    "\n",
    "args = [(i, input_directory, q) for i in users_in]\n",
    "result = p.map_async(loader_function, args)\n",
    "\n",
    "# monitor loop\n",
    "while True:\n",
    "    if result.ready():\n",
    "        break\n",
    "    else:\n",
    "        size = q.qsize()\n",
    "        sys.stderr.write(\"\\rProcessed: {0}, {1:.3g}%\".format(size, size/len(args)*100))\n",
    "        time.sleep(0.5)\n",
    "sys.stderr.write(\"\\rProcessed: {0}, {1:.3g}%\".format(q.qsize(), q.qsize()/len(args)*100))\n",
    "users = result.get()\n",
    "p.close()"
   ]
  },
  {
   "cell_type": "code",
   "execution_count": 55,
   "metadata": {
    "collapsed": true
   },
   "outputs": [],
   "source": [
    "users.sort( key=lambda x: len(x), reverse=True ) "
   ]
  },
  {
   "cell_type": "markdown",
   "metadata": {},
   "source": [
    "`users` is an array of user dataframes. Now find which users have _home locations_ in Zone A"
   ]
  },
  {
   "cell_type": "code",
   "execution_count": 56,
   "metadata": {},
   "outputs": [
    {
     "name": "stdout",
     "output_type": "stream",
     "text": [
      "1053\n"
     ]
    },
    {
     "data": {
      "text/html": [
       "<div>\n",
       "<style>\n",
       "    .dataframe thead tr:only-child th {\n",
       "        text-align: right;\n",
       "    }\n",
       "\n",
       "    .dataframe thead th {\n",
       "        text-align: left;\n",
       "    }\n",
       "\n",
       "    .dataframe tbody tr th {\n",
       "        vertical-align: top;\n",
       "    }\n",
       "</style>\n",
       "<table border=\"1\" class=\"dataframe\">\n",
       "  <thead>\n",
       "    <tr style=\"text-align: right;\">\n",
       "      <th></th>\n",
       "      <th>cluster</th>\n",
       "      <th>cluster_center</th>\n",
       "      <th>coords</th>\n",
       "      <th>date</th>\n",
       "      <th>day_cluster</th>\n",
       "      <th>geo_delta</th>\n",
       "      <th>geometry</th>\n",
       "      <th>home_cluster_id</th>\n",
       "      <th>speed</th>\n",
       "      <th>text</th>\n",
       "      <th>time_delta</th>\n",
       "      <th>tweet_id</th>\n",
       "      <th>uid</th>\n",
       "      <th>user</th>\n",
       "    </tr>\n",
       "  </thead>\n",
       "  <tbody>\n",
       "    <tr>\n",
       "      <th>0</th>\n",
       "      <td>-1</td>\n",
       "      <td>null</td>\n",
       "      <td>[-81.64144, 30.67153]</td>\n",
       "      <td>2016-08-01 10:06:31+00:00</td>\n",
       "      <td>2</td>\n",
       "      <td>NaN</td>\n",
       "      <td>POINT (-81.64144 30.67153)</td>\n",
       "      <td>17.0</td>\n",
       "      <td>NaN</td>\n",
       "      <td>All lanes blocked for a car fire in #Yulee on ...</td>\n",
       "      <td>NaN</td>\n",
       "      <td>760054092580265984</td>\n",
       "      <td>250304006</td>\n",
       "      <td>TotalTrafficJAX</td>\n",
       "    </tr>\n",
       "  </tbody>\n",
       "</table>\n",
       "</div>"
      ],
      "text/plain": [
       "   cluster cluster_center                 coords                      date  \\\n",
       "0       -1           null  [-81.64144, 30.67153] 2016-08-01 10:06:31+00:00   \n",
       "\n",
       "   day_cluster  geo_delta                    geometry  home_cluster_id  speed  \\\n",
       "0            2        NaN  POINT (-81.64144 30.67153)             17.0    NaN   \n",
       "\n",
       "                                                text  time_delta  \\\n",
       "0  All lanes blocked for a car fire in #Yulee on ...         NaN   \n",
       "\n",
       "             tweet_id        uid             user  \n",
       "0  760054092580265984  250304006  TotalTrafficJAX  "
      ]
     },
     "execution_count": 56,
     "metadata": {},
     "output_type": "execute_result"
    }
   ],
   "source": [
    "x = users[10]\n",
    "print(len(x))\n",
    "x.head(1)"
   ]
  },
  {
   "cell_type": "code",
   "execution_count": 57,
   "metadata": {},
   "outputs": [
    {
     "data": {
      "text/plain": [
       "0.5438495261440683"
      ]
     },
     "execution_count": 57,
     "metadata": {},
     "output_type": "execute_result"
    }
   ],
   "source": [
    "zone.area"
   ]
  },
  {
   "cell_type": "code",
   "execution_count": 58,
   "metadata": {},
   "outputs": [
    {
     "data": {
      "text/plain": [
       "True"
      ]
     },
     "execution_count": 58,
     "metadata": {},
     "output_type": "execute_result"
    }
   ],
   "source": [
    "def get_home_cluster_center(userDF):\n",
    "    return shape(json.loads(userDF.query('cluster=='+str(userDF.home_cluster_id.values[0])).cluster_center.values[0]))\n",
    "\n",
    "get_home_cluster_center(users[0]).within(zone)"
   ]
  },
  {
   "cell_type": "markdown",
   "metadata": {},
   "source": [
    "## 1. Determine who's home cluster center is in ZONE"
   ]
  },
  {
   "cell_type": "code",
   "execution_count": 59,
   "metadata": {
    "collapsed": true
   },
   "outputs": [],
   "source": [
    "def insideZone(p):\n",
    "    if p==None:\n",
    "        return False\n",
    "    else:\n",
    "        return p.within(zone)"
   ]
  },
  {
   "cell_type": "code",
   "execution_count": 60,
   "metadata": {},
   "outputs": [
    {
     "name": "stderr",
     "output_type": "stream",
     "text": [
      "Done...Identified 247 vulnerable users and 93 non-vulnerable"
     ]
    }
   ],
   "source": [
    "vuln = []\n",
    "non_vuln = []\n",
    "for idx, u in enumerate(users):\n",
    "    if (insideZone(get_home_cluster_center(u))):\n",
    "        vuln.append(u)\n",
    "    else:\n",
    "        non_vuln.append(u)\n",
    "    sys.stderr.write(\"\\r\"+str(idx+1))\n",
    "sys.stderr.write(\"\\rDone...\")\n",
    "sys.stderr.write(\"Identified {0} vulnerable users and {1} non-vulnerable\".format(len(vuln),len(non_vuln)))"
   ]
  },
  {
   "cell_type": "code",
   "execution_count": 61,
   "metadata": {
    "collapsed": true
   },
   "outputs": [],
   "source": [
    "if not os.path.exists(output_directory):\n",
    "    os.mkdir(output_directory)"
   ]
  },
  {
   "cell_type": "markdown",
   "metadata": {},
   "source": [
    "## 2. Write out just the GeoVulnerable, just in case we need them for something later"
   ]
  },
  {
   "cell_type": "code",
   "execution_count": 62,
   "metadata": {
    "collapsed": true
   },
   "outputs": [],
   "source": [
    "def safe_mapping(p):\n",
    "    if p==None or np.isnan(p).any():\n",
    "        return None\n",
    "    else:\n",
    "        return mapping(p)\n",
    "def safe_json_export(args):\n",
    "    df, path = args\n",
    "    df = df.copy()\n",
    "    uName = df.head(1).user.values[0].lower()\n",
    "    df['date'] = df['date'].apply(lambda t: datetime.datetime.strftime(t,'%Y-%m-%dT%H:%M:%SZ'))\n",
    "\n",
    "    clean = df.where((pd.notnull(df)), None)\n",
    "    geojson = {\"type\":\"FeatureCollection\",\"features\":[]}\n",
    "    for _, row in clean.iterrows():\n",
    "        geom = safe_mapping(row.geometry)\n",
    "        feature = {'type':'Feature',\n",
    "                   'geometry':geom,\n",
    "                   'properties':row.to_dict()\n",
    "                    }\n",
    "        del feature['properties']['geometry']\n",
    "        geojson['features'].append(feature)\n",
    "    \n",
    "    with open(path+\"/\"+uName+'.geojson','w') as oFile:\n",
    "        json.dump(geojson, oFile) "
   ]
  },
  {
   "cell_type": "code",
   "execution_count": 63,
   "metadata": {},
   "outputs": [
    {
     "name": "stderr",
     "output_type": "stream",
     "text": [
      "247 processed"
     ]
    }
   ],
   "source": [
    "for idx, u in enumerate(vuln):\n",
    "    safe_json_export((u,output_directory))\n",
    "    sys.stderr.write(\"\\r{0} processed\".format(idx+1))"
   ]
  },
  {
   "cell_type": "markdown",
   "metadata": {},
   "source": [
    "# 3. Prepare for Analysis\n",
    "\n",
    "All of these users should already exist in a format prepared for visualizing, these users can be pasted into Google Sheets"
   ]
  },
  {
   "cell_type": "code",
   "execution_count": 64,
   "metadata": {
    "scrolled": false
   },
   "outputs": [
    {
     "name": "stdout",
     "output_type": "stream",
     "text": [
      "11hartk\n",
      "13pc43\n",
      "933thebeatjamz\n",
      "_jacksonvillefl\n",
      "abcbeerkenr\n",
      "acheise1\n",
      "aimsterskitz0rz\n",
      "allurejjin522\n",
      "amariraelyn\n",
      "amillionmag\n",
      "angeltoroortiz\n",
      "angelwed\n",
      "annomalleys\n",
      "apeers31\n",
      "arnav__\n",
      "artedeleon\n",
      "asummerray\n",
      "baristaonduty\n",
      "benhensley19\n",
      "berrygood_farms\n",
      "biggiesolls\n",
      "bmhurtig1111\n",
      "bo23phil\n",
      "boss_hairstylin\n",
      "bossladyterrie\n",
      "britt_hester\n",
      "butthuttjax\n",
      "bykimberlyjane\n",
      "cainjax\n",
      "calvinator7\n",
      "canisdirus\n",
      "carm624\n",
      "castellani\n",
      "cerena_levene\n",
      "chefsweetpete\n",
      "classickmusic\n",
      "cole513\n",
      "creativeliza\n",
      "crookedxchris\n",
      "crprze\n",
      "cyclesofjax\n",
      "daammnblac_\n",
      "dads4life\n",
      "dancetrancejax\n",
      "danmeysing\n",
      "darealcrunk\n",
      "dauphmk\n",
      "deborahregister\n",
      "delishkebabs\n",
      "devouringjax\n",
      "dhallii65\n",
      "dhlacalle\n",
      "dig_arch\n",
      "djdrdoom\n",
      "djlossofocus\n",
      "djmoneygud\n",
      "djr3ign\n",
      "djscrubbjax\n",
      "dkopp904\n",
      "doomnation93\n",
      "dpfrazier22\n",
      "drcjhenley\n",
      "dredeas904\n",
      "drruss888\n",
      "efgcouture\n",
      "elevationexp\n",
      "elkem27ccs\n",
      "emmy_armadafc\n",
      "ericp904\n",
      "eujacksonville\n",
      "evilzorac\n",
      "expreaperjabub\n",
      "floridaboiler\n",
      "floridafit1\n",
      "floridahorizon\n",
      "fmcnajobs\n",
      "franruchalski\n",
      "freakville03\n",
      "freshjax\n",
      "genedotcom\n",
      "geolocationms\n",
      "ginak92\n",
      "grandivacooks\n",
      "granolabandz\n",
      "gswagg904\n",
      "gypsyrakli\n",
      "hbjaguar\n",
      "hollyvonlanken\n",
      "iamhappy2bnappy\n",
      "iamktownkris\n",
      "iampoeticsent\n",
      "iembot_jax\n",
      "ignitemusicmag\n",
      "imgoingeast\n",
      "infinitybeautyl\n",
      "infosrv\n",
      "iselljax\n",
      "iteeroy\n",
      "j_cyprien\n",
      "jacksonvillecp\n",
      "jagator21\n",
      "jagdrummer\n",
      "jagpowersports\n",
      "jagsbethany\n",
      "jagspoolboy\n",
      "jalapenotruck\n",
      "jamiescottsmith\n",
      "jasoncrownover\n",
      "jaxbizexchange\n",
      "jaxstrength\n",
      "jaxsurfandsup\n",
      "jbrealestatejax\n",
      "jeepshopusa\n",
      "jeffreybezore\n",
      "jennae76\n",
      "jeremymcountry\n",
      "jessicaj4488\n",
      "jimithegreek\n",
      "jimmyjames737\n",
      "jjf_la\n",
      "jjstockdale\n",
      "jkirsh27\n",
      "jkolessar\n",
      "jmonroeinc\n",
      "jnfpsd\n",
      "jobsdirectjax\n",
      "johndupee\n",
      "johnmeeks1974\n",
      "jondelconte\n",
      "josephineshaute\n",
      "jwyatt3\n",
      "kateisaac309\n",
      "kateplusbrandon\n",
      "kateyezkmua\n",
      "katmeredith\n",
      "khirevenge\n",
      "khollowaymusic\n",
      "kimberlyheckman\n",
      "knuckleupfl\n",
      "koolkidkp\n",
      "kourtneygrey\n",
      "lady247365\n",
      "lakedisney\n",
      "leadingage\n",
      "legendarydev\n",
      "lep_stewart\n",
      "lifeandmascara\n",
      "lifeofgrahams\n",
      "lucasbelue\n",
      "luis4music\n",
      "madpigzzz\n",
      "marathongirl22\n",
      "marchingking\n",
      "marlonarchaga\n",
      "masbull\n",
      "matt_straus\n",
      "maxcieen\n",
      "mchristine191\n",
      "mercedessmith47\n",
      "mike_charles\n",
      "mmyogijax\n",
      "momofshepkids\n",
      "mr904\n",
      "mr904director\n",
      "msangels_\n",
      "mshollyhood\n",
      "mztonimichelle\n",
      "newmur\n",
      "nismo2o2o\n",
      "novoodo\n",
      "odd_rod\n",
      "oozora_otenki\n",
      "opskatestation\n",
      "ostruys\n",
      "p_smoov\n",
      "pastor_jermaine\n",
      "perfectance\n",
      "phatgyrlsnoop\n",
      "prclimate\n",
      "prettyricky_bdm\n",
      "prohamilton\n",
      "rachelyancey83\n",
      "raineydacutie\n",
      "randylewis88\n",
      "rblemmy\n",
      "rdmuzik\n",
      "rebeccaeparsons\n",
      "rishme_sheriff\n",
      "rock_et_science\n",
      "rufatunf\n",
      "rybucknerr\n",
      "samjuneau\n",
      "sarsnavy05\n",
      "sbcjacksonville\n",
      "seaglassgoddess\n",
      "seanmahanart\n",
      "secretarystate\n",
      "seibellaimage\n",
      "servprogrtstaug\n",
      "seviee\n",
      "sftbl33\n",
      "shaunadillard\n",
      "shaunda09\n",
      "skroob\n",
      "skyview_music\n",
      "slakker9\n",
      "slidersseafood\n",
      "smilesspamadame\n",
      "snackandjill\n",
      "soponor\n",
      "speedy4christ\n",
      "stephaniebarnz\n",
      "stephaniedanle1\n",
      "stephenstephan\n",
      "stjjm5\n",
      "suitejax\n",
      "sunishadesigns\n",
      "talanitorres\n",
      "tarahcoastal\n",
      "tealpocalypse\n",
      "tenleydietrich\n",
      "teryns_pgatour\n",
      "thekennyhensley\n",
      "therealdemetrus\n",
      "theurbancore\n",
      "tim_yocum\n",
      "tkbeyond\n",
      "tlhodo\n",
      "tonewithjoan\n",
      "tonylibations\n",
      "totaltrafficjax\n",
      "unfcheer\n",
      "useeverycolor\n",
      "vane315\n",
      "vautrinjr\n",
      "victorriverajr\n",
      "vstasai\n",
      "wadehtaylor\n",
      "wandereryoss\n",
      "watermegreen\n",
      "whats_uptuck\n",
      "whisnantsurf\n",
      "wjxtvic\n",
      "wnsantos\n",
      "xroadsapparel\n",
      "youngcash\n",
      "zrik3m\n"
     ]
    }
   ],
   "source": [
    "for uName in sorted([u.user[0].lower() for u in vuln]):\n",
    "    print(uName)"
   ]
  },
  {
   "cell_type": "code",
   "execution_count": 65,
   "metadata": {},
   "outputs": [
    {
     "data": {
      "text/plain": [
       "247"
      ]
     },
     "execution_count": 65,
     "metadata": {},
     "output_type": "execute_result"
    }
   ],
   "source": [
    "len(vuln)"
   ]
  },
  {
   "cell_type": "code",
   "execution_count": 67,
   "metadata": {},
   "outputs": [
    {
     "data": {
      "text/plain": [
       "66"
      ]
     },
     "execution_count": 67,
     "metadata": {},
     "output_type": "execute_result"
    }
   ],
   "source": [
    "len(good_data)"
   ]
  },
  {
   "cell_type": "code",
   "execution_count": 66,
   "metadata": {},
   "outputs": [
    {
     "name": "stderr",
     "output_type": "stream",
     "text": [
      "208"
     ]
    },
    {
     "name": "stdout",
     "output_type": "stream",
     "text": [
      "_jacksonvillefl\n",
      "acheise1\n",
      "aimsterskitz0rz\n",
      "baristaonduty\n",
      "bossladyterrie\n",
      "bykimberlyjane\n",
      "cainjax\n",
      "cole513\n",
      "crprze\n",
      "dancetrancejax\n",
      "devouringjax\n",
      "dhallii65\n",
      "djmoneygud\n",
      "dpfrazier22\n",
      "efgcouture\n",
      "fmcnajobs\n",
      "freakville03\n",
      "genedotcom\n",
      "geolocationms\n",
      "grandivacooks\n",
      "iampoeticsent\n",
      "iembot_jax\n",
      "infinitybeautyl\n",
      "infosrv\n",
      "iteeroy\n",
      "jacksonvillecp\n",
      "jagator21\n",
      "jagdrummer\n",
      "jagsbethany\n",
      "jagspoolboy\n",
      "jamiescottsmith\n",
      "jasoncrownover\n",
      "jaxbizexchange\n",
      "jeffreybezore\n",
      "jessicaj4488\n",
      "jkolessar\n",
      "jnfpsd\n",
      "jobsdirectjax\n",
      "josephineshaute\n",
      "katmeredith\n",
      "khirevenge\n",
      "kourtneygrey\n",
      "lep_stewart\n",
      "lucasbelue\n",
      "maxcieen\n",
      "mztonimichelle\n",
      "odd_rod\n",
      "p_smoov\n",
      "phatgyrlsnoop\n",
      "prettyricky_bdm\n",
      "raineydacutie\n",
      "samjuneau\n",
      "sbcjacksonville\n",
      "seibellaimage\n",
      "smilesspamadame\n",
      "soponor\n",
      "stephaniedanle1\n",
      "tarahcoastal\n",
      "tenleydietrich\n",
      "therealdemetrus\n",
      "tlhodo\n",
      "totaltrafficjax\n",
      "victorriverajr\n",
      "wadehtaylor\n",
      "whats_uptuck\n",
      "wnsantos\n"
     ]
    },
    {
     "name": "stderr",
     "output_type": "stream",
     "text": [
      "\r",
      "209\r",
      "210\r",
      "211\r",
      "212\r",
      "213\r",
      "214\r",
      "215\r",
      "216\r",
      "217\r",
      "218\r",
      "219\r",
      "220\r",
      "221\r",
      "222\r",
      "223\r",
      "224\r",
      "225\r",
      "226\r",
      "227\r",
      "228\r",
      "229\r",
      "230\r",
      "231\r",
      "232\r",
      "233\r",
      "234\r",
      "235\r",
      "236\r",
      "237\r",
      "238\r",
      "239\r",
      "240\r",
      "241\r",
      "242\r",
      "243\r",
      "244\r",
      "245\r",
      "246\r",
      "66                             "
     ]
    }
   ],
   "source": [
    "def good_storm_tweets(userDF):\n",
    "    return len(userDF.query(\"date > 201610030000 & date < 201610050000\")) \n",
    "    \n",
    "good_data = []\n",
    "res = []\n",
    "for idx, u in enumerate(vuln):\n",
    "    if good_storm_tweets(u) > 2:\n",
    "        good_data.append(u)\n",
    "    \n",
    "    sys.stderr.write(\"\\r\"+str(idx))\n",
    "\n",
    "sys.stderr.write(\"\\r\"+str(len(good_data))+\"                             \")\n",
    "\n",
    "for uName in sorted([u.user[0].lower() for u in good_data]):\n",
    "    print(uName)"
   ]
  },
  {
   "cell_type": "markdown",
   "metadata": {
    "collapsed": true
   },
   "source": [
    "# Create rules file from UID"
   ]
  },
  {
   "cell_type": "raw",
   "metadata": {},
   "source": [
    "rules = []\n",
    "these_rules = []\n",
    "for idx,u in enumerate(vuln):\n",
    "\n",
    "    rule = \"from:\"+u.uid[0]\n",
    "    these_rules.append(rule)\n",
    "    \n",
    "    if idx%25==0 and idx>0:\n",
    "        rules.append(\" OR \".join(these_rules))\n",
    "        these_rules = []\n",
    "\n",
    "output = []\n",
    "for r in rules:\n",
    "    output.append({\"value\":r})\n",
    "\n",
    "with open('../../GNIP/Sandy/NJ_GeoVulnerable_Contextual/rules.json','w') as oFile:\n",
    "    json.dump(output, oFile)"
   ]
  },
  {
   "cell_type": "code",
   "execution_count": null,
   "metadata": {
    "collapsed": true
   },
   "outputs": [],
   "source": []
  }
 ],
 "metadata": {
  "kernelspec": {
   "display_name": "Python 3",
   "language": "python",
   "name": "python3"
  },
  "language_info": {
   "codemirror_mode": {
    "name": "ipython",
    "version": 3
   },
   "file_extension": ".py",
   "mimetype": "text/x-python",
   "name": "python",
   "nbconvert_exporter": "python",
   "pygments_lexer": "ipython3",
   "version": "3.5.2"
  }
 },
 "nbformat": 4,
 "nbformat_minor": 1
}
