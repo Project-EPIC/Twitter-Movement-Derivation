{
 "cells": [
  {
   "cell_type": "markdown",
   "metadata": {},
   "source": [
    "# Are users home locations in Zone A (of Brevard?) "
   ]
  },
  {
   "cell_type": "code",
   "execution_count": 1,
   "metadata": {
    "collapsed": true
   },
   "outputs": [],
   "source": [
    "import pandas as pd; import numpy as np; from multiprocessing import Pool, Manager; import numpy as np; import geopandas as gpd\n",
    "import matplotlib.pyplot as plt; import seaborn as sns\n",
    "import matplotlib, os, json, sys, time, datetime\n",
    "from bson import json_util"
   ]
  },
  {
   "cell_type": "code",
   "execution_count": 3,
   "metadata": {
    "collapsed": true
   },
   "outputs": [],
   "source": [
    "input_directory = \"/data/chime/geo/matthew/brevard_zone_a_stage_2_temporal_clusters_with_home\"\n",
    "output_directory = \"/data/chime/geo/matthew/brevard_zone_a_geovulnerable\""
   ]
  },
  {
   "cell_type": "markdown",
   "metadata": {},
   "source": [
    "#### Import the ZoneA Geometry"
   ]
  },
  {
   "cell_type": "code",
   "execution_count": 5,
   "metadata": {
    "collapsed": false
   },
   "outputs": [
    {
     "data": {
      "text/plain": [
       "True"
      ]
     },
     "execution_count": 5,
     "metadata": {},
     "output_type": "execute_result"
    }
   ],
   "source": [
    "import fiona, shapely; from osgeo import ogr; from shapely.geometry import mapping, shape\n",
    "c = fiona.open('../ZoneA_Geometry/ZoneA/OGRGeoJSON.shp','r')\n",
    "pol = c.next(); zoneA = shape(pol['geometry']).buffer(0); zoneA.is_valid"
   ]
  },
  {
   "cell_type": "markdown",
   "metadata": {},
   "source": [
    "#### Import the user metadata DF (Phasing this out)"
   ]
  },
  {
   "cell_type": "code",
   "execution_count": 6,
   "metadata": {
    "collapsed": true
   },
   "outputs": [],
   "source": [
    "_user_meta = pd.read_json(input_directory+'/temporal_clustered_user_meta.json')"
   ]
  },
  {
   "cell_type": "code",
   "execution_count": 7,
   "metadata": {
    "collapsed": false
   },
   "outputs": [
    {
     "data": {
      "text/html": [
       "<div>\n",
       "<table border=\"1\" class=\"dataframe\">\n",
       "  <thead>\n",
       "    <tr style=\"text-align: right;\">\n",
       "      <th></th>\n",
       "      <th>home_cluster</th>\n",
       "      <th>tweets</th>\n",
       "      <th>uid</th>\n",
       "      <th>user</th>\n",
       "    </tr>\n",
       "  </thead>\n",
       "  <tbody>\n",
       "    <tr>\n",
       "      <th>0</th>\n",
       "      <td>1.0</td>\n",
       "      <td>14231</td>\n",
       "      <td>75153082</td>\n",
       "      <td>Andrewthemark</td>\n",
       "    </tr>\n",
       "    <tr>\n",
       "      <th>1</th>\n",
       "      <td>3.0</td>\n",
       "      <td>4934</td>\n",
       "      <td>54342579</td>\n",
       "      <td>frankieciv608</td>\n",
       "    </tr>\n",
       "    <tr>\n",
       "      <th>2</th>\n",
       "      <td>2.0</td>\n",
       "      <td>4566</td>\n",
       "      <td>45193878</td>\n",
       "      <td>NewYorkPuck</td>\n",
       "    </tr>\n",
       "  </tbody>\n",
       "</table>\n",
       "</div>"
      ],
      "text/plain": [
       "   home_cluster  tweets       uid           user\n",
       "0           1.0   14231  75153082  Andrewthemark\n",
       "1           3.0    4934  54342579  frankieciv608\n",
       "2           2.0    4566  45193878    NewYorkPuck"
      ]
     },
     "execution_count": 7,
     "metadata": {},
     "output_type": "execute_result"
    }
   ],
   "source": [
    "_user_meta = _user_meta.sort_index()\n",
    "_user_meta.head(3)"
   ]
  },
  {
   "cell_type": "markdown",
   "metadata": {},
   "source": [
    "## 0. Import all of the individual user dataframes"
   ]
  },
  {
   "cell_type": "code",
   "execution_count": 8,
   "metadata": {
    "collapsed": false
   },
   "outputs": [
    {
     "name": "stdout",
     "output_type": "stream",
     "text": [
      "Found 1258 users in /data/chime/geo/zone_a_users_stage_2_temporal_clusters_with_home\n"
     ]
    }
   ],
   "source": [
    "users_in = sorted(os.listdir(input_directory))\n",
    "users_in = [x for x in users_in if x != \"temporal_clustered_user_meta.json\"]\n",
    "print(\"Found {0} users in {1}\".format(len(users_in), input_directory))"
   ]
  },
  {
   "cell_type": "code",
   "execution_count": 24,
   "metadata": {
    "collapsed": true
   },
   "outputs": [],
   "source": [
    "def loader_function(args):\n",
    "    uFile, path, q = args\n",
    "    u = json.load(open(path+\"/\"+uFile,'r'))\n",
    "    tweets = []\n",
    "    for t in u['features']:\n",
    "        t['properties']['geometry'] = shape(t['geometry'])\n",
    "        t['properties']['date'] = pd.Timestamp(t['properties']['date'])\n",
    "        tweets.append(t['properties'])\n",
    "    q.put(1)\n",
    "    return gpd.GeoDataFrame(tweets)"
   ]
  },
  {
   "cell_type": "code",
   "execution_count": 25,
   "metadata": {
    "collapsed": false
   },
   "outputs": [
    {
     "name": "stderr",
     "output_type": "stream",
     "text": [
      "Processed: 1258, 100%"
     ]
    }
   ],
   "source": [
    "#Parallel runtime\n",
    "p = Pool(30)\n",
    "m = Manager()\n",
    "q = m.Queue()\n",
    "\n",
    "args = [(i, input_directory, q) for i in users_in]\n",
    "result = p.map_async(loader_function, args)\n",
    "\n",
    "# monitor loop\n",
    "while True:\n",
    "    if result.ready():\n",
    "        break\n",
    "    else:\n",
    "        size = q.qsize()\n",
    "        sys.stderr.write(\"\\rProcessed: {0}, {1:.3g}%\".format(size, size/len(args)*100))\n",
    "        time.sleep(0.5)\n",
    "sys.stderr.write(\"\\rProcessed: {0}, {1:.3g}%\".format(q.qsize(), q.qsize()/len(args)*100))\n",
    "users = result.get()\n",
    "p.close()"
   ]
  },
  {
   "cell_type": "code",
   "execution_count": 26,
   "metadata": {
    "collapsed": false
   },
   "outputs": [],
   "source": [
    "users.sort( key=lambda x: len(x), reverse=True ) "
   ]
  },
  {
   "cell_type": "markdown",
   "metadata": {},
   "source": [
    "`users` is an array of user dataframes. Now find which users have _home locations_ in Zone A"
   ]
  },
  {
   "cell_type": "code",
   "execution_count": 28,
   "metadata": {
    "collapsed": false
   },
   "outputs": [
    {
     "name": "stdout",
     "output_type": "stream",
     "text": [
      "962\n"
     ]
    },
    {
     "data": {
      "text/html": [
       "<div>\n",
       "<table border=\"1\" class=\"dataframe\">\n",
       "  <thead>\n",
       "    <tr style=\"text-align: right;\">\n",
       "      <th></th>\n",
       "      <th>cluster</th>\n",
       "      <th>cluster_center</th>\n",
       "      <th>coords</th>\n",
       "      <th>date</th>\n",
       "      <th>day_cluster</th>\n",
       "      <th>geo_delta</th>\n",
       "      <th>geometry</th>\n",
       "      <th>home_cluster_id</th>\n",
       "      <th>speed</th>\n",
       "      <th>text</th>\n",
       "      <th>time_delta</th>\n",
       "      <th>tweet_id</th>\n",
       "      <th>uid</th>\n",
       "      <th>user</th>\n",
       "    </tr>\n",
       "  </thead>\n",
       "  <tbody>\n",
       "    <tr>\n",
       "      <th>0</th>\n",
       "      <td>1.0</td>\n",
       "      <td>{\"coordinates\": [-73.9298395, 40.8522721481818...</td>\n",
       "      <td>[-73.9298417, 40.8522943]</td>\n",
       "      <td>2012-09-06 09:14:28+00:00</td>\n",
       "      <td>2</td>\n",
       "      <td>NaN</td>\n",
       "      <td>POINT (-73.9298417 40.8522943)</td>\n",
       "      <td>4.0</td>\n",
       "      <td>NaN</td>\n",
       "      <td>This movie is hilarious lol</td>\n",
       "      <td>NaN</td>\n",
       "      <td>243638286525034496</td>\n",
       "      <td>303492377</td>\n",
       "      <td>AntPulido</td>\n",
       "    </tr>\n",
       "  </tbody>\n",
       "</table>\n",
       "</div>"
      ],
      "text/plain": [
       "   cluster                                     cluster_center  \\\n",
       "0      1.0  {\"coordinates\": [-73.9298395, 40.8522721481818...   \n",
       "\n",
       "                      coords                      date  day_cluster  \\\n",
       "0  [-73.9298417, 40.8522943] 2012-09-06 09:14:28+00:00            2   \n",
       "\n",
       "   geo_delta                        geometry  home_cluster_id  speed  \\\n",
       "0        NaN  POINT (-73.9298417 40.8522943)              4.0    NaN   \n",
       "\n",
       "                          text  time_delta            tweet_id        uid  \\\n",
       "0  This movie is hilarious lol         NaN  243638286525034496  303492377   \n",
       "\n",
       "        user  \n",
       "0  AntPulido  "
      ]
     },
     "execution_count": 28,
     "metadata": {},
     "output_type": "execute_result"
    }
   ],
   "source": [
    "x = users[100]\n",
    "print(len(x))\n",
    "x.head(1)"
   ]
  },
  {
   "cell_type": "code",
   "execution_count": 29,
   "metadata": {
    "collapsed": false
   },
   "outputs": [
    {
     "data": {
      "text/plain": [
       "False"
      ]
     },
     "execution_count": 29,
     "metadata": {},
     "output_type": "execute_result"
    }
   ],
   "source": [
    "def get_home_cluster_center(userDF):\n",
    "    return shape(json.loads(userDF.query('cluster=='+str(userDF.home_cluster_id.values[0])).cluster_center.values[0]))\n",
    "\n",
    "get_home_cluster_center(users[0]).within(zoneA)"
   ]
  },
  {
   "cell_type": "markdown",
   "metadata": {},
   "source": [
    "## 1. Determine who's home cluster center is in Zone A"
   ]
  },
  {
   "cell_type": "code",
   "execution_count": 30,
   "metadata": {
    "collapsed": true
   },
   "outputs": [],
   "source": [
    "def insideZoneA(p):\n",
    "    if p==None:\n",
    "        return False\n",
    "    else:\n",
    "        return p.within(zoneA)"
   ]
  },
  {
   "cell_type": "code",
   "execution_count": 32,
   "metadata": {
    "collapsed": false
   },
   "outputs": [
    {
     "name": "stderr",
     "output_type": "stream",
     "text": [
      "Done...Identified 118 vulnerable users and 1140 non-vulnerable"
     ]
    }
   ],
   "source": [
    "vuln = []\n",
    "non_vuln = []\n",
    "for idx, u in enumerate(users):\n",
    "    if (insideZoneA(get_home_cluster_center(u))):\n",
    "        vuln.append(u)\n",
    "    else:\n",
    "        non_vuln.append(u)\n",
    "    sys.stderr.write(\"\\r\"+str(idx+1))\n",
    "sys.stderr.write(\"\\rDone...\")\n",
    "sys.stderr.write(\"Identified {0} vulnerable users and {1} non-vulnerable\".format(len(vuln),len(non_vuln)))"
   ]
  },
  {
   "cell_type": "code",
   "execution_count": 33,
   "metadata": {
    "collapsed": false
   },
   "outputs": [],
   "source": [
    "if not os.path.exists(output_directory):\n",
    "    os.mkdir(output_directory)"
   ]
  },
  {
   "cell_type": "markdown",
   "metadata": {},
   "source": [
    "## 2. Write out just the GeoVulnerable, just in case we need them for something later"
   ]
  },
  {
   "cell_type": "code",
   "execution_count": 36,
   "metadata": {
    "collapsed": false
   },
   "outputs": [
    {
     "name": "stderr",
     "output_type": "stream",
     "text": [
      "118 processed"
     ]
    }
   ],
   "source": [
    "for idx, u in enumerate(vuln):\n",
    "    with open(output_directory+\"/\"+u.user[0].lower()+'.geojson','w') as oFile:\n",
    "        oFile.write(u.to_json(default=json_util.default))\n",
    "    sys.stderr.write(\"\\r{0} processed\".format(idx+1))"
   ]
  },
  {
   "cell_type": "markdown",
   "metadata": {},
   "source": [
    "# 3. Prepare for Analysis\n",
    "\n",
    "All of these users should already exist in a format prepared for visualizing, these users can be pasted into Google Sheets"
   ]
  },
  {
   "cell_type": "code",
   "execution_count": 39,
   "metadata": {
    "collapsed": false
   },
   "outputs": [
    {
     "name": "stdout",
     "output_type": "stream",
     "text": [
      "_an_oak_tree_\n",
      "adrianamisoul\n",
      "agate86\n",
      "aladesnr\n",
      "alliegallo\n",
      "amanda_xtelle\n",
      "anas_a1\n",
      "arnellmilton\n",
      "beatzzzz\n",
      "beliebinfinate\n",
      "bencashfarouq\n",
      "brianaaanicolee\n",
      "bridgetekelly\n",
      "britescrnmedia\n",
      "carminenyc\n",
      "cavemanrobles\n",
      "chinkeyeyez3\n",
      "chissyn\n",
      "chrisrodemeyer\n",
      "cnysurvivor1\n",
      "continuumcycles\n",
      "cooper_smith\n",
      "dcamz5\n",
      "dee9996\n",
      "dem_callmi_tutu\n",
      "dj2020\n",
      "dj_vasquezz\n",
      "dommydom24\n",
      "eddiegeenyc\n",
      "edelsingh\n",
      "eelain212\n",
      "emmarocks\n",
      "explicit_clutch\n",
      "fanlyeduardo\n",
      "g0ttalov3him\n",
      "garyalonynyc\n",
      "georgiaafowler\n",
      "georgieeeninjaa\n",
      "gkor29\n",
      "grady_iv\n",
      "heatherjeanhd\n",
      "honeyberk\n",
      "jaclyn_collins\n",
      "jamesshowell\n",
      "japan2021\n",
      "jcelona_\n",
      "jevicak\n",
      "joemckinzie\n",
      "john_flip11\n",
      "jojohankey\n",
      "jonclarkjr\n",
      "jonmcl\n",
      "julianandsara\n",
      "justmealiseo\n",
      "katcatoure\n",
      "kflow94\n",
      "kmfmack\n",
      "ladygaga11228\n",
      "lalahearts\n",
      "laumc822\n",
      "laurakazam\n",
      "lauren_morra\n",
      "lindseyhankes\n",
      "loneladyrider\n",
      "lunaparkconeyis\n",
      "m3lissasays\n",
      "maderised\n",
      "mallorymcmorrow\n",
      "marky_mark34\n",
      "marotin507\n",
      "mikeviktorenko\n",
      "mkduffy518\n",
      "moishgeorge86\n",
      "morgansteve\n",
      "mrspuertorico\n",
      "muchotoomucho\n",
      "murphym45\n",
      "myluvisking\n",
      "mzmimi_82\n",
      "newyorkcpt\n",
      "nickvargas6\n",
      "nyicecream\n",
      "nyloves_1d\n",
      "nzavaa\n",
      "objorionto\n",
      "onicadiana\n",
      "pattyyunen\n",
      "porcelina1023\n",
      "princessdds\n",
      "pullacky\n",
      "rafat\n",
      "readyrock7\n",
      "realsarp\n",
      "rockawaytrading\n",
      "rollingstoned40\n",
      "sarahphara_tw\n",
      "sean_manion\n",
      "sfloridia98\n",
      "shes_ayee_shmut\n",
      "skiftnews\n",
      "smoshysydney\n",
      "sotnakny\n",
      "squish108\n",
      "stepliana\n",
      "t_o_m_3\n",
      "tabeek\n",
      "therealgowanus\n",
      "tiffhere\n",
      "tracygoldberg\n",
      "trimarchi023\n",
      "trinityboxing\n",
      "umakhouny\n",
      "uthmanbaksh\n",
      "wizbyf\n",
      "wsb66\n",
      "yamtempura\n",
      "ygross\n",
      "zacrivera\n"
     ]
    }
   ],
   "source": [
    "for uName in sorted([u.user[0].lower() for u in vuln]):\n",
    "    print(uName)"
   ]
  },
  {
   "cell_type": "code",
   "execution_count": 40,
   "metadata": {
    "collapsed": false
   },
   "outputs": [
    {
     "data": {
      "text/plain": [
       "118"
      ]
     },
     "execution_count": 40,
     "metadata": {},
     "output_type": "execute_result"
    }
   ],
   "source": [
    "len(vuln)"
   ]
  },
  {
   "cell_type": "code",
   "execution_count": null,
   "metadata": {
    "collapsed": true
   },
   "outputs": [],
   "source": []
  }
 ],
 "metadata": {
  "kernelspec": {
   "display_name": "IPython (Python 3)",
   "language": "python",
   "name": "python3"
  },
  "language_info": {
   "codemirror_mode": {
    "name": "ipython",
    "version": 3
   },
   "file_extension": ".py",
   "mimetype": "text/x-python",
   "name": "python",
   "nbconvert_exporter": "python",
   "pygments_lexer": "ipython3",
   "version": "3.4.3"
  }
 },
 "nbformat": 4,
 "nbformat_minor": 1
}
