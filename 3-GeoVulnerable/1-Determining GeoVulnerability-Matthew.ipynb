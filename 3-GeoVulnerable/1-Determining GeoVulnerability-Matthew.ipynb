{
 "cells": [
  {
   "cell_type": "markdown",
   "metadata": {},
   "source": [
    "# Are users home locations GeoVulnerable (Matthew)\n",
    "1. Brevard (ZoneA)\n",
    "1. Volusia County\n",
    "1. Martin, Palm Beach Counties\n",
    "\n",
    "### Failed?\n",
    "\n",
    "1. Duvall County\n",
    "\n",
    "### No Users?\n",
    "\n",
    "1. Martin, Palm Beach Counties (Inland)"
   ]
  },
  {
   "cell_type": "code",
   "execution_count": 95,
   "metadata": {
    "collapsed": true
   },
   "outputs": [],
   "source": [
    "import pandas as pd; import numpy as np; from multiprocessing import Pool, Manager; import numpy as np; import geopandas as gpd\n",
    "import matplotlib.pyplot as plt; import seaborn as sns\n",
    "import matplotlib, os, json, sys, time, datetime\n",
    "from bson import json_util"
   ]
  },
  {
   "cell_type": "code",
   "execution_count": 104,
   "metadata": {
    "collapsed": true
   },
   "outputs": [],
   "source": [
    "input_directory  = \"/data/chime/geo/matthew/brevard_zone_a_stage_2_temporal_clusters_with_home/\"\n",
    "output_directory = \"/data/chime/geo/matthew/brevard_zone_a_geovulnerable\""
   ]
  },
  {
   "cell_type": "markdown",
   "metadata": {},
   "source": [
    "#### Import the Geometry"
   ]
  },
  {
   "cell_type": "code",
   "execution_count": 105,
   "metadata": {
    "collapsed": false
   },
   "outputs": [
    {
     "data": {
      "text/plain": [
       "True"
      ]
     },
     "execution_count": 105,
     "metadata": {},
     "output_type": "execute_result"
    }
   ],
   "source": [
    "import fiona, shapely; from osgeo import ogr; from shapely.geometry import mapping, shape\n",
    "c = fiona.open('../EvacuationZones/FL_EvacZones/brevard_zone_a.shp','r')\n",
    "pol = c.next(); zoneA = shape(pol['geometry']).buffer(0); zoneA.is_valid"
   ]
  },
  {
   "cell_type": "code",
   "execution_count": 106,
   "metadata": {
    "collapsed": true
   },
   "outputs": [],
   "source": [
    "with open('/data/www/chime/tmp/output.geojson', 'w') as oFile:\n",
    "    json.dump(mapping(zoneA),oFile)"
   ]
  },
  {
   "cell_type": "markdown",
   "metadata": {},
   "source": [
    "#### Import the user metadata DF (Phasing this out)"
   ]
  },
  {
   "cell_type": "code",
   "execution_count": 107,
   "metadata": {
    "collapsed": true
   },
   "outputs": [],
   "source": [
    "_user_meta = pd.read_json(input_directory+'/temporal_clustered_user_meta.json')"
   ]
  },
  {
   "cell_type": "code",
   "execution_count": 108,
   "metadata": {
    "collapsed": false
   },
   "outputs": [
    {
     "data": {
      "text/html": [
       "<div>\n",
       "<table border=\"1\" class=\"dataframe\">\n",
       "  <thead>\n",
       "    <tr style=\"text-align: right;\">\n",
       "      <th></th>\n",
       "      <th>home_cluster</th>\n",
       "      <th>tweets</th>\n",
       "      <th>uid</th>\n",
       "      <th>user</th>\n",
       "    </tr>\n",
       "  </thead>\n",
       "  <tbody>\n",
       "    <tr>\n",
       "      <th>0</th>\n",
       "      <td>NaN</td>\n",
       "      <td>4824</td>\n",
       "      <td>563319506</td>\n",
       "      <td>CVSHealthJobs</td>\n",
       "    </tr>\n",
       "    <tr>\n",
       "      <th>1</th>\n",
       "      <td>NaN</td>\n",
       "      <td>4117</td>\n",
       "      <td>4754740136</td>\n",
       "      <td>ebbtidebot</td>\n",
       "    </tr>\n",
       "    <tr>\n",
       "      <th>2</th>\n",
       "      <td>69.0</td>\n",
       "      <td>3903</td>\n",
       "      <td>2924224280</td>\n",
       "      <td>SONICjobs</td>\n",
       "    </tr>\n",
       "  </tbody>\n",
       "</table>\n",
       "</div>"
      ],
      "text/plain": [
       "   home_cluster  tweets         uid           user\n",
       "0           NaN    4824   563319506  CVSHealthJobs\n",
       "1           NaN    4117  4754740136     ebbtidebot\n",
       "2          69.0    3903  2924224280      SONICjobs"
      ]
     },
     "execution_count": 108,
     "metadata": {},
     "output_type": "execute_result"
    }
   ],
   "source": [
    "_user_meta = _user_meta.sort_index()\n",
    "_user_meta.head(3)"
   ]
  },
  {
   "cell_type": "markdown",
   "metadata": {},
   "source": [
    "## 0. Import all of the individual user dataframes"
   ]
  },
  {
   "cell_type": "code",
   "execution_count": 109,
   "metadata": {
    "collapsed": false
   },
   "outputs": [
    {
     "name": "stdout",
     "output_type": "stream",
     "text": [
      "Found 82 users in /data/chime/geo/matthew/brevard_zone_a_stage_2_temporal_clusters_with_home/\n"
     ]
    }
   ],
   "source": [
    "users_in = sorted(os.listdir(input_directory))\n",
    "users_in = [x for x in users_in if x != \"temporal_clustered_user_meta.json\"]\n",
    "print(\"Found {0} users in {1}\".format(len(users_in), input_directory))"
   ]
  },
  {
   "cell_type": "code",
   "execution_count": 110,
   "metadata": {
    "collapsed": true
   },
   "outputs": [],
   "source": [
    "def loader_function(args):\n",
    "    uFile, path, q = args\n",
    "    u = json.load(open(path+\"/\"+uFile,'r'))\n",
    "    tweets = []\n",
    "    for t in u['features']:\n",
    "        t['properties']['geometry'] = shape(t['geometry'])\n",
    "        t['properties']['date'] = pd.Timestamp(t['properties']['date'])\n",
    "        tweets.append(t['properties'])\n",
    "    q.put(1)\n",
    "    return gpd.GeoDataFrame(tweets)"
   ]
  },
  {
   "cell_type": "code",
   "execution_count": 111,
   "metadata": {
    "collapsed": false
   },
   "outputs": [
    {
     "name": "stderr",
     "output_type": "stream",
     "text": [
      "Processed: 82, 100%"
     ]
    }
   ],
   "source": [
    "#Parallel runtime\n",
    "p = Pool(30)\n",
    "m = Manager()\n",
    "q = m.Queue()\n",
    "\n",
    "args = [(i, input_directory, q) for i in users_in]\n",
    "result = p.map_async(loader_function, args)\n",
    "\n",
    "# monitor loop\n",
    "while True:\n",
    "    if result.ready():\n",
    "        break\n",
    "    else:\n",
    "        size = q.qsize()\n",
    "        sys.stderr.write(\"\\rProcessed: {0}, {1:.3g}%\".format(size, size/len(args)*100))\n",
    "        time.sleep(0.5)\n",
    "sys.stderr.write(\"\\rProcessed: {0}, {1:.3g}%\".format(q.qsize(), q.qsize()/len(args)*100))\n",
    "users = result.get()\n",
    "p.close()"
   ]
  },
  {
   "cell_type": "code",
   "execution_count": 112,
   "metadata": {
    "collapsed": false
   },
   "outputs": [],
   "source": [
    "users.sort( key=lambda x: len(x), reverse=True ) "
   ]
  },
  {
   "cell_type": "markdown",
   "metadata": {},
   "source": [
    "`users` is an array of user dataframes. Now find which users have _home locations_ in Zone A"
   ]
  },
  {
   "cell_type": "code",
   "execution_count": 113,
   "metadata": {
    "collapsed": false
   },
   "outputs": [
    {
     "name": "stdout",
     "output_type": "stream",
     "text": [
      "179\n"
     ]
    },
    {
     "data": {
      "text/html": [
       "<div>\n",
       "<table border=\"1\" class=\"dataframe\">\n",
       "  <thead>\n",
       "    <tr style=\"text-align: right;\">\n",
       "      <th></th>\n",
       "      <th>cluster</th>\n",
       "      <th>cluster_center</th>\n",
       "      <th>coords</th>\n",
       "      <th>date</th>\n",
       "      <th>day_cluster</th>\n",
       "      <th>geo_delta</th>\n",
       "      <th>geometry</th>\n",
       "      <th>home_cluster_id</th>\n",
       "      <th>speed</th>\n",
       "      <th>text</th>\n",
       "      <th>time_delta</th>\n",
       "      <th>tweet_id</th>\n",
       "      <th>uid</th>\n",
       "      <th>user</th>\n",
       "    </tr>\n",
       "  </thead>\n",
       "  <tbody>\n",
       "    <tr>\n",
       "      <th>0</th>\n",
       "      <td>1.0</td>\n",
       "      <td>{\"type\": \"Point\", \"coordinates\": [-80.19171909...</td>\n",
       "      <td>[-80.1917191, 25.7735786]</td>\n",
       "      <td>2016-08-01 17:56:32+00:00</td>\n",
       "      <td>4</td>\n",
       "      <td>NaN</td>\n",
       "      <td>POINT (-80.1917191 25.7735786)</td>\n",
       "      <td>1.0</td>\n",
       "      <td>NaN</td>\n",
       "      <td>I'm jealous of these. But we have a surprises ...</td>\n",
       "      <td>NaN</td>\n",
       "      <td>760172374847287296</td>\n",
       "      <td>494083137</td>\n",
       "      <td>DieEpic</td>\n",
       "    </tr>\n",
       "  </tbody>\n",
       "</table>\n",
       "</div>"
      ],
      "text/plain": [
       "   cluster                                     cluster_center  \\\n",
       "0      1.0  {\"type\": \"Point\", \"coordinates\": [-80.19171909...   \n",
       "\n",
       "                      coords                      date  day_cluster  \\\n",
       "0  [-80.1917191, 25.7735786] 2016-08-01 17:56:32+00:00            4   \n",
       "\n",
       "   geo_delta                        geometry  home_cluster_id  speed  \\\n",
       "0        NaN  POINT (-80.1917191 25.7735786)              1.0    NaN   \n",
       "\n",
       "                                                text  time_delta  \\\n",
       "0  I'm jealous of these. But we have a surprises ...         NaN   \n",
       "\n",
       "             tweet_id        uid     user  \n",
       "0  760172374847287296  494083137  DieEpic  "
      ]
     },
     "execution_count": 113,
     "metadata": {},
     "output_type": "execute_result"
    }
   ],
   "source": [
    "x = users[10]\n",
    "print(len(x))\n",
    "x.head(1)"
   ]
  },
  {
   "cell_type": "code",
   "execution_count": 114,
   "metadata": {
    "collapsed": false
   },
   "outputs": [
    {
     "data": {
      "text/plain": [
       "False"
      ]
     },
     "execution_count": 114,
     "metadata": {},
     "output_type": "execute_result"
    }
   ],
   "source": [
    "def get_home_cluster_center(userDF):\n",
    "    return shape(json.loads(userDF.query('cluster=='+str(userDF.home_cluster_id.values[0])).cluster_center.values[0]))\n",
    "\n",
    "get_home_cluster_center(users[0]).within(zoneA)"
   ]
  },
  {
   "cell_type": "markdown",
   "metadata": {},
   "source": [
    "## 1. Determine who's home cluster center is in Zone A"
   ]
  },
  {
   "cell_type": "code",
   "execution_count": 115,
   "metadata": {
    "collapsed": true
   },
   "outputs": [],
   "source": [
    "def insideZoneA(p):\n",
    "    if p==None:\n",
    "        return False\n",
    "    else:\n",
    "        return p.within(zoneA)"
   ]
  },
  {
   "cell_type": "code",
   "execution_count": 116,
   "metadata": {
    "collapsed": false
   },
   "outputs": [
    {
     "name": "stderr",
     "output_type": "stream",
     "text": [
      "Done...Identified 12 vulnerable users and 70 non-vulnerable"
     ]
    }
   ],
   "source": [
    "vuln = []\n",
    "non_vuln = []\n",
    "for idx, u in enumerate(users):\n",
    "    if (insideZoneA(get_home_cluster_center(u))):\n",
    "        vuln.append(u)\n",
    "    else:\n",
    "        non_vuln.append(u)\n",
    "    sys.stderr.write(\"\\r\"+str(idx+1))\n",
    "sys.stderr.write(\"\\rDone...\")\n",
    "sys.stderr.write(\"Identified {0} vulnerable users and {1} non-vulnerable\".format(len(vuln),len(non_vuln)))"
   ]
  },
  {
   "cell_type": "code",
   "execution_count": 117,
   "metadata": {
    "collapsed": false
   },
   "outputs": [],
   "source": [
    "if not os.path.exists(output_directory):\n",
    "    os.mkdir(output_directory)"
   ]
  },
  {
   "cell_type": "markdown",
   "metadata": {},
   "source": [
    "## 2. Write out just the GeoVulnerable, just in case we need them for something later"
   ]
  },
  {
   "cell_type": "code",
   "execution_count": 118,
   "metadata": {
    "collapsed": true
   },
   "outputs": [],
   "source": [
    "def safe_mapping(p):\n",
    "    if p==None or np.isnan(p).any():\n",
    "        return None\n",
    "    else:\n",
    "        return mapping(p)"
   ]
  },
  {
   "cell_type": "code",
   "execution_count": 119,
   "metadata": {
    "collapsed": true
   },
   "outputs": [],
   "source": [
    "def safe_json_export(args):\n",
    "    df, path = args\n",
    "    df = df.copy()\n",
    "    uName = df.head(1).user.values[0].lower()\n",
    "    df['date'] = df['date'].apply(lambda t: datetime.datetime.strftime(t,'%Y-%m-%dT%H:%M:%SZ'))\n",
    "\n",
    "    clean = df.where((pd.notnull(df)), None)\n",
    "    geojson = {\"type\":\"FeatureCollection\",\"features\":[]}\n",
    "    for _, row in clean.iterrows():\n",
    "        geom = safe_mapping(row.geometry)\n",
    "        feature = {'type':'Feature',\n",
    "                   'geometry':geom,\n",
    "                   'properties':row.to_dict()\n",
    "                    }\n",
    "        del feature['properties']['geometry']\n",
    "        geojson['features'].append(feature)\n",
    "    \n",
    "    with open(path+\"/\"+uName+'.geojson','w') as oFile:\n",
    "        json.dump(geojson, oFile) "
   ]
  },
  {
   "cell_type": "code",
   "execution_count": 120,
   "metadata": {
    "collapsed": false
   },
   "outputs": [
    {
     "name": "stderr",
     "output_type": "stream",
     "text": [
      "12 processed"
     ]
    }
   ],
   "source": [
    "for idx, u in enumerate(vuln):\n",
    "    safe_json_export( (u, output_directory))\n",
    "    sys.stderr.write(\"\\r{0} processed\".format(idx+1))"
   ]
  },
  {
   "cell_type": "markdown",
   "metadata": {},
   "source": [
    "# 3. Prepare for Analysis\n",
    "\n",
    "All of these users should already exist in a format prepared for visualizing, these users can be pasted into Google Sheets"
   ]
  },
  {
   "cell_type": "code",
   "execution_count": 123,
   "metadata": {
    "collapsed": false
   },
   "outputs": [
    {
     "name": "stdout",
     "output_type": "stream",
     "text": [
      "babesnunez 7\n",
      "eproagi 7\n",
      "haleyraedancer 7\n",
      "jabhill 7\n",
      "jimananimal 7\n",
      "justfiberoptics 7\n",
      "kevinwoodin 7\n",
      "lvachna 7\n",
      "malcolmdenemark 7\n",
      "mrslick609 7\n",
      "ongrove 7\n",
      "sryland1987 7\n"
     ]
    }
   ],
   "source": [
    "for uName in sorted([u.user[0].lower() for u in vuln]):\n",
    "    print(uName)"
   ]
  },
  {
   "cell_type": "code",
   "execution_count": 122,
   "metadata": {
    "collapsed": false
   },
   "outputs": [
    {
     "data": {
      "text/plain": [
       "12"
      ]
     },
     "execution_count": 122,
     "metadata": {},
     "output_type": "execute_result"
    }
   ],
   "source": [
    "len(vuln)"
   ]
  },
  {
   "cell_type": "code",
   "execution_count": null,
   "metadata": {
    "collapsed": true
   },
   "outputs": [],
   "source": []
  }
 ],
 "metadata": {
  "kernelspec": {
   "display_name": "IPython (Python 3)",
   "language": "python",
   "name": "python3"
  },
  "language_info": {
   "codemirror_mode": {
    "name": "ipython",
    "version": 3
   },
   "file_extension": ".py",
   "mimetype": "text/x-python",
   "name": "python",
   "nbconvert_exporter": "python",
   "pygments_lexer": "ipython3",
   "version": "3.4.3"
  }
 },
 "nbformat": 4,
 "nbformat_minor": 1
}
