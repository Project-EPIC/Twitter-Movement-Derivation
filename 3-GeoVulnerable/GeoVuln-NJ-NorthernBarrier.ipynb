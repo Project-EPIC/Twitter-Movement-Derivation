{
 "cells": [
  {
   "cell_type": "markdown",
   "metadata": {},
   "source": [
    "# Are users home locations in Vulnerable Locations?"
   ]
  },
  {
   "cell_type": "code",
   "execution_count": 1,
   "metadata": {
    "collapsed": true
   },
   "outputs": [],
   "source": [
    "import pandas as pd; import numpy as np; from multiprocessing import Pool, Manager; import numpy as np; import geopandas as gpd\n",
    "import matplotlib.pyplot as plt; import seaborn as sns\n",
    "import matplotlib, os, json, sys, time, datetime\n",
    "from bson import json_util"
   ]
  },
  {
   "cell_type": "code",
   "execution_count": 2,
   "metadata": {
    "collapsed": true
   },
   "outputs": [],
   "source": [
    "input_directory  = \"/data/chime/geo2/PROCESSED/NJ/NorthernBarrier_Stage2/\"\n",
    "output_directory = \"/data/chime/geo2/PROCESSED/NJ/NorthernBarrier_Stage3/\"\n",
    "zoneGeometry     = \"../EvacuationZones/NewJersey/NJ_NorthernBarrier.shp\""
   ]
  },
  {
   "cell_type": "markdown",
   "metadata": {},
   "source": [
    "#### Import the ZoneA Geometry"
   ]
  },
  {
   "cell_type": "code",
   "execution_count": 3,
   "metadata": {},
   "outputs": [
    {
     "name": "stderr",
     "output_type": "stream",
     "text": [
      "/usr/local/lib/python3.5/dist-packages/ipykernel_launcher.py:3: DeprecationWarning: Collection.__next__() is buggy and will be removed in Fiona 2.0. Switch to `next(iter(collection))`.\n",
      "  This is separate from the ipykernel package so we can avoid doing imports until\n"
     ]
    },
    {
     "data": {
      "text/plain": [
       "True"
      ]
     },
     "execution_count": 3,
     "metadata": {},
     "output_type": "execute_result"
    }
   ],
   "source": [
    "import fiona, shapely; from osgeo import ogr; from shapely.geometry import mapping, shape\n",
    "c = fiona.open(zoneGeometry,'r')\n",
    "pol = c.next(); zone = shape(pol['geometry']).buffer(0); zone.is_valid"
   ]
  },
  {
   "cell_type": "markdown",
   "metadata": {},
   "source": [
    "#### Import the user metadata DF (Phasing this out)"
   ]
  },
  {
   "cell_type": "code",
   "execution_count": 4,
   "metadata": {
    "collapsed": true
   },
   "outputs": [],
   "source": [
    "_user_meta = pd.read_json(input_directory+'/temporal_clustered_user_meta.json')"
   ]
  },
  {
   "cell_type": "code",
   "execution_count": 5,
   "metadata": {},
   "outputs": [
    {
     "data": {
      "text/html": [
       "<div>\n",
       "<style>\n",
       "    .dataframe thead tr:only-child th {\n",
       "        text-align: right;\n",
       "    }\n",
       "\n",
       "    .dataframe thead th {\n",
       "        text-align: left;\n",
       "    }\n",
       "\n",
       "    .dataframe tbody tr th {\n",
       "        vertical-align: top;\n",
       "    }\n",
       "</style>\n",
       "<table border=\"1\" class=\"dataframe\">\n",
       "  <thead>\n",
       "    <tr style=\"text-align: right;\">\n",
       "      <th></th>\n",
       "      <th>home_cluster</th>\n",
       "      <th>home_cluster_coords</th>\n",
       "      <th>tweets</th>\n",
       "      <th>uid</th>\n",
       "      <th>user</th>\n",
       "    </tr>\n",
       "  </thead>\n",
       "  <tbody>\n",
       "    <tr>\n",
       "      <th>0</th>\n",
       "      <td>1.0</td>\n",
       "      <td>{\"type\": \"Point\", \"coordinates\": [-73.69247457...</td>\n",
       "      <td>14231</td>\n",
       "      <td>75153082</td>\n",
       "      <td>Andrewthemark</td>\n",
       "    </tr>\n",
       "    <tr>\n",
       "      <th>1</th>\n",
       "      <td>1.0</td>\n",
       "      <td>{\"type\": \"Point\", \"coordinates\": [-74.17544402...</td>\n",
       "      <td>3115</td>\n",
       "      <td>250117107</td>\n",
       "      <td>AmandaaTar</td>\n",
       "    </tr>\n",
       "    <tr>\n",
       "      <th>2</th>\n",
       "      <td>1.0</td>\n",
       "      <td>{\"type\": \"Point\", \"coordinates\": [-74.06380627...</td>\n",
       "      <td>2885</td>\n",
       "      <td>37586102</td>\n",
       "      <td>OfAllThingsAli</td>\n",
       "    </tr>\n",
       "  </tbody>\n",
       "</table>\n",
       "</div>"
      ],
      "text/plain": [
       "   home_cluster                                home_cluster_coords  tweets  \\\n",
       "0           1.0  {\"type\": \"Point\", \"coordinates\": [-73.69247457...   14231   \n",
       "1           1.0  {\"type\": \"Point\", \"coordinates\": [-74.17544402...    3115   \n",
       "2           1.0  {\"type\": \"Point\", \"coordinates\": [-74.06380627...    2885   \n",
       "\n",
       "         uid            user  \n",
       "0   75153082   Andrewthemark  \n",
       "1  250117107      AmandaaTar  \n",
       "2   37586102  OfAllThingsAli  "
      ]
     },
     "execution_count": 5,
     "metadata": {},
     "output_type": "execute_result"
    }
   ],
   "source": [
    "_user_meta = _user_meta.sort_index()\n",
    "_user_meta.head(3)"
   ]
  },
  {
   "cell_type": "markdown",
   "metadata": {},
   "source": [
    "## 0. Import all of the individual user dataframes"
   ]
  },
  {
   "cell_type": "code",
   "execution_count": 6,
   "metadata": {},
   "outputs": [
    {
     "name": "stdout",
     "output_type": "stream",
     "text": [
      "Found 601 users in /data/chime/geo2/PROCESSED/NJ/NorthernBarrier_Stage2/\n"
     ]
    }
   ],
   "source": [
    "users_in = sorted(os.listdir(input_directory))\n",
    "users_in = [x for x in users_in if x != \"temporal_clustered_user_meta.json\"]\n",
    "print(\"Found {0} users in {1}\".format(len(users_in), input_directory))"
   ]
  },
  {
   "cell_type": "code",
   "execution_count": 7,
   "metadata": {
    "collapsed": true
   },
   "outputs": [],
   "source": [
    "def loader_function(args):\n",
    "    uFile, path, q = args\n",
    "    u = json.load(open(path+\"/\"+uFile,'r'))\n",
    "    tweets = []\n",
    "    for t in u['features']:\n",
    "        if t['geometry']:\n",
    "            t['properties']['geometry'] = shape(t['geometry'])\n",
    "        t['properties']['date'] = pd.Timestamp(t['properties']['date'])\n",
    "        tweets.append(t['properties'])\n",
    "    q.put(1)\n",
    "    return gpd.GeoDataFrame(tweets)"
   ]
  },
  {
   "cell_type": "code",
   "execution_count": 8,
   "metadata": {},
   "outputs": [
    {
     "name": "stderr",
     "output_type": "stream",
     "text": [
      "Processed: 601, 100%%"
     ]
    }
   ],
   "source": [
    "#Parallel runtime\n",
    "p = Pool(30)\n",
    "m = Manager()\n",
    "q = m.Queue()\n",
    "\n",
    "args = [(i, input_directory, q) for i in users_in]\n",
    "result = p.map_async(loader_function, args)\n",
    "\n",
    "# monitor loop\n",
    "while True:\n",
    "    if result.ready():\n",
    "        break\n",
    "    else:\n",
    "        size = q.qsize()\n",
    "        sys.stderr.write(\"\\rProcessed: {0}, {1:.3g}%\".format(size, size/len(args)*100))\n",
    "        time.sleep(0.5)\n",
    "sys.stderr.write(\"\\rProcessed: {0}, {1:.3g}%\".format(q.qsize(), q.qsize()/len(args)*100))\n",
    "users = result.get()\n",
    "p.close()"
   ]
  },
  {
   "cell_type": "code",
   "execution_count": 9,
   "metadata": {},
   "outputs": [],
   "source": [
    "users.sort( key=lambda x: len(x), reverse=True ) "
   ]
  },
  {
   "cell_type": "markdown",
   "metadata": {},
   "source": [
    "`users` is an array of user dataframes. Now find which users have _home locations_ in Zone A"
   ]
  },
  {
   "cell_type": "code",
   "execution_count": 10,
   "metadata": {},
   "outputs": [
    {
     "name": "stdout",
     "output_type": "stream",
     "text": [
      "427\n"
     ]
    },
    {
     "data": {
      "text/html": [
       "<div>\n",
       "<style>\n",
       "    .dataframe thead tr:only-child th {\n",
       "        text-align: right;\n",
       "    }\n",
       "\n",
       "    .dataframe thead th {\n",
       "        text-align: left;\n",
       "    }\n",
       "\n",
       "    .dataframe tbody tr th {\n",
       "        vertical-align: top;\n",
       "    }\n",
       "</style>\n",
       "<table border=\"1\" class=\"dataframe\">\n",
       "  <thead>\n",
       "    <tr style=\"text-align: right;\">\n",
       "      <th></th>\n",
       "      <th>cluster</th>\n",
       "      <th>cluster_center</th>\n",
       "      <th>coords</th>\n",
       "      <th>date</th>\n",
       "      <th>day_cluster</th>\n",
       "      <th>geo_delta</th>\n",
       "      <th>geometry</th>\n",
       "      <th>home_cluster_id</th>\n",
       "      <th>speed</th>\n",
       "      <th>text</th>\n",
       "      <th>time_delta</th>\n",
       "      <th>tweet_id</th>\n",
       "      <th>uid</th>\n",
       "      <th>user</th>\n",
       "    </tr>\n",
       "  </thead>\n",
       "  <tbody>\n",
       "    <tr>\n",
       "      <th>0</th>\n",
       "      <td>1</td>\n",
       "      <td>{\"type\": \"Point\", \"coordinates\": [-73.98805997...</td>\n",
       "      <td>[-73.98840071, 40.29086906]</td>\n",
       "      <td>2012-10-07 18:55:53+00:00</td>\n",
       "      <td>10</td>\n",
       "      <td>NaN</td>\n",
       "      <td>POINT (-73.98840070999999 40.29086906)</td>\n",
       "      <td>1.0</td>\n",
       "      <td>NaN</td>\n",
       "      <td>What to wear tonight</td>\n",
       "      <td>NaN</td>\n",
       "      <td>255018629521874945</td>\n",
       "      <td>271088738</td>\n",
       "      <td>TasteMy_Ink</td>\n",
       "    </tr>\n",
       "  </tbody>\n",
       "</table>\n",
       "</div>"
      ],
      "text/plain": [
       "   cluster                                     cluster_center  \\\n",
       "0        1  {\"type\": \"Point\", \"coordinates\": [-73.98805997...   \n",
       "\n",
       "                        coords                      date  day_cluster  \\\n",
       "0  [-73.98840071, 40.29086906] 2012-10-07 18:55:53+00:00           10   \n",
       "\n",
       "   geo_delta                                geometry  home_cluster_id  speed  \\\n",
       "0        NaN  POINT (-73.98840070999999 40.29086906)              1.0    NaN   \n",
       "\n",
       "                   text  time_delta            tweet_id        uid  \\\n",
       "0  What to wear tonight         NaN  255018629521874945  271088738   \n",
       "\n",
       "          user  \n",
       "0  TasteMy_Ink  "
      ]
     },
     "execution_count": 10,
     "metadata": {},
     "output_type": "execute_result"
    }
   ],
   "source": [
    "x = users[100]\n",
    "print(len(x))\n",
    "x.head(1)"
   ]
  },
  {
   "cell_type": "code",
   "execution_count": 11,
   "metadata": {},
   "outputs": [
    {
     "data": {
      "text/plain": [
       "False"
      ]
     },
     "execution_count": 11,
     "metadata": {},
     "output_type": "execute_result"
    }
   ],
   "source": [
    "def get_home_cluster_center(userDF):\n",
    "    return shape(json.loads(userDF.query('cluster=='+str(userDF.home_cluster_id.values[0])).cluster_center.values[0]))\n",
    "\n",
    "get_home_cluster_center(users[0]).within(zone)"
   ]
  },
  {
   "cell_type": "markdown",
   "metadata": {},
   "source": [
    "## 1. Determine who's home cluster center is in ZONE"
   ]
  },
  {
   "cell_type": "code",
   "execution_count": 12,
   "metadata": {
    "collapsed": true
   },
   "outputs": [],
   "source": [
    "def insideZone(p):\n",
    "    if p==None:\n",
    "        return False\n",
    "    else:\n",
    "        return p.within(zone)"
   ]
  },
  {
   "cell_type": "code",
   "execution_count": 13,
   "metadata": {},
   "outputs": [
    {
     "name": "stderr",
     "output_type": "stream",
     "text": [
      "Done...Identified 304 vulnerable users and 297 non-vulnerable"
     ]
    }
   ],
   "source": [
    "vuln = []\n",
    "non_vuln = []\n",
    "for idx, u in enumerate(users):\n",
    "    if (insideZone(get_home_cluster_center(u))):\n",
    "        vuln.append(u)\n",
    "    else:\n",
    "        non_vuln.append(u)\n",
    "    sys.stderr.write(\"\\r\"+str(idx+1))\n",
    "sys.stderr.write(\"\\rDone...\")\n",
    "sys.stderr.write(\"Identified {0} vulnerable users and {1} non-vulnerable\".format(len(vuln),len(non_vuln)))"
   ]
  },
  {
   "cell_type": "code",
   "execution_count": 14,
   "metadata": {},
   "outputs": [],
   "source": [
    "if not os.path.exists(output_directory):\n",
    "    os.mkdir(output_directory)"
   ]
  },
  {
   "cell_type": "markdown",
   "metadata": {},
   "source": [
    "## 2. Write out just the GeoVulnerable, just in case we need them for something later"
   ]
  },
  {
   "cell_type": "code",
   "execution_count": 15,
   "metadata": {
    "collapsed": true
   },
   "outputs": [],
   "source": [
    "def safe_mapping(p):\n",
    "    if p==None or np.isnan(p).any():\n",
    "        return None\n",
    "    else:\n",
    "        return mapping(p)\n",
    "def safe_json_export(args):\n",
    "    df, path = args\n",
    "    df = df.copy()\n",
    "    uName = df.head(1).user.values[0].lower()\n",
    "    df['date'] = df['date'].apply(lambda t: datetime.datetime.strftime(t,'%Y-%m-%dT%H:%M:%SZ'))\n",
    "\n",
    "    clean = df.where((pd.notnull(df)), None)\n",
    "    geojson = {\"type\":\"FeatureCollection\",\"features\":[]}\n",
    "    for _, row in clean.iterrows():\n",
    "        geom = safe_mapping(row.geometry)\n",
    "        feature = {'type':'Feature',\n",
    "                   'geometry':geom,\n",
    "                   'properties':row.to_dict()\n",
    "                    }\n",
    "        del feature['properties']['geometry']\n",
    "        geojson['features'].append(feature)\n",
    "    \n",
    "    with open(path+\"/\"+uName+'.geojson','w') as oFile:\n",
    "        json.dump(geojson, oFile) "
   ]
  },
  {
   "cell_type": "code",
   "execution_count": 14,
   "metadata": {},
   "outputs": [
    {
     "ename": "NameError",
     "evalue": "name 'safe_json_export' is not defined",
     "output_type": "error",
     "traceback": [
      "\u001b[0;31m---------------------------------------------------------------------------\u001b[0m",
      "\u001b[0;31mNameError\u001b[0m                                 Traceback (most recent call last)",
      "\u001b[0;32m<ipython-input-14-dd119de8411a>\u001b[0m in \u001b[0;36m<module>\u001b[0;34m()\u001b[0m\n\u001b[1;32m      1\u001b[0m \u001b[0;32mfor\u001b[0m \u001b[0midx\u001b[0m\u001b[0;34m,\u001b[0m \u001b[0mu\u001b[0m \u001b[0;32min\u001b[0m \u001b[0menumerate\u001b[0m\u001b[0;34m(\u001b[0m\u001b[0mvuln\u001b[0m\u001b[0;34m)\u001b[0m\u001b[0;34m:\u001b[0m\u001b[0;34m\u001b[0m\u001b[0m\n\u001b[0;32m----> 2\u001b[0;31m     \u001b[0msafe_json_export\u001b[0m\u001b[0;34m(\u001b[0m\u001b[0;34m(\u001b[0m\u001b[0mu\u001b[0m\u001b[0;34m,\u001b[0m\u001b[0moutput_directory\u001b[0m\u001b[0;34m)\u001b[0m\u001b[0;34m)\u001b[0m\u001b[0;34m\u001b[0m\u001b[0m\n\u001b[0m\u001b[1;32m      3\u001b[0m     \u001b[0msys\u001b[0m\u001b[0;34m.\u001b[0m\u001b[0mstderr\u001b[0m\u001b[0;34m.\u001b[0m\u001b[0mwrite\u001b[0m\u001b[0;34m(\u001b[0m\u001b[0;34m\"\\r{0} processed\"\u001b[0m\u001b[0;34m.\u001b[0m\u001b[0mformat\u001b[0m\u001b[0;34m(\u001b[0m\u001b[0midx\u001b[0m\u001b[0;34m+\u001b[0m\u001b[0;36m1\u001b[0m\u001b[0;34m)\u001b[0m\u001b[0;34m)\u001b[0m\u001b[0;34m\u001b[0m\u001b[0m\n",
      "\u001b[0;31mNameError\u001b[0m: name 'safe_json_export' is not defined"
     ]
    }
   ],
   "source": [
    "for idx, u in enumerate(vuln):\n",
    "    safe_json_export((u,output_directory))\n",
    "    sys.stderr.write(\"\\r{0} processed\".format(idx+1))"
   ]
  },
  {
   "cell_type": "markdown",
   "metadata": {},
   "source": [
    "# 3. Prepare for Analysis\n",
    "\n",
    "All of these users should already exist in a format prepared for visualizing, these users can be pasted into Google Sheets"
   ]
  },
  {
   "cell_type": "code",
   "execution_count": 15,
   "metadata": {
    "scrolled": false
   },
   "outputs": [
    {
     "name": "stdout",
     "output_type": "stream",
     "text": [
      "2caseface7\n",
      "_asvplady\n",
      "_daniellevaldez\n",
      "acwelch\n",
      "alawsonn\n",
      "alexis_seitz\n",
      "alexrosenkranz\n",
      "allii_95\n",
      "allitimms\n",
      "amandawehnke\n",
      "amberaalonzo\n",
      "ameezys_girl_74\n",
      "americabheleem\n",
      "amyy1026\n",
      "amyywalshh\n",
      "andrew821\n",
      "angelmariex0\n",
      "angie_was_heree\n",
      "aprilydavis\n",
      "arexharris\n",
      "arozcoy\n",
      "ashleyguy__\n",
      "asianbrizl3\n",
      "ay_cayzie\n",
      "ayo_tahj\n",
      "ayymaloney\n",
      "barbershairport\n",
      "bbygrl_xoxo\n",
      "bbytripk\n",
      "belmardays\n",
      "benirvine\n",
      "bennehx3\n",
      "bfagan6\n",
      "bigffrank\n",
      "billyhoward423\n",
      "bkhomesteader\n",
      "bouchersteph13\n",
      "brian_perks\n",
      "brii_fi\n",
      "briiiv\n",
      "brittni_linn\n",
      "brooklynbridgex\n",
      "broxlan\n",
      "brycenihill\n",
      "c_it_my_way\n",
      "calllmejas_\n",
      "cameren6\n",
      "camposr1979\n",
      "caprimcqueen\n",
      "carleylarrison\n",
      "carlosmorillo\n",
      "caseadilia\n",
      "catherinep3rry\n",
      "catymogo\n",
      "chandlernichols\n",
      "charlottenagy\n",
      "chettyoubetcha\n",
      "chipzsullivan\n",
      "chris22_steve\n",
      "chrisalicious85\n",
      "chrissie115\n",
      "claire_reffitt\n",
      "cmccluskey18\n",
      "coastalartists\n",
      "comfortsleepnj\n",
      "connor_jryan\n",
      "coopersteinjess\n",
      "courtneyhabick\n",
      "cravejams\n",
      "crystalcadalzo\n",
      "crystaldmac\n",
      "d_fitz_187\n",
      "daddyjerzey\n",
      "dan_lukawski\n",
      "dannielleung\n",
      "david_pascale\n",
      "debhanaway\n",
      "deniseanndixon\n",
      "dentinodana\n",
      "dev_burns\n",
      "devenmccarthy\n",
      "dinamarie8\n",
      "dirtyrottenappl\n",
      "djmenson\n",
      "djmikeyshan\n",
      "djphilnappen\n",
      "dominicksolazzo\n",
      "donaldglenn12\n",
      "donde58\n",
      "drumplayer67\n",
      "dschwartz83\n",
      "dudestein1958\n",
      "dustinjkoch\n",
      "dwells6222\n",
      "dyeneic\n",
      "eatmeimasian\n",
      "edzipprich\n",
      "elena_hart\n",
      "emilyy_walsh\n",
      "erica_rae_\n",
      "evamanson\n",
      "fail_general\n",
      "faithnapolitano\n",
      "fay_bes\n",
      "filmfresser\n",
      "francehopper\n",
      "francocopuff\n",
      "frank2112\n",
      "frank_spin\n",
      "freakyyyg\n",
      "fredbee22\n",
      "fuentes_freddy\n",
      "gabbieniemczyk\n",
      "gebhala\n",
      "gianizg\n",
      "giggleyjordan\n",
      "gimmethecreeps\n",
      "giovannigmackg\n",
      "gloribee\n",
      "godsfetus\n",
      "gotmoney1\n",
      "greenstrings\n",
      "hannah_lynn96\n",
      "hannahward89\n",
      "hhayleyrose\n",
      "hillbecker\n",
      "hm_robison\n",
      "idkmybffjalex\n",
      "ienvision\n",
      "iiiedwin\n",
      "itsbbridget\n",
      "jackievanwagner\n",
      "jaclyn_desi\n",
      "jalisalkmarie\n",
      "jayburgoss\n",
      "jeffscottgould\n",
      "jelosy14a\n",
      "jennaericson\n",
      "jennnelli\n",
      "jennsurvive\n",
      "jessgeigs\n",
      "jessicaroseford\n",
      "jessj0nez\n",
      "jildofaggins\n",
      "jillianlgreen\n",
      "jjoblon\n",
      "johnnykucera\n",
      "johnridgeway\n",
      "johnschmelz\n",
      "jon_lazo\n",
      "joniclare\n",
      "jonnnybb\n",
      "jsthunder25\n",
      "juliechenoweth\n",
      "just_teevo\n",
      "justmeelexi001\n",
      "k8boyle\n",
      "kaitlinedgerly\n",
      "karlymcnamara\n",
      "kateflaherty24\n",
      "katmaloney1\n",
      "keating5\n",
      "keewi33\n",
      "kellycsogi\n",
      "kellymackiee\n",
      "kenspenlen\n",
      "kerryweiland\n",
      "khomannn\n",
      "kingg32\n",
      "kirstynshibla\n",
      "koolwoodz\n",
      "kpow508\n",
      "krys1o_\n",
      "kurtis_nj\n",
      "kylebowen18\n",
      "la_frin\n",
      "laara_pereira\n",
      "laurenbrattli\n",
      "laurensanti18\n",
      "laurentenenbaum\n",
      "layshea24\n",
      "leeannderthol\n",
      "leemitchh\n",
      "lennyseverino\n",
      "lexbree\n",
      "lildevos\n",
      "lisfink\n",
      "littlenicky208\n",
      "ljolevine\n",
      "lllaaaauuurrrr\n",
      "lmglasschroeder\n",
      "love192701\n",
      "lovesfranchot\n",
      "lovestheanswer\n",
      "luisfilipe_7\n",
      "lya_anderson\n",
      "mad_ballerr_max\n",
      "magikbus\n",
      "mahal_wilson\n",
      "makalieholman\n",
      "manuelemy\n",
      "mariabmontgum\n",
      "marshtompgombos\n",
      "matt_leo_18\n",
      "mattdavi1\n",
      "mattphadams\n",
      "mayhem4music\n",
      "mdcspace\n",
      "mdrew_nelson\n",
      "mhoran921\n",
      "mhss39\n",
      "michaelludwig21\n",
      "michaelsprauld2\n",
      "mike_caprio\n",
      "mikec0rnelius\n",
      "miltonmorais\n",
      "missquixotic\n",
      "mizlizzy\n",
      "moesalama\n",
      "moonlightchef\n",
      "morgandube\n",
      "mrmartyparty\n",
      "msrockherhips\n",
      "mynameisluissss\n",
      "nellolikejello\n",
      "neverenoughmktg\n",
      "newjerseynate\n",
      "nickbreezyyy\n",
      "nickyyleigh\n",
      "niiicolecapurso\n",
      "notfakebprince\n",
      "obeydaniel16\n",
      "ofallthingsali\n",
      "oliviasacaridis\n",
      "omgitssjadee\n",
      "onacitaveoz\n",
      "ortizmike12\n",
      "out4stacks\n",
      "paolod323\n",
      "pattymaldjian\n",
      "pattyp9232745\n",
      "paulseyffart\n",
      "pg_yolo\n",
      "pjkelly18\n",
      "pjsjr1\n",
      "puckstoppin34\n",
      "pulleez\n",
      "queenb732\n",
      "quinnvaticanox3\n",
      "r_l_c\n",
      "rambo1865\n",
      "realjmac247\n",
      "rebecca_weiner\n",
      "rebecccamarilyn\n",
      "rfollers\n",
      "richardtfalls\n",
      "rubi_domo55\n",
      "ruiz22\n",
      "ryandubicki\n",
      "rydoyylee\n",
      "samantha_lynn07\n",
      "samgabbay\n",
      "samk732\n",
      "saraheastcoast\n",
      "sarnooo\n",
      "sarrschneiderxo\n",
      "sbonora35\n",
      "scottykirschner\n",
      "seanpkennedy2\n",
      "seresagrillo\n",
      "sk8tergirl4321\n",
      "socialgenius\n",
      "stephdigiorgio\n",
      "stephentobias0\n",
      "stephhsavvy\n",
      "sutahonthebeach\n",
      "swimngolf\n",
      "syofa\n",
      "tastemy_ink\n",
      "tayylloor922\n",
      "tessabadrabo\n",
      "thatscassforya\n",
      "theepinkprinces\n",
      "thejryayo\n",
      "thelarryshows\n",
      "theonlyjone\n",
      "therat959\n",
      "theresaaaa_32\n",
      "theresafowler\n",
      "tindysly\n",
      "tocororo1931\n",
      "traceyknits\n",
      "tradledee85\n",
      "truemiamian\n",
      "veryprive\n",
      "willcabs\n",
      "willrotolo11\n",
      "xo_ashleynichol\n",
      "yoloconclusion\n",
      "young_kevc\n",
      "yussfigueroa\n",
      "zackhoff3\n",
      "zonalax\n",
      "zultanextreme\n"
     ]
    }
   ],
   "source": [
    "for uName in sorted([u.user[0].lower() for u in vuln]):\n",
    "    print(uName)"
   ]
  },
  {
   "cell_type": "code",
   "execution_count": 18,
   "metadata": {},
   "outputs": [
    {
     "data": {
      "text/plain": [
       "304"
      ]
     },
     "execution_count": 18,
     "metadata": {},
     "output_type": "execute_result"
    }
   ],
   "source": [
    "len(vuln)"
   ]
  },
  {
   "cell_type": "code",
   "execution_count": 18,
   "metadata": {},
   "outputs": [
    {
     "name": "stderr",
     "output_type": "stream",
     "text": [
      "258"
     ]
    },
    {
     "name": "stdout",
     "output_type": "stream",
     "text": [
      "\n",
      "72\n",
      "acwelch\n",
      "alexis_seitz\n",
      "allii_95\n",
      "amyywalshh\n",
      "ashleyguy__\n",
      "ayo_tahj\n",
      "barbershairport\n",
      "brian_perks\n",
      "briiiv\n",
      "brooklynbridgex\n",
      "c_it_my_way\n",
      "carleylarrison\n",
      "caseadilia\n",
      "catherinep3rry\n",
      "chandlernichols\n",
      "coopersteinjess\n",
      "cravejams\n",
      "crystaldmac\n",
      "devenmccarthy\n",
      "djphilnappen\n",
      "dominicksolazzo\n",
      "donaldglenn12\n",
      "dwells6222\n",
      "eatmeimasian\n",
      "faithnapolitano\n",
      "filmfresser\n",
      "frank_spin\n",
      "fuentes_freddy\n",
      "giggleyjordan\n",
      "godsfetus\n",
      "gotmoney1\n",
      "jaclyn_desi\n",
      "jeffscottgould\n",
      "jennnelli\n",
      "jennsurvive\n",
      "jillianlgreen\n",
      "jsthunder25\n",
      "kaitlinedgerly\n",
      "karlymcnamara\n",
      "katmaloney1\n",
      "kellycsogi\n",
      "kellymackiee\n",
      "laurensanti18\n",
      "laurentenenbaum\n",
      "leeannderthol\n",
      "leemitchh\n",
      "lennyseverino\n",
      "lya_anderson\n",
      "mad_ballerr_max\n",
      "mariabmontgum\n",
      "mattphadams\n",
      "mike_caprio\n",
      "missquixotic\n",
      "morgandube\n",
      "mynameisluissss\n",
      "neverenoughmktg\n",
      "nickbreezyyy\n",
      "niiicolecapurso\n",
      "ofallthingsali\n",
      "pg_yolo\n",
      "pjkelly18\n",
      "rebecccamarilyn\n",
      "rydoyylee\n",
      "samk732\n",
      "sarnooo\n",
      "seanpkennedy2\n",
      "stephdigiorgio\n",
      "tayylloor922\n",
      "theepinkprinces\n",
      "theonlyjone\n",
      "yussfigueroa\n",
      "zackhoff3\n"
     ]
    },
    {
     "name": "stderr",
     "output_type": "stream",
     "text": [
      "\r",
      "259\r",
      "260\r",
      "261\r",
      "262\r",
      "263\r",
      "264\r",
      "265\r",
      "266\r",
      "267\r",
      "268\r",
      "269\r",
      "270\r",
      "271\r",
      "272\r",
      "273\r",
      "274\r",
      "275\r",
      "276\r",
      "277\r",
      "278\r",
      "279\r",
      "280\r",
      "281\r",
      "282\r",
      "283\r",
      "284\r",
      "285\r",
      "286\r",
      "287\r",
      "288\r",
      "289\r",
      "290\r",
      "291\r",
      "292\r",
      "293\r",
      "294\r",
      "295\r",
      "296\r",
      "297\r",
      "298\r",
      "299\r",
      "300\r",
      "301\r",
      "302\r",
      "303"
     ]
    }
   ],
   "source": [
    "def good_storm_tweets(userDF):\n",
    "    return len(userDF.query(\"date > 201210300000 & date < 201210310000\")) \n",
    "    \n",
    "good_data = []\n",
    "res = []\n",
    "for idx, u in enumerate(vuln):\n",
    "    if good_storm_tweets(u) > 2:\n",
    "        good_data.append(u)\n",
    "    \n",
    "    sys.stderr.write(\"\\r\"+str(idx))\n",
    "\n",
    "print()\n",
    "print(str(len(good_data)))\n",
    "for uName in sorted([u.user[0].lower() for u in good_data]):\n",
    "    print(uName)\n"
   ]
  },
  {
   "cell_type": "markdown",
   "metadata": {
    "collapsed": true
   },
   "source": [
    "# Create rules file from UID"
   ]
  },
  {
   "cell_type": "code",
   "execution_count": 19,
   "metadata": {},
   "outputs": [],
   "source": [
    "rules = []\n",
    "these_rules = []\n",
    "for idx,u in enumerate(vuln):\n",
    "\n",
    "    rule = \"from:\"+u.uid[0]\n",
    "    these_rules.append(rule)\n",
    "    \n",
    "    if idx%25==0 and idx>0:\n",
    "        rules.append(\" OR \".join(these_rules))\n",
    "        these_rules = []\n",
    "\n",
    "output = []\n",
    "for r in rules:\n",
    "    output.append({\"value\":r})\n",
    "\n",
    "with open('../../GNIP/Sandy/NJ_GeoVulnerable_Contextual/rules.json','w') as oFile:\n",
    "    json.dump(output, oFile)"
   ]
  },
  {
   "cell_type": "code",
   "execution_count": null,
   "metadata": {
    "collapsed": true
   },
   "outputs": [],
   "source": []
  }
 ],
 "metadata": {
  "kernelspec": {
   "display_name": "Python 3",
   "language": "python",
   "name": "python3"
  },
  "language_info": {
   "codemirror_mode": {
    "name": "ipython",
    "version": 3
   },
   "file_extension": ".py",
   "mimetype": "text/x-python",
   "name": "python",
   "nbconvert_exporter": "python",
   "pygments_lexer": "ipython3",
   "version": "3.5.2"
  }
 },
 "nbformat": 4,
 "nbformat_minor": 1
}
