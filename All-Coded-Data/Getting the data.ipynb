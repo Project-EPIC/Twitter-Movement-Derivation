{
 "cells": [
  {
   "cell_type": "code",
   "execution_count": 2,
   "metadata": {},
   "outputs": [],
   "source": [
    "import os, json"
   ]
  },
  {
   "cell_type": "markdown",
   "metadata": {},
   "source": [
    "## Getting all the coded data to match the spreadsheets\n",
    "\n",
    "### Users from \n",
    "`CHIME / Social Media Data Analysis / Movement Derivation `\n",
    "\n",
    "```\n",
    "- ZoneB GeoVulnerable (Sandy)         | Empty\n",
    "- ZoneA GeoVulnerable (Sandy)         | OLD: '/data/www/chime/movement-derivation/sandy_zone_a_contextual/' \n",
    "                                        NEW: /data/chime/geo2/PROCESSED/NYC/ZoneA_Stage3\n",
    "- New Jersey GeoVulnerable (Sandy)    | '/data/www/chime/movement-\n",
    "                                                            derivation/sandy_new_jersey_geo_vulnerable_contextual'\n",
    "- New Jersey - V2 (Sandy)             | '/data/chime/geo2/PROCESSED/NJ/ *Stage3'\n",
    "- Matthew (Not Contextual)            | '/data/www/chime/movement-derivation/matthew/geovulnerable'\n",
    "- Matthew - V2                        | '/data/chime/geo2/PROCESSED/FL/ *Stage3*'\n",
    "- Matthew - Savannah                  | '/data/chime/geo2/PROCESSED/GA/savannah_Stage3'\n",
    "- Irma - MiamiDate                    | '/data/chime/geo2/NEW/IRMA-STORMPATH2'\n",
    "- Harvey - EvaucationCounties         | '/data/chime/geo2/NEW/HARVEY2/'\n",
    "```"
   ]
  },
  {
   "cell_type": "code",
   "execution_count": 61,
   "metadata": {},
   "outputs": [],
   "source": [
    "## First, Identify all of the data files on Epic-Analytics\n",
    "file_locations = ['/data/chime/geo2/PROCESSED/NYC/ZoneA_Stage3/',\n",
    "                  '/data/chime/geo/zone_a_geo_vulnerable_users/',\n",
    "                  '/data/chime/geo/sandy_new_jersey_coastline_users_geovulnerable/',\n",
    "                  '/data/www/chime/movement-derivation/sandy_new_jersey_geo_vulnerable_contextual/',\n",
    "                  '/data/chime/geo2/PROCESSED/NJ/AtlanticCity_Stage3/',\n",
    "                  '/data/chime/geo2/PROCESSED/NJ/Brigantine_Stage3/',\n",
    "                  '/data/chime/geo2/PROCESSED/NJ/CentralInterior_Stage3/',\n",
    "                  '/data/chime/geo2/PROCESSED/NJ/NorthernBarrier_Stage3/',\n",
    "                  '/data/chime/geo2/PROCESSED/NJ/SouthernBarrier_Stage3/',\n",
    "                  '/data/chime/geo2/PROCESSED/NJ/NorthernInterior_Stage3/',\n",
    "                  '/data/www/chime/movement-derivation/matthew/geovulnerable/brevard/',\n",
    "                  '/data/www/chime/movement-derivation/matthew/geovulnerable/volusia_county/',\n",
    "                  '/data/www/chime/movement-derivation/matthew/geovulnerable/martin_palm_beach/',\n",
    "                  '/data/chime/geo2/PROCESSED/FL/brevard_zone_a_Stage3/',\n",
    "                  '/data/chime/geo2/PROCESSED/FL/duvall_county_Stage3/',\n",
    "                  '/data/chime/geo2/PROCESSED/FL/indian_martin_lucie_counties_Stage3/',\n",
    "                  '/data/chime/geo2/PROCESSED/FL/martin_palm_beach_counties_Stage3/',\n",
    "                  '/data/chime/geo2/PROCESSED/FL/volusia_county_Stage3/',\n",
    "                  '/data/chime/geo2/PROCESSED/GA/savannah_Stage3/',\n",
    "                  '/data/chime/geo2/NEW/IRMA-STORMPATH2/',\n",
    "                  '/data/chime/geo2/NEW/HARVEY2/',\n",
    "                  './user-metadata-2/'\n",
    "                  ]"
   ]
  },
  {
   "cell_type": "code",
   "execution_count": 62,
   "metadata": {},
   "outputs": [
    {
     "name": "stdout",
     "output_type": "stream",
     "text": [
      "STATUS:  4183 11117\n"
     ]
    }
   ],
   "source": [
    "ALL_USERS = {}\n",
    "ALL_METAS = {}\n",
    "for directory in file_locations:\n",
    "    for file in os.listdir(directory):\n",
    "        if file.endswith('-meta.geojson'):\n",
    "            userName = file[0:-13]\n",
    "            ALL_METAS[userName] = json.load(open(directory+file,'r'))\n",
    "        else:\n",
    "            userName = file[0:-8]\n",
    "            ALL_USERS[userName] = json.load(open(directory+file,'r'))\n",
    "            \n",
    "print(\"STATUS: \", len(ALL_USERS), len(ALL_METAS) )"
   ]
  },
  {
   "cell_type": "code",
   "execution_count": 63,
   "metadata": {},
   "outputs": [
    {
     "name": "stdout",
     "output_type": "stream",
     "text": [
      "sean_manion {'type': 'Feature', 'properties': {'likelyHome': True}, 'geometry': {'type': 'Point', 'coordinates': [-73.97898749941177, 40.7268292182353]}} 43\n"
     ]
    }
   ],
   "source": [
    "TOGETHER = {}\n",
    "for uName, tweets in ALL_USERS.items():\n",
    "    together = {\n",
    "        'user':uName,\n",
    "        'meta':ALL_METAS[uName],\n",
    "        'tweets':tweets\n",
    "    }\n",
    "    TOGETHER[uName] = together\n",
    "test = TOGETHER[list(TOGETHER.keys())[1]]\n",
    "\n",
    "print(test['user'],test['meta'],len(test['tweets']['features']))"
   ]
  },
  {
   "cell_type": "code",
   "execution_count": null,
   "metadata": {},
   "outputs": [],
   "source": [
    "for uName, props in TOGETHER.items():\n",
    "    json.dump(props,open(\"all_users/\"+uName+\".json\",'w'))"
   ]
  },
  {
   "cell_type": "markdown",
   "metadata": {},
   "source": [
    "# 1. Convert v1 features into the `-meta.geojson` format\n",
    "```\n",
    "{\n",
    "  \"type\": \"FeatureCollection\",\n",
    "  \"features\": [\n",
    "    {\n",
    "      \"type\": \"Feature\",\n",
    "      \"properties\": {\n",
    "        \"cluster\": 0,\n",
    "        \"clusterCenter\": true,\n",
    "        \"tweetCount\": 18,\n",
    "        \"likelyHome\": true,\n",
    "        \"likelyWork\": true\n",
    "      },\n",
    "      \"geometry\": {\n",
    "        \"type\": \"Point\",\n",
    "        \"coordinates\": [\n",
    "          -80.19088571333334,\n",
    "          25.76313888333333\n",
    "        ]\n",
    "      }\n",
    "    }\n",
    "```\n",
    "### Get all the user metadata into the right place"
   ]
  },
  {
   "cell_type": "code",
   "execution_count": 8,
   "metadata": {},
   "outputs": [],
   "source": [
    "for file in os.listdir('user-metadata'):\n",
    "    username = file[0:-8]\n",
    "    with open('user-metadata/'+file,'r') as inFile:\n",
    "        geometry = json.load(inFile)\n",
    "        feature = {\n",
    "            'type':'Feature',\n",
    "            'properties':{\n",
    "                'likelyHome':True\n",
    "            },\n",
    "            'geometry':geometry\n",
    "        }\n",
    "        with open('user-metadata-2/'+username+'-meta.geojson','w') as outFile:\n",
    "            json.dump(feature,outFile)"
   ]
  }
 ],
 "metadata": {
  "kernelspec": {
   "display_name": "Python 3",
   "language": "python",
   "name": "python3"
  },
  "language_info": {
   "codemirror_mode": {
    "name": "ipython",
    "version": 3
   },
   "file_extension": ".py",
   "mimetype": "text/x-python",
   "name": "python",
   "nbconvert_exporter": "python",
   "pygments_lexer": "ipython3",
   "version": "3.6.3"
  }
 },
 "nbformat": 4,
 "nbformat_minor": 2
}
