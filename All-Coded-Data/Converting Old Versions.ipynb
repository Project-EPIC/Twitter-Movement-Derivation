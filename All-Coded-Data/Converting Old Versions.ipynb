{
 "cells": [
  {
   "cell_type": "code",
   "execution_count": 1,
   "metadata": {},
   "outputs": [],
   "source": [
    "import json, os"
   ]
  },
  {
   "cell_type": "code",
   "execution_count": 5,
   "metadata": {},
   "outputs": [],
   "source": [
    "tweets = []\n",
    "for line in open(\"ikhoibui.jsonl\",'r'):\n",
    "    t  = json.loads(line)\n",
    "    tweets.append(t)"
   ]
  },
  {
   "cell_type": "code",
   "execution_count": 8,
   "metadata": {},
   "outputs": [
    {
     "name": "stdout",
     "output_type": "stream",
     "text": [
      "GeoCount:  1798\n"
     ]
    }
   ],
   "source": [
    "featCollection = {'type':'FeatureCollection','features':[]}\n",
    "\n",
    "feats = process_user(tweets)"
   ]
  },
  {
   "cell_type": "code",
   "execution_count": 15,
   "metadata": {},
   "outputs": [],
   "source": [
    "featCollection['features'] = list(reversed(feats))"
   ]
  },
  {
   "cell_type": "code",
   "execution_count": 16,
   "metadata": {},
   "outputs": [],
   "source": [
    "json.dump(featCollection, open('/data/www/jennings/ikhoibui.geojson', 'w'))"
   ]
  },
  {
   "cell_type": "code",
   "execution_count": 7,
   "metadata": {},
   "outputs": [],
   "source": [
    "def tweet_to_feature(tweet):\n",
    "    #Handle geo/coordinate info\n",
    "    geo = None\n",
    "    if 'coordinates' in tweet:\n",
    "        if tweet['coordinates']:\n",
    "            geo = tweet['coordinates']\n",
    "    else:\n",
    "        if 'geo' in tweet:\n",
    "            if tweet['geo']:\n",
    "                geo = {'type':'Point',\n",
    "                       'coordinates': reversed(tweet['geo']['coordinates'])}\n",
    "    return {\n",
    "        'type':'Feature',\n",
    "        'properties':{\n",
    "            'user':tweet['user']['screen_name'],\n",
    "            'date':tweet['created_at'],\n",
    "            'text':tweet['text'],\n",
    "            'tweetID':tweet['id_str']\n",
    "        },\n",
    "        'geometry':geo\n",
    "    }, geo\n",
    "\n",
    "\n",
    "def process_user(tweets):\n",
    "    features = []\n",
    "    ids   = [];\n",
    "    geoCount = 0;\n",
    "\n",
    "    for tweet in tweets:\n",
    "\n",
    "        ids.append(tweet['id_str']) #Debugging\n",
    "\n",
    "        #Convert to geojson\n",
    "        tweet_feature, geo = tweet_to_feature(tweet)\n",
    "        if geo:\n",
    "            geoCount += 1;\n",
    "        features.append(tweet_feature)\n",
    "        \n",
    "    print(\"GeoCount: \",geoCount)\n",
    "    return features"
   ]
  },
  {
   "cell_type": "code",
   "execution_count": null,
   "metadata": {},
   "outputs": [],
   "source": []
  }
 ],
 "metadata": {
  "kernelspec": {
   "display_name": "Python 3",
   "language": "python",
   "name": "python3"
  },
  "language_info": {
   "codemirror_mode": {
    "name": "ipython",
    "version": 3
   },
   "file_extension": ".py",
   "mimetype": "text/x-python",
   "name": "python",
   "nbconvert_exporter": "python",
   "pygments_lexer": "ipython3",
   "version": "3.6.3"
  }
 },
 "nbformat": 4,
 "nbformat_minor": 2
}
