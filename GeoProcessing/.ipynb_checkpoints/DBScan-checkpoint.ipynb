{
 "cells": [
  {
   "cell_type": "markdown",
   "metadata": {},
   "source": [
    "# DBScan: Cluster Analysis of every user's location\n",
    "\n",
    "Using DBScan, find spatial clusters relevant to each user, typically home, work, or school"
   ]
  },
  {
   "cell_type": "code",
   "execution_count": 271,
   "metadata": {
    "collapsed": false
   },
   "outputs": [
    {
     "data": {
      "text/plain": [
       "<module 'dbscan_python.dbscan' from '/home/anderstj/VulnerableLocations/GeoProcessing/dbscan_python/dbscan.py'>"
      ]
     },
     "execution_count": 271,
     "metadata": {},
     "output_type": "execute_result"
    }
   ],
   "source": [
    "import threading, json, os, imp\n",
    "import numpy as np\n",
    "from dbscan_python import dbscan\n",
    "imp.reload(dbscan)"
   ]
  },
  {
   "cell_type": "code",
   "execution_count": 272,
   "metadata": {
    "collapsed": false
   },
   "outputs": [
    {
     "data": {
      "text/plain": [
       "22042"
      ]
     },
     "execution_count": 272,
     "metadata": {},
     "output_type": "execute_result"
    }
   ],
   "source": [
    "userList = os.listdir('../zone_a_twitterers/')\n",
    "len(userList)"
   ]
  },
  {
   "cell_type": "code",
   "execution_count": 269,
   "metadata": {
    "collapsed": false
   },
   "outputs": [],
   "source": [
    "class UserClustering(threading.Thread):\n",
    "    def __init__(self, file_name):\n",
    "        threading.Thread.__init__(self)\n",
    "        self.file_name = file_name\n",
    "        self.tweets = {}\n",
    "        \n",
    "    def get_clusters(self):\n",
    "        points = [tweet['geometry']['coordinates'] for tweet in self.tweets]\n",
    "        m = np.array([ [p[1] for p in points], [p[0] for p in points] ])\n",
    "        eps = 100     #Max. Distance for points in the cluster...                                                                                                                   \n",
    "        min_points = 5  \n",
    "        self.clusters = dbscan.dbscan(m, eps, min_points)\n",
    "        \n",
    "    def enrich_tweet_properties_with_cluster(self):\n",
    "        for idx, tweet in enumerate(self.tweets):\n",
    "            tweet['properties']['cluster'] = self.clusters[idx]\n",
    "            del tweet['properties']['gnip']\n",
    "            \n",
    "    def write_clustered_geojson(self):\n",
    "        with open('../zone_a_clustered_5pts/'+self.file_name,'w') as outFile:\n",
    "            outFile.write(json.dumps({\"type\":\"FeatureCollection\", \"features\":self.tweets}))\n",
    "    \n",
    "    def run(self):\n",
    "        with open('../zone_a_twitterers/'+self.file_name,'r') as inFile:\n",
    "            self.tweets = json.loads(inFile.read())['features']\n",
    "        self.get_clusters()\n",
    "        self.enrich_tweet_properties_with_cluster()\n",
    "        self.write_clustered_geojson()"
   ]
  },
  {
   "cell_type": "code",
   "execution_count": null,
   "metadata": {
    "collapsed": false,
    "scrolled": true
   },
   "outputs": [],
   "source": [
    "res = []\n",
    "for user in userList:\n",
    "    obj = UserClustering(user)\n",
    "    res.append(obj)\n",
    "    obj.start()"
   ]
  },
  {
   "cell_type": "code",
   "execution_count": 261,
   "metadata": {
    "collapsed": false
   },
   "outputs": [
    {
     "name": "stdout",
     "output_type": "stream",
     "text": [
      "..Devindra.geojson 78\n",
      "pawoot.geojson 59\n",
      "MatthewLaBonne.geojson 58\n",
      "AliMacAttack.geojson 26\n",
      "tequilatiff_tif.geojson 5\n",
      "K_Vander.geojson 3\n",
      "Fuel_Nike.geojson 3\n",
      "egzuck.geojson 3\n",
      "GQswaGGG.geojson 2\n",
      "hollywooddiva99.geojson 2\n"
     ]
    }
   ],
   "source": [
    "top_users = sorted(res, key=lambda u: len(u.tweets), reverse=True)\n",
    "len(top_users)\n",
    "for u in top_users[:10]:\n",
    "    print(u.file_name, len(u.tweets))"
   ]
  },
  {
   "cell_type": "code",
   "execution_count": 219,
   "metadata": {
    "collapsed": false
   },
   "outputs": [
    {
     "data": {
      "text/plain": [
       "{'geometry': {'coordinates': [-73.77554969, 40.59305065], 'type': 'Point'},\n",
       " 'properties': {'cluster': None,\n",
       "  'gnip': {'language': {'value': 'sv'},\n",
       "   'matching_rules': [{'tag': '[-73.81456689610107,40.60326795092426]',\n",
       "     'value': 'bounding_box:[-73.85948266030705 40.56916637212157 -73.76965113189509 40.63736952972695]'}]},\n",
       "  'source': {'displayName': 'Twitter for iPhone',\n",
       "   'link': 'http://twitter.com/download/iphone'},\n",
       "  'text': '@CelesteJolie morning, momma!',\n",
       "  'time': '2012-10-08T14:24:11.000Z',\n",
       "  'u_utc': '-18000',\n",
       "  'user': 'RobGPerez',\n",
       "  'verb': 'post'},\n",
       " 'type': 'Feature'}"
      ]
     },
     "execution_count": 219,
     "metadata": {},
     "output_type": "execute_result"
    }
   ],
   "source": [
    "top_users[0].tweets[0]"
   ]
  },
  {
   "cell_type": "code",
   "execution_count": 221,
   "metadata": {
    "collapsed": false
   },
   "outputs": [
    {
     "data": {
      "text/plain": [
       "'{\"features\": [{\"properties\": {\"cluster\": null}, \"geometry\": {\"coordinates\": [-73.77554969, 40.59305065], \"type\": \"Point\"}, \"type\": \"Feature\"}, {\"properties\": {\"cluster\": null}, \"geometry\": {\"coordinates\": [-73.78201079, 40.59232932], \"type\": \"Point\"}, \"type\": \"Feature\"}, {\"properties\": {\"cluster\": null}, \"geometry\": {\"coordinates\": [-73.83673322, 40.67217017], \"type\": \"Point\"}, \"type\": \"Feature\"}, {\"properties\": {\"cluster\": null}, \"geometry\": {\"coordinates\": [-73.81565283, 40.60534512], \"type\": \"Point\"}, \"type\": \"Feature\"}, {\"properties\": {\"cluster\": 1}, \"geometry\": {\"coordinates\": [-73.98209328, 40.7747305], \"type\": \"Point\"}, \"type\": \"Feature\"}, {\"properties\": {\"cluster\": null}, \"geometry\": {\"coordinates\": [-73.84241003, 40.68035255], \"type\": \"Point\"}, \"type\": \"Feature\"}, {\"properties\": {\"cluster\": null}, \"geometry\": {\"coordinates\": [-73.83036826, 40.66025853], \"type\": \"Point\"}, \"type\": \"Feature\"}, {\"properties\": {\"cluster\": 1}, \"geometry\": {\"coordinates\": [-73.98209328, 40.7747305], \"type\": \"Point\"}, \"type\": \"Feature\"}, {\"properties\": {\"cluster\": null}, \"geometry\": {\"coordinates\": [-73.77816602, 40.59327632], \"type\": \"Point\"}, \"type\": \"Feature\"}, {\"properties\": {\"cluster\": null}, \"geometry\": {\"coordinates\": [-73.77057577, 40.5936848], \"type\": \"Point\"}, \"type\": \"Feature\"}, {\"properties\": {\"cluster\": null}, \"geometry\": {\"coordinates\": [-73.85087782, 40.67978669], \"type\": \"Point\"}, \"type\": \"Feature\"}, {\"properties\": {\"cluster\": null}, \"geometry\": {\"coordinates\": [-73.7730559, 40.62684418], \"type\": \"Point\"}, \"type\": \"Feature\"}, {\"properties\": {\"cluster\": null}, \"geometry\": {\"coordinates\": [-73.81605025, 40.60798463], \"type\": \"Point\"}, \"type\": \"Feature\"}, {\"properties\": {\"cluster\": null}, \"geometry\": {\"coordinates\": [-73.80757668, 40.59107011], \"type\": \"Point\"}, \"type\": \"Feature\"}, {\"properties\": {\"cluster\": 2}, \"geometry\": {\"coordinates\": [-73.98774929, 40.75466645], \"type\": \"Point\"}, \"type\": \"Feature\"}, {\"properties\": {\"cluster\": null}, \"geometry\": {\"coordinates\": [-73.99862766, 40.71720862], \"type\": \"Point\"}, \"type\": \"Feature\"}, {\"properties\": {\"cluster\": null}, \"geometry\": {\"coordinates\": [-74.03437001, 40.72703261], \"type\": \"Point\"}, \"type\": \"Feature\"}, {\"properties\": {\"cluster\": 3}, \"geometry\": {\"coordinates\": [-73.99310358, 40.7524956], \"type\": \"Point\"}, \"type\": \"Feature\"}, {\"properties\": {\"cluster\": null}, \"geometry\": {\"coordinates\": [-74.00703228, 40.71606721], \"type\": \"Point\"}, \"type\": \"Feature\"}, {\"properties\": {\"cluster\": 2}, \"geometry\": {\"coordinates\": [-73.98782663, 40.7550222], \"type\": \"Point\"}, \"type\": \"Feature\"}, {\"properties\": {\"cluster\": null}, \"geometry\": {\"coordinates\": [-73.98845673, 40.74911015], \"type\": \"Point\"}, \"type\": \"Feature\"}, {\"properties\": {\"cluster\": 4}, \"geometry\": {\"coordinates\": [-73.99040315, 40.7352825], \"type\": \"Point\"}, \"type\": \"Feature\"}, {\"properties\": {\"cluster\": null}, \"geometry\": {\"coordinates\": [-73.99909973, 40.72501469], \"type\": \"Point\"}, \"type\": \"Feature\"}, {\"properties\": {\"cluster\": null}, \"geometry\": {\"coordinates\": [-73.99764061, 40.73083612], \"type\": \"Point\"}, \"type\": \"Feature\"}, {\"properties\": {\"cluster\": 3}, \"geometry\": {\"coordinates\": [-73.99313072, 40.7525285], \"type\": \"Point\"}, \"type\": \"Feature\"}, {\"properties\": {\"cluster\": 4}, \"geometry\": {\"coordinates\": [-73.9904025, 40.73470739], \"type\": \"Point\"}, \"type\": \"Feature\"}, {\"properties\": {\"cluster\": 5}, \"geometry\": {\"coordinates\": [-73.99357639, 40.7507948], \"type\": \"Point\"}, \"type\": \"Feature\"}, {\"properties\": {\"cluster\": null}, \"geometry\": {\"coordinates\": [-73.98877356, 40.75697438], \"type\": \"Point\"}, \"type\": \"Feature\"}, {\"properties\": {\"cluster\": 6}, \"geometry\": {\"coordinates\": [-74.00536537, 40.7214045], \"type\": \"Point\"}, \"type\": \"Feature\"}, {\"properties\": {\"cluster\": null}, \"geometry\": {\"coordinates\": [-73.99570403, 40.72330302], \"type\": \"Point\"}, \"type\": \"Feature\"}, {\"properties\": {\"cluster\": null}, \"geometry\": {\"coordinates\": [-73.88580041, 40.74752825], \"type\": \"Point\"}, \"type\": \"Feature\"}, {\"properties\": {\"cluster\": 7}, \"geometry\": {\"coordinates\": [-73.99682061, 40.72103663], \"type\": \"Point\"}, \"type\": \"Feature\"}, {\"properties\": {\"cluster\": 7}, \"geometry\": {\"coordinates\": [-73.99673151, 40.72101496], \"type\": \"Point\"}, \"type\": \"Feature\"}, {\"properties\": {\"cluster\": 7}, \"geometry\": {\"coordinates\": [-73.99655046, 40.72094749], \"type\": \"Point\"}, \"type\": \"Feature\"}, {\"properties\": {\"cluster\": 8}, \"geometry\": {\"coordinates\": [-73.99102896, 40.73354816], \"type\": \"Point\"}, \"type\": \"Feature\"}, {\"properties\": {\"cluster\": null}, \"geometry\": {\"coordinates\": [-74.03368279, 40.72661529], \"type\": \"Point\"}, \"type\": \"Feature\"}, {\"properties\": {\"cluster\": 7}, \"geometry\": {\"coordinates\": [-73.99669115, 40.72080694], \"type\": \"Point\"}, \"type\": \"Feature\"}, {\"properties\": {\"cluster\": null}, \"geometry\": {\"coordinates\": [-73.91590373, 40.75255233], \"type\": \"Point\"}, \"type\": \"Feature\"}, {\"properties\": {\"cluster\": 8}, \"geometry\": {\"coordinates\": [-73.99111034, 40.73351774], \"type\": \"Point\"}, \"type\": \"Feature\"}, {\"properties\": {\"cluster\": 8}, \"geometry\": {\"coordinates\": [-73.99112855, 40.73351566], \"type\": \"Point\"}, \"type\": \"Feature\"}, {\"properties\": {\"cluster\": 7}, \"geometry\": {\"coordinates\": [-73.99627854, 40.72194212], \"type\": \"Point\"}, \"type\": \"Feature\"}, {\"properties\": {\"cluster\": 6}, \"geometry\": {\"coordinates\": [-74.00536537, 40.7214045], \"type\": \"Point\"}, \"type\": \"Feature\"}, {\"properties\": {\"cluster\": 6}, \"geometry\": {\"coordinates\": [-74.00528038, 40.72132342], \"type\": \"Point\"}, \"type\": \"Feature\"}, {\"properties\": {\"cluster\": 3}, \"geometry\": {\"coordinates\": [-73.99336294, 40.75261955], \"type\": \"Point\"}, \"type\": \"Feature\"}, {\"properties\": {\"cluster\": 7}, \"geometry\": {\"coordinates\": [-73.99623211, 40.7221966], \"type\": \"Point\"}, \"type\": \"Feature\"}, {\"properties\": {\"cluster\": 7}, \"geometry\": {\"coordinates\": [-73.99615844, 40.72223537], \"type\": \"Point\"}, \"type\": \"Feature\"}, {\"properties\": {\"cluster\": 5}, \"geometry\": {\"coordinates\": [-73.99357639, 40.7507948], \"type\": \"Point\"}, \"type\": \"Feature\"}, {\"properties\": {\"cluster\": null}, \"geometry\": {\"coordinates\": [-73.99438619, 40.75248097], \"type\": \"Point\"}, \"type\": \"Feature\"}, {\"properties\": {\"cluster\": 7}, \"geometry\": {\"coordinates\": [-73.9967274, 40.72068182], \"type\": \"Point\"}, \"type\": \"Feature\"}, {\"properties\": {\"cluster\": 7}, \"geometry\": {\"coordinates\": [-73.99666274, 40.7207904], \"type\": \"Point\"}, \"type\": \"Feature\"}, {\"properties\": {\"cluster\": 7}, \"geometry\": {\"coordinates\": [-73.99676807, 40.72073837], \"type\": \"Point\"}, \"type\": \"Feature\"}, {\"properties\": {\"cluster\": null}, \"geometry\": {\"coordinates\": [-73.99715429, 40.71940015], \"type\": \"Point\"}, \"type\": \"Feature\"}, {\"properties\": {\"cluster\": 9}, \"geometry\": {\"coordinates\": [-73.67100044, 40.59055672], \"type\": \"Point\"}, \"type\": \"Feature\"}, {\"properties\": {\"cluster\": 9}, \"geometry\": {\"coordinates\": [-73.6709437, 40.59056066], \"type\": \"Point\"}, \"type\": \"Feature\"}, {\"properties\": {\"cluster\": 9}, \"geometry\": {\"coordinates\": [-73.67098459, 40.5905485], \"type\": \"Point\"}, \"type\": \"Feature\"}, {\"properties\": {\"cluster\": 9}, \"geometry\": {\"coordinates\": [-73.6709997, 40.59054011], \"type\": \"Point\"}, \"type\": \"Feature\"}, {\"properties\": {\"cluster\": 9}, \"geometry\": {\"coordinates\": [-73.67096549, 40.59056045], \"type\": \"Point\"}, \"type\": \"Feature\"}, {\"properties\": {\"cluster\": 9}, \"geometry\": {\"coordinates\": [-73.67100094, 40.59053964], \"type\": \"Point\"}, \"type\": \"Feature\"}, {\"properties\": {\"cluster\": 9}, \"geometry\": {\"coordinates\": [-73.67098192, 40.59042533], \"type\": \"Point\"}, \"type\": \"Feature\"}, {\"properties\": {\"cluster\": 10}, \"geometry\": {\"coordinates\": [-73.66900444, 40.58421504], \"type\": \"Point\"}, \"type\": \"Feature\"}, {\"properties\": {\"cluster\": 11}, \"geometry\": {\"coordinates\": [-73.667364, 40.588718], \"type\": \"Point\"}, \"type\": \"Feature\"}, {\"properties\": {\"cluster\": 9}, \"geometry\": {\"coordinates\": [-73.67097928, 40.59063037], \"type\": \"Point\"}, \"type\": \"Feature\"}, {\"properties\": {\"cluster\": 9}, \"geometry\": {\"coordinates\": [-73.67081713, 40.59078977], \"type\": \"Point\"}, \"type\": \"Feature\"}, {\"properties\": {\"cluster\": 9}, \"geometry\": {\"coordinates\": [-73.67093676, 40.59070585], \"type\": \"Point\"}, \"type\": \"Feature\"}, {\"properties\": {\"cluster\": null}, \"geometry\": {\"coordinates\": [-73.75125426, 40.60405372], \"type\": \"Point\"}, \"type\": \"Feature\"}, {\"properties\": {\"cluster\": null}, \"geometry\": {\"coordinates\": [-73.75431312, 40.59843788], \"type\": \"Point\"}, \"type\": \"Feature\"}, {\"properties\": {\"cluster\": null}, \"geometry\": {\"coordinates\": [-73.75417583, 40.59593744], \"type\": \"Point\"}, \"type\": \"Feature\"}, {\"properties\": {\"cluster\": null}, \"geometry\": {\"coordinates\": [-73.74421553, 40.59608005], \"type\": \"Point\"}, \"type\": \"Feature\"}, {\"properties\": {\"cluster\": null}, \"geometry\": {\"coordinates\": [-73.73720432, 40.59267549], \"type\": \"Point\"}, \"type\": \"Feature\"}, {\"properties\": {\"cluster\": 9}, \"geometry\": {\"coordinates\": [-73.67098988, 40.59059544], \"type\": \"Point\"}, \"type\": \"Feature\"}, {\"properties\": {\"cluster\": 9}, \"geometry\": {\"coordinates\": [-73.67099323, 40.59062088], \"type\": \"Point\"}, \"type\": \"Feature\"}, {\"properties\": {\"cluster\": 12}, \"geometry\": {\"coordinates\": [-73.6637648, 40.58809791], \"type\": \"Point\"}, \"type\": \"Feature\"}, {\"properties\": {\"cluster\": 9}, \"geometry\": {\"coordinates\": [-73.67104812, 40.59049947], \"type\": \"Point\"}, \"type\": \"Feature\"}, {\"properties\": {\"cluster\": 13}, \"geometry\": {\"coordinates\": [-73.6727153, 40.5839079], \"type\": \"Point\"}, \"type\": \"Feature\"}, {\"properties\": {\"cluster\": 14}, \"geometry\": {\"coordinates\": [-73.75551224, 40.60391779], \"type\": \"Point\"}, \"type\": \"Feature\"}, {\"properties\": {\"cluster\": 13}, \"geometry\": {\"coordinates\": [-73.67328699, 40.58442532], \"type\": \"Point\"}, \"type\": \"Feature\"}, {\"properties\": {\"cluster\": 15}, \"geometry\": {\"coordinates\": [-73.64841423, 40.58325629], \"type\": \"Point\"}, \"type\": \"Feature\"}, {\"properties\": {\"cluster\": 14}, \"geometry\": {\"coordinates\": [-73.75528794, 40.60546259], \"type\": \"Point\"}, \"type\": \"Feature\"}, {\"properties\": {\"cluster\": 16}, \"geometry\": {\"coordinates\": [-73.66487503, 40.58928666], \"type\": \"Point\"}, \"type\": \"Feature\"}, {\"properties\": {\"cluster\": 9}, \"geometry\": {\"coordinates\": [-73.67096272, 40.59051191], \"type\": \"Point\"}, \"type\": \"Feature\"}, {\"properties\": {\"cluster\": 17}, \"geometry\": {\"coordinates\": [-73.671593, 40.588512], \"type\": \"Point\"}, \"type\": \"Feature\"}, {\"properties\": {\"cluster\": 17}, \"geometry\": {\"coordinates\": [-73.671593, 40.588512], \"type\": \"Point\"}, \"type\": \"Feature\"}, {\"properties\": {\"cluster\": 9}, \"geometry\": {\"coordinates\": [-73.6709794, 40.59054263], \"type\": \"Point\"}, \"type\": \"Feature\"}, {\"properties\": {\"cluster\": 9}, \"geometry\": {\"coordinates\": [-73.67097773, 40.59049532], \"type\": \"Point\"}, \"type\": \"Feature\"}, {\"properties\": {\"cluster\": 11}, \"geometry\": {\"coordinates\": [-73.667364, 40.588718], \"type\": \"Point\"}, \"type\": \"Feature\"}, {\"properties\": {\"cluster\": 9}, \"geometry\": {\"coordinates\": [-73.6709468, 40.59060676], \"type\": \"Point\"}, \"type\": \"Feature\"}, {\"properties\": {\"cluster\": 18}, \"geometry\": {\"coordinates\": [-73.61149387, 40.65570284], \"type\": \"Point\"}, \"type\": \"Feature\"}, {\"properties\": {\"cluster\": 19}, \"geometry\": {\"coordinates\": [-73.64210106, 40.62121079], \"type\": \"Point\"}, \"type\": \"Feature\"}, {\"properties\": {\"cluster\": 9}, \"geometry\": {\"coordinates\": [-73.6711395, 40.59051015], \"type\": \"Point\"}, \"type\": \"Feature\"}, {\"properties\": {\"cluster\": 15}, \"geometry\": {\"coordinates\": [-73.64789983, 40.58336555], \"type\": \"Point\"}, \"type\": \"Feature\"}, {\"properties\": {\"cluster\": 9}, \"geometry\": {\"coordinates\": [-73.67101384, 40.5905193], \"type\": \"Point\"}, \"type\": \"Feature\"}, {\"properties\": {\"cluster\": 9}, \"geometry\": {\"coordinates\": [-73.67087273, 40.59065911], \"type\": \"Point\"}, \"type\": \"Feature\"}, {\"properties\": {\"cluster\": 9}, \"geometry\": {\"coordinates\": [-73.67091531, 40.59052639], \"type\": \"Point\"}, \"type\": \"Feature\"}, {\"properties\": {\"cluster\": 9}, \"geometry\": {\"coordinates\": [-73.67098612, 40.59055704], \"type\": \"Point\"}, \"type\": \"Feature\"}, {\"properties\": {\"cluster\": 9}, \"geometry\": {\"coordinates\": [-73.67119088, 40.59053417], \"type\": \"Point\"}, \"type\": \"Feature\"}, {\"properties\": {\"cluster\": 9}, \"geometry\": {\"coordinates\": [-73.67107068, 40.59036653], \"type\": \"Point\"}, \"type\": \"Feature\"}, {\"properties\": {\"cluster\": 20}, \"geometry\": {\"coordinates\": [-73.66967199, 40.58947281], \"type\": \"Point\"}, \"type\": \"Feature\"}, {\"properties\": {\"cluster\": null}, \"geometry\": {\"coordinates\": [-73.75300094, 40.60408993], \"type\": \"Point\"}, \"type\": \"Feature\"}, {\"properties\": {\"cluster\": 21}, \"geometry\": {\"coordinates\": [-73.65751603, 40.590451], \"type\": \"Point\"}, \"type\": \"Feature\"}, {\"properties\": {\"cluster\": 9}, \"geometry\": {\"coordinates\": [-73.6711514, 40.59054448], \"type\": \"Point\"}, \"type\": \"Feature\"}, {\"properties\": {\"cluster\": 9}, \"geometry\": {\"coordinates\": [-73.67110647, 40.59053564], \"type\": \"Point\"}, \"type\": \"Feature\"}, {\"properties\": {\"cluster\": 9}, \"geometry\": {\"coordinates\": [-73.67107831, 40.59057381], \"type\": \"Point\"}, \"type\": \"Feature\"}, {\"properties\": {\"cluster\": 9}, \"geometry\": {\"coordinates\": [-73.67102156, 40.59048333], \"type\": \"Point\"}, \"type\": \"Feature\"}, {\"properties\": {\"cluster\": 9}, \"geometry\": {\"coordinates\": [-73.67106507, 40.590505], \"type\": \"Point\"}, \"type\": \"Feature\"}, {\"properties\": {\"cluster\": 11}, \"geometry\": {\"coordinates\": [-73.667364, 40.588718], \"type\": \"Point\"}, \"type\": \"Feature\"}, {\"properties\": {\"cluster\": 9}, \"geometry\": {\"coordinates\": [-73.67103414, 40.59053861], \"type\": \"Point\"}, \"type\": \"Feature\"}, {\"properties\": {\"cluster\": 9}, \"geometry\": {\"coordinates\": [-73.67098541, 40.59060499], \"type\": \"Point\"}, \"type\": \"Feature\"}, {\"properties\": {\"cluster\": 11}, \"geometry\": {\"coordinates\": [-73.667364, 40.588718], \"type\": \"Point\"}, \"type\": \"Feature\"}, {\"properties\": {\"cluster\": 11}, \"geometry\": {\"coordinates\": [-73.667364, 40.588718], \"type\": \"Point\"}, \"type\": \"Feature\"}, {\"properties\": {\"cluster\": 9}, \"geometry\": {\"coordinates\": [-73.67086346, 40.59080682], \"type\": \"Point\"}, \"type\": \"Feature\"}, {\"properties\": {\"cluster\": 22}, \"geometry\": {\"coordinates\": [-73.67199487, 40.58382718], \"type\": \"Point\"}, \"type\": \"Feature\"}, {\"properties\": {\"cluster\": 11}, \"geometry\": {\"coordinates\": [-73.667364, 40.588718], \"type\": \"Point\"}, \"type\": \"Feature\"}, {\"properties\": {\"cluster\": 9}, \"geometry\": {\"coordinates\": [-73.67105267, 40.59044422], \"type\": \"Point\"}, \"type\": \"Feature\"}, {\"properties\": {\"cluster\": 9}, \"geometry\": {\"coordinates\": [-73.6710198, 40.59054481], \"type\": \"Point\"}, \"type\": \"Feature\"}, {\"properties\": {\"cluster\": 16}, \"geometry\": {\"coordinates\": [-73.66487503, 40.58928666], \"type\": \"Point\"}, \"type\": \"Feature\"}, {\"properties\": {\"cluster\": 9}, \"geometry\": {\"coordinates\": [-73.67100522, 40.59038322], \"type\": \"Point\"}, \"type\": \"Feature\"}, {\"properties\": {\"cluster\": 13}, \"geometry\": {\"coordinates\": [-73.67321536, 40.58396242], \"type\": \"Point\"}, \"type\": \"Feature\"}, {\"properties\": {\"cluster\": 9}, \"geometry\": {\"coordinates\": [-73.67094663, 40.59059955], \"type\": \"Point\"}, \"type\": \"Feature\"}, {\"properties\": {\"cluster\": 9}, \"geometry\": {\"coordinates\": [-73.6710278, 40.59050213], \"type\": \"Point\"}, \"type\": \"Feature\"}, {\"properties\": {\"cluster\": 9}, \"geometry\": {\"coordinates\": [-73.67105107, 40.5906679], \"type\": \"Point\"}, \"type\": \"Feature\"}, {\"properties\": {\"cluster\": 9}, \"geometry\": {\"coordinates\": [-73.67099843, 40.59056393], \"type\": \"Point\"}, \"type\": \"Feature\"}, {\"properties\": {\"cluster\": 22}, \"geometry\": {\"coordinates\": [-73.6721833, 40.58397055], \"type\": \"Point\"}, \"type\": \"Feature\"}, {\"properties\": {\"cluster\": 23}, \"geometry\": {\"coordinates\": [-73.66682416, 40.5839623], \"type\": \"Point\"}, \"type\": \"Feature\"}, {\"properties\": {\"cluster\": 23}, \"geometry\": {\"coordinates\": [-73.66679331, 40.58394842], \"type\": \"Point\"}, \"type\": \"Feature\"}, {\"properties\": {\"cluster\": 9}, \"geometry\": {\"coordinates\": [-73.67107831, 40.590613], \"type\": \"Point\"}, \"type\": \"Feature\"}, {\"properties\": {\"cluster\": 11}, \"geometry\": {\"coordinates\": [-73.667364, 40.588718], \"type\": \"Point\"}, \"type\": \"Feature\"}, {\"properties\": {\"cluster\": 24}, \"geometry\": {\"coordinates\": [-73.75567895, 40.72041549], \"type\": \"Point\"}, \"type\": \"Feature\"}, {\"properties\": {\"cluster\": 25}, \"geometry\": {\"coordinates\": [-73.68678013, 40.58390002], \"type\": \"Point\"}, \"type\": \"Feature\"}, {\"properties\": {\"cluster\": 9}, \"geometry\": {\"coordinates\": [-73.67100053, 40.59056967], \"type\": \"Point\"}, \"type\": \"Feature\"}, {\"properties\": {\"cluster\": 9}, \"geometry\": {\"coordinates\": [-73.67110848, 40.59057926], \"type\": \"Point\"}, \"type\": \"Feature\"}, {\"properties\": {\"cluster\": 12}, \"geometry\": {\"coordinates\": [-73.6637648, 40.58809791], \"type\": \"Point\"}, \"type\": \"Feature\"}, {\"properties\": {\"cluster\": 9}, \"geometry\": {\"coordinates\": [-73.67094252, 40.59056849], \"type\": \"Point\"}, \"type\": \"Feature\"}, {\"properties\": {\"cluster\": 9}, \"geometry\": {\"coordinates\": [-73.67095166, 40.5905788], \"type\": \"Point\"}, \"type\": \"Feature\"}, {\"properties\": {\"cluster\": 26}, \"geometry\": {\"coordinates\": [-73.68587991, 40.58392231], \"type\": \"Point\"}, \"type\": \"Feature\"}, {\"properties\": {\"cluster\": 24}, \"geometry\": {\"coordinates\": [-73.75571096, 40.72036122], \"type\": \"Point\"}, \"type\": \"Feature\"}, {\"properties\": {\"cluster\": 9}, \"geometry\": {\"coordinates\": [-73.67098099, 40.59051635], \"type\": \"Point\"}, \"type\": \"Feature\"}, {\"properties\": {\"cluster\": 9}, \"geometry\": {\"coordinates\": [-73.67115542, 40.59065001], \"type\": \"Point\"}, \"type\": \"Feature\"}, {\"properties\": {\"cluster\": 27}, \"geometry\": {\"coordinates\": [-73.65962913, 40.58349383], \"type\": \"Point\"}, \"type\": \"Feature\"}, {\"properties\": {\"cluster\": 27}, \"geometry\": {\"coordinates\": [-73.6595573, 40.58346118], \"type\": \"Point\"}, \"type\": \"Feature\"}, {\"properties\": {\"cluster\": 28}, \"geometry\": {\"coordinates\": [-73.6467873, 40.58332908], \"type\": \"Point\"}, \"type\": \"Feature\"}, {\"properties\": {\"cluster\": 13}, \"geometry\": {\"coordinates\": [-73.67300942, 40.5839335], \"type\": \"Point\"}, \"type\": \"Feature\"}, {\"properties\": {\"cluster\": 14}, \"geometry\": {\"coordinates\": [-73.75555704, 40.60508972], \"type\": \"Point\"}, \"type\": \"Feature\"}, {\"properties\": {\"cluster\": 29}, \"geometry\": {\"coordinates\": [-73.72021008, 40.66266423], \"type\": \"Point\"}, \"type\": \"Feature\"}, {\"properties\": {\"cluster\": 9}, \"geometry\": {\"coordinates\": [-73.67102374, 40.59045437], \"type\": \"Point\"}, \"type\": \"Feature\"}, {\"properties\": {\"cluster\": 9}, \"geometry\": {\"coordinates\": [-73.67105585, 40.59058178], \"type\": \"Point\"}, \"type\": \"Feature\"}, {\"properties\": {\"cluster\": 24}, \"geometry\": {\"coordinates\": [-73.75557837, 40.72029725], \"type\": \"Point\"}, \"type\": \"Feature\"}, {\"properties\": {\"cluster\": 24}, \"geometry\": {\"coordinates\": [-73.75555911, 40.72032004], \"type\": \"Point\"}, \"type\": \"Feature\"}, {\"properties\": {\"cluster\": 24}, \"geometry\": {\"coordinates\": [-73.7556289, 40.72036337], \"type\": \"Point\"}, \"type\": \"Feature\"}, {\"properties\": {\"cluster\": 30}, \"geometry\": {\"coordinates\": [-73.76058455, 40.71923245], \"type\": \"Point\"}, \"type\": \"Feature\"}, {\"properties\": {\"cluster\": 31}, \"geometry\": {\"coordinates\": [-73.69732643, 40.58597267], \"type\": \"Point\"}, \"type\": \"Feature\"}, {\"properties\": {\"cluster\": 11}, \"geometry\": {\"coordinates\": [-73.667364, 40.588718], \"type\": \"Point\"}, \"type\": \"Feature\"}, {\"properties\": {\"cluster\": 9}, \"geometry\": {\"coordinates\": [-73.67099209, 40.59054438], \"type\": \"Point\"}, \"type\": \"Feature\"}, {\"properties\": {\"cluster\": 9}, \"geometry\": {\"coordinates\": [-73.67098457, 40.59054858], \"type\": \"Point\"}, \"type\": \"Feature\"}, {\"properties\": {\"cluster\": 9}, \"geometry\": {\"coordinates\": [-73.67099441, 40.59055525], \"type\": \"Point\"}, \"type\": \"Feature\"}, {\"properties\": {\"cluster\": 9}, \"geometry\": {\"coordinates\": [-73.67107471, 40.59054326], \"type\": \"Point\"}, \"type\": \"Feature\"}, {\"properties\": {\"cluster\": 9}, \"geometry\": {\"coordinates\": [-73.67112148, 40.59062683], \"type\": \"Point\"}, \"type\": \"Feature\"}, {\"properties\": {\"cluster\": 9}, \"geometry\": {\"coordinates\": [-73.67104403, 40.59055491], \"type\": \"Point\"}, \"type\": \"Feature\"}, {\"properties\": {\"cluster\": 13}, \"geometry\": {\"coordinates\": [-73.6728375, 40.58402985], \"type\": \"Point\"}, \"type\": \"Feature\"}, {\"properties\": {\"cluster\": 10}, \"geometry\": {\"coordinates\": [-73.6692337, 40.58409716], \"type\": \"Point\"}, \"type\": \"Feature\"}, {\"properties\": {\"cluster\": 11}, \"geometry\": {\"coordinates\": [-73.667364, 40.588718], \"type\": \"Point\"}, \"type\": \"Feature\"}, {\"properties\": {\"cluster\": 9}, \"geometry\": {\"coordinates\": [-73.67093498, 40.59062348], \"type\": \"Point\"}, \"type\": \"Feature\"}, {\"properties\": {\"cluster\": 9}, \"geometry\": {\"coordinates\": [-73.67098309, 40.59057692], \"type\": \"Point\"}, \"type\": \"Feature\"}, {\"properties\": {\"cluster\": null}, \"geometry\": {\"coordinates\": [-73.660745, 40.58875644], \"type\": \"Point\"}, \"type\": \"Feature\"}, {\"properties\": {\"cluster\": 9}, \"geometry\": {\"coordinates\": [-73.67103447, 40.59053689], \"type\": \"Point\"}, \"type\": \"Feature\"}, {\"properties\": {\"cluster\": 11}, \"geometry\": {\"coordinates\": [-73.667364, 40.588718], \"type\": \"Point\"}, \"type\": \"Feature\"}, {\"properties\": {\"cluster\": 9}, \"geometry\": {\"coordinates\": [-73.67099952, 40.5905682], \"type\": \"Point\"}, \"type\": \"Feature\"}, {\"properties\": {\"cluster\": 12}, \"geometry\": {\"coordinates\": [-73.6637648, 40.58809791], \"type\": \"Point\"}, \"type\": \"Feature\"}, {\"properties\": {\"cluster\": 25}, \"geometry\": {\"coordinates\": [-73.68657265, 40.58393379], \"type\": \"Point\"}, \"type\": \"Feature\"}, {\"properties\": {\"cluster\": 14}, \"geometry\": {\"coordinates\": [-73.75551224, 40.60391779], \"type\": \"Point\"}, \"type\": \"Feature\"}, {\"properties\": {\"cluster\": 14}, \"geometry\": {\"coordinates\": [-73.75609839, 40.6039418], \"type\": \"Point\"}, \"type\": \"Feature\"}, {\"properties\": {\"cluster\": 9}, \"geometry\": {\"coordinates\": [-73.67101234, 40.59057884], \"type\": \"Point\"}, \"type\": \"Feature\"}, {\"properties\": {\"cluster\": 9}, \"geometry\": {\"coordinates\": [-73.67108518, 40.59056258], \"type\": \"Point\"}, \"type\": \"Feature\"}, {\"properties\": {\"cluster\": 9}, \"geometry\": {\"coordinates\": [-73.67103858, 40.5905542], \"type\": \"Point\"}, \"type\": \"Feature\"}, {\"properties\": {\"cluster\": 13}, \"geometry\": {\"coordinates\": [-73.67318686, 40.58393883], \"type\": \"Point\"}, \"type\": \"Feature\"}, {\"properties\": {\"cluster\": 13}, \"geometry\": {\"coordinates\": [-73.67320228, 40.58393531], \"type\": \"Point\"}, \"type\": \"Feature\"}, {\"properties\": {\"cluster\": 11}, \"geometry\": {\"coordinates\": [-73.667364, 40.588718], \"type\": \"Point\"}, \"type\": \"Feature\"}, {\"properties\": {\"cluster\": 11}, \"geometry\": {\"coordinates\": [-73.667364, 40.588718], \"type\": \"Point\"}, \"type\": \"Feature\"}, {\"properties\": {\"cluster\": 9}, \"geometry\": {\"coordinates\": [-73.67104319, 40.59061061], \"type\": \"Point\"}, \"type\": \"Feature\"}, {\"properties\": {\"cluster\": 9}, \"geometry\": {\"coordinates\": [-73.67109264, 40.59056807], \"type\": \"Point\"}, \"type\": \"Feature\"}, {\"properties\": {\"cluster\": 9}, \"geometry\": {\"coordinates\": [-73.67093531, 40.59045647], \"type\": \"Point\"}, \"type\": \"Feature\"}, {\"properties\": {\"cluster\": 9}, \"geometry\": {\"coordinates\": [-73.67103464, 40.59056443], \"type\": \"Point\"}, \"type\": \"Feature\"}, {\"properties\": {\"cluster\": 9}, \"geometry\": {\"coordinates\": [-73.67098561, 40.59048845], \"type\": \"Point\"}, \"type\": \"Feature\"}, {\"properties\": {\"cluster\": null}, \"geometry\": {\"coordinates\": [-73.66379116, 40.58403159], \"type\": \"Point\"}, \"type\": \"Feature\"}, {\"properties\": {\"cluster\": 9}, \"geometry\": {\"coordinates\": [-73.67096132, 40.59058093], \"type\": \"Point\"}, \"type\": \"Feature\"}, {\"properties\": {\"cluster\": 24}, \"geometry\": {\"coordinates\": [-73.75569042, 40.72030515], \"type\": \"Point\"}, \"type\": \"Feature\"}, {\"properties\": {\"cluster\": 24}, \"geometry\": {\"coordinates\": [-73.75570043, 40.72035132], \"type\": \"Point\"}, \"type\": \"Feature\"}, {\"properties\": {\"cluster\": 9}, \"geometry\": {\"coordinates\": [-73.67095845, 40.59060288], \"type\": \"Point\"}, \"type\": \"Feature\"}, {\"properties\": {\"cluster\": 14}, \"geometry\": {\"coordinates\": [-73.75551224, 40.60391779], \"type\": \"Point\"}, \"type\": \"Feature\"}, {\"properties\": {\"cluster\": 32}, \"geometry\": {\"coordinates\": [-73.7541972, 40.6040792], \"type\": \"Point\"}, \"type\": \"Feature\"}, {\"properties\": {\"cluster\": 9}, \"geometry\": {\"coordinates\": [-73.67117205, 40.59036023], \"type\": \"Point\"}, \"type\": \"Feature\"}, {\"properties\": {\"cluster\": 11}, \"geometry\": {\"coordinates\": [-73.667364, 40.588718], \"type\": \"Point\"}, \"type\": \"Feature\"}, {\"properties\": {\"cluster\": 11}, \"geometry\": {\"coordinates\": [-73.667364, 40.588718], \"type\": \"Point\"}, \"type\": \"Feature\"}, {\"properties\": {\"cluster\": 11}, \"geometry\": {\"coordinates\": [-73.667364, 40.588718], \"type\": \"Point\"}, \"type\": \"Feature\"}, {\"properties\": {\"cluster\": 9}, \"geometry\": {\"coordinates\": [-73.67103757, 40.59055345], \"type\": \"Point\"}, \"type\": \"Feature\"}, {\"properties\": {\"cluster\": 9}, \"geometry\": {\"coordinates\": [-73.67127579, 40.59050789], \"type\": \"Point\"}, \"type\": \"Feature\"}, {\"properties\": {\"cluster\": 9}, \"geometry\": {\"coordinates\": [-73.67104227, 40.59058706], \"type\": \"Point\"}, \"type\": \"Feature\"}, {\"properties\": {\"cluster\": 9}, \"geometry\": {\"coordinates\": [-73.6710395, 40.59065818], \"type\": \"Point\"}, \"type\": \"Feature\"}, {\"properties\": {\"cluster\": 9}, \"geometry\": {\"coordinates\": [-73.67110957, 40.59071178], \"type\": \"Point\"}, \"type\": \"Feature\"}, {\"properties\": {\"cluster\": 27}, \"geometry\": {\"coordinates\": [-73.66013037, 40.58347397], \"type\": \"Point\"}, \"type\": \"Feature\"}, {\"properties\": {\"cluster\": 27}, \"geometry\": {\"coordinates\": [-73.6601815, 40.58340486], \"type\": \"Point\"}, \"type\": \"Feature\"}, {\"properties\": {\"cluster\": 11}, \"geometry\": {\"coordinates\": [-73.666561, 40.58853865], \"type\": \"Point\"}, \"type\": \"Feature\"}, {\"properties\": {\"cluster\": 12}, \"geometry\": {\"coordinates\": [-73.6637648, 40.58809791], \"type\": \"Point\"}, \"type\": \"Feature\"}, {\"properties\": {\"cluster\": 9}, \"geometry\": {\"coordinates\": [-73.67100866, 40.59059121], \"type\": \"Point\"}, \"type\": \"Feature\"}, {\"properties\": {\"cluster\": 9}, \"geometry\": {\"coordinates\": [-73.67100094, 40.59062381], \"type\": \"Point\"}, \"type\": \"Feature\"}, {\"properties\": {\"cluster\": 9}, \"geometry\": {\"coordinates\": [-73.67102659, 40.59037961], \"type\": \"Point\"}, \"type\": \"Feature\"}, {\"properties\": {\"cluster\": null}, \"geometry\": {\"coordinates\": [-73.61238956, 40.65585036], \"type\": \"Point\"}, \"type\": \"Feature\"}, {\"properties\": {\"cluster\": 33}, \"geometry\": {\"coordinates\": [-73.66889375, 40.59212889], \"type\": \"Point\"}, \"type\": \"Feature\"}, {\"properties\": {\"cluster\": 9}, \"geometry\": {\"coordinates\": [-73.67093043, 40.59072997], \"type\": \"Point\"}, \"type\": \"Feature\"}, {\"properties\": {\"cluster\": 9}, \"geometry\": {\"coordinates\": [-73.67113359, 40.59067112], \"type\": \"Point\"}, \"type\": \"Feature\"}, {\"properties\": {\"cluster\": 9}, \"geometry\": {\"coordinates\": [-73.67103422, 40.59064611], \"type\": \"Point\"}, \"type\": \"Feature\"}, {\"properties\": {\"cluster\": 12}, \"geometry\": {\"coordinates\": [-73.6637648, 40.58809791], \"type\": \"Point\"}, \"type\": \"Feature\"}, {\"properties\": {\"cluster\": 24}, \"geometry\": {\"coordinates\": [-73.755716, 40.72034894], \"type\": \"Point\"}, \"type\": \"Feature\"}, {\"properties\": {\"cluster\": 9}, \"geometry\": {\"coordinates\": [-73.67087065, 40.59064622], \"type\": \"Point\"}, \"type\": \"Feature\"}, {\"properties\": {\"cluster\": 34}, \"geometry\": {\"coordinates\": [-73.67340385, 40.58822383], \"type\": \"Point\"}, \"type\": \"Feature\"}, {\"properties\": {\"cluster\": 9}, \"geometry\": {\"coordinates\": [-73.67097462, 40.59061938], \"type\": \"Point\"}, \"type\": \"Feature\"}, {\"properties\": {\"cluster\": 9}, \"geometry\": {\"coordinates\": [-73.6709758, 40.59061886], \"type\": \"Point\"}, \"type\": \"Feature\"}, {\"properties\": {\"cluster\": 13}, \"geometry\": {\"coordinates\": [-73.67322735, 40.58402855], \"type\": \"Point\"}, \"type\": \"Feature\"}, {\"properties\": {\"cluster\": 11}, \"geometry\": {\"coordinates\": [-73.667364, 40.588718], \"type\": \"Point\"}, \"type\": \"Feature\"}, {\"properties\": {\"cluster\": 9}, \"geometry\": {\"coordinates\": [-73.67095652, 40.59051066], \"type\": \"Point\"}, \"type\": \"Feature\"}, {\"properties\": {\"cluster\": 9}, \"geometry\": {\"coordinates\": [-73.67100094, 40.59053964], \"type\": \"Point\"}, \"type\": \"Feature\"}, {\"properties\": {\"cluster\": 9}, \"geometry\": {\"coordinates\": [-73.67099984, 40.59054022], \"type\": \"Point\"}, \"type\": \"Feature\"}, {\"properties\": {\"cluster\": 9}, \"geometry\": {\"coordinates\": [-73.6709845, 40.59054854], \"type\": \"Point\"}, \"type\": \"Feature\"}, {\"properties\": {\"cluster\": 9}, \"geometry\": {\"coordinates\": [-73.67089433, 40.59056225], \"type\": \"Point\"}, \"type\": \"Feature\"}, {\"properties\": {\"cluster\": 9}, \"geometry\": {\"coordinates\": [-73.67099063, 40.5907135], \"type\": \"Point\"}, \"type\": \"Feature\"}, {\"properties\": {\"cluster\": 9}, \"geometry\": {\"coordinates\": [-73.67085678, 40.59058769], \"type\": \"Point\"}, \"type\": \"Feature\"}, {\"properties\": {\"cluster\": 11}, \"geometry\": {\"coordinates\": [-73.667364, 40.588718], \"type\": \"Point\"}, \"type\": \"Feature\"}, {\"properties\": {\"cluster\": 9}, \"geometry\": {\"coordinates\": [-73.67104948, 40.59058748], \"type\": \"Point\"}, \"type\": \"Feature\"}, {\"properties\": {\"cluster\": 9}, \"geometry\": {\"coordinates\": [-73.6709955, 40.59055361], \"type\": \"Point\"}, \"type\": \"Feature\"}, {\"properties\": {\"cluster\": 9}, \"geometry\": {\"coordinates\": [-73.67119624, 40.59042457], \"type\": \"Point\"}, \"type\": \"Feature\"}, {\"properties\": {\"cluster\": null}, \"geometry\": {\"coordinates\": [-73.58507648, 40.65304216], \"type\": \"Point\"}, \"type\": \"Feature\"}, {\"properties\": {\"cluster\": null}, \"geometry\": {\"coordinates\": [-73.73584062, 40.58960024], \"type\": \"Point\"}, \"type\": \"Feature\"}, {\"properties\": {\"cluster\": 9}, \"geometry\": {\"coordinates\": [-73.67099351, 40.59065719], \"type\": \"Point\"}, \"type\": \"Feature\"}, {\"properties\": {\"cluster\": 24}, \"geometry\": {\"coordinates\": [-73.75559777, 40.72040657], \"type\": \"Point\"}, \"type\": \"Feature\"}, {\"properties\": {\"cluster\": 9}, \"geometry\": {\"coordinates\": [-73.67103947, 40.59050215], \"type\": \"Point\"}, \"type\": \"Feature\"}, {\"properties\": {\"cluster\": 9}, \"geometry\": {\"coordinates\": [-73.67106121, 40.59051468], \"type\": \"Point\"}, \"type\": \"Feature\"}, {\"properties\": {\"cluster\": 9}, \"geometry\": {\"coordinates\": [-73.67099273, 40.59059481], \"type\": \"Point\"}, \"type\": \"Feature\"}, {\"properties\": {\"cluster\": 9}, \"geometry\": {\"coordinates\": [-73.67087681, 40.59081111], \"type\": \"Point\"}, \"type\": \"Feature\"}, {\"properties\": {\"cluster\": 9}, \"geometry\": {\"coordinates\": [-73.67103623, 40.59051334], \"type\": \"Point\"}, \"type\": \"Feature\"}, {\"properties\": {\"cluster\": 9}, \"geometry\": {\"coordinates\": [-73.67099499, 40.59058111], \"type\": \"Point\"}, \"type\": \"Feature\"}, {\"properties\": {\"cluster\": null}, \"geometry\": {\"coordinates\": [-73.65942397, 40.60022163], \"type\": \"Point\"}, \"type\": \"Feature\"}, {\"properties\": {\"cluster\": 9}, \"geometry\": {\"coordinates\": [-73.67089998, 40.59042314], \"type\": \"Point\"}, \"type\": \"Feature\"}, {\"properties\": {\"cluster\": 9}, \"geometry\": {\"coordinates\": [-73.67110874, 40.59038631], \"type\": \"Point\"}, \"type\": \"Feature\"}, {\"properties\": {\"cluster\": 35}, \"geometry\": {\"coordinates\": [-73.64959469, 40.60491], \"type\": \"Point\"}, \"type\": \"Feature\"}, {\"properties\": {\"cluster\": 9}, \"geometry\": {\"coordinates\": [-73.67103094, 40.59044293], \"type\": \"Point\"}, \"type\": \"Feature\"}, {\"properties\": {\"cluster\": 9}, \"geometry\": {\"coordinates\": [-73.6710079, 40.59055123], \"type\": \"Point\"}, \"type\": \"Feature\"}, {\"properties\": {\"cluster\": 36}, \"geometry\": {\"coordinates\": [-73.68244565, 40.58731406], \"type\": \"Point\"}, \"type\": \"Feature\"}, {\"properties\": {\"cluster\": 9}, \"geometry\": {\"coordinates\": [-73.67105637, 40.5905127], \"type\": \"Point\"}, \"type\": \"Feature\"}, {\"properties\": {\"cluster\": 9}, \"geometry\": {\"coordinates\": [-73.67103653, 40.59064801], \"type\": \"Point\"}, \"type\": \"Feature\"}, {\"properties\": {\"cluster\": 9}, \"geometry\": {\"coordinates\": [-73.67102609, 40.59055307], \"type\": \"Point\"}, \"type\": \"Feature\"}, {\"properties\": {\"cluster\": 9}, \"geometry\": {\"coordinates\": [-73.67102584, 40.59054175], \"type\": \"Point\"}, \"type\": \"Feature\"}, {\"properties\": {\"cluster\": 12}, \"geometry\": {\"coordinates\": [-73.66355319, 40.58948793], \"type\": \"Point\"}, \"type\": \"Feature\"}, {\"properties\": {\"cluster\": 9}, \"geometry\": {\"coordinates\": [-73.67095323, 40.59060465], \"type\": \"Point\"}, \"type\": \"Feature\"}, {\"properties\": {\"cluster\": 9}, \"geometry\": {\"coordinates\": [-73.67094665, 40.59058615], \"type\": \"Point\"}, \"type\": \"Feature\"}, {\"properties\": {\"cluster\": 9}, \"geometry\": {\"coordinates\": [-73.67104277, 40.590592], \"type\": \"Point\"}, \"type\": \"Feature\"}, {\"properties\": {\"cluster\": 37}, \"geometry\": {\"coordinates\": [-73.67276458, 40.58892262], \"type\": \"Point\"}, \"type\": \"Feature\"}, {\"properties\": {\"cluster\": null}, \"geometry\": {\"coordinates\": [-73.7102284, 40.58649788], \"type\": \"Point\"}, \"type\": \"Feature\"}, {\"properties\": {\"cluster\": 9}, \"geometry\": {\"coordinates\": [-73.67099407, 40.59054012], \"type\": \"Point\"}, \"type\": \"Feature\"}, {\"properties\": {\"cluster\": null}, \"geometry\": {\"coordinates\": [-73.65708642, 40.59122], \"type\": \"Point\"}, \"type\": \"Feature\"}, {\"properties\": {\"cluster\": 9}, \"geometry\": {\"coordinates\": [-73.67099256, 40.59054259], \"type\": \"Point\"}, \"type\": \"Feature\"}, {\"properties\": {\"cluster\": 9}, \"geometry\": {\"coordinates\": [-73.67097831, 40.59055764], \"type\": \"Point\"}, \"type\": \"Feature\"}, {\"properties\": {\"cluster\": 9}, \"geometry\": {\"coordinates\": [-73.67103405, 40.59052369], \"type\": \"Point\"}, \"type\": \"Feature\"}, {\"properties\": {\"cluster\": 9}, \"geometry\": {\"coordinates\": [-73.67104148, 40.59045848], \"type\": \"Point\"}, \"type\": \"Feature\"}, {\"properties\": {\"cluster\": 9}, \"geometry\": {\"coordinates\": [-73.67101058, 40.5905524], \"type\": \"Point\"}, \"type\": \"Feature\"}, {\"properties\": {\"cluster\": 21}, \"geometry\": {\"coordinates\": [-73.65751603, 40.590451], \"type\": \"Point\"}, \"type\": \"Feature\"}, {\"properties\": {\"cluster\": 9}, \"geometry\": {\"coordinates\": [-73.67114176, 40.59032206], \"type\": \"Point\"}, \"type\": \"Feature\"}, {\"properties\": {\"cluster\": 9}, \"geometry\": {\"coordinates\": [-73.67116171, 40.59035056], \"type\": \"Point\"}, \"type\": \"Feature\"}, {\"properties\": {\"cluster\": 9}, \"geometry\": {\"coordinates\": [-73.67098971, 40.59052868], \"type\": \"Point\"}, \"type\": \"Feature\"}, {\"properties\": {\"cluster\": 11}, \"geometry\": {\"coordinates\": [-73.667364, 40.588718], \"type\": \"Point\"}, \"type\": \"Feature\"}, {\"properties\": {\"cluster\": 24}, \"geometry\": {\"coordinates\": [-73.75575237, 40.72037814], \"type\": \"Point\"}, \"type\": \"Feature\"}, {\"properties\": {\"cluster\": 12}, \"geometry\": {\"coordinates\": [-73.66349407, 40.589231], \"type\": \"Point\"}, \"type\": \"Feature\"}, {\"properties\": {\"cluster\": 12}, \"geometry\": {\"coordinates\": [-73.66342512, 40.58926857], \"type\": \"Point\"}, \"type\": \"Feature\"}, {\"properties\": {\"cluster\": 9}, \"geometry\": {\"coordinates\": [-73.67084613, 40.59035278], \"type\": \"Point\"}, \"type\": \"Feature\"}, {\"properties\": {\"cluster\": 9}, \"geometry\": {\"coordinates\": [-73.67103632, 40.59056665], \"type\": \"Point\"}, \"type\": \"Feature\"}, {\"properties\": {\"cluster\": 9}, \"geometry\": {\"coordinates\": [-73.67095118, 40.59048015], \"type\": \"Point\"}, \"type\": \"Feature\"}, {\"properties\": {\"cluster\": 9}, \"geometry\": {\"coordinates\": [-73.67115417, 40.59065189], \"type\": \"Point\"}, \"type\": \"Feature\"}, {\"properties\": {\"cluster\": 27}, \"geometry\": {\"coordinates\": [-73.66004798, 40.58349018], \"type\": \"Point\"}, \"type\": \"Feature\"}, {\"properties\": {\"cluster\": 27}, \"geometry\": {\"coordinates\": [-73.66009567, 40.58342594], \"type\": \"Point\"}, \"type\": \"Feature\"}, {\"properties\": {\"cluster\": 16}, \"geometry\": {\"coordinates\": [-73.66487503, 40.58928666], \"type\": \"Point\"}, \"type\": \"Feature\"}, {\"properties\": {\"cluster\": 9}, \"geometry\": {\"coordinates\": [-73.67096963, 40.59071119], \"type\": \"Point\"}, \"type\": \"Feature\"}, {\"properties\": {\"cluster\": 19}, \"geometry\": {\"coordinates\": [-73.64217341, 40.62126514], \"type\": \"Point\"}, \"type\": \"Feature\"}, {\"properties\": {\"cluster\": 9}, \"geometry\": {\"coordinates\": [-73.6709877, 40.59059339], \"type\": \"Point\"}, \"type\": \"Feature\"}, {\"properties\": {\"cluster\": 9}, \"geometry\": {\"coordinates\": [-73.67098692, 40.5906009], \"type\": \"Point\"}, \"type\": \"Feature\"}, {\"properties\": {\"cluster\": 9}, \"geometry\": {\"coordinates\": [-73.67095638, 40.59055849], \"type\": \"Point\"}, \"type\": \"Feature\"}, {\"properties\": {\"cluster\": 9}, \"geometry\": {\"coordinates\": [-73.67101509, 40.59046815], \"type\": \"Point\"}, \"type\": \"Feature\"}, {\"properties\": {\"cluster\": 9}, \"geometry\": {\"coordinates\": [-73.67101503, 40.59054678], \"type\": \"Point\"}, \"type\": \"Feature\"}, {\"properties\": {\"cluster\": 9}, \"geometry\": {\"coordinates\": [-73.67100016, 40.59053994], \"type\": \"Point\"}, \"type\": \"Feature\"}, {\"properties\": {\"cluster\": 24}, \"geometry\": {\"coordinates\": [-73.7556861, 40.720318], \"type\": \"Point\"}, \"type\": \"Feature\"}, {\"properties\": {\"cluster\": 9}, \"geometry\": {\"coordinates\": [-73.67100512, 40.59054916], \"type\": \"Point\"}, \"type\": \"Feature\"}, {\"properties\": {\"cluster\": 9}, \"geometry\": {\"coordinates\": [-73.67086918, 40.59039109], \"type\": \"Point\"}, \"type\": \"Feature\"}, {\"properties\": {\"cluster\": 20}, \"geometry\": {\"coordinates\": [-73.66968876, 40.58887749], \"type\": \"Point\"}, \"type\": \"Feature\"}, {\"properties\": {\"cluster\": 38}, \"geometry\": {\"coordinates\": [-73.68501239, 40.58383259], \"type\": \"Point\"}, \"type\": \"Feature\"}, {\"properties\": {\"cluster\": 9}, \"geometry\": {\"coordinates\": [-73.67100237, 40.59050982], \"type\": \"Point\"}, \"type\": \"Feature\"}, {\"properties\": {\"cluster\": 27}, \"geometry\": {\"coordinates\": [-73.66013272, 40.58351089], \"type\": \"Point\"}, \"type\": \"Feature\"}, {\"properties\": {\"cluster\": 27}, \"geometry\": {\"coordinates\": [-73.66021377, 40.58347518], \"type\": \"Point\"}, \"type\": \"Feature\"}, {\"properties\": {\"cluster\": 27}, \"geometry\": {\"coordinates\": [-73.66021377, 40.58347518], \"type\": \"Point\"}, \"type\": \"Feature\"}, {\"properties\": {\"cluster\": 9}, \"geometry\": {\"coordinates\": [-73.6710659, 40.59060018], \"type\": \"Point\"}, \"type\": \"Feature\"}, {\"properties\": {\"cluster\": 31}, \"geometry\": {\"coordinates\": [-73.69699899, 40.58592818], \"type\": \"Point\"}, \"type\": \"Feature\"}, {\"properties\": {\"cluster\": 9}, \"geometry\": {\"coordinates\": [-73.67084848, 40.59077595], \"type\": \"Point\"}, \"type\": \"Feature\"}, {\"properties\": {\"cluster\": 16}, \"geometry\": {\"coordinates\": [-73.66487503, 40.58928666], \"type\": \"Point\"}, \"type\": \"Feature\"}, {\"properties\": {\"cluster\": 12}, \"geometry\": {\"coordinates\": [-73.66351934, 40.58793997], \"type\": \"Point\"}, \"type\": \"Feature\"}, {\"properties\": {\"cluster\": 28}, \"geometry\": {\"coordinates\": [-73.64686626, 40.58341345], \"type\": \"Point\"}, \"type\": \"Feature\"}, {\"properties\": {\"cluster\": 9}, \"geometry\": {\"coordinates\": [-73.67107428, 40.59052178], \"type\": \"Point\"}, \"type\": \"Feature\"}, {\"properties\": {\"cluster\": 9}, \"geometry\": {\"coordinates\": [-73.67098913, 40.59053153], \"type\": \"Point\"}, \"type\": \"Feature\"}, {\"properties\": {\"cluster\": 9}, \"geometry\": {\"coordinates\": [-73.67097865, 40.5906622], \"type\": \"Point\"}, \"type\": \"Feature\"}, {\"properties\": {\"cluster\": 11}, \"geometry\": {\"coordinates\": [-73.66692114, 40.58860618], \"type\": \"Point\"}, \"type\": \"Feature\"}, {\"properties\": {\"cluster\": 9}, \"geometry\": {\"coordinates\": [-73.67099792, 40.59048233], \"type\": \"Point\"}, \"type\": \"Feature\"}, {\"properties\": {\"cluster\": 12}, \"geometry\": {\"coordinates\": [-73.6637648, 40.58809791], \"type\": \"Point\"}, \"type\": \"Feature\"}, {\"properties\": {\"cluster\": 24}, \"geometry\": {\"coordinates\": [-73.75568763, 40.72027959], \"type\": \"Point\"}, \"type\": \"Feature\"}, {\"properties\": {\"cluster\": 24}, \"geometry\": {\"coordinates\": [-73.75571462, 40.72032465], \"type\": \"Point\"}, \"type\": \"Feature\"}, {\"properties\": {\"cluster\": 9}, \"geometry\": {\"coordinates\": [-73.67093386, 40.59060418], \"type\": \"Point\"}, \"type\": \"Feature\"}, {\"properties\": {\"cluster\": 9}, \"geometry\": {\"coordinates\": [-73.67096666, 40.59062444], \"type\": \"Point\"}, \"type\": \"Feature\"}, {\"properties\": {\"cluster\": 9}, \"geometry\": {\"coordinates\": [-73.67149103, 40.59034243], \"type\": \"Point\"}, \"type\": \"Feature\"}, {\"properties\": {\"cluster\": 9}, \"geometry\": {\"coordinates\": [-73.6709939, 40.59061941], \"type\": \"Point\"}, \"type\": \"Feature\"}, {\"properties\": {\"cluster\": 39}, \"geometry\": {\"coordinates\": [-73.607889, 40.66484893], \"type\": \"Point\"}, \"type\": \"Feature\"}, {\"properties\": {\"cluster\": 24}, \"geometry\": {\"coordinates\": [-73.75568926, 40.72033235], \"type\": \"Point\"}, \"type\": \"Feature\"}, {\"properties\": {\"cluster\": 40}, \"geometry\": {\"coordinates\": [-73.66556817, 40.58949423], \"type\": \"Point\"}, \"type\": \"Feature\"}, {\"properties\": {\"cluster\": 24}, \"geometry\": {\"coordinates\": [-73.75569776, 40.72033324], \"type\": \"Point\"}, \"type\": \"Feature\"}, {\"properties\": {\"cluster\": 41}, \"geometry\": {\"coordinates\": [-73.66593484, 40.58389252], \"type\": \"Point\"}, \"type\": \"Feature\"}, {\"properties\": {\"cluster\": 41}, \"geometry\": {\"coordinates\": [-73.66607616, 40.58389516], \"type\": \"Point\"}, \"type\": \"Feature\"}, {\"properties\": {\"cluster\": 9}, \"geometry\": {\"coordinates\": [-73.67110547, 40.59052063], \"type\": \"Point\"}, \"type\": \"Feature\"}, {\"properties\": {\"cluster\": 9}, \"geometry\": {\"coordinates\": [-73.67105383, 40.59056698], \"type\": \"Point\"}, \"type\": \"Feature\"}, {\"properties\": {\"cluster\": null}, \"geometry\": {\"coordinates\": [-73.75322442, 40.59481193], \"type\": \"Point\"}, \"type\": \"Feature\"}, {\"properties\": {\"cluster\": null}, \"geometry\": {\"coordinates\": [-73.74887888, 40.59524924], \"type\": \"Point\"}, \"type\": \"Feature\"}, {\"properties\": {\"cluster\": 9}, \"geometry\": {\"coordinates\": [-73.67099691, 40.59049798], \"type\": \"Point\"}, \"type\": \"Feature\"}, {\"properties\": {\"cluster\": 9}, \"geometry\": {\"coordinates\": [-73.67108032, 40.59054892], \"type\": \"Point\"}, \"type\": \"Feature\"}, {\"properties\": {\"cluster\": 9}, \"geometry\": {\"coordinates\": [-73.67103766, 40.59053455], \"type\": \"Point\"}, \"type\": \"Feature\"}, {\"properties\": {\"cluster\": 9}, \"geometry\": {\"coordinates\": [-73.67104453, 40.59078512], \"type\": \"Point\"}, \"type\": \"Feature\"}, {\"properties\": {\"cluster\": 42}, \"geometry\": {\"coordinates\": [-73.66862191, 40.58808971], \"type\": \"Point\"}, \"type\": \"Feature\"}, {\"properties\": {\"cluster\": 42}, \"geometry\": {\"coordinates\": [-73.66861705, 40.58832337], \"type\": \"Point\"}, \"type\": \"Feature\"}, {\"properties\": {\"cluster\": 9}, \"geometry\": {\"coordinates\": [-73.67101561, 40.59056568], \"type\": \"Point\"}, \"type\": \"Feature\"}, {\"properties\": {\"cluster\": 12}, \"geometry\": {\"coordinates\": [-73.6637648, 40.58809791], \"type\": \"Point\"}, \"type\": \"Feature\"}, {\"properties\": {\"cluster\": null}, \"geometry\": {\"coordinates\": [-73.65612239, 40.58860982], \"type\": \"Point\"}, \"type\": \"Feature\"}, {\"properties\": {\"cluster\": 43}, \"geometry\": {\"coordinates\": [-73.65266318, 40.58863009], \"type\": \"Point\"}, \"type\": \"Feature\"}, {\"properties\": {\"cluster\": 9}, \"geometry\": {\"coordinates\": [-73.67105541, 40.59042436], \"type\": \"Point\"}, \"type\": \"Feature\"}, {\"properties\": {\"cluster\": 34}, \"geometry\": {\"coordinates\": [-73.67340385, 40.58822383], \"type\": \"Point\"}, \"type\": \"Feature\"}, {\"properties\": {\"cluster\": 44}, \"geometry\": {\"coordinates\": [-73.659102, 40.588325], \"type\": \"Point\"}, \"type\": \"Feature\"}, {\"properties\": {\"cluster\": 44}, \"geometry\": {\"coordinates\": [-73.659102, 40.588325], \"type\": \"Point\"}, \"type\": \"Feature\"}, {\"properties\": {\"cluster\": 9}, \"geometry\": {\"coordinates\": [-73.67104981, 40.5906451], \"type\": \"Point\"}, \"type\": \"Feature\"}, {\"properties\": {\"cluster\": 9}, \"geometry\": {\"coordinates\": [-73.67105048, 40.59060889], \"type\": \"Point\"}, \"type\": \"Feature\"}, {\"properties\": {\"cluster\": 9}, \"geometry\": {\"coordinates\": [-73.6708817, 40.59088872], \"type\": \"Point\"}, \"type\": \"Feature\"}, {\"properties\": {\"cluster\": 9}, \"geometry\": {\"coordinates\": [-73.67095149, 40.59056124], \"type\": \"Point\"}, \"type\": \"Feature\"}, {\"properties\": {\"cluster\": 9}, \"geometry\": {\"coordinates\": [-73.67092408, 40.59061212], \"type\": \"Point\"}, \"type\": \"Feature\"}, {\"properties\": {\"cluster\": 11}, \"geometry\": {\"coordinates\": [-73.667364, 40.588718], \"type\": \"Point\"}, \"type\": \"Feature\"}, {\"properties\": {\"cluster\": 9}, \"geometry\": {\"coordinates\": [-73.67111402, 40.59062545], \"type\": \"Point\"}, \"type\": \"Feature\"}, {\"properties\": {\"cluster\": 9}, \"geometry\": {\"coordinates\": [-73.67103933, 40.59061635], \"type\": \"Point\"}, \"type\": \"Feature\"}, {\"properties\": {\"cluster\": 9}, \"geometry\": {\"coordinates\": [-73.67105719, 40.59060692], \"type\": \"Point\"}, \"type\": \"Feature\"}, {\"properties\": {\"cluster\": 15}, \"geometry\": {\"coordinates\": [-73.64809186, 40.58340729], \"type\": \"Point\"}, \"type\": \"Feature\"}, {\"properties\": {\"cluster\": 15}, \"geometry\": {\"coordinates\": [-73.64797164, 40.58327921], \"type\": \"Point\"}, \"type\": \"Feature\"}, {\"properties\": {\"cluster\": 28}, \"geometry\": {\"coordinates\": [-73.64704145, 40.58321375], \"type\": \"Point\"}, \"type\": \"Feature\"}, {\"properties\": {\"cluster\": 9}, \"geometry\": {\"coordinates\": [-73.67109885, 40.59058354], \"type\": \"Point\"}, \"type\": \"Feature\"}, {\"properties\": {\"cluster\": 9}, \"geometry\": {\"coordinates\": [-73.67106516, 40.59043971], \"type\": \"Point\"}, \"type\": \"Feature\"}, {\"properties\": {\"cluster\": 9}, \"geometry\": {\"coordinates\": [-73.67084663, 40.59063312], \"type\": \"Point\"}, \"type\": \"Feature\"}, {\"properties\": {\"cluster\": 9}, \"geometry\": {\"coordinates\": [-73.67092735, 40.59065713], \"type\": \"Point\"}, \"type\": \"Feature\"}, {\"properties\": {\"cluster\": 11}, \"geometry\": {\"coordinates\": [-73.667364, 40.588718], \"type\": \"Point\"}, \"type\": \"Feature\"}, {\"properties\": {\"cluster\": null}, \"geometry\": {\"coordinates\": [-73.66539831, 40.58374466], \"type\": \"Point\"}, \"type\": \"Feature\"}, {\"properties\": {\"cluster\": 40}, \"geometry\": {\"coordinates\": [-73.66599363, 40.58912155], \"type\": \"Point\"}, \"type\": \"Feature\"}, {\"properties\": {\"cluster\": 9}, \"geometry\": {\"coordinates\": [-73.67124655, 40.59041306], \"type\": \"Point\"}, \"type\": \"Feature\"}, {\"properties\": {\"cluster\": 11}, \"geometry\": {\"coordinates\": [-73.66732959, 40.58930215], \"type\": \"Point\"}, \"type\": \"Feature\"}, {\"properties\": {\"cluster\": 9}, \"geometry\": {\"coordinates\": [-73.67091669, 40.59036808], \"type\": \"Point\"}, \"type\": \"Feature\"}, {\"properties\": {\"cluster\": 9}, \"geometry\": {\"coordinates\": [-73.6709313, 40.59045693], \"type\": \"Point\"}, \"type\": \"Feature\"}, {\"properties\": {\"cluster\": 37}, \"geometry\": {\"coordinates\": [-73.67258786, 40.58876553], \"type\": \"Point\"}, \"type\": \"Feature\"}, {\"properties\": {\"cluster\": 9}, \"geometry\": {\"coordinates\": [-73.67095627, 40.59052566], \"type\": \"Point\"}, \"type\": \"Feature\"}, {\"properties\": {\"cluster\": 9}, \"geometry\": {\"coordinates\": [-73.67100623, 40.59050873], \"type\": \"Point\"}, \"type\": \"Feature\"}, {\"properties\": {\"cluster\": 12}, \"geometry\": {\"coordinates\": [-73.6637648, 40.58809791], \"type\": \"Point\"}, \"type\": \"Feature\"}, {\"properties\": {\"cluster\": 45}, \"geometry\": {\"coordinates\": [-73.66430431, 40.58383254], \"type\": \"Point\"}, \"type\": \"Feature\"}, {\"properties\": {\"cluster\": 45}, \"geometry\": {\"coordinates\": [-73.66432652, 40.58384239], \"type\": \"Point\"}, \"type\": \"Feature\"}, {\"properties\": {\"cluster\": 24}, \"geometry\": {\"coordinates\": [-73.75564685, 40.72034764], \"type\": \"Point\"}, \"type\": \"Feature\"}, {\"properties\": {\"cluster\": 9}, \"geometry\": {\"coordinates\": [-73.67106523, 40.59060856], \"type\": \"Point\"}, \"type\": \"Feature\"}, {\"properties\": {\"cluster\": 9}, \"geometry\": {\"coordinates\": [-73.67108367, 40.59057507], \"type\": \"Point\"}, \"type\": \"Feature\"}, {\"properties\": {\"cluster\": 9}, \"geometry\": {\"coordinates\": [-73.67105702, 40.5905936], \"type\": \"Point\"}, \"type\": \"Feature\"}, {\"properties\": {\"cluster\": 9}, \"geometry\": {\"coordinates\": [-73.67097888, 40.59061732], \"type\": \"Point\"}, \"type\": \"Feature\"}, {\"properties\": {\"cluster\": 46}, \"geometry\": {\"coordinates\": [-73.64892544, 40.58315843], \"type\": \"Point\"}, \"type\": \"Feature\"}, {\"properties\": {\"cluster\": 9}, \"geometry\": {\"coordinates\": [-73.67099902, 40.59051841], \"type\": \"Point\"}, \"type\": \"Feature\"}, {\"properties\": {\"cluster\": 9}, \"geometry\": {\"coordinates\": [-73.67098563, 40.59060458], \"type\": \"Point\"}, \"type\": \"Feature\"}, {\"properties\": {\"cluster\": 11}, \"geometry\": {\"coordinates\": [-73.667364, 40.588718], \"type\": \"Point\"}, \"type\": \"Feature\"}, {\"properties\": {\"cluster\": 15}, \"geometry\": {\"coordinates\": [-73.64832547, 40.58308869], \"type\": \"Point\"}, \"type\": \"Feature\"}, {\"properties\": {\"cluster\": null}, \"geometry\": {\"coordinates\": [-73.65580472, 40.60679692], \"type\": \"Point\"}, \"type\": \"Feature\"}, {\"properties\": {\"cluster\": 9}, \"geometry\": {\"coordinates\": [-73.67099776, 40.59090494], \"type\": \"Point\"}, \"type\": \"Feature\"}, {\"properties\": {\"cluster\": 34}, \"geometry\": {\"coordinates\": [-73.67340385, 40.58822383], \"type\": \"Point\"}, \"type\": \"Feature\"}, {\"properties\": {\"cluster\": 27}, \"geometry\": {\"coordinates\": [-73.66018477, 40.58351223], \"type\": \"Point\"}, \"type\": \"Feature\"}, {\"properties\": {\"cluster\": 33}, \"geometry\": {\"coordinates\": [-73.66886302, 40.59328328], \"type\": \"Point\"}, \"type\": \"Feature\"}, {\"properties\": {\"cluster\": 9}, \"geometry\": {\"coordinates\": [-73.67078964, 40.59075377], \"type\": \"Point\"}, \"type\": \"Feature\"}, {\"properties\": {\"cluster\": 9}, \"geometry\": {\"coordinates\": [-73.67107345, 40.5905788], \"type\": \"Point\"}, \"type\": \"Feature\"}, {\"properties\": {\"cluster\": 9}, \"geometry\": {\"coordinates\": [-73.67094462, 40.59059959], \"type\": \"Point\"}, \"type\": \"Feature\"}, {\"properties\": {\"cluster\": 14}, \"geometry\": {\"coordinates\": [-73.75529848, 40.60493759], \"type\": \"Point\"}, \"type\": \"Feature\"}, {\"properties\": {\"cluster\": 9}, \"geometry\": {\"coordinates\": [-73.67096876, 40.59075637], \"type\": \"Point\"}, \"type\": \"Feature\"}, {\"properties\": {\"cluster\": 14}, \"geometry\": {\"coordinates\": [-73.75508325, 40.60419265], \"type\": \"Point\"}, \"type\": \"Feature\"}, {\"properties\": {\"cluster\": 9}, \"geometry\": {\"coordinates\": [-73.67116246, 40.59058773], \"type\": \"Point\"}, \"type\": \"Feature\"}, {\"properties\": {\"cluster\": 47}, \"geometry\": {\"coordinates\": [-73.65196179, 40.58335938], \"type\": \"Point\"}, \"type\": \"Feature\"}, {\"properties\": {\"cluster\": 28}, \"geometry\": {\"coordinates\": [-73.64704145, 40.58321375], \"type\": \"Point\"}, \"type\": \"Feature\"}, {\"properties\": {\"cluster\": null}, \"geometry\": {\"coordinates\": [-73.75587702, 40.60623111], \"type\": \"Point\"}, \"type\": \"Feature\"}, {\"properties\": {\"cluster\": null}, \"geometry\": {\"coordinates\": [-73.6384697, 40.64169741], \"type\": \"Point\"}, \"type\": \"Feature\"}, {\"properties\": {\"cluster\": 12}, \"geometry\": {\"coordinates\": [-73.66360904, 40.58928764], \"type\": \"Point\"}, \"type\": \"Feature\"}, {\"properties\": {\"cluster\": 9}, \"geometry\": {\"coordinates\": [-73.67094252, 40.5905972], \"type\": \"Point\"}, \"type\": \"Feature\"}, {\"properties\": {\"cluster\": 11}, \"geometry\": {\"coordinates\": [-73.667364, 40.588718], \"type\": \"Point\"}, \"type\": \"Feature\"}, {\"properties\": {\"cluster\": 24}, \"geometry\": {\"coordinates\": [-73.75589384, 40.7203556], \"type\": \"Point\"}, \"type\": \"Feature\"}, {\"properties\": {\"cluster\": 24}, \"geometry\": {\"coordinates\": [-73.75588643, 40.7203565], \"type\": \"Point\"}, \"type\": \"Feature\"}, {\"properties\": {\"cluster\": 9}, \"geometry\": {\"coordinates\": [-73.67100899, 40.59066643], \"type\": \"Point\"}, \"type\": \"Feature\"}, {\"properties\": {\"cluster\": 9}, \"geometry\": {\"coordinates\": [-73.67091423, 40.59045473], \"type\": \"Point\"}, \"type\": \"Feature\"}, {\"properties\": {\"cluster\": 9}, \"geometry\": {\"coordinates\": [-73.67105543, 40.59055852], \"type\": \"Point\"}, \"type\": \"Feature\"}, {\"properties\": {\"cluster\": 14}, \"geometry\": {\"coordinates\": [-73.75581132, 40.60400571], \"type\": \"Point\"}, \"type\": \"Feature\"}, {\"properties\": {\"cluster\": 9}, \"geometry\": {\"coordinates\": [-73.67114251, 40.59027102], \"type\": \"Point\"}, \"type\": \"Feature\"}, {\"properties\": {\"cluster\": 9}, \"geometry\": {\"coordinates\": [-73.67100463, 40.59064003], \"type\": \"Point\"}, \"type\": \"Feature\"}, {\"properties\": {\"cluster\": 9}, \"geometry\": {\"coordinates\": [-73.67095518, 40.59055215], \"type\": \"Point\"}, \"type\": \"Feature\"}, {\"properties\": {\"cluster\": 48}, \"geometry\": {\"coordinates\": [-73.65753634, 40.58342661], \"type\": \"Point\"}, \"type\": \"Feature\"}, {\"properties\": {\"cluster\": 9}, \"geometry\": {\"coordinates\": [-73.67103766, 40.59058731], \"type\": \"Point\"}, \"type\": \"Feature\"}, {\"properties\": {\"cluster\": 9}, \"geometry\": {\"coordinates\": [-73.6710804, 40.59052398], \"type\": \"Point\"}, \"type\": \"Feature\"}, {\"properties\": {\"cluster\": 9}, \"geometry\": {\"coordinates\": [-73.67097806, 40.59042579], \"type\": \"Point\"}, \"type\": \"Feature\"}, {\"properties\": {\"cluster\": 9}, \"geometry\": {\"coordinates\": [-73.67105979, 40.59048564], \"type\": \"Point\"}, \"type\": \"Feature\"}, {\"properties\": {\"cluster\": 28}, \"geometry\": {\"coordinates\": [-73.6468795, 40.58337984], \"type\": \"Point\"}, \"type\": \"Feature\"}, {\"properties\": {\"cluster\": 28}, \"geometry\": {\"coordinates\": [-73.64692384, 40.58334467], \"type\": \"Point\"}, \"type\": \"Feature\"}, {\"properties\": {\"cluster\": 28}, \"geometry\": {\"coordinates\": [-73.64689954, 40.58342032], \"type\": \"Point\"}, \"type\": \"Feature\"}, {\"properties\": {\"cluster\": 13}, \"geometry\": {\"coordinates\": [-73.67336716, 40.58400705], \"type\": \"Point\"}, \"type\": \"Feature\"}, {\"properties\": {\"cluster\": 11}, \"geometry\": {\"coordinates\": [-73.667364, 40.588718], \"type\": \"Point\"}, \"type\": \"Feature\"}, {\"properties\": {\"cluster\": 9}, \"geometry\": {\"coordinates\": [-73.67104629, 40.59051665], \"type\": \"Point\"}, \"type\": \"Feature\"}, {\"properties\": {\"cluster\": 9}, \"geometry\": {\"coordinates\": [-73.6709833, 40.59055274], \"type\": \"Point\"}, \"type\": \"Feature\"}, {\"properties\": {\"cluster\": 11}, \"geometry\": {\"coordinates\": [-73.667364, 40.588718], \"type\": \"Point\"}, \"type\": \"Feature\"}, {\"properties\": {\"cluster\": 11}, \"geometry\": {\"coordinates\": [-73.667364, 40.588718], \"type\": \"Point\"}, \"type\": \"Feature\"}, {\"properties\": {\"cluster\": 26}, \"geometry\": {\"coordinates\": [-73.68584513, 40.58381067], \"type\": \"Point\"}, \"type\": \"Feature\"}, {\"properties\": {\"cluster\": 48}, \"geometry\": {\"coordinates\": [-73.6572392, 40.58347652], \"type\": \"Point\"}, \"type\": \"Feature\"}, {\"properties\": {\"cluster\": 48}, \"geometry\": {\"coordinates\": [-73.65732528, 40.58337254], \"type\": \"Point\"}, \"type\": \"Feature\"}, {\"properties\": {\"cluster\": 49}, \"geometry\": {\"coordinates\": [-73.66249382, 40.58371432], \"type\": \"Point\"}, \"type\": \"Feature\"}, {\"properties\": {\"cluster\": 49}, \"geometry\": {\"coordinates\": [-73.66241494, 40.58354286], \"type\": \"Point\"}, \"type\": \"Feature\"}, {\"properties\": {\"cluster\": 9}, \"geometry\": {\"coordinates\": [-73.67107328, 40.59058383], \"type\": \"Point\"}, \"type\": \"Feature\"}, {\"properties\": {\"cluster\": 9}, \"geometry\": {\"coordinates\": [-73.67092018, 40.59044464], \"type\": \"Point\"}, \"type\": \"Feature\"}, {\"properties\": {\"cluster\": 9}, \"geometry\": {\"coordinates\": [-73.67102977, 40.5904834], \"type\": \"Point\"}, \"type\": \"Feature\"}, {\"properties\": {\"cluster\": 9}, \"geometry\": {\"coordinates\": [-73.67099281, 40.59055848], \"type\": \"Point\"}, \"type\": \"Feature\"}, {\"properties\": {\"cluster\": 9}, \"geometry\": {\"coordinates\": [-73.67105719, 40.5906148], \"type\": \"Point\"}, \"type\": \"Feature\"}, {\"properties\": {\"cluster\": 9}, \"geometry\": {\"coordinates\": [-73.67103657, 40.59061208], \"type\": \"Point\"}, \"type\": \"Feature\"}, {\"properties\": {\"cluster\": 9}, \"geometry\": {\"coordinates\": [-73.67097873, 40.59056828], \"type\": \"Point\"}, \"type\": \"Feature\"}, {\"properties\": {\"cluster\": 27}, \"geometry\": {\"coordinates\": [-73.65973273, 40.5833114], \"type\": \"Point\"}, \"type\": \"Feature\"}, {\"properties\": {\"cluster\": 27}, \"geometry\": {\"coordinates\": [-73.66008029, 40.58384765], \"type\": \"Point\"}, \"type\": \"Feature\"}, {\"properties\": {\"cluster\": 9}, \"geometry\": {\"coordinates\": [-73.67101461, 40.59056602], \"type\": \"Point\"}, \"type\": \"Feature\"}, {\"properties\": {\"cluster\": 30}, \"geometry\": {\"coordinates\": [-73.76042465, 40.72095936], \"type\": \"Point\"}, \"type\": \"Feature\"}, {\"properties\": {\"cluster\": 30}, \"geometry\": {\"coordinates\": [-73.76032219, 40.72092059], \"type\": \"Point\"}, \"type\": \"Feature\"}, {\"properties\": {\"cluster\": 9}, \"geometry\": {\"coordinates\": [-73.67102953, 40.59061887], \"type\": \"Point\"}, \"type\": \"Feature\"}, {\"properties\": {\"cluster\": 39}, \"geometry\": {\"coordinates\": [-73.60771803, 40.66443929], \"type\": \"Point\"}, \"type\": \"Feature\"}, {\"properties\": {\"cluster\": 9}, \"geometry\": {\"coordinates\": [-73.67106356, 40.59052323], \"type\": \"Point\"}, \"type\": \"Feature\"}, {\"properties\": {\"cluster\": 9}, \"geometry\": {\"coordinates\": [-73.6710716, 40.59055449], \"type\": \"Point\"}, \"type\": \"Feature\"}, {\"properties\": {\"cluster\": 9}, \"geometry\": {\"coordinates\": [-73.67104235, 40.59068165], \"type\": \"Point\"}, \"type\": \"Feature\"}, {\"properties\": {\"cluster\": 9}, \"geometry\": {\"coordinates\": [-73.67103674, 40.590663], \"type\": \"Point\"}, \"type\": \"Feature\"}, {\"properties\": {\"cluster\": 11}, \"geometry\": {\"coordinates\": [-73.666561, 40.58853865], \"type\": \"Point\"}, \"type\": \"Feature\"}, {\"properties\": {\"cluster\": 9}, \"geometry\": {\"coordinates\": [-73.67120689, 40.5904799], \"type\": \"Point\"}, \"type\": \"Feature\"}, {\"properties\": {\"cluster\": 24}, \"geometry\": {\"coordinates\": [-73.75559111, 40.72030657], \"type\": \"Point\"}, \"type\": \"Feature\"}, {\"properties\": {\"cluster\": 28}, \"geometry\": {\"coordinates\": [-73.64704145, 40.58321375], \"type\": \"Point\"}, \"type\": \"Feature\"}, {\"properties\": {\"cluster\": 9}, \"geometry\": {\"coordinates\": [-73.67098569, 40.59049511], \"type\": \"Point\"}, \"type\": \"Feature\"}, {\"properties\": {\"cluster\": 14}, \"geometry\": {\"coordinates\": [-73.75551224, 40.60391779], \"type\": \"Point\"}, \"type\": \"Feature\"}, {\"properties\": {\"cluster\": 11}, \"geometry\": {\"coordinates\": [-73.667364, 40.588718], \"type\": \"Point\"}, \"type\": \"Feature\"}, {\"properties\": {\"cluster\": 9}, \"geometry\": {\"coordinates\": [-73.67095359, 40.59052885], \"type\": \"Point\"}, \"type\": \"Feature\"}, {\"properties\": {\"cluster\": 9}, \"geometry\": {\"coordinates\": [-73.67095535, 40.59053052], \"type\": \"Point\"}, \"type\": \"Feature\"}, {\"properties\": {\"cluster\": 29}, \"geometry\": {\"coordinates\": [-73.72021008, 40.66266423], \"type\": \"Point\"}, \"type\": \"Feature\"}, {\"properties\": {\"cluster\": 9}, \"geometry\": {\"coordinates\": [-73.67134661, 40.59072305], \"type\": \"Point\"}, \"type\": \"Feature\"}, {\"properties\": {\"cluster\": 9}, \"geometry\": {\"coordinates\": [-73.67022328, 40.59007361], \"type\": \"Point\"}, \"type\": \"Feature\"}, {\"properties\": {\"cluster\": 9}, \"geometry\": {\"coordinates\": [-73.6708898, 40.59071974], \"type\": \"Point\"}, \"type\": \"Feature\"}, {\"properties\": {\"cluster\": 9}, \"geometry\": {\"coordinates\": [-73.67102156, 40.59045496], \"type\": \"Point\"}, \"type\": \"Feature\"}, {\"properties\": {\"cluster\": 9}, \"geometry\": {\"coordinates\": [-73.67103464, 40.5905213], \"type\": \"Point\"}, \"type\": \"Feature\"}, {\"properties\": {\"cluster\": 9}, \"geometry\": {\"coordinates\": [-73.67112617, 40.59055973], \"type\": \"Point\"}, \"type\": \"Feature\"}, {\"properties\": {\"cluster\": 25}, \"geometry\": {\"coordinates\": [-73.68634274, 40.58403945], \"type\": \"Point\"}, \"type\": \"Feature\"}, {\"properties\": {\"cluster\": 25}, \"geometry\": {\"coordinates\": [-73.68677275, 40.5840436], \"type\": \"Point\"}, \"type\": \"Feature\"}, {\"properties\": {\"cluster\": 9}, \"geometry\": {\"coordinates\": [-73.6710395, 40.59065818], \"type\": \"Point\"}, \"type\": \"Feature\"}, {\"properties\": {\"cluster\": 9}, \"geometry\": {\"coordinates\": [-73.67097002, 40.59064418], \"type\": \"Point\"}, \"type\": \"Feature\"}, {\"properties\": {\"cluster\": 9}, \"geometry\": {\"coordinates\": [-73.67101643, 40.59048607], \"type\": \"Point\"}, \"type\": \"Feature\"}, {\"properties\": {\"cluster\": 9}, \"geometry\": {\"coordinates\": [-73.67101561, 40.5905524], \"type\": \"Point\"}, \"type\": \"Feature\"}, {\"properties\": {\"cluster\": 9}, \"geometry\": {\"coordinates\": [-73.67089709, 40.59063592], \"type\": \"Point\"}, \"type\": \"Feature\"}, {\"properties\": {\"cluster\": 9}, \"geometry\": {\"coordinates\": [-73.67156061, 40.5903296], \"type\": \"Point\"}, \"type\": \"Feature\"}, {\"properties\": {\"cluster\": 47}, \"geometry\": {\"coordinates\": [-73.65200319, 40.58299255], \"type\": \"Point\"}, \"type\": \"Feature\"}, {\"properties\": {\"cluster\": 9}, \"geometry\": {\"coordinates\": [-73.67099, 40.59064022], \"type\": \"Point\"}, \"type\": \"Feature\"}, {\"properties\": {\"cluster\": 9}, \"geometry\": {\"coordinates\": [-73.67097069, 40.59086706], \"type\": \"Point\"}, \"type\": \"Feature\"}, {\"properties\": {\"cluster\": 15}, \"geometry\": {\"coordinates\": [-73.64785033, 40.58322247], \"type\": \"Point\"}, \"type\": \"Feature\"}, {\"properties\": {\"cluster\": 50}, \"geometry\": {\"coordinates\": [-73.73987039, 40.63081598], \"type\": \"Point\"}, \"type\": \"Feature\"}, {\"properties\": {\"cluster\": 9}, \"geometry\": {\"coordinates\": [-73.67100908, 40.59056987], \"type\": \"Point\"}, \"type\": \"Feature\"}, {\"properties\": {\"cluster\": 9}, \"geometry\": {\"coordinates\": [-73.67099585, 40.59036783], \"type\": \"Point\"}, \"type\": \"Feature\"}, {\"properties\": {\"cluster\": 9}, \"geometry\": {\"coordinates\": [-73.67103627, 40.59047871], \"type\": \"Point\"}, \"type\": \"Feature\"}, {\"properties\": {\"cluster\": 28}, \"geometry\": {\"coordinates\": [-73.64704145, 40.58321375], \"type\": \"Point\"}, \"type\": \"Feature\"}, {\"properties\": {\"cluster\": 9}, \"geometry\": {\"coordinates\": [-73.67096595, 40.59044408], \"type\": \"Point\"}, \"type\": \"Feature\"}, {\"properties\": {\"cluster\": 9}, \"geometry\": {\"coordinates\": [-73.67114344, 40.59052692], \"type\": \"Point\"}, \"type\": \"Feature\"}, {\"properties\": {\"cluster\": 46}, \"geometry\": {\"coordinates\": [-73.64900356, 40.58331278], \"type\": \"Point\"}, \"type\": \"Feature\"}, {\"properties\": {\"cluster\": 9}, \"geometry\": {\"coordinates\": [-73.67099709, 40.59054184], \"type\": \"Point\"}, \"type\": \"Feature\"}, {\"properties\": {\"cluster\": 9}, \"geometry\": {\"coordinates\": [-73.67098049, 40.5906218], \"type\": \"Point\"}, \"type\": \"Feature\"}, {\"properties\": {\"cluster\": 11}, \"geometry\": {\"coordinates\": [-73.667364, 40.588718], \"type\": \"Point\"}, \"type\": \"Feature\"}, {\"properties\": {\"cluster\": 9}, \"geometry\": {\"coordinates\": [-73.67096415, 40.59057595], \"type\": \"Point\"}, \"type\": \"Feature\"}, {\"properties\": {\"cluster\": 19}, \"geometry\": {\"coordinates\": [-73.64253491, 40.62218843], \"type\": \"Point\"}, \"type\": \"Feature\"}, {\"properties\": {\"cluster\": 19}, \"geometry\": {\"coordinates\": [-73.64171625, 40.62112749], \"type\": \"Point\"}, \"type\": \"Feature\"}, {\"properties\": {\"cluster\": 12}, \"geometry\": {\"coordinates\": [-73.6637648, 40.58809791], \"type\": \"Point\"}, \"type\": \"Feature\"}, {\"properties\": {\"cluster\": 11}, \"geometry\": {\"coordinates\": [-73.667364, 40.588718], \"type\": \"Point\"}, \"type\": \"Feature\"}, {\"properties\": {\"cluster\": 15}, \"geometry\": {\"coordinates\": [-73.64838716, 40.5834316], \"type\": \"Point\"}, \"type\": \"Feature\"}, {\"properties\": {\"cluster\": 15}, \"geometry\": {\"coordinates\": [-73.6483833, 40.5831925], \"type\": \"Point\"}, \"type\": \"Feature\"}, {\"properties\": {\"cluster\": 9}, \"geometry\": {\"coordinates\": [-73.6710395, 40.59065818], \"type\": \"Point\"}, \"type\": \"Feature\"}, {\"properties\": {\"cluster\": 9}, \"geometry\": {\"coordinates\": [-73.67097965, 40.59057763], \"type\": \"Point\"}, \"type\": \"Feature\"}, {\"properties\": {\"cluster\": 9}, \"geometry\": {\"coordinates\": [-73.6710343, 40.59082892], \"type\": \"Point\"}, \"type\": \"Feature\"}, {\"properties\": {\"cluster\": 9}, \"geometry\": {\"coordinates\": [-73.67100899, 40.59069342], \"type\": \"Point\"}, \"type\": \"Feature\"}, {\"properties\": {\"cluster\": 9}, \"geometry\": {\"coordinates\": [-73.67107194, 40.59054029], \"type\": \"Point\"}, \"type\": \"Feature\"}, {\"properties\": {\"cluster\": 9}, \"geometry\": {\"coordinates\": [-73.67123052, 40.59042395], \"type\": \"Point\"}, \"type\": \"Feature\"}, {\"properties\": {\"cluster\": null}, \"geometry\": {\"coordinates\": [-73.75790066, 40.60247767], \"type\": \"Point\"}, \"type\": \"Feature\"}, {\"properties\": {\"cluster\": 9}, \"geometry\": {\"coordinates\": [-73.67087806, 40.59071064], \"type\": \"Point\"}, \"type\": \"Feature\"}, {\"properties\": {\"cluster\": 25}, \"geometry\": {\"coordinates\": [-73.68657265, 40.58393379], \"type\": \"Point\"}, \"type\": \"Feature\"}, {\"properties\": {\"cluster\": 9}, \"geometry\": {\"coordinates\": [-73.67102651, 40.59054339], \"type\": \"Point\"}, \"type\": \"Feature\"}, {\"properties\": {\"cluster\": 28}, \"geometry\": {\"coordinates\": [-73.64686157, 40.58317004], \"type\": \"Point\"}, \"type\": \"Feature\"}, {\"properties\": {\"cluster\": 28}, \"geometry\": {\"coordinates\": [-73.64689903, 40.58331957], \"type\": \"Point\"}, \"type\": \"Feature\"}, {\"properties\": {\"cluster\": 9}, \"geometry\": {\"coordinates\": [-73.67119514, 40.59060088], \"type\": \"Point\"}, \"type\": \"Feature\"}, {\"properties\": {\"cluster\": 9}, \"geometry\": {\"coordinates\": [-73.67094758, 40.59068012], \"type\": \"Point\"}, \"type\": \"Feature\"}, {\"properties\": {\"cluster\": 9}, \"geometry\": {\"coordinates\": [-73.67091437, 40.5906977], \"type\": \"Point\"}, \"type\": \"Feature\"}, {\"properties\": {\"cluster\": 9}, \"geometry\": {\"coordinates\": [-73.67104319, 40.59061061], \"type\": \"Point\"}, \"type\": \"Feature\"}, {\"properties\": {\"cluster\": 9}, \"geometry\": {\"coordinates\": [-73.67101922, 40.59057293], \"type\": \"Point\"}, \"type\": \"Feature\"}, {\"properties\": {\"cluster\": 9}, \"geometry\": {\"coordinates\": [-73.67098419, 40.59055159], \"type\": \"Point\"}, \"type\": \"Feature\"}, {\"properties\": {\"cluster\": 14}, \"geometry\": {\"coordinates\": [-73.75551224, 40.60391779], \"type\": \"Point\"}, \"type\": \"Feature\"}, {\"properties\": {\"cluster\": 9}, \"geometry\": {\"coordinates\": [-73.67052058, 40.59080847], \"type\": \"Point\"}, \"type\": \"Feature\"}, {\"properties\": {\"cluster\": 9}, \"geometry\": {\"coordinates\": [-73.6711514, 40.59061593], \"type\": \"Point\"}, \"type\": \"Feature\"}, {\"properties\": {\"cluster\": 9}, \"geometry\": {\"coordinates\": [-73.67109977, 40.59044461], \"type\": \"Point\"}, \"type\": \"Feature\"}, {\"properties\": {\"cluster\": 9}, \"geometry\": {\"coordinates\": [-73.67097856, 40.59061472], \"type\": \"Point\"}, \"type\": \"Feature\"}, {\"properties\": {\"cluster\": 9}, \"geometry\": {\"coordinates\": [-73.67093255, 40.59064288], \"type\": \"Point\"}, \"type\": \"Feature\"}, {\"properties\": {\"cluster\": 9}, \"geometry\": {\"coordinates\": [-73.67110463, 40.59063316], \"type\": \"Point\"}, \"type\": \"Feature\"}, {\"properties\": {\"cluster\": 50}, \"geometry\": {\"coordinates\": [-73.73987039, 40.63081598], \"type\": \"Point\"}, \"type\": \"Feature\"}, {\"properties\": {\"cluster\": 9}, \"geometry\": {\"coordinates\": [-73.67110807, 40.59053379], \"type\": \"Point\"}, \"type\": \"Feature\"}, {\"properties\": {\"cluster\": 12}, \"geometry\": {\"coordinates\": [-73.66360904, 40.58928764], \"type\": \"Point\"}, \"type\": \"Feature\"}, {\"properties\": {\"cluster\": 14}, \"geometry\": {\"coordinates\": [-73.75551224, 40.60391779], \"type\": \"Point\"}, \"type\": \"Feature\"}, {\"properties\": {\"cluster\": 32}, \"geometry\": {\"coordinates\": [-73.7538579, 40.60390448], \"type\": \"Point\"}, \"type\": \"Feature\"}, {\"properties\": {\"cluster\": 32}, \"geometry\": {\"coordinates\": [-73.75434532, 40.60367503], \"type\": \"Point\"}, \"type\": \"Feature\"}, {\"properties\": {\"cluster\": 24}, \"geometry\": {\"coordinates\": [-73.75568225, 40.72034328], \"type\": \"Point\"}, \"type\": \"Feature\"}, {\"properties\": {\"cluster\": 9}, \"geometry\": {\"coordinates\": [-73.67100653, 40.5904447], \"type\": \"Point\"}, \"type\": \"Feature\"}, {\"properties\": {\"cluster\": 9}, \"geometry\": {\"coordinates\": [-73.67098737, 40.59057352], \"type\": \"Point\"}, \"type\": \"Feature\"}, {\"properties\": {\"cluster\": 9}, \"geometry\": {\"coordinates\": [-73.67100991, 40.59059913], \"type\": \"Point\"}, \"type\": \"Feature\"}, {\"properties\": {\"cluster\": 36}, \"geometry\": {\"coordinates\": [-73.6820772, 40.58641047], \"type\": \"Point\"}, \"type\": \"Feature\"}, {\"properties\": {\"cluster\": 15}, \"geometry\": {\"coordinates\": [-73.64823134, 40.58321844], \"type\": \"Point\"}, \"type\": \"Feature\"}, {\"properties\": {\"cluster\": 15}, \"geometry\": {\"coordinates\": [-73.64838068, 40.58329376], \"type\": \"Point\"}, \"type\": \"Feature\"}, {\"properties\": {\"cluster\": 9}, \"geometry\": {\"coordinates\": [-73.67104939, 40.59059347], \"type\": \"Point\"}, \"type\": \"Feature\"}, {\"properties\": {\"cluster\": 14}, \"geometry\": {\"coordinates\": [-73.75506575, 40.60527036], \"type\": \"Point\"}, \"type\": \"Feature\"}, {\"properties\": {\"cluster\": 9}, \"geometry\": {\"coordinates\": [-73.6711343, 40.59072171], \"type\": \"Point\"}, \"type\": \"Feature\"}, {\"properties\": {\"cluster\": 9}, \"geometry\": {\"coordinates\": [-73.6710255, 40.59055035], \"type\": \"Point\"}, \"type\": \"Feature\"}, {\"properties\": {\"cluster\": 9}, \"geometry\": {\"coordinates\": [-73.67104151, 40.59056103], \"type\": \"Point\"}, \"type\": \"Feature\"}, {\"properties\": {\"cluster\": 9}, \"geometry\": {\"coordinates\": [-73.67102374, 40.59057214], \"type\": \"Point\"}, \"type\": \"Feature\"}, {\"properties\": {\"cluster\": 9}, \"geometry\": {\"coordinates\": [-73.67099265, 40.59063073], \"type\": \"Point\"}, \"type\": \"Feature\"}, {\"properties\": {\"cluster\": 9}, \"geometry\": {\"coordinates\": [-73.67099265, 40.59063073], \"type\": \"Point\"}, \"type\": \"Feature\"}, {\"properties\": {\"cluster\": 9}, \"geometry\": {\"coordinates\": [-73.67102384, 40.59060101], \"type\": \"Point\"}, \"type\": \"Feature\"}, {\"properties\": {\"cluster\": 9}, \"geometry\": {\"coordinates\": [-73.67114696, 40.59053098], \"type\": \"Point\"}, \"type\": \"Feature\"}, {\"properties\": {\"cluster\": 9}, \"geometry\": {\"coordinates\": [-73.67095916, 40.59058809], \"type\": \"Point\"}, \"type\": \"Feature\"}, {\"properties\": {\"cluster\": 9}, \"geometry\": {\"coordinates\": [-73.67094505, 40.59058564], \"type\": \"Point\"}, \"type\": \"Feature\"}, {\"properties\": {\"cluster\": 28}, \"geometry\": {\"coordinates\": [-73.64684329, 40.58324405], \"type\": \"Point\"}, \"type\": \"Feature\"}, {\"properties\": {\"cluster\": 9}, \"geometry\": {\"coordinates\": [-73.67102651, 40.59046212], \"type\": \"Point\"}, \"type\": \"Feature\"}, {\"properties\": {\"cluster\": 18}, \"geometry\": {\"coordinates\": [-73.61117142, 40.65603304], \"type\": \"Point\"}, \"type\": \"Feature\"}, {\"properties\": {\"cluster\": 9}, \"geometry\": {\"coordinates\": [-73.67095037, 40.59060695], \"type\": \"Point\"}, \"type\": \"Feature\"}, {\"properties\": {\"cluster\": 9}, \"geometry\": {\"coordinates\": [-73.67095702, 40.5906007], \"type\": \"Point\"}, \"type\": \"Feature\"}, {\"properties\": {\"cluster\": 9}, \"geometry\": {\"coordinates\": [-73.67098399, 40.59055197], \"type\": \"Point\"}, \"type\": \"Feature\"}, {\"properties\": {\"cluster\": 30}, \"geometry\": {\"coordinates\": [-73.76041371, 40.7209415], \"type\": \"Point\"}, \"type\": \"Feature\"}, {\"properties\": {\"cluster\": 12}, \"geometry\": {\"coordinates\": [-73.6637648, 40.58809791], \"type\": \"Point\"}, \"type\": \"Feature\"}, {\"properties\": {\"cluster\": 9}, \"geometry\": {\"coordinates\": [-73.67100658, 40.59068999], \"type\": \"Point\"}, \"type\": \"Feature\"}, {\"properties\": {\"cluster\": 9}, \"geometry\": {\"coordinates\": [-73.67108904, 40.59048754], \"type\": \"Point\"}, \"type\": \"Feature\"}, {\"properties\": {\"cluster\": 9}, \"geometry\": {\"coordinates\": [-73.67094629, 40.59052977], \"type\": \"Point\"}, \"type\": \"Feature\"}, {\"properties\": {\"cluster\": 9}, \"geometry\": {\"coordinates\": [-73.67097152, 40.59054758], \"type\": \"Point\"}, \"type\": \"Feature\"}, {\"properties\": {\"cluster\": 39}, \"geometry\": {\"coordinates\": [-73.60786216, 40.66477302], \"type\": \"Point\"}, \"type\": \"Feature\"}, {\"properties\": {\"cluster\": 30}, \"geometry\": {\"coordinates\": [-73.76080863, 40.72059893], \"type\": \"Point\"}, \"type\": \"Feature\"}, {\"properties\": {\"cluster\": 11}, \"geometry\": {\"coordinates\": [-73.66743444, 40.58872938], \"type\": \"Point\"}, \"type\": \"Feature\"}, {\"properties\": {\"cluster\": 9}, \"geometry\": {\"coordinates\": [-73.67102634, 40.59048031], \"type\": \"Point\"}, \"type\": \"Feature\"}, {\"properties\": {\"cluster\": 9}, \"geometry\": {\"coordinates\": [-73.67099868, 40.59062033], \"type\": \"Point\"}, \"type\": \"Feature\"}, {\"properties\": {\"cluster\": 9}, \"geometry\": {\"coordinates\": [-73.67101393, 40.59047594], \"type\": \"Point\"}, \"type\": \"Feature\"}, {\"properties\": {\"cluster\": 15}, \"geometry\": {\"coordinates\": [-73.64829504, 40.5833124], \"type\": \"Point\"}, \"type\": \"Feature\"}, {\"properties\": {\"cluster\": 15}, \"geometry\": {\"coordinates\": [-73.64830351, 40.58334568], \"type\": \"Point\"}, \"type\": \"Feature\"}, {\"properties\": {\"cluster\": 15}, \"geometry\": {\"coordinates\": [-73.64828589, 40.58332493], \"type\": \"Point\"}, \"type\": \"Feature\"}, {\"properties\": {\"cluster\": 9}, \"geometry\": {\"coordinates\": [-73.6710245, 40.59057189], \"type\": \"Point\"}, \"type\": \"Feature\"}, {\"properties\": {\"cluster\": 9}, \"geometry\": {\"coordinates\": [-73.67105031, 40.59059326], \"type\": \"Point\"}, \"type\": \"Feature\"}, {\"properties\": {\"cluster\": 9}, \"geometry\": {\"coordinates\": [-73.67101025, 40.59049583], \"type\": \"Point\"}, \"type\": \"Feature\"}, {\"properties\": {\"cluster\": 12}, \"geometry\": {\"coordinates\": [-73.6637648, 40.58809791], \"type\": \"Point\"}, \"type\": \"Feature\"}, {\"properties\": {\"cluster\": 17}, \"geometry\": {\"coordinates\": [-73.67140821, 40.5876647], \"type\": \"Point\"}, \"type\": \"Feature\"}, {\"properties\": {\"cluster\": 9}, \"geometry\": {\"coordinates\": [-73.67104528, 40.59051858], \"type\": \"Point\"}, \"type\": \"Feature\"}, {\"properties\": {\"cluster\": 50}, \"geometry\": {\"coordinates\": [-73.73931192, 40.63126386], \"type\": \"Point\"}, \"type\": \"Feature\"}, {\"properties\": {\"cluster\": 41}, \"geometry\": {\"coordinates\": [-73.66604682, 40.5838742], \"type\": \"Point\"}, \"type\": \"Feature\"}, {\"properties\": {\"cluster\": 41}, \"geometry\": {\"coordinates\": [-73.66613785, 40.58396766], \"type\": \"Point\"}, \"type\": \"Feature\"}, {\"properties\": {\"cluster\": 38}, \"geometry\": {\"coordinates\": [-73.68471491, 40.5838675], \"type\": \"Point\"}, \"type\": \"Feature\"}, {\"properties\": {\"cluster\": 12}, \"geometry\": {\"coordinates\": [-73.66349407, 40.589231], \"type\": \"Point\"}, \"type\": \"Feature\"}, {\"properties\": {\"cluster\": 12}, \"geometry\": {\"coordinates\": [-73.66349407, 40.589231], \"type\": \"Point\"}, \"type\": \"Feature\"}, {\"properties\": {\"cluster\": 34}, \"geometry\": {\"coordinates\": [-73.67340385, 40.58822383], \"type\": \"Point\"}, \"type\": \"Feature\"}, {\"properties\": {\"cluster\": 9}, \"geometry\": {\"coordinates\": [-73.67106031, 40.5904784], \"type\": \"Point\"}, \"type\": \"Feature\"}, {\"properties\": {\"cluster\": 24}, \"geometry\": {\"coordinates\": [-73.75578398, 40.72024462], \"type\": \"Point\"}, \"type\": \"Feature\"}, {\"properties\": {\"cluster\": 24}, \"geometry\": {\"coordinates\": [-73.75558705, 40.72033391], \"type\": \"Point\"}, \"type\": \"Feature\"}, {\"properties\": {\"cluster\": 24}, \"geometry\": {\"coordinates\": [-73.75561093, 40.72032525], \"type\": \"Point\"}, \"type\": \"Feature\"}, {\"properties\": {\"cluster\": 24}, \"geometry\": {\"coordinates\": [-73.75552414, 40.72026424], \"type\": \"Point\"}, \"type\": \"Feature\"}, {\"properties\": {\"cluster\": 9}, \"geometry\": {\"coordinates\": [-73.67111846, 40.59045986], \"type\": \"Point\"}, \"type\": \"Feature\"}, {\"properties\": {\"cluster\": 9}, \"geometry\": {\"coordinates\": [-73.67100229, 40.59055898], \"type\": \"Point\"}, \"type\": \"Feature\"}, {\"properties\": {\"cluster\": 9}, \"geometry\": {\"coordinates\": [-73.6710514, 40.59053798], \"type\": \"Point\"}, \"type\": \"Feature\"}, {\"properties\": {\"cluster\": 9}, \"geometry\": {\"coordinates\": [-73.67104026, 40.59053932], \"type\": \"Point\"}, \"type\": \"Feature\"}, {\"properties\": {\"cluster\": 28}, \"geometry\": {\"coordinates\": [-73.64704145, 40.58321375], \"type\": \"Point\"}, \"type\": \"Feature\"}, {\"properties\": {\"cluster\": 9}, \"geometry\": {\"coordinates\": [-73.67098971, 40.59066983], \"type\": \"Point\"}, \"type\": \"Feature\"}, {\"properties\": {\"cluster\": 9}, \"geometry\": {\"coordinates\": [-73.67120496, 40.59027207], \"type\": \"Point\"}, \"type\": \"Feature\"}, {\"properties\": {\"cluster\": 9}, \"geometry\": {\"coordinates\": [-73.67102051, 40.59050849], \"type\": \"Point\"}, \"type\": \"Feature\"}, {\"properties\": {\"cluster\": 9}, \"geometry\": {\"coordinates\": [-73.67101377, 40.59058521], \"type\": \"Point\"}, \"type\": \"Feature\"}, {\"properties\": {\"cluster\": 9}, \"geometry\": {\"coordinates\": [-73.67106171, 40.59050085], \"type\": \"Point\"}, \"type\": \"Feature\"}, {\"properties\": {\"cluster\": 9}, \"geometry\": {\"coordinates\": [-73.67121175, 40.59051652], \"type\": \"Point\"}, \"type\": \"Feature\"}, {\"properties\": {\"cluster\": 24}, \"geometry\": {\"coordinates\": [-73.75564847, 40.72024937], \"type\": \"Point\"}, \"type\": \"Feature\"}, {\"properties\": {\"cluster\": 9}, \"geometry\": {\"coordinates\": [-73.67097706, 40.59070805], \"type\": \"Point\"}, \"type\": \"Feature\"}, {\"properties\": {\"cluster\": 12}, \"geometry\": {\"coordinates\": [-73.66360904, 40.58928764], \"type\": \"Point\"}, \"type\": \"Feature\"}, {\"properties\": {\"cluster\": 9}, \"geometry\": {\"coordinates\": [-73.67099608, 40.59049725], \"type\": \"Point\"}, \"type\": \"Feature\"}, {\"properties\": {\"cluster\": 9}, \"geometry\": {\"coordinates\": [-73.6710195, 40.5904843], \"type\": \"Point\"}, \"type\": \"Feature\"}, {\"properties\": {\"cluster\": 15}, \"geometry\": {\"coordinates\": [-73.64812027, 40.5832559], \"type\": \"Point\"}, \"type\": \"Feature\"}, {\"properties\": {\"cluster\": 15}, \"geometry\": {\"coordinates\": [-73.64818976, 40.58323097], \"type\": \"Point\"}, \"type\": \"Feature\"}, {\"properties\": {\"cluster\": 9}, \"geometry\": {\"coordinates\": [-73.6711695, 40.59044658], \"type\": \"Point\"}, \"type\": \"Feature\"}, {\"properties\": {\"cluster\": 9}, \"geometry\": {\"coordinates\": [-73.67099213, 40.59054434], \"type\": \"Point\"}, \"type\": \"Feature\"}, {\"properties\": {\"cluster\": 9}, \"geometry\": {\"coordinates\": [-73.67099181, 40.59054451], \"type\": \"Point\"}, \"type\": \"Feature\"}, {\"properties\": {\"cluster\": 9}, \"geometry\": {\"coordinates\": [-73.6710188, 40.59052407], \"type\": \"Point\"}, \"type\": \"Feature\"}, {\"properties\": {\"cluster\": 9}, \"geometry\": {\"coordinates\": [-73.67093529, 40.59045841], \"type\": \"Point\"}, \"type\": \"Feature\"}, {\"properties\": {\"cluster\": 9}, \"geometry\": {\"coordinates\": [-73.67110178, 40.59068249], \"type\": \"Point\"}, \"type\": \"Feature\"}, {\"properties\": {\"cluster\": 22}, \"geometry\": {\"coordinates\": [-73.67192413, 40.58390765], \"type\": \"Point\"}, \"type\": \"Feature\"}, {\"properties\": {\"cluster\": 9}, \"geometry\": {\"coordinates\": [-73.67115425, 40.59040413], \"type\": \"Point\"}, \"type\": \"Feature\"}, {\"properties\": {\"cluster\": 9}, \"geometry\": {\"coordinates\": [-73.67102463, 40.59044772], \"type\": \"Point\"}, \"type\": \"Feature\"}, {\"properties\": {\"cluster\": 9}, \"geometry\": {\"coordinates\": [-73.67103841, 40.59055713], \"type\": \"Point\"}, \"type\": \"Feature\"}, {\"properties\": {\"cluster\": 9}, \"geometry\": {\"coordinates\": [-73.67104738, 40.59052105], \"type\": \"Point\"}, \"type\": \"Feature\"}, {\"properties\": {\"cluster\": 9}, \"geometry\": {\"coordinates\": [-73.67088947, 40.59057746], \"type\": \"Point\"}, \"type\": \"Feature\"}, {\"properties\": {\"cluster\": 9}, \"geometry\": {\"coordinates\": [-73.67100296, 40.59066077], \"type\": \"Point\"}, \"type\": \"Feature\"}, {\"properties\": {\"cluster\": 9}, \"geometry\": {\"coordinates\": [-73.6710497, 40.59070432], \"type\": \"Point\"}, \"type\": \"Feature\"}, {\"properties\": {\"cluster\": 9}, \"geometry\": {\"coordinates\": [-73.67105434, 40.59051808], \"type\": \"Point\"}, \"type\": \"Feature\"}, {\"properties\": {\"cluster\": 9}, \"geometry\": {\"coordinates\": [-73.67098901, 40.59059687], \"type\": \"Point\"}, \"type\": \"Feature\"}, {\"properties\": {\"cluster\": 9}, \"geometry\": {\"coordinates\": [-73.67102517, 40.59060512], \"type\": \"Point\"}, \"type\": \"Feature\"}, {\"properties\": {\"cluster\": 9}, \"geometry\": {\"coordinates\": [-73.6710571, 40.59062025], \"type\": \"Point\"}, \"type\": \"Feature\"}, {\"properties\": {\"cluster\": 24}, \"geometry\": {\"coordinates\": [-73.75548753, 40.72025886], \"type\": \"Point\"}, \"type\": \"Feature\"}, {\"properties\": {\"cluster\": 9}, \"geometry\": {\"coordinates\": [-73.6710835, 40.59063866], \"type\": \"Point\"}, \"type\": \"Feature\"}, {\"properties\": {\"cluster\": null}, \"geometry\": {\"coordinates\": [-73.73015721, 40.58916389], \"type\": \"Point\"}, \"type\": \"Feature\"}, {\"properties\": {\"cluster\": 9}, \"geometry\": {\"coordinates\": [-73.67095811, 40.5906767], \"type\": \"Point\"}, \"type\": \"Feature\"}, {\"properties\": {\"cluster\": 9}, \"geometry\": {\"coordinates\": [-73.67113095, 40.59048689], \"type\": \"Point\"}, \"type\": \"Feature\"}, {\"properties\": {\"cluster\": 9}, \"geometry\": {\"coordinates\": [-73.67104954, 40.59051985], \"type\": \"Point\"}, \"type\": \"Feature\"}, {\"properties\": {\"cluster\": 11}, \"geometry\": {\"coordinates\": [-73.667364, 40.588718], \"type\": \"Point\"}, \"type\": \"Feature\"}, {\"properties\": {\"cluster\": 9}, \"geometry\": {\"coordinates\": [-73.67100237, 40.59045391], \"type\": \"Point\"}, \"type\": \"Feature\"}, {\"properties\": {\"cluster\": 9}, \"geometry\": {\"coordinates\": [-73.67104394, 40.59055035], \"type\": \"Point\"}, \"type\": \"Feature\"}, {\"properties\": {\"cluster\": 9}, \"geometry\": {\"coordinates\": [-73.67105643, 40.59058899], \"type\": \"Point\"}, \"type\": \"Feature\"}, {\"properties\": {\"cluster\": 9}, \"geometry\": {\"coordinates\": [-73.67107471, 40.59058148], \"type\": \"Point\"}, \"type\": \"Feature\"}, {\"properties\": {\"cluster\": 9}, \"geometry\": {\"coordinates\": [-73.67117403, 40.59056216], \"type\": \"Point\"}, \"type\": \"Feature\"}, {\"properties\": {\"cluster\": 9}, \"geometry\": {\"coordinates\": [-73.67107219, 40.59048568], \"type\": \"Point\"}, \"type\": \"Feature\"}, {\"properties\": {\"cluster\": 35}, \"geometry\": {\"coordinates\": [-73.65001014, 40.60495863], \"type\": \"Point\"}, \"type\": \"Feature\"}, {\"properties\": {\"cluster\": 24}, \"geometry\": {\"coordinates\": [-73.75562229, 40.72030925], \"type\": \"Point\"}, \"type\": \"Feature\"}, {\"properties\": {\"cluster\": 25}, \"geometry\": {\"coordinates\": [-73.68657265, 40.58393379], \"type\": \"Point\"}, \"type\": \"Feature\"}, {\"properties\": {\"cluster\": 10}, \"geometry\": {\"coordinates\": [-73.66916447, 40.58409967], \"type\": \"Point\"}, \"type\": \"Feature\"}, {\"properties\": {\"cluster\": 9}, \"geometry\": {\"coordinates\": [-73.67106465, 40.5907977], \"type\": \"Point\"}, \"type\": \"Feature\"}, {\"properties\": {\"cluster\": 9}, \"geometry\": {\"coordinates\": [-73.67095442, 40.59058158], \"type\": \"Point\"}, \"type\": \"Feature\"}, {\"properties\": {\"cluster\": null}, \"geometry\": {\"coordinates\": [-73.76158429, 40.72060822], \"type\": \"Point\"}, \"type\": \"Feature\"}, {\"properties\": {\"cluster\": 11}, \"geometry\": {\"coordinates\": [-73.667364, 40.588718], \"type\": \"Point\"}, \"type\": \"Feature\"}, {\"properties\": {\"cluster\": null}, \"geometry\": {\"coordinates\": [-73.66817098, 40.58854498], \"type\": \"Point\"}, \"type\": \"Feature\"}, {\"properties\": {\"cluster\": null}, \"geometry\": {\"coordinates\": [-73.72635238, 40.58881441], \"type\": \"Point\"}, \"type\": \"Feature\"}, {\"properties\": {\"cluster\": null}, \"geometry\": {\"coordinates\": [-73.69314551, 40.58592467], \"type\": \"Point\"}, \"type\": \"Feature\"}, {\"properties\": {\"cluster\": 9}, \"geometry\": {\"coordinates\": [-73.67126414, 40.59047529], \"type\": \"Point\"}, \"type\": \"Feature\"}, {\"properties\": {\"cluster\": 9}, \"geometry\": {\"coordinates\": [-73.67120186, 40.59043853], \"type\": \"Point\"}, \"type\": \"Feature\"}, {\"properties\": {\"cluster\": 11}, \"geometry\": {\"coordinates\": [-73.667364, 40.588718], \"type\": \"Point\"}, \"type\": \"Feature\"}, {\"properties\": {\"cluster\": 13}, \"geometry\": {\"coordinates\": [-73.67316104, 40.58381901], \"type\": \"Point\"}, \"type\": \"Feature\"}, {\"properties\": {\"cluster\": 9}, \"geometry\": {\"coordinates\": [-73.671054, 40.59060416], \"type\": \"Point\"}, \"type\": \"Feature\"}, {\"properties\": {\"cluster\": 9}, \"geometry\": {\"coordinates\": [-73.67107487, 40.59066099], \"type\": \"Point\"}, \"type\": \"Feature\"}, {\"properties\": {\"cluster\": 9}, \"geometry\": {\"coordinates\": [-73.67105291, 40.59061774], \"type\": \"Point\"}, \"type\": \"Feature\"}, {\"properties\": {\"cluster\": 49}, \"geometry\": {\"coordinates\": [-73.66247445, 40.5836209], \"type\": \"Point\"}, \"type\": \"Feature\"}, {\"properties\": {\"cluster\": 49}, \"geometry\": {\"coordinates\": [-73.66249641, 40.58361868], \"type\": \"Point\"}, \"type\": \"Feature\"}, {\"properties\": {\"cluster\": 49}, \"geometry\": {\"coordinates\": [-73.66243673, 40.5835727], \"type\": \"Point\"}, \"type\": \"Feature\"}, {\"properties\": {\"cluster\": 11}, \"geometry\": {\"coordinates\": [-73.667364, 40.588718], \"type\": \"Point\"}, \"type\": \"Feature\"}, {\"properties\": {\"cluster\": 11}, \"geometry\": {\"coordinates\": [-73.667364, 40.588718], \"type\": \"Point\"}, \"type\": \"Feature\"}, {\"properties\": {\"cluster\": 9}, \"geometry\": {\"coordinates\": [-73.67105316, 40.59042244], \"type\": \"Point\"}, \"type\": \"Feature\"}, {\"properties\": {\"cluster\": 22}, \"geometry\": {\"coordinates\": [-73.67205841, 40.58389872], \"type\": \"Point\"}, \"type\": \"Feature\"}, {\"properties\": {\"cluster\": 11}, \"geometry\": {\"coordinates\": [-73.667364, 40.588718], \"type\": \"Point\"}, \"type\": \"Feature\"}, {\"properties\": {\"cluster\": 9}, \"geometry\": {\"coordinates\": [-73.67099256, 40.59060039], \"type\": \"Point\"}, \"type\": \"Feature\"}, {\"properties\": {\"cluster\": 45}, \"geometry\": {\"coordinates\": [-73.66436734, 40.58373904], \"type\": \"Point\"}, \"type\": \"Feature\"}, {\"properties\": {\"cluster\": 45}, \"geometry\": {\"coordinates\": [-73.66426709, 40.58378959], \"type\": \"Point\"}, \"type\": \"Feature\"}, {\"properties\": {\"cluster\": 45}, \"geometry\": {\"coordinates\": [-73.66427966, 40.58381184], \"type\": \"Point\"}, \"type\": \"Feature\"}, {\"properties\": {\"cluster\": 9}, \"geometry\": {\"coordinates\": [-73.67105236, 40.59044437], \"type\": \"Point\"}, \"type\": \"Feature\"}, {\"properties\": {\"cluster\": 9}, \"geometry\": {\"coordinates\": [-73.67099307, 40.59053643], \"type\": \"Point\"}, \"type\": \"Feature\"}, {\"properties\": {\"cluster\": 51}, \"geometry\": {\"coordinates\": [-73.65855612, 40.58889918], \"type\": \"Point\"}, \"type\": \"Feature\"}, {\"properties\": {\"cluster\": 51}, \"geometry\": {\"coordinates\": [-73.65855612, 40.58889918], \"type\": \"Point\"}, \"type\": \"Feature\"}, {\"properties\": {\"cluster\": 9}, \"geometry\": {\"coordinates\": [-73.67119088, 40.59053417], \"type\": \"Point\"}, \"type\": \"Feature\"}, {\"properties\": {\"cluster\": 9}, \"geometry\": {\"coordinates\": [-73.67105539, 40.59044101], \"type\": \"Point\"}, \"type\": \"Feature\"}, {\"properties\": {\"cluster\": 9}, \"geometry\": {\"coordinates\": [-73.67098108, 40.59057096], \"type\": \"Point\"}, \"type\": \"Feature\"}, {\"properties\": {\"cluster\": 9}, \"geometry\": {\"coordinates\": [-73.67112843, 40.59052139], \"type\": \"Point\"}, \"type\": \"Feature\"}, {\"properties\": {\"cluster\": 9}, \"geometry\": {\"coordinates\": [-73.67099466, 40.59040291], \"type\": \"Point\"}, \"type\": \"Feature\"}, {\"properties\": {\"cluster\": null}, \"geometry\": {\"coordinates\": [-73.65673457, 40.58331683], \"type\": \"Point\"}, \"type\": \"Feature\"}, {\"properties\": {\"cluster\": 43}, \"geometry\": {\"coordinates\": [-73.65229643, 40.58863065], \"type\": \"Point\"}, \"type\": \"Feature\"}, {\"properties\": {\"cluster\": 43}, \"geometry\": {\"coordinates\": [-73.65229643, 40.58863065], \"type\": \"Point\"}, \"type\": \"Feature\"}, {\"properties\": {\"cluster\": 50}, \"geometry\": {\"coordinates\": [-73.73959542, 40.63128118], \"type\": \"Point\"}, \"type\": \"Feature\"}, {\"properties\": {\"cluster\": 9}, \"geometry\": {\"coordinates\": [-73.67104051, 40.59054016], \"type\": \"Point\"}, \"type\": \"Feature\"}], \"type\": \"FeatureCollection\"}'"
      ]
     },
     "execution_count": 221,
     "metadata": {},
     "output_type": "execute_result"
    }
   ],
   "source": [
    "json.dumps({\n",
    "        'type':'FeatureCollection',\n",
    "        'features':[\n",
    "            {'type':'Feature',\n",
    "             'properties': {\n",
    "                    'cluster': t['properties']['cluster']\n",
    "                    },\n",
    "             'geometry':t['geometry']\n",
    "             } for t in top_users[0].tweets]})"
   ]
  },
  {
   "cell_type": "code",
   "execution_count": 174,
   "metadata": {
    "collapsed": false
   },
   "outputs": [
    {
     "data": {
      "text/plain": [
       "22.984696090086025"
      ]
     },
     "execution_count": 174,
     "metadata": {},
     "output_type": "execute_result"
    }
   ],
   "source": [
    "geodistance.distanceHaversine(p1[1],p1[0],p2[1],p2[0])[0]*1000"
   ]
  },
  {
   "cell_type": "code",
   "execution_count": 192,
   "metadata": {
    "collapsed": false
   },
   "outputs": [
    {
     "data": {
      "text/plain": [
       "[[-74.13763004, 40.62469093],\n",
       " [-74.13790189, 40.62467849],\n",
       " [-74.13736593, 40.62543101],\n",
       " [-74.13609801, 40.62804978],\n",
       " [-74.13605684, 40.62822958],\n",
       " [-74.13592377, 40.6282247],\n",
       " [-74.1361719, 40.62794196],\n",
       " [-74.13615935, 40.62794937],\n",
       " [-74.13597703, 40.62821393],\n",
       " [-74.13598018, 40.62815867]]"
      ]
     },
     "execution_count": 192,
     "metadata": {},
     "output_type": "execute_result"
    }
   ],
   "source": [
    "points[:10]"
   ]
  },
  {
   "cell_type": "code",
   "execution_count": 196,
   "metadata": {
    "collapsed": false
   },
   "outputs": [
    {
     "data": {
      "text/plain": [
       "array([[ 40.62469093,  40.62467849,  40.62543101,  40.62804978,\n",
       "         40.62822958,  40.6282247 ,  40.62794196,  40.62794937,\n",
       "         40.62821393,  40.62815867],\n",
       "       [-74.13763004, -74.13790189, -74.13736593, -74.13609801,\n",
       "        -74.13605684, -74.13592377, -74.1361719 , -74.13615935,\n",
       "        -74.13597703, -74.13598018]])"
      ]
     },
     "execution_count": 196,
     "metadata": {},
     "output_type": "execute_result"
    }
   ],
   "source": [
    "np.array([ [p[1] for p in points[:10]], [p[0] for p in points[:10]]])"
   ]
  },
  {
   "cell_type": "code",
   "execution_count": null,
   "metadata": {
    "collapsed": true
   },
   "outputs": [],
   "source": []
  },
  {
   "cell_type": "code",
   "execution_count": 198,
   "metadata": {
    "collapsed": false
   },
   "outputs": [
    {
     "name": "stdout",
     "output_type": "stream",
     "text": [
      "[ 40.62469093 -74.13763004] [ 40.62469093 -74.13763004]\n",
      "40.62469093 40.62469093\n",
      "[ 40.62469093 -74.13763004] [ 40.62467849 -74.13790189]\n",
      "40.62469093 40.62467849\n",
      "[ 40.62469093 -74.13763004] [ 40.62543101 -74.13736593]\n",
      "40.62469093 40.62543101\n",
      "[ 40.62469093 -74.13763004] [ 40.62804978 -74.13609801]\n",
      "40.62469093 40.62804978\n",
      "[ 40.62469093 -74.13763004] [ 40.62822958 -74.13605684]\n",
      "40.62469093 40.62822958\n",
      "[ 40.62469093 -74.13763004] [ 40.6282247  -74.13592377]\n",
      "40.62469093 40.6282247\n",
      "[ 40.62469093 -74.13763004] [ 40.62794196 -74.1361719 ]\n",
      "40.62469093 40.62794196\n",
      "[ 40.62469093 -74.13763004] [ 40.62794937 -74.13615935]\n",
      "40.62469093 40.62794937\n",
      "[ 40.62469093 -74.13763004] [ 40.62821393 -74.13597703]\n",
      "40.62469093 40.62821393\n",
      "[ 40.62469093 -74.13763004] [ 40.62815867 -74.13598018]\n",
      "40.62469093 40.62815867\n",
      "[ 40.62469093 -74.13763004] [ 40.62469093 -74.13763004]\n",
      "40.62469093 40.62469093\n",
      "[ 40.62469093 -74.13763004] [ 40.62467849 -74.13790189]\n",
      "40.62469093 40.62467849\n",
      "[ 40.62469093 -74.13763004] [ 40.62543101 -74.13736593]\n",
      "40.62469093 40.62543101\n",
      "[ 40.62469093 -74.13763004] [ 40.62804978 -74.13609801]\n",
      "40.62469093 40.62804978\n",
      "[ 40.62469093 -74.13763004] [ 40.62822958 -74.13605684]\n",
      "40.62469093 40.62822958\n",
      "[ 40.62469093 -74.13763004] [ 40.6282247  -74.13592377]\n",
      "40.62469093 40.6282247\n",
      "[ 40.62469093 -74.13763004] [ 40.62794196 -74.1361719 ]\n",
      "40.62469093 40.62794196\n",
      "[ 40.62469093 -74.13763004] [ 40.62794937 -74.13615935]\n",
      "40.62469093 40.62794937\n",
      "[ 40.62469093 -74.13763004] [ 40.62821393 -74.13597703]\n",
      "40.62469093 40.62821393\n",
      "[ 40.62469093 -74.13763004] [ 40.62815867 -74.13598018]\n",
      "40.62469093 40.62815867\n",
      "[ 40.62467849 -74.13790189] [ 40.62469093 -74.13763004]\n",
      "40.62467849 40.62469093\n",
      "[ 40.62467849 -74.13790189] [ 40.62467849 -74.13790189]\n",
      "40.62467849 40.62467849\n",
      "[ 40.62467849 -74.13790189] [ 40.62543101 -74.13736593]\n",
      "40.62467849 40.62543101\n",
      "[ 40.62467849 -74.13790189] [ 40.62804978 -74.13609801]\n",
      "40.62467849 40.62804978\n",
      "[ 40.62467849 -74.13790189] [ 40.62822958 -74.13605684]\n",
      "40.62467849 40.62822958\n",
      "[ 40.62467849 -74.13790189] [ 40.6282247  -74.13592377]\n",
      "40.62467849 40.6282247\n",
      "[ 40.62467849 -74.13790189] [ 40.62794196 -74.1361719 ]\n",
      "40.62467849 40.62794196\n",
      "[ 40.62467849 -74.13790189] [ 40.62794937 -74.13615935]\n",
      "40.62467849 40.62794937\n",
      "[ 40.62467849 -74.13790189] [ 40.62821393 -74.13597703]\n",
      "40.62467849 40.62821393\n",
      "[ 40.62467849 -74.13790189] [ 40.62815867 -74.13598018]\n",
      "40.62467849 40.62815867\n",
      "[ 40.62543101 -74.13736593] [ 40.62469093 -74.13763004]\n",
      "40.62543101 40.62469093\n",
      "[ 40.62543101 -74.13736593] [ 40.62467849 -74.13790189]\n",
      "40.62543101 40.62467849\n",
      "[ 40.62543101 -74.13736593] [ 40.62543101 -74.13736593]\n",
      "40.62543101 40.62543101\n",
      "[ 40.62543101 -74.13736593] [ 40.62804978 -74.13609801]\n",
      "40.62543101 40.62804978\n",
      "[ 40.62543101 -74.13736593] [ 40.62822958 -74.13605684]\n",
      "40.62543101 40.62822958\n",
      "[ 40.62543101 -74.13736593] [ 40.6282247  -74.13592377]\n",
      "40.62543101 40.6282247\n",
      "[ 40.62543101 -74.13736593] [ 40.62794196 -74.1361719 ]\n",
      "40.62543101 40.62794196\n",
      "[ 40.62543101 -74.13736593] [ 40.62794937 -74.13615935]\n",
      "40.62543101 40.62794937\n",
      "[ 40.62543101 -74.13736593] [ 40.62821393 -74.13597703]\n",
      "40.62543101 40.62821393\n",
      "[ 40.62543101 -74.13736593] [ 40.62815867 -74.13598018]\n",
      "40.62543101 40.62815867\n",
      "[ 40.62804978 -74.13609801] [ 40.62469093 -74.13763004]\n",
      "40.62804978 40.62469093\n",
      "[ 40.62804978 -74.13609801] [ 40.62467849 -74.13790189]\n",
      "40.62804978 40.62467849\n",
      "[ 40.62804978 -74.13609801] [ 40.62543101 -74.13736593]\n",
      "40.62804978 40.62543101\n",
      "[ 40.62804978 -74.13609801] [ 40.62804978 -74.13609801]\n",
      "40.62804978 40.62804978\n",
      "[ 40.62804978 -74.13609801] [ 40.62822958 -74.13605684]\n",
      "40.62804978 40.62822958\n",
      "[ 40.62804978 -74.13609801] [ 40.6282247  -74.13592377]\n",
      "40.62804978 40.6282247\n",
      "[ 40.62804978 -74.13609801] [ 40.62794196 -74.1361719 ]\n",
      "40.62804978 40.62794196\n",
      "[ 40.62804978 -74.13609801] [ 40.62794937 -74.13615935]\n",
      "40.62804978 40.62794937\n",
      "[ 40.62804978 -74.13609801] [ 40.62821393 -74.13597703]\n",
      "40.62804978 40.62821393\n",
      "[ 40.62804978 -74.13609801] [ 40.62815867 -74.13598018]\n",
      "40.62804978 40.62815867\n",
      "[ 40.62804978 -74.13609801] [ 40.62469093 -74.13763004]\n",
      "40.62804978 40.62469093\n",
      "[ 40.62804978 -74.13609801] [ 40.62467849 -74.13790189]\n",
      "40.62804978 40.62467849\n",
      "[ 40.62804978 -74.13609801] [ 40.62543101 -74.13736593]\n",
      "40.62804978 40.62543101\n",
      "[ 40.62804978 -74.13609801] [ 40.62804978 -74.13609801]\n",
      "40.62804978 40.62804978\n",
      "[ 40.62804978 -74.13609801] [ 40.62822958 -74.13605684]\n",
      "40.62804978 40.62822958\n",
      "[ 40.62804978 -74.13609801] [ 40.6282247  -74.13592377]\n",
      "40.62804978 40.6282247\n",
      "[ 40.62804978 -74.13609801] [ 40.62794196 -74.1361719 ]\n",
      "40.62804978 40.62794196\n",
      "[ 40.62804978 -74.13609801] [ 40.62794937 -74.13615935]\n",
      "40.62804978 40.62794937\n",
      "[ 40.62804978 -74.13609801] [ 40.62821393 -74.13597703]\n",
      "40.62804978 40.62821393\n",
      "[ 40.62804978 -74.13609801] [ 40.62815867 -74.13598018]\n",
      "40.62804978 40.62815867\n",
      "[ 40.62822958 -74.13605684] [ 40.62469093 -74.13763004]\n",
      "40.62822958 40.62469093\n",
      "[ 40.62822958 -74.13605684] [ 40.62467849 -74.13790189]\n",
      "40.62822958 40.62467849\n",
      "[ 40.62822958 -74.13605684] [ 40.62543101 -74.13736593]\n",
      "40.62822958 40.62543101\n",
      "[ 40.62822958 -74.13605684] [ 40.62804978 -74.13609801]\n",
      "40.62822958 40.62804978\n",
      "[ 40.62822958 -74.13605684] [ 40.62822958 -74.13605684]\n",
      "40.62822958 40.62822958\n",
      "[ 40.62822958 -74.13605684] [ 40.6282247  -74.13592377]\n",
      "40.62822958 40.6282247\n",
      "[ 40.62822958 -74.13605684] [ 40.62794196 -74.1361719 ]\n",
      "40.62822958 40.62794196\n",
      "[ 40.62822958 -74.13605684] [ 40.62794937 -74.13615935]\n",
      "40.62822958 40.62794937\n",
      "[ 40.62822958 -74.13605684] [ 40.62821393 -74.13597703]\n",
      "40.62822958 40.62821393\n",
      "[ 40.62822958 -74.13605684] [ 40.62815867 -74.13598018]\n",
      "40.62822958 40.62815867\n",
      "[ 40.6282247  -74.13592377] [ 40.62469093 -74.13763004]\n",
      "40.6282247 40.62469093\n",
      "[ 40.6282247  -74.13592377] [ 40.62467849 -74.13790189]\n",
      "40.6282247 40.62467849\n",
      "[ 40.6282247  -74.13592377] [ 40.62543101 -74.13736593]\n",
      "40.6282247 40.62543101\n",
      "[ 40.6282247  -74.13592377] [ 40.62804978 -74.13609801]\n",
      "40.6282247 40.62804978\n",
      "[ 40.6282247  -74.13592377] [ 40.62822958 -74.13605684]\n",
      "40.6282247 40.62822958\n",
      "[ 40.6282247  -74.13592377] [ 40.6282247  -74.13592377]\n",
      "40.6282247 40.6282247\n",
      "[ 40.6282247  -74.13592377] [ 40.62794196 -74.1361719 ]\n",
      "40.6282247 40.62794196\n",
      "[ 40.6282247  -74.13592377] [ 40.62794937 -74.13615935]\n",
      "40.6282247 40.62794937\n",
      "[ 40.6282247  -74.13592377] [ 40.62821393 -74.13597703]\n",
      "40.6282247 40.62821393\n",
      "[ 40.6282247  -74.13592377] [ 40.62815867 -74.13598018]\n",
      "40.6282247 40.62815867\n",
      "[ 40.62794196 -74.1361719 ] [ 40.62469093 -74.13763004]\n",
      "40.62794196 40.62469093\n",
      "[ 40.62794196 -74.1361719 ] [ 40.62467849 -74.13790189]\n",
      "40.62794196 40.62467849\n",
      "[ 40.62794196 -74.1361719 ] [ 40.62543101 -74.13736593]\n",
      "40.62794196 40.62543101\n",
      "[ 40.62794196 -74.1361719 ] [ 40.62804978 -74.13609801]\n",
      "40.62794196 40.62804978\n",
      "[ 40.62794196 -74.1361719 ] [ 40.62822958 -74.13605684]\n",
      "40.62794196 40.62822958\n",
      "[ 40.62794196 -74.1361719 ] [ 40.6282247  -74.13592377]\n",
      "40.62794196 40.6282247\n",
      "[ 40.62794196 -74.1361719 ] [ 40.62794196 -74.1361719 ]\n",
      "40.62794196 40.62794196\n",
      "[ 40.62794196 -74.1361719 ] [ 40.62794937 -74.13615935]\n",
      "40.62794196 40.62794937\n",
      "[ 40.62794196 -74.1361719 ] [ 40.62821393 -74.13597703]\n",
      "40.62794196 40.62821393\n",
      "[ 40.62794196 -74.1361719 ] [ 40.62815867 -74.13598018]\n",
      "40.62794196 40.62815867\n",
      "[ 40.62794937 -74.13615935] [ 40.62469093 -74.13763004]\n",
      "40.62794937 40.62469093\n",
      "[ 40.62794937 -74.13615935] [ 40.62467849 -74.13790189]\n",
      "40.62794937 40.62467849\n",
      "[ 40.62794937 -74.13615935] [ 40.62543101 -74.13736593]\n",
      "40.62794937 40.62543101\n",
      "[ 40.62794937 -74.13615935] [ 40.62804978 -74.13609801]\n",
      "40.62794937 40.62804978\n",
      "[ 40.62794937 -74.13615935] [ 40.62822958 -74.13605684]\n",
      "40.62794937 40.62822958\n",
      "[ 40.62794937 -74.13615935] [ 40.6282247  -74.13592377]\n",
      "40.62794937 40.6282247\n",
      "[ 40.62794937 -74.13615935] [ 40.62794196 -74.1361719 ]\n",
      "40.62794937 40.62794196\n",
      "[ 40.62794937 -74.13615935] [ 40.62794937 -74.13615935]\n",
      "40.62794937 40.62794937\n",
      "[ 40.62794937 -74.13615935] [ 40.62821393 -74.13597703]\n",
      "40.62794937 40.62821393\n",
      "[ 40.62794937 -74.13615935] [ 40.62815867 -74.13598018]\n",
      "40.62794937 40.62815867\n",
      "[ 40.62821393 -74.13597703] [ 40.62469093 -74.13763004]\n",
      "40.62821393 40.62469093\n",
      "[ 40.62821393 -74.13597703] [ 40.62467849 -74.13790189]\n",
      "40.62821393 40.62467849\n",
      "[ 40.62821393 -74.13597703] [ 40.62543101 -74.13736593]\n",
      "40.62821393 40.62543101\n",
      "[ 40.62821393 -74.13597703] [ 40.62804978 -74.13609801]\n",
      "40.62821393 40.62804978\n",
      "[ 40.62821393 -74.13597703] [ 40.62822958 -74.13605684]\n",
      "40.62821393 40.62822958\n",
      "[ 40.62821393 -74.13597703] [ 40.6282247  -74.13592377]\n",
      "40.62821393 40.6282247\n",
      "[ 40.62821393 -74.13597703] [ 40.62794196 -74.1361719 ]\n",
      "40.62821393 40.62794196\n",
      "[ 40.62821393 -74.13597703] [ 40.62794937 -74.13615935]\n",
      "40.62821393 40.62794937\n",
      "[ 40.62821393 -74.13597703] [ 40.62821393 -74.13597703]\n",
      "40.62821393 40.62821393\n",
      "[ 40.62821393 -74.13597703] [ 40.62815867 -74.13598018]\n",
      "40.62821393 40.62815867\n",
      "[ 40.62815867 -74.13598018] [ 40.62469093 -74.13763004]\n",
      "40.62815867 40.62469093\n",
      "[ 40.62815867 -74.13598018] [ 40.62467849 -74.13790189]\n",
      "40.62815867 40.62467849\n",
      "[ 40.62815867 -74.13598018] [ 40.62543101 -74.13736593]\n",
      "40.62815867 40.62543101\n",
      "[ 40.62815867 -74.13598018] [ 40.62804978 -74.13609801]\n",
      "40.62815867 40.62804978\n",
      "[ 40.62815867 -74.13598018] [ 40.62822958 -74.13605684]\n",
      "40.62815867 40.62822958\n",
      "[ 40.62815867 -74.13598018] [ 40.6282247  -74.13592377]\n",
      "40.62815867 40.6282247\n",
      "[ 40.62815867 -74.13598018] [ 40.62794196 -74.1361719 ]\n",
      "40.62815867 40.62794196\n",
      "[ 40.62815867 -74.13598018] [ 40.62794937 -74.13615935]\n",
      "40.62815867 40.62794937\n",
      "[ 40.62815867 -74.13598018] [ 40.62821393 -74.13597703]\n",
      "40.62815867 40.62821393\n",
      "[ 40.62815867 -74.13598018] [ 40.62815867 -74.13598018]\n",
      "40.62815867 40.62815867\n"
     ]
    },
    {
     "data": {
      "text/plain": [
       "[1, 1, 1, 2, 2, 2, 2, 2, 2, 2]"
      ]
     },
     "execution_count": 198,
     "metadata": {},
     "output_type": "execute_result"
    }
   ],
   "source": [
    "imp.reload(dbscan)\n",
    "m = np.array([ [p[1] for p in points[:10]], [p[0] for p in points[:10]]])                                                           \n",
    "eps = 50                                                                                                                      \n",
    "min_points = 2                                                                                                                 \n",
    "dbscan.dbscan(m, eps, min_points)"
   ]
  },
  {
   "cell_type": "code",
   "execution_count": 182,
   "metadata": {
    "collapsed": false
   },
   "outputs": [
    {
     "data": {
      "text/plain": [
       "array([[-74.13763004,  40.62469093],\n",
       "       [-74.13790189,  40.62467849],\n",
       "       [-74.13736593,  40.62543101],\n",
       "       ..., \n",
       "       [-74.35589489,  40.44075727],\n",
       "       [-74.3549489 ,  40.44064217],\n",
       "       [-74.1171932 ,  40.56543909]])"
      ]
     },
     "execution_count": 182,
     "metadata": {},
     "output_type": "execute_result"
    }
   ],
   "source": [
    "m"
   ]
  },
  {
   "cell_type": "code",
   "execution_count": null,
   "metadata": {
    "collapsed": true
   },
   "outputs": [],
   "source": []
  }
 ],
 "metadata": {
  "kernelspec": {
   "display_name": "Python 3",
   "language": "python",
   "name": "python3"
  },
  "language_info": {
   "name": "python",
   "version": "3.4.3"
  }
 },
 "nbformat": 4,
 "nbformat_minor": 0
}
