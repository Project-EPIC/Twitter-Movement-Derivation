{
 "cells": [
  {
   "cell_type": "code",
   "execution_count": 51,
   "metadata": {
    "collapsed": true
   },
   "outputs": [],
   "source": [
    "import psycopg2, multiprocessing, psycopg2.extras, os, json, sys, time, scipy, datetime\n",
    "from multiprocessing import Pool, Manager \n",
    "from collections import Counter\n",
    "import pandas as pd\n",
    "import geopandas as gpd\n",
    "import numpy as np\n",
    "from shapely.geometry import shape, mapping\n",
    "import matplotlib.pyplot as plt\n",
    "import seaborn as sns\n",
    "%matplotlib inline"
   ]
  },
  {
   "cell_type": "markdown",
   "metadata": {},
   "source": [
    "# Temporal Clustering"
   ]
  },
  {
   "cell_type": "code",
   "execution_count": 52,
   "metadata": {
    "collapsed": true
   },
   "outputs": [],
   "source": [
    "input_directory  = \"/data/chime/geo2/PROCESSED/FL/martin_palm_beach_counties_Stage1/\"\n",
    "output_directory = \"/data/chime/geo2/PROCESSED/FL/martin_palm_beach_counties_Stage2\"\n",
    "\n",
    "#SANDY\n",
    "# _landfall_str = '201210300000' # Remember, this is UTC\n",
    "# _start_str    = '201210290000' # (ie when was the evacuation ordered (8pm the 28th)\n",
    "# _end_str      = '201210310000'\n",
    "# _landfall = pd.Timestamp(_landfall_str)\n",
    "# _start    = pd.Timestamp(_start_str)\n",
    "# _end      = pd.Timestamp(_end_str)\n",
    "\n",
    "#MATTHEW\n",
    "_landfall_str = '201610060000' #Using these dates for Matthew...\n",
    "_start_str    = '201610040000' # (ie when was the evacuation?)\n",
    "_end_str      = '201610080000'\n",
    "_landfall = pd.Timestamp(_landfall_str)\n",
    "_start    = pd.Timestamp(_start_str)\n",
    "_end      = pd.Timestamp(_end_str)"
   ]
  },
  {
   "cell_type": "markdown",
   "metadata": {},
   "source": [
    "## 0. Load all the geo-clustered tweets"
   ]
  },
  {
   "cell_type": "code",
   "execution_count": 53,
   "metadata": {},
   "outputs": [
    {
     "name": "stdout",
     "output_type": "stream",
     "text": [
      "Found 984 users in /data/chime/geo2/PROCESSED/FL/martin_palm_beach_counties_Stage1/\n"
     ]
    }
   ],
   "source": [
    "users_in = sorted(os.listdir(input_directory))\n",
    "print(\"Found {0} users in {1}\".format(len(users_in), input_directory))"
   ]
  },
  {
   "cell_type": "markdown",
   "metadata": {},
   "source": [
    "## Sampling?!"
   ]
  },
  {
   "cell_type": "raw",
   "metadata": {},
   "source": [
    "users_in = users_in[:10]"
   ]
  },
  {
   "cell_type": "markdown",
   "metadata": {},
   "source": [
    "<hr>"
   ]
  },
  {
   "cell_type": "code",
   "execution_count": 54,
   "metadata": {
    "collapsed": true
   },
   "outputs": [],
   "source": [
    "def loader_function(args):\n",
    "    uFile, path, q = args\n",
    "    u = json.load(open(path+\"/\"+uFile,'r'))\n",
    "    tweets = []\n",
    "    for t in u['features']:\n",
    "        if t['geometry']:\n",
    "            t['properties']['geometry'] = shape(t['geometry'])\n",
    "        t['properties']['date'] = pd.Timestamp(t['properties']['date'])\n",
    "        tweets.append(t['properties'])\n",
    "    q.put(1)\n",
    "    return gpd.GeoDataFrame(tweets)"
   ]
  },
  {
   "cell_type": "code",
   "execution_count": 55,
   "metadata": {},
   "outputs": [
    {
     "name": "stderr",
     "output_type": "stream",
     "text": [
      "Processed: 984, 100%%"
     ]
    }
   ],
   "source": [
    "#Parallel runtime\n",
    "p = Pool(30)\n",
    "m = Manager()\n",
    "q = m.Queue()\n",
    "\n",
    "args = [(i, input_directory, q) for i in users_in]\n",
    "result = p.map_async(loader_function, args)\n",
    "\n",
    "# monitor loop\n",
    "while True:\n",
    "    if result.ready():\n",
    "        break\n",
    "    else:\n",
    "        size = q.qsize()\n",
    "        sys.stderr.write(\"\\rProcessed: {0}, {1:.3g}%\".format(size, size/len(args)*100))\n",
    "        time.sleep(0.5)\n",
    "sys.stderr.write(\"\\rProcessed: {0}, {1:.3g}%\".format(q.qsize(), q.qsize()/len(args)*100))\n",
    "users = result.get()\n",
    "p.close()"
   ]
  },
  {
   "cell_type": "code",
   "execution_count": 56,
   "metadata": {},
   "outputs": [
    {
     "name": "stdout",
     "output_type": "stream",
     "text": [
      "83543 total tweets for all users\n"
     ]
    }
   ],
   "source": [
    "print(\"{0} total tweets for all users\".format(sum([len(x) for x in users])))"
   ]
  },
  {
   "cell_type": "code",
   "execution_count": 57,
   "metadata": {},
   "outputs": [
    {
     "data": {
      "text/plain": [
       "['11zette17', '1728_johnsona', '1avination', '1jazzyjeff', '1kingeazzy']"
      ]
     },
     "execution_count": 57,
     "metadata": {},
     "output_type": "execute_result"
    }
   ],
   "source": [
    "user_names_in = [x[:-8] for x in users_in]\n",
    "user_names_in[:5]"
   ]
  },
  {
   "cell_type": "markdown",
   "metadata": {
    "collapsed": true
   },
   "source": [
    "## Identifying Temporal Clusters\n",
    "Use a custom _worker_ function to find specific time clusters\n",
    "\n",
    "### Enough Tweets?\n",
    "\n",
    "Ensure that we have the following for each user:\n",
    "1. Geo-Cluter Information (If no geo-clusters are available, remove)\n",
    "2. Enough Tweets (At least *A* Tweet during the storm)"
   ]
  },
  {
   "cell_type": "code",
   "execution_count": 58,
   "metadata": {
    "collapsed": true
   },
   "outputs": [],
   "source": [
    "def time_cluster(t):\n",
    "    '''Given a time, returns the cluster (1 of 12)'''\n",
    "    t = t.tz_convert(\"EST\")\n",
    "    hour = t.hour//4 + 1\n",
    "    if t.weekday()>4:\n",
    "        return 6+hour\n",
    "    else:\n",
    "        return hour\n",
    "    \n",
    "def worker_function(args):\n",
    "    userDF, q = args\n",
    "    \n",
    "    #If no tweets around the time of the storm, then fail. \n",
    "    #TODO: Move this up in the processing chain to improve performance\n",
    "    if len(userDF.query(\"date > %s & date < %s\"%(_start_str, _end_str))) < 1:\n",
    "        q.put(1)\n",
    "        return None\n",
    "    \n",
    "    userDF['day_cluster'] = userDF.date.apply(lambda t: time_cluster(t))\n",
    "    q.put(0)\n",
    "    return userDF"
   ]
  },
  {
   "cell_type": "code",
   "execution_count": 59,
   "metadata": {
    "scrolled": true
   },
   "outputs": [
    {
     "name": "stderr",
     "output_type": "stream",
     "text": [
      "Processed: 984, 100%%"
     ]
    }
   ],
   "source": [
    "#Parallel runtime\n",
    "p = Pool(30)\n",
    "m = Manager()\n",
    "q = m.Queue()\n",
    "\n",
    "args = [(i, q) for i in users]\n",
    "result = p.map_async(worker_function, args)\n",
    "\n",
    "# monitor loop\n",
    "while True:\n",
    "    if result.ready():\n",
    "        break\n",
    "    else:\n",
    "        size = q.qsize()\n",
    "        sys.stderr.write(\"\\rProcessed: {0}, {1:.3g}%\".format(size, size/len(args)*100))\n",
    "        time.sleep(0.5)\n",
    "sys.stderr.write(\"\\rProcessed: {0}, {1:.3g}%\".format(q.qsize(), q.qsize()/len(args)*100))\n",
    "\n",
    "values = result.get()\n",
    "x = [i for i in values  if i is not None]\n",
    "nones = [i for i in values  if i is None]\n",
    "p.close()"
   ]
  },
  {
   "cell_type": "code",
   "execution_count": 60,
   "metadata": {},
   "outputs": [
    {
     "name": "stdout",
     "output_type": "stream",
     "text": [
      "Successfully processed 496 users\n",
      "488 Users failed\n",
      "First 5 users past the first step ['1728_johnsona', '1avination', '1jazzyjeff', '1kingeazzy', '2kbluevette']\n"
     ]
    }
   ],
   "source": [
    "print(\"Successfully processed {0} users\\n{1} Users failed\".format(len(x),len(nones)))\n",
    "users_past_first_step = [x.user[0].lower() for x in values if x is not None]\n",
    "print(\"First 5 users past the first step\", users_past_first_step[:5])"
   ]
  },
  {
   "cell_type": "code",
   "execution_count": 61,
   "metadata": {},
   "outputs": [
    {
     "name": "stdout",
     "output_type": "stream",
     "text": [
      "Failed user set size:  488\n"
     ]
    }
   ],
   "source": [
    "#Failed:\n",
    "failed_users = set(user_names_in) - set(users_past_first_step)\n",
    "print(\"Failed user set size: \", len(failed_users))"
   ]
  },
  {
   "cell_type": "code",
   "execution_count": 62,
   "metadata": {
    "collapsed": true
   },
   "outputs": [],
   "source": [
    "_users = sorted(x, key=lambda y: len(y), reverse=True) # Put the verbose users up front"
   ]
  },
  {
   "cell_type": "markdown",
   "metadata": {},
   "source": [
    "## 2. Group the clusters and find which geo-clusters correspond with home hours"
   ]
  },
  {
   "cell_type": "code",
   "execution_count": 63,
   "metadata": {
    "collapsed": true
   },
   "outputs": [],
   "source": [
    "def rank_clusters(df):\n",
    "    \"\"\"\n",
    "    There is definitely room for the logic in _this_ function to improve, but for now it looks good :) \n",
    "    \"\"\"\n",
    "    gb_geo = df.query('date < '+_start_str).groupby('cluster')\n",
    "    if len(gb_geo) < 1:\n",
    "        return (None,None)\n",
    "    _agged = gb_geo['day_cluster'].agg({\"tweets\":pd.Series.count,\n",
    "                                        \"Number Unique Times\":pd.Series.nunique,\n",
    "                                        \"day_cluster_counts\": lambda t: Counter(t),\n",
    "                                        \"HomeTimes\": lambda t: any(t==1) or any(t==2) or any(t==6),\n",
    "                                      }).sort_values('Number Unique Times', ascending=False).query('cluster>0')\n",
    "    hc = None\n",
    "    \n",
    "    #If there is a cluster with hometimes, then return that (highest rated based on unique times)\n",
    "    if len(_agged.query('HomeTimes'))>0:\n",
    "        hc = _agged.query('HomeTimes').iloc[0].name\n",
    "        \n",
    "    return hc, _agged"
   ]
  },
  {
   "cell_type": "code",
   "execution_count": 64,
   "metadata": {},
   "outputs": [
    {
     "name": "stderr",
     "output_type": "stream",
     "text": [
      "/usr/local/lib/python3.5/dist-packages/ipykernel_launcher.py:11: FutureWarning: using a dict on a Series for aggregation\n",
      "is deprecated and will be removed in a future version\n",
      "  # This is added back by InteractiveShellApp.init_path()\n",
      "496 of 496\n",
      "\n",
      "Clustered: 363, Failed: 133"
     ]
    }
   ],
   "source": [
    "vals= []\n",
    "len_users = len(_users)\n",
    "user_collection = []\n",
    "\n",
    "user_meta_collection = []\n",
    "for idx, U in enumerate(_users):\n",
    "    \n",
    "    hc = rank_clusters(U)[0]\n",
    "    if hc is None:\n",
    "        hc_coords = None\n",
    "    else:\n",
    "        hc_coords = U.query(\"cluster=={0}\".format(hc))['cluster_center'].values[0]\n",
    "        \n",
    "    user_meta_collection.append({\n",
    "            'user':U['user'].values[0],\n",
    "            'uid' :U['uid'].values[0],\n",
    "            'tweets':len(U),\n",
    "            'home_cluster': hc,\n",
    "            'home_cluster_coords':hc_coords\n",
    "        })\n",
    "\n",
    "    U['home_cluster_id'] = pd.Series(hc)\n",
    "    \n",
    "    sys.stderr.write(\"\\r{0} of {1}\".format(idx+1, len_users))\n",
    "_user_meta = pd.DataFrame(user_meta_collection)\n",
    "sys.stderr.write(\"\\n\\nClustered: {0}, Failed: {1}\".format( len(_user_meta[~np.isnan(_user_meta.home_cluster)]),\n",
    "                                                           len(_user_meta[ np.isnan(_user_meta.home_cluster)])))"
   ]
  },
  {
   "cell_type": "code",
   "execution_count": 65,
   "metadata": {
    "collapsed": true
   },
   "outputs": [],
   "source": [
    "users_with_homes = [u for u in _users if u.home_cluster_id.count()>0]"
   ]
  },
  {
   "cell_type": "markdown",
   "metadata": {},
   "source": [
    "Identify which users do not make it past?"
   ]
  },
  {
   "cell_type": "code",
   "execution_count": 66,
   "metadata": {
    "collapsed": true
   },
   "outputs": [],
   "source": [
    "users_past_second_step = [x.user[0].lower() for x in users_with_homes]"
   ]
  },
  {
   "cell_type": "code",
   "execution_count": 67,
   "metadata": {},
   "outputs": [
    {
     "name": "stdout",
     "output_type": "stream",
     "text": [
      "This many users from first step did not make it past the second step:  133\n"
     ]
    }
   ],
   "source": [
    "pitched_users = set(users_past_first_step) - set(users_past_second_step)\n",
    "print(\"This many users from first step did not make it past the second step: \", len(pitched_users))"
   ]
  },
  {
   "cell_type": "markdown",
   "metadata": {},
   "source": [
    "### Export these results"
   ]
  },
  {
   "cell_type": "code",
   "execution_count": 68,
   "metadata": {
    "collapsed": true
   },
   "outputs": [],
   "source": [
    "if not os.path.exists(output_directory):\n",
    "    os.mkdir(output_directory)"
   ]
  },
  {
   "cell_type": "code",
   "execution_count": 69,
   "metadata": {
    "collapsed": true
   },
   "outputs": [],
   "source": [
    "#Export the User Meta Dataframe first\n",
    "with open(output_directory+'/'+'temporal_clustered_user_meta.json','w') as metaOut:\n",
    "    metaOut.write(_user_meta.to_json())"
   ]
  },
  {
   "cell_type": "code",
   "execution_count": 70,
   "metadata": {},
   "outputs": [
    {
     "data": {
      "text/html": [
       "<div>\n",
       "<style>\n",
       "    .dataframe thead tr:only-child th {\n",
       "        text-align: right;\n",
       "    }\n",
       "\n",
       "    .dataframe thead th {\n",
       "        text-align: left;\n",
       "    }\n",
       "\n",
       "    .dataframe tbody tr th {\n",
       "        vertical-align: top;\n",
       "    }\n",
       "</style>\n",
       "<table border=\"1\" class=\"dataframe\">\n",
       "  <thead>\n",
       "    <tr style=\"text-align: right;\">\n",
       "      <th></th>\n",
       "      <th>home_cluster</th>\n",
       "      <th>home_cluster_coords</th>\n",
       "      <th>tweets</th>\n",
       "      <th>uid</th>\n",
       "      <th>user</th>\n",
       "    </tr>\n",
       "  </thead>\n",
       "  <tbody>\n",
       "    <tr>\n",
       "      <th>0</th>\n",
       "      <td>11.0</td>\n",
       "      <td>{\"coordinates\": [-80.20819619047614, 25.861914...</td>\n",
       "      <td>10784</td>\n",
       "      <td>249831776</td>\n",
       "      <td>TotalTrafficMIA</td>\n",
       "    </tr>\n",
       "    <tr>\n",
       "      <th>1</th>\n",
       "      <td>134.0</td>\n",
       "      <td>{\"coordinates\": [-78.01829999999997, 33.914999...</td>\n",
       "      <td>3523</td>\n",
       "      <td>4754740136</td>\n",
       "      <td>ebbtidebot</td>\n",
       "    </tr>\n",
       "    <tr>\n",
       "      <th>2</th>\n",
       "      <td>1.0</td>\n",
       "      <td>{\"coordinates\": [-80.0692510000025, 26.3507769...</td>\n",
       "      <td>3213</td>\n",
       "      <td>174303316</td>\n",
       "      <td>ClickWhisperer</td>\n",
       "    </tr>\n",
       "    <tr>\n",
       "      <th>3</th>\n",
       "      <td>7.0</td>\n",
       "      <td>{\"coordinates\": [-80.19179020000009, 25.761679...</td>\n",
       "      <td>1786</td>\n",
       "      <td>563319506</td>\n",
       "      <td>CVSHealthJobs</td>\n",
       "    </tr>\n",
       "    <tr>\n",
       "      <th>4</th>\n",
       "      <td>51.0</td>\n",
       "      <td>{\"coordinates\": [-77.36635380000003, 35.612661...</td>\n",
       "      <td>1691</td>\n",
       "      <td>3144822634</td>\n",
       "      <td>SpeedwayJobs</td>\n",
       "    </tr>\n",
       "  </tbody>\n",
       "</table>\n",
       "</div>"
      ],
      "text/plain": [
       "   home_cluster                                home_cluster_coords  tweets  \\\n",
       "0          11.0  {\"coordinates\": [-80.20819619047614, 25.861914...   10784   \n",
       "1         134.0  {\"coordinates\": [-78.01829999999997, 33.914999...    3523   \n",
       "2           1.0  {\"coordinates\": [-80.0692510000025, 26.3507769...    3213   \n",
       "3           7.0  {\"coordinates\": [-80.19179020000009, 25.761679...    1786   \n",
       "4          51.0  {\"coordinates\": [-77.36635380000003, 35.612661...    1691   \n",
       "\n",
       "          uid             user  \n",
       "0   249831776  TotalTrafficMIA  \n",
       "1  4754740136       ebbtidebot  \n",
       "2   174303316   ClickWhisperer  \n",
       "3   563319506    CVSHealthJobs  \n",
       "4  3144822634     SpeedwayJobs  "
      ]
     },
     "execution_count": 70,
     "metadata": {},
     "output_type": "execute_result"
    }
   ],
   "source": [
    "_user_meta.head()"
   ]
  },
  {
   "cell_type": "markdown",
   "metadata": {},
   "source": [
    "## 3.  Write these users to disk"
   ]
  },
  {
   "cell_type": "code",
   "execution_count": 71,
   "metadata": {
    "collapsed": true
   },
   "outputs": [],
   "source": [
    "def safe_mapping(p):\n",
    "    if p==None or np.isnan(p).any():\n",
    "        return None\n",
    "    else:\n",
    "        return mapping(p)"
   ]
  },
  {
   "cell_type": "code",
   "execution_count": 72,
   "metadata": {
    "collapsed": true
   },
   "outputs": [],
   "source": [
    "def safe_json_export(args):\n",
    "    df, path, q = args\n",
    "    df = df.copy()\n",
    "    uName = df.head(1).user.values[0].lower()\n",
    "    df['date'] = df['date'].apply(lambda t: datetime.datetime.strftime(t,'%Y-%m-%dT%H:%M:%SZ'))\n",
    "\n",
    "    #Write the metadata:\n",
    "    with open('/data/www/chime/movement-derivation/user-metadata/'+uName+\".geojson\",'w') as userMeta:\n",
    "        userMeta.write(df.query(\"cluster=={0}\".format(df.iloc[0].home_cluster_id)).cluster_center.values[0])\n",
    "\n",
    "    clean = df.where((pd.notnull(df)), None)\n",
    "    geojson = {\"type\":\"FeatureCollection\",\"features\":[]}\n",
    "    for _, row in clean.iterrows():\n",
    "        geom = safe_mapping(row.geometry)\n",
    "        feature = {'type':'Feature',\n",
    "                   'geometry':geom,\n",
    "                   'properties':row.to_dict()\n",
    "                    }\n",
    "        del feature['properties']['geometry']\n",
    "        geojson['features'].append(feature)\n",
    "    \n",
    "    with open(path+\"/\"+uName+'.geojson','w') as oFile:\n",
    "        json.dump(geojson, oFile) \n",
    "\n",
    "    if q is not None:\n",
    "        q.put(1)"
   ]
  },
  {
   "cell_type": "code",
   "execution_count": 73,
   "metadata": {},
   "outputs": [
    {
     "name": "stderr",
     "output_type": "stream",
     "text": [
      "Exporting 363 users to /data/chime/geo2/PROCESSED/FL/martin_palm_beach_counties_Stage2\n",
      "Processed: 363, 100%%"
     ]
    }
   ],
   "source": [
    "#Parallel runtime\n",
    "p = Pool(30)\n",
    "m = Manager()\n",
    "q = m.Queue()\n",
    "\n",
    "args = [(i, output_directory, q) for i in users_with_homes]\n",
    "result = p.map_async(safe_json_export, args)\n",
    "\n",
    "sys.stderr.write(\"Exporting {0} users to {1}\\n\".format(len(args),output_directory))\n",
    "\n",
    "# monitor loop\n",
    "while True:\n",
    "    if result.ready():\n",
    "        break\n",
    "    else:\n",
    "        size = q.qsize()\n",
    "        sys.stderr.write(\"\\rProcessed: {0}, {1:.3g}%\".format(size, size/len(args)*100))\n",
    "        time.sleep(0.5)\n",
    "p.close()\n",
    "sys.stderr.write(\"\\rProcessed: {0}, {1:.3g}%\".format(q.qsize(), q.qsize()/len(args)*100))"
   ]
  },
  {
   "cell_type": "markdown",
   "metadata": {},
   "source": [
    "<hr>\n",
    "<hr>\n",
    "# End of Processing "
   ]
  },
  {
   "cell_type": "markdown",
   "metadata": {},
   "source": [
    "<hr><hr>\n",
    "# Beginning of Visual Inspection"
   ]
  },
  {
   "cell_type": "code",
   "execution_count": 24,
   "metadata": {
    "collapsed": true
   },
   "outputs": [],
   "source": [
    "x = users_with_homes[0]"
   ]
  },
  {
   "cell_type": "code",
   "execution_count": 25,
   "metadata": {},
   "outputs": [
    {
     "data": {
      "text/plain": [
       "3523"
      ]
     },
     "execution_count": 25,
     "metadata": {},
     "output_type": "execute_result"
    }
   ],
   "source": [
    "x.cluster.count()"
   ]
  },
  {
   "cell_type": "code",
   "execution_count": 26,
   "metadata": {
    "collapsed": true
   },
   "outputs": [],
   "source": [
    "cluster_dist = pd.Series(sorted([u.cluster.nunique() for u in _users]))"
   ]
  },
  {
   "cell_type": "code",
   "execution_count": 27,
   "metadata": {},
   "outputs": [
    {
     "data": {
      "text/plain": [
       "<matplotlib.axes._subplots.AxesSubplot at 0x7fdd75c7ea58>"
      ]
     },
     "execution_count": 27,
     "metadata": {},
     "output_type": "execute_result"
    },
    {
     "data": {
      "image/png": "[encoded data removed]",
      "text/plain": [
       "<matplotlib.figure.Figure at 0x7fdd75c7e240>"
      ]
     },
     "metadata": {},
     "output_type": "display_data"
    }
   ],
   "source": [
    "cluster_dist.plot(figsize=(15,8))"
   ]
  },
  {
   "cell_type": "code",
   "execution_count": 28,
   "metadata": {},
   "outputs": [
    {
     "data": {
      "text/html": [
       "<div>\n",
       "<style>\n",
       "    .dataframe thead tr:only-child th {\n",
       "        text-align: right;\n",
       "    }\n",
       "\n",
       "    .dataframe thead th {\n",
       "        text-align: left;\n",
       "    }\n",
       "\n",
       "    .dataframe tbody tr th {\n",
       "        vertical-align: top;\n",
       "    }\n",
       "</style>\n",
       "<table border=\"1\" class=\"dataframe\">\n",
       "  <thead>\n",
       "    <tr style=\"text-align: right;\">\n",
       "      <th></th>\n",
       "      <th>cluster</th>\n",
       "      <th>cluster_center</th>\n",
       "      <th>coords</th>\n",
       "      <th>date</th>\n",
       "      <th>geo_delta</th>\n",
       "      <th>geometry</th>\n",
       "      <th>speed</th>\n",
       "      <th>text</th>\n",
       "      <th>time_delta</th>\n",
       "      <th>tweet_id</th>\n",
       "      <th>uid</th>\n",
       "      <th>user</th>\n",
       "      <th>day_cluster</th>\n",
       "      <th>home_cluster_id</th>\n",
       "    </tr>\n",
       "  </thead>\n",
       "  <tbody>\n",
       "    <tr>\n",
       "      <th>0</th>\n",
       "      <td>1</td>\n",
       "      <td>{\"type\": \"Point\", \"coordinates\": [-76.6717, 34...</td>\n",
       "      <td>[-76.6717, 34.7683]</td>\n",
       "      <td>2016-08-01 01:10:00+00:00</td>\n",
       "      <td>NaN</td>\n",
       "      <td>POINT (-76.6717 34.7683)</td>\n",
       "      <td>NaN</td>\n",
       "      <td>@ebbtideapp Tide in Newport River, North Carol...</td>\n",
       "      <td>NaN</td>\n",
       "      <td>759919075011072000</td>\n",
       "      <td>4754740136</td>\n",
       "      <td>ebbtidebot</td>\n",
       "      <td>12</td>\n",
       "      <td>134.0</td>\n",
       "    </tr>\n",
       "    <tr>\n",
       "      <th>1</th>\n",
       "      <td>2</td>\n",
       "      <td>{\"type\": \"Point\", \"coordinates\": [-81.15, 31.6...</td>\n",
       "      <td>[-81.15, 31.7]</td>\n",
       "      <td>2016-08-01 01:20:00+00:00</td>\n",
       "      <td>538300.686971</td>\n",
       "      <td>POINT (-81.15000000000001 31.7)</td>\n",
       "      <td>897.167812</td>\n",
       "      <td>@ebbtideapp Tide in Walburg Creek entrance, Ge...</td>\n",
       "      <td>600.0</td>\n",
       "      <td>759921589932560385</td>\n",
       "      <td>4754740136</td>\n",
       "      <td>ebbtidebot</td>\n",
       "      <td>12</td>\n",
       "      <td>NaN</td>\n",
       "    </tr>\n",
       "    <tr>\n",
       "      <th>2</th>\n",
       "      <td>3</td>\n",
       "      <td>{\"type\": \"Point\", \"coordinates\": [-79.27499999...</td>\n",
       "      <td>[-79.275, 33.195]</td>\n",
       "      <td>2016-08-01 01:25:00+00:00</td>\n",
       "      <td>242044.074103</td>\n",
       "      <td>POINT (-79.27500000000001 33.195)</td>\n",
       "      <td>806.813580</td>\n",
       "      <td>@ebbtideapp Tide in Minim Creek ent., South Ca...</td>\n",
       "      <td>300.0</td>\n",
       "      <td>759922848995561476</td>\n",
       "      <td>4754740136</td>\n",
       "      <td>ebbtidebot</td>\n",
       "      <td>12</td>\n",
       "      <td>NaN</td>\n",
       "    </tr>\n",
       "    <tr>\n",
       "      <th>3</th>\n",
       "      <td>4</td>\n",
       "      <td>{\"type\": \"Point\", \"coordinates\": [-79.7067, 32...</td>\n",
       "      <td>[-79.7067, 32.8567]</td>\n",
       "      <td>2016-08-01 02:15:00+00:00</td>\n",
       "      <td>55089.447252</td>\n",
       "      <td>POINT (-79.7067 32.8567)</td>\n",
       "      <td>18.363149</td>\n",
       "      <td>@ebbtideapp Tide in Capers Creek, South Caroli...</td>\n",
       "      <td>3000.0</td>\n",
       "      <td>759935433241354240</td>\n",
       "      <td>4754740136</td>\n",
       "      <td>ebbtidebot</td>\n",
       "      <td>12</td>\n",
       "      <td>NaN</td>\n",
       "    </tr>\n",
       "    <tr>\n",
       "      <th>4</th>\n",
       "      <td>5</td>\n",
       "      <td>{\"type\": \"Point\", \"coordinates\": [-77.09999999...</td>\n",
       "      <td>[-77.1, 34.65]</td>\n",
       "      <td>2016-08-01 02:40:00+00:00</td>\n",
       "      <td>312772.132849</td>\n",
       "      <td>POINT (-77.09999999999999 34.65)</td>\n",
       "      <td>208.514755</td>\n",
       "      <td>@ebbtideapp Tide in Bogue Inlet, North Carolin...</td>\n",
       "      <td>1500.0</td>\n",
       "      <td>759941723912933376</td>\n",
       "      <td>4754740136</td>\n",
       "      <td>ebbtidebot</td>\n",
       "      <td>12</td>\n",
       "      <td>NaN</td>\n",
       "    </tr>\n",
       "  </tbody>\n",
       "</table>\n",
       "</div>"
      ],
      "text/plain": [
       "   cluster                                     cluster_center  \\\n",
       "0        1  {\"type\": \"Point\", \"coordinates\": [-76.6717, 34...   \n",
       "1        2  {\"type\": \"Point\", \"coordinates\": [-81.15, 31.6...   \n",
       "2        3  {\"type\": \"Point\", \"coordinates\": [-79.27499999...   \n",
       "3        4  {\"type\": \"Point\", \"coordinates\": [-79.7067, 32...   \n",
       "4        5  {\"type\": \"Point\", \"coordinates\": [-77.09999999...   \n",
       "\n",
       "                coords                      date      geo_delta  \\\n",
       "0  [-76.6717, 34.7683] 2016-08-01 01:10:00+00:00            NaN   \n",
       "1       [-81.15, 31.7] 2016-08-01 01:20:00+00:00  538300.686971   \n",
       "2    [-79.275, 33.195] 2016-08-01 01:25:00+00:00  242044.074103   \n",
       "3  [-79.7067, 32.8567] 2016-08-01 02:15:00+00:00   55089.447252   \n",
       "4       [-77.1, 34.65] 2016-08-01 02:40:00+00:00  312772.132849   \n",
       "\n",
       "                            geometry       speed  \\\n",
       "0           POINT (-76.6717 34.7683)         NaN   \n",
       "1    POINT (-81.15000000000001 31.7)  897.167812   \n",
       "2  POINT (-79.27500000000001 33.195)  806.813580   \n",
       "3           POINT (-79.7067 32.8567)   18.363149   \n",
       "4   POINT (-77.09999999999999 34.65)  208.514755   \n",
       "\n",
       "                                                text  time_delta  \\\n",
       "0  @ebbtideapp Tide in Newport River, North Carol...         NaN   \n",
       "1  @ebbtideapp Tide in Walburg Creek entrance, Ge...       600.0   \n",
       "2  @ebbtideapp Tide in Minim Creek ent., South Ca...       300.0   \n",
       "3  @ebbtideapp Tide in Capers Creek, South Caroli...      3000.0   \n",
       "4  @ebbtideapp Tide in Bogue Inlet, North Carolin...      1500.0   \n",
       "\n",
       "             tweet_id         uid        user  day_cluster  home_cluster_id  \n",
       "0  759919075011072000  4754740136  ebbtidebot           12            134.0  \n",
       "1  759921589932560385  4754740136  ebbtidebot           12              NaN  \n",
       "2  759922848995561476  4754740136  ebbtidebot           12              NaN  \n",
       "3  759935433241354240  4754740136  ebbtidebot           12              NaN  \n",
       "4  759941723912933376  4754740136  ebbtidebot           12              NaN  "
      ]
     },
     "execution_count": 28,
     "metadata": {},
     "output_type": "execute_result"
    }
   ],
   "source": [
    "x.head()"
   ]
  },
  {
   "cell_type": "code",
   "execution_count": null,
   "metadata": {
    "collapsed": true
   },
   "outputs": [],
   "source": []
  }
 ],
 "metadata": {
  "kernelspec": {
   "display_name": "Python 3",
   "language": "python",
   "name": "python3"
  },
  "language_info": {
   "codemirror_mode": {
    "name": "ipython",
    "version": 3
   },
   "file_extension": ".py",
   "mimetype": "text/x-python",
   "name": "python",
   "nbconvert_exporter": "python",
   "pygments_lexer": "ipython3",
   "version": "3.5.2"
  }
 },
 "nbformat": 4,
 "nbformat_minor": 1
}
