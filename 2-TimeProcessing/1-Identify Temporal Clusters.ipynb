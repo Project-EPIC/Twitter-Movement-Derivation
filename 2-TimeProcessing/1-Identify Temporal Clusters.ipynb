{
 "cells": [
  {
   "cell_type": "code",
   "execution_count": 59,
   "metadata": {
    "collapsed": false
   },
   "outputs": [],
   "source": [
    "import psycopg2, multiprocessing, psycopg2.extras, os, json, sys, time, scipy, datetime\n",
    "from multiprocessing import Pool, Manager \n",
    "from collections import Counter\n",
    "import pandas as pd\n",
    "import geopandas as gpd\n",
    "import numpy as np\n",
    "from shapely.geometry import shape, mapping\n",
    "import matplotlib.pyplot as plt\n",
    "import seaborn as sns\n",
    "%matplotlib inline"
   ]
  },
  {
   "cell_type": "markdown",
   "metadata": {},
   "source": [
    "# Temporal Clustering"
   ]
  },
  {
   "cell_type": "code",
   "execution_count": 164,
   "metadata": {
    "collapsed": false
   },
   "outputs": [],
   "source": [
    "input_directory  = \"/data/chime/geo2/PROCESSED/NJ/NorthernInterior_Stage1/\"\n",
    "output_directory = \"/data/chime/geo2/PROCESSED/NJ/NorthernInterior_Stage2/\"\n",
    "\n",
    "#SANDY\n",
    "_landfall_str = '201210300000' # Remember, this is UTC\n",
    "_start_str    = '201210290000' # (ie when was the evacuation ordered (8pm the 28th)\n",
    "_end_str      = '201210310000'\n",
    "_landfall = pd.Timestamp(_landfall_str)\n",
    "_start    = pd.Timestamp(_start_str)\n",
    "_end      = pd.Timestamp(_end_str)\n",
    "\n",
    "#MATTHEW\n",
    "# _landfall_str = '201610060000' #Using these dates for Matthew...\n",
    "# _start_str    = '201610040000' # (ie when was the evacuation?)\n",
    "# _end_str      = '201610080000'\n",
    "# _landfall = pd.Timestamp(_landfall_str)\n",
    "# _start    = pd.Timestamp(_start_str)\n",
    "# _end      = pd.Timestamp(_end_str)"
   ]
  },
  {
   "cell_type": "markdown",
   "metadata": {},
   "source": [
    "## 0. Load all the geo-clustered tweets"
   ]
  },
  {
   "cell_type": "code",
   "execution_count": 165,
   "metadata": {
    "collapsed": false
   },
   "outputs": [
    {
     "name": "stdout",
     "output_type": "stream",
     "text": [
      "Found 985 users in /data/chime/geo2/PROCESSED/NJ/NorthernInterior_Stage1/\n"
     ]
    }
   ],
   "source": [
    "users_in = sorted(os.listdir(input_directory))\n",
    "print(\"Found {0} users in {1}\".format(len(users_in), input_directory))"
   ]
  },
  {
   "cell_type": "markdown",
   "metadata": {},
   "source": [
    "## Sampling?!"
   ]
  },
  {
   "cell_type": "raw",
   "metadata": {},
   "source": [
    "users_in = users_in[:10]"
   ]
  },
  {
   "cell_type": "markdown",
   "metadata": {},
   "source": [
    "<hr>"
   ]
  },
  {
   "cell_type": "code",
   "execution_count": 166,
   "metadata": {
    "collapsed": false
   },
   "outputs": [],
   "source": [
    "def loader_function(args):\n",
    "    uFile, path, q = args\n",
    "    u = json.load(open(path+\"/\"+uFile,'r'))\n",
    "    tweets = []\n",
    "    for t in u['features']:\n",
    "        if t['geometry']:\n",
    "            t['properties']['geometry'] = shape(t['geometry'])\n",
    "        t['properties']['date'] = pd.Timestamp(t['properties']['date'])\n",
    "        tweets.append(t['properties'])\n",
    "    q.put(1)\n",
    "    return gpd.GeoDataFrame(tweets)"
   ]
  },
  {
   "cell_type": "code",
   "execution_count": 167,
   "metadata": {
    "collapsed": false
   },
   "outputs": [
    {
     "name": "stderr",
     "output_type": "stream",
     "text": [
      "Processed: 985, 100%"
     ]
    }
   ],
   "source": [
    "#Parallel runtime\n",
    "p = Pool(30)\n",
    "m = Manager()\n",
    "q = m.Queue()\n",
    "\n",
    "args = [(i, input_directory, q) for i in users_in]\n",
    "result = p.map_async(loader_function, args)\n",
    "\n",
    "# monitor loop\n",
    "while True:\n",
    "    if result.ready():\n",
    "        break\n",
    "    else:\n",
    "        size = q.qsize()\n",
    "        sys.stderr.write(\"\\rProcessed: {0}, {1:.3g}%\".format(size, size/len(args)*100))\n",
    "        time.sleep(0.5)\n",
    "sys.stderr.write(\"\\rProcessed: {0}, {1:.3g}%\".format(q.qsize(), q.qsize()/len(args)*100))\n",
    "users = result.get()\n",
    "p.close()"
   ]
  },
  {
   "cell_type": "code",
   "execution_count": 168,
   "metadata": {
    "collapsed": false
   },
   "outputs": [
    {
     "name": "stdout",
     "output_type": "stream",
     "text": [
      "171651 total tweets for all users\n"
     ]
    }
   ],
   "source": [
    "print(\"{0} total tweets for all users\".format(sum([len(x) for x in users])))"
   ]
  },
  {
   "cell_type": "code",
   "execution_count": 169,
   "metadata": {
    "collapsed": false
   },
   "outputs": [
    {
     "data": {
      "text/plain": [
       "['27hotohori', '3131yb', '5h0rtie', '92hughes92', '977wctyjesse']"
      ]
     },
     "execution_count": 169,
     "metadata": {},
     "output_type": "execute_result"
    }
   ],
   "source": [
    "user_names_in = [x[:-8] for x in users_in]\n",
    "user_names_in[:5]"
   ]
  },
  {
   "cell_type": "markdown",
   "metadata": {
    "collapsed": true
   },
   "source": [
    "## Identifying Temporal Clusters\n",
    "Use a custom _worker_ function to find specific time clusters\n",
    "\n",
    "### Enough Tweets?\n",
    "\n",
    "Ensure that we have the following for each user:\n",
    "1. Geo-Cluter Information (If no geo-clusters are available, remove)\n",
    "2. Enough Tweets (At least *A* Tweet during the storm)"
   ]
  },
  {
   "cell_type": "code",
   "execution_count": 170,
   "metadata": {
    "collapsed": true
   },
   "outputs": [],
   "source": [
    "def time_cluster(t):\n",
    "    '''Given a time, returns the cluster (1 of 12)'''\n",
    "    t = t.tz_convert(\"EST\")\n",
    "    hour = t.hour//4 + 1\n",
    "    if t.weekday()>4:\n",
    "        return 6+hour\n",
    "    else:\n",
    "        return hour\n",
    "    \n",
    "def worker_function(args):\n",
    "    userDF, q = args\n",
    "    \n",
    "    #If no tweets around the time of the storm, then fail. \n",
    "    #TODO: Move this up in the processing chain to improve performance\n",
    "    if len(userDF.query(\"date > %s & date < %s\"%(_start_str, _end_str))) < 1:\n",
    "        q.put(1)\n",
    "        return None\n",
    "    \n",
    "    userDF['day_cluster'] = userDF.date.apply(lambda t: time_cluster(t))\n",
    "    q.put(0)\n",
    "    return userDF"
   ]
  },
  {
   "cell_type": "code",
   "execution_count": 171,
   "metadata": {
    "collapsed": false,
    "scrolled": true
   },
   "outputs": [
    {
     "name": "stderr",
     "output_type": "stream",
     "text": [
      "Processed: 985, 100%"
     ]
    }
   ],
   "source": [
    "#Parallel runtime\n",
    "p = Pool(30)\n",
    "m = Manager()\n",
    "q = m.Queue()\n",
    "\n",
    "args = [(i, q) for i in users]\n",
    "result = p.map_async(worker_function, args)\n",
    "\n",
    "# monitor loop\n",
    "while True:\n",
    "    if result.ready():\n",
    "        break\n",
    "    else:\n",
    "        size = q.qsize()\n",
    "        sys.stderr.write(\"\\rProcessed: {0}, {1:.3g}%\".format(size, size/len(args)*100))\n",
    "        time.sleep(0.5)\n",
    "sys.stderr.write(\"\\rProcessed: {0}, {1:.3g}%\".format(q.qsize(), q.qsize()/len(args)*100))\n",
    "\n",
    "values = result.get()\n",
    "x = [i for i in values  if i is not None]\n",
    "nones = [i for i in values  if i is None]\n",
    "p.close()"
   ]
  },
  {
   "cell_type": "code",
   "execution_count": 172,
   "metadata": {
    "collapsed": false
   },
   "outputs": [
    {
     "name": "stdout",
     "output_type": "stream",
     "text": [
      "Successfully processed 329 users\n",
      "656 Users failed\n",
      "First 5 users past the first step ['___mariahleigh', '_aggression_', 'adaytosurvive', 'adeblas17', 'aguiarsean']\n"
     ]
    }
   ],
   "source": [
    "print(\"Successfully processed {0} users\\n{1} Users failed\".format(len(x),len(nones)))\n",
    "users_past_first_step = [x.user[0].lower() for x in values if x is not None]\n",
    "print(\"First 5 users past the first step\", users_past_first_step[:5])"
   ]
  },
  {
   "cell_type": "code",
   "execution_count": 173,
   "metadata": {
    "collapsed": false
   },
   "outputs": [
    {
     "name": "stdout",
     "output_type": "stream",
     "text": [
      "Failed user set size:  656\n"
     ]
    }
   ],
   "source": [
    "#Failed:\n",
    "failed_users = set(user_names_in) - set(users_past_first_step)\n",
    "print(\"Failed user set size: \", len(failed_users))"
   ]
  },
  {
   "cell_type": "code",
   "execution_count": 174,
   "metadata": {
    "collapsed": false
   },
   "outputs": [],
   "source": [
    "_users = sorted(x, key=lambda y: len(y), reverse=True) # Put the verbose users up front"
   ]
  },
  {
   "cell_type": "markdown",
   "metadata": {},
   "source": [
    "## 2. Group the clusters and find which geo-clusters correspond with home hours"
   ]
  },
  {
   "cell_type": "code",
   "execution_count": 175,
   "metadata": {
    "collapsed": false
   },
   "outputs": [],
   "source": [
    "def rank_clusters(df):\n",
    "    \"\"\"\n",
    "    There is definitely room for the logic in _this_ function to improve, but for now it looks good :) \n",
    "    \"\"\"\n",
    "    gb_geo = df.query('date < '+_start_str).groupby('cluster')\n",
    "    if len(gb_geo) < 1:\n",
    "        return (None,None)\n",
    "    _agged = gb_geo['day_cluster'].agg({\"tweets\":pd.Series.count,\n",
    "                                        \"Number Unique Times\":pd.Series.nunique,\n",
    "                                        \"day_cluster_counts\": lambda t: Counter(t),\n",
    "                                        \"HomeTimes\": lambda t: any(t==1) or any(t==2) or any(t==6),\n",
    "                                      }).sort_values('Number Unique Times', ascending=False).query('cluster>0')\n",
    "    hc = None\n",
    "    \n",
    "    #If there is a cluster with hometimes, then return that (highest rated based on unique times)\n",
    "    if len(_agged.query('HomeTimes'))>0:\n",
    "        hc = _agged.query('HomeTimes').iloc[0].name\n",
    "        \n",
    "    return hc, _agged"
   ]
  },
  {
   "cell_type": "code",
   "execution_count": 176,
   "metadata": {
    "collapsed": false
   },
   "outputs": [
    {
     "name": "stderr",
     "output_type": "stream",
     "text": [
      "329 of 329\n",
      "\n",
      "Clustered: 266, Failed: 63"
     ]
    }
   ],
   "source": [
    "vals= []\n",
    "len_users = len(_users)\n",
    "user_collection = []\n",
    "\n",
    "user_meta_collection = []\n",
    "for idx, U in enumerate(_users):\n",
    "    \n",
    "    hc = rank_clusters(U)[0]\n",
    "    if hc is None:\n",
    "        hc_coords = None\n",
    "    else:\n",
    "        hc_coords = U.query(\"cluster=={0}\".format(hc))['cluster_center'].values[0]\n",
    "        \n",
    "    user_meta_collection.append({\n",
    "            'user':U['user'].values[0],\n",
    "            'uid' :U['uid'].values[0],\n",
    "            'tweets':len(U),\n",
    "            'home_cluster': hc,\n",
    "            'home_cluster_coords':hc_coords\n",
    "        })\n",
    "\n",
    "    U['home_cluster_id'] = pd.Series(hc)\n",
    "    \n",
    "    sys.stderr.write(\"\\r{0} of {1}\".format(idx+1, len_users))\n",
    "_user_meta = pd.DataFrame(user_meta_collection)\n",
    "sys.stderr.write(\"\\n\\nClustered: {0}, Failed: {1}\".format( len(_user_meta[~np.isnan(_user_meta.home_cluster)]),\n",
    "                                                           len(_user_meta[ np.isnan(_user_meta.home_cluster)])))"
   ]
  },
  {
   "cell_type": "code",
   "execution_count": 177,
   "metadata": {
    "collapsed": false
   },
   "outputs": [],
   "source": [
    "users_with_homes = [u for u in _users if u.home_cluster_id.count()>0]"
   ]
  },
  {
   "cell_type": "markdown",
   "metadata": {},
   "source": [
    "Identify which users do not make it past?"
   ]
  },
  {
   "cell_type": "code",
   "execution_count": 178,
   "metadata": {
    "collapsed": false
   },
   "outputs": [],
   "source": [
    "users_past_second_step = [x.user[0].lower() for x in users_with_homes]"
   ]
  },
  {
   "cell_type": "code",
   "execution_count": 179,
   "metadata": {
    "collapsed": false
   },
   "outputs": [
    {
     "name": "stdout",
     "output_type": "stream",
     "text": [
      "This many users from first step did not make it past the second step:  63\n"
     ]
    }
   ],
   "source": [
    "pitched_users = set(users_past_first_step) - set(users_past_second_step)\n",
    "print(\"This many users from first step did not make it past the second step: \", len(pitched_users))"
   ]
  },
  {
   "cell_type": "markdown",
   "metadata": {},
   "source": [
    "### Export these results"
   ]
  },
  {
   "cell_type": "code",
   "execution_count": 180,
   "metadata": {
    "collapsed": true
   },
   "outputs": [],
   "source": [
    "if not os.path.exists(output_directory):\n",
    "    os.mkdir(output_directory)"
   ]
  },
  {
   "cell_type": "code",
   "execution_count": 181,
   "metadata": {
    "collapsed": false
   },
   "outputs": [],
   "source": [
    "#Export the User Meta Dataframe first\n",
    "with open(output_directory+'/'+'temporal_clustered_user_meta.json','w') as metaOut:\n",
    "    metaOut.write(_user_meta.to_json())"
   ]
  },
  {
   "cell_type": "code",
   "execution_count": 182,
   "metadata": {
    "collapsed": false
   },
   "outputs": [
    {
     "data": {
      "text/html": [
       "<div>\n",
       "<table border=\"1\" class=\"dataframe\">\n",
       "  <thead>\n",
       "    <tr style=\"text-align: right;\">\n",
       "      <th></th>\n",
       "      <th>home_cluster</th>\n",
       "      <th>home_cluster_coords</th>\n",
       "      <th>tweets</th>\n",
       "      <th>uid</th>\n",
       "      <th>user</th>\n",
       "    </tr>\n",
       "  </thead>\n",
       "  <tbody>\n",
       "    <tr>\n",
       "      <th>0</th>\n",
       "      <td>1.0</td>\n",
       "      <td>{\"type\": \"Point\", \"coordinates\": [-73.69247457...</td>\n",
       "      <td>14231</td>\n",
       "      <td>75153082</td>\n",
       "      <td>Andrewthemark</td>\n",
       "    </tr>\n",
       "    <tr>\n",
       "      <th>1</th>\n",
       "      <td>1.0</td>\n",
       "      <td>{\"type\": \"Point\", \"coordinates\": [-74.17544402...</td>\n",
       "      <td>3115</td>\n",
       "      <td>250117107</td>\n",
       "      <td>AmandaaTar</td>\n",
       "    </tr>\n",
       "    <tr>\n",
       "      <th>2</th>\n",
       "      <td>1.0</td>\n",
       "      <td>{\"type\": \"Point\", \"coordinates\": [-74.20528803...</td>\n",
       "      <td>2055</td>\n",
       "      <td>336126439</td>\n",
       "      <td>FreddyJ_23</td>\n",
       "    </tr>\n",
       "    <tr>\n",
       "      <th>3</th>\n",
       "      <td>1.0</td>\n",
       "      <td>{\"type\": \"Point\", \"coordinates\": [-74.12807287...</td>\n",
       "      <td>1959</td>\n",
       "      <td>158138985</td>\n",
       "      <td>Ian_Kanterman</td>\n",
       "    </tr>\n",
       "    <tr>\n",
       "      <th>4</th>\n",
       "      <td>1.0</td>\n",
       "      <td>{\"type\": \"Point\", \"coordinates\": [-74.24760644...</td>\n",
       "      <td>1842</td>\n",
       "      <td>453608617</td>\n",
       "      <td>BethElsasser</td>\n",
       "    </tr>\n",
       "  </tbody>\n",
       "</table>\n",
       "</div>"
      ],
      "text/plain": [
       "   home_cluster                                home_cluster_coords  tweets  \\\n",
       "0           1.0  {\"type\": \"Point\", \"coordinates\": [-73.69247457...   14231   \n",
       "1           1.0  {\"type\": \"Point\", \"coordinates\": [-74.17544402...    3115   \n",
       "2           1.0  {\"type\": \"Point\", \"coordinates\": [-74.20528803...    2055   \n",
       "3           1.0  {\"type\": \"Point\", \"coordinates\": [-74.12807287...    1959   \n",
       "4           1.0  {\"type\": \"Point\", \"coordinates\": [-74.24760644...    1842   \n",
       "\n",
       "         uid           user  \n",
       "0   75153082  Andrewthemark  \n",
       "1  250117107     AmandaaTar  \n",
       "2  336126439     FreddyJ_23  \n",
       "3  158138985  Ian_Kanterman  \n",
       "4  453608617   BethElsasser  "
      ]
     },
     "execution_count": 182,
     "metadata": {},
     "output_type": "execute_result"
    }
   ],
   "source": [
    "_user_meta.head()"
   ]
  },
  {
   "cell_type": "markdown",
   "metadata": {},
   "source": [
    "## 3.  Write these users to disk"
   ]
  },
  {
   "cell_type": "code",
   "execution_count": 183,
   "metadata": {
    "collapsed": true
   },
   "outputs": [],
   "source": [
    "def safe_mapping(p):\n",
    "    if p==None or np.isnan(p).any():\n",
    "        return None\n",
    "    else:\n",
    "        return mapping(p)"
   ]
  },
  {
   "cell_type": "code",
   "execution_count": 184,
   "metadata": {
    "collapsed": false
   },
   "outputs": [],
   "source": [
    "def safe_json_export(args):\n",
    "    df, path, q = args\n",
    "    df = df.copy()\n",
    "    uName = df.head(1).user.values[0].lower()\n",
    "    df['date'] = df['date'].apply(lambda t: datetime.datetime.strftime(t,'%Y-%m-%dT%H:%M:%SZ'))\n",
    "\n",
    "    #Write the metadata:\n",
    "    with open('/data/www/chime/movement-derivation/user-metadata/'+uName+\".geojson\",'w') as userMeta:\n",
    "        userMeta.write(df.query(\"cluster=={0}\".format(df.iloc[0].home_cluster_id)).cluster_center.values[0])\n",
    "\n",
    "    clean = df.where((pd.notnull(df)), None)\n",
    "    geojson = {\"type\":\"FeatureCollection\",\"features\":[]}\n",
    "    for _, row in clean.iterrows():\n",
    "        geom = safe_mapping(row.geometry)\n",
    "        feature = {'type':'Feature',\n",
    "                   'geometry':geom,\n",
    "                   'properties':row.to_dict()\n",
    "                    }\n",
    "        del feature['properties']['geometry']\n",
    "        geojson['features'].append(feature)\n",
    "    \n",
    "    with open(path+\"/\"+uName+'.geojson','w') as oFile:\n",
    "        json.dump(geojson, oFile) \n",
    "\n",
    "    if q is not None:\n",
    "        q.put(1)"
   ]
  },
  {
   "cell_type": "code",
   "execution_count": 185,
   "metadata": {
    "collapsed": false
   },
   "outputs": [
    {
     "name": "stderr",
     "output_type": "stream",
     "text": [
      "Exporting 266 users to /data/chime/geo2/PROCESSED/NJ/NorthernInterior_Stage2/\n",
      "Processed: 266, 100%"
     ]
    }
   ],
   "source": [
    "#Parallel runtime\n",
    "p = Pool(30)\n",
    "m = Manager()\n",
    "q = m.Queue()\n",
    "\n",
    "args = [(i, output_directory, q) for i in users_with_homes]\n",
    "result = p.map_async(safe_json_export, args)\n",
    "\n",
    "sys.stderr.write(\"Exporting {0} users to {1}\\n\".format(len(args),output_directory))\n",
    "\n",
    "# monitor loop\n",
    "while True:\n",
    "    if result.ready():\n",
    "        break\n",
    "    else:\n",
    "        size = q.qsize()\n",
    "        sys.stderr.write(\"\\rProcessed: {0}, {1:.3g}%\".format(size, size/len(args)*100))\n",
    "        time.sleep(0.5)\n",
    "p.close()\n",
    "sys.stderr.write(\"\\rProcessed: {0}, {1:.3g}%\".format(q.qsize(), q.qsize()/len(args)*100))"
   ]
  },
  {
   "cell_type": "markdown",
   "metadata": {},
   "source": [
    "<hr>\n",
    "<hr>\n",
    "# End of Processing "
   ]
  },
  {
   "cell_type": "markdown",
   "metadata": {},
   "source": [
    "<hr><hr>\n",
    "# Beginning of Visual Inspection"
   ]
  },
  {
   "cell_type": "code",
   "execution_count": 186,
   "metadata": {
    "collapsed": false
   },
   "outputs": [],
   "source": [
    "x = users_with_homes[0]"
   ]
  },
  {
   "cell_type": "code",
   "execution_count": 187,
   "metadata": {
    "collapsed": false
   },
   "outputs": [
    {
     "data": {
      "text/plain": [
       "14231"
      ]
     },
     "execution_count": 187,
     "metadata": {},
     "output_type": "execute_result"
    }
   ],
   "source": [
    "x.cluster.count()"
   ]
  },
  {
   "cell_type": "code",
   "execution_count": 188,
   "metadata": {
    "collapsed": false
   },
   "outputs": [],
   "source": [
    "cluster_dist = pd.Series(sorted([u.cluster.nunique() for u in _users]))"
   ]
  },
  {
   "cell_type": "code",
   "execution_count": 189,
   "metadata": {
    "collapsed": false
   },
   "outputs": [
    {
     "data": {
      "text/plain": [
       "<matplotlib.axes._subplots.AxesSubplot at 0x7f1c6736f898>"
      ]
     },
     "execution_count": 189,
     "metadata": {},
     "output_type": "execute_result"
    },
    {
     "data": {
      "image/png": "[encoded data removed]",
      "text/plain": [
       "<matplotlib.figure.Figure at 0x7f1c68204128>"
      ]
     },
     "metadata": {},
     "output_type": "display_data"
    }
   ],
   "source": [
    "cluster_dist.plot(figsize=(15,8))"
   ]
  },
  {
   "cell_type": "code",
   "execution_count": 190,
   "metadata": {
    "collapsed": false
   },
   "outputs": [
    {
     "data": {
      "text/html": [
       "<div>\n",
       "<table border=\"1\" class=\"dataframe\">\n",
       "  <thead>\n",
       "    <tr style=\"text-align: right;\">\n",
       "      <th></th>\n",
       "      <th>cluster</th>\n",
       "      <th>cluster_center</th>\n",
       "      <th>coords</th>\n",
       "      <th>date</th>\n",
       "      <th>geo_delta</th>\n",
       "      <th>geometry</th>\n",
       "      <th>speed</th>\n",
       "      <th>text</th>\n",
       "      <th>time_delta</th>\n",
       "      <th>tweet_id</th>\n",
       "      <th>uid</th>\n",
       "      <th>user</th>\n",
       "      <th>day_cluster</th>\n",
       "      <th>home_cluster_id</th>\n",
       "    </tr>\n",
       "  </thead>\n",
       "  <tbody>\n",
       "    <tr>\n",
       "      <th>0</th>\n",
       "      <td>1</td>\n",
       "      <td>{\"type\": \"Point\", \"coordinates\": [-73.69247457...</td>\n",
       "      <td>[-73.69149255, 40.67361288]</td>\n",
       "      <td>2012-09-04 00:21:21+00:00</td>\n",
       "      <td>NaN</td>\n",
       "      <td>POINT (-73.69149255000001 40.67361288)</td>\n",
       "      <td>NaN</td>\n",
       "      <td>Why cant cole be joined?</td>\n",
       "      <td>NaN</td>\n",
       "      <td>242779345796608000</td>\n",
       "      <td>75153082</td>\n",
       "      <td>Andrewthemark</td>\n",
       "      <td>5</td>\n",
       "      <td>1.0</td>\n",
       "    </tr>\n",
       "    <tr>\n",
       "      <th>1</th>\n",
       "      <td>1</td>\n",
       "      <td>{\"type\": \"Point\", \"coordinates\": [-73.69247457...</td>\n",
       "      <td>[-73.69149255, 40.67361288]</td>\n",
       "      <td>2012-09-04 00:22:43+00:00</td>\n",
       "      <td>0.00000</td>\n",
       "      <td>POINT (-73.69149255000001 40.67361288)</td>\n",
       "      <td>0.000000</td>\n",
       "      <td>Um... Wut.</td>\n",
       "      <td>82.0</td>\n",
       "      <td>242779689851162624</td>\n",
       "      <td>75153082</td>\n",
       "      <td>Andrewthemark</td>\n",
       "      <td>5</td>\n",
       "      <td>NaN</td>\n",
       "    </tr>\n",
       "    <tr>\n",
       "      <th>2</th>\n",
       "      <td>1</td>\n",
       "      <td>{\"type\": \"Point\", \"coordinates\": [-73.69247457...</td>\n",
       "      <td>[-73.69149255, 40.67361288]</td>\n",
       "      <td>2012-09-04 00:22:57+00:00</td>\n",
       "      <td>0.00000</td>\n",
       "      <td>POINT (-73.69149255000001 40.67361288)</td>\n",
       "      <td>0.000000</td>\n",
       "      <td>THEYRE CHANTING LETS GO SHEAMUS!</td>\n",
       "      <td>14.0</td>\n",
       "      <td>242779747329904640</td>\n",
       "      <td>75153082</td>\n",
       "      <td>Andrewthemark</td>\n",
       "      <td>5</td>\n",
       "      <td>NaN</td>\n",
       "    </tr>\n",
       "    <tr>\n",
       "      <th>3</th>\n",
       "      <td>1</td>\n",
       "      <td>{\"type\": \"Point\", \"coordinates\": [-73.69247457...</td>\n",
       "      <td>[-73.69149255, 40.67361288]</td>\n",
       "      <td>2012-09-04 00:24:06+00:00</td>\n",
       "      <td>0.00000</td>\n",
       "      <td>POINT (-73.69149255000001 40.67361288)</td>\n",
       "      <td>0.000000</td>\n",
       "      <td>Why are there only 3 commentators in vince's m...</td>\n",
       "      <td>69.0</td>\n",
       "      <td>242780037139558400</td>\n",
       "      <td>75153082</td>\n",
       "      <td>Andrewthemark</td>\n",
       "      <td>5</td>\n",
       "      <td>NaN</td>\n",
       "    </tr>\n",
       "    <tr>\n",
       "      <th>4</th>\n",
       "      <td>1</td>\n",
       "      <td>{\"type\": \"Point\", \"coordinates\": [-73.69247457...</td>\n",
       "      <td>[-73.69153706, 40.67357022]</td>\n",
       "      <td>2012-09-04 00:27:03+00:00</td>\n",
       "      <td>6.04912</td>\n",
       "      <td>POINT (-73.69153706 40.67357022)</td>\n",
       "      <td>0.034176</td>\n",
       "      <td>Why would they take out lawler and mathews?</td>\n",
       "      <td>177.0</td>\n",
       "      <td>242780778960912387</td>\n",
       "      <td>75153082</td>\n",
       "      <td>Andrewthemark</td>\n",
       "      <td>5</td>\n",
       "      <td>NaN</td>\n",
       "    </tr>\n",
       "  </tbody>\n",
       "</table>\n",
       "</div>"
      ],
      "text/plain": [
       "   cluster                                     cluster_center  \\\n",
       "0        1  {\"type\": \"Point\", \"coordinates\": [-73.69247457...   \n",
       "1        1  {\"type\": \"Point\", \"coordinates\": [-73.69247457...   \n",
       "2        1  {\"type\": \"Point\", \"coordinates\": [-73.69247457...   \n",
       "3        1  {\"type\": \"Point\", \"coordinates\": [-73.69247457...   \n",
       "4        1  {\"type\": \"Point\", \"coordinates\": [-73.69247457...   \n",
       "\n",
       "                        coords                      date  geo_delta  \\\n",
       "0  [-73.69149255, 40.67361288] 2012-09-04 00:21:21+00:00        NaN   \n",
       "1  [-73.69149255, 40.67361288] 2012-09-04 00:22:43+00:00    0.00000   \n",
       "2  [-73.69149255, 40.67361288] 2012-09-04 00:22:57+00:00    0.00000   \n",
       "3  [-73.69149255, 40.67361288] 2012-09-04 00:24:06+00:00    0.00000   \n",
       "4  [-73.69153706, 40.67357022] 2012-09-04 00:27:03+00:00    6.04912   \n",
       "\n",
       "                                 geometry     speed  \\\n",
       "0  POINT (-73.69149255000001 40.67361288)       NaN   \n",
       "1  POINT (-73.69149255000001 40.67361288)  0.000000   \n",
       "2  POINT (-73.69149255000001 40.67361288)  0.000000   \n",
       "3  POINT (-73.69149255000001 40.67361288)  0.000000   \n",
       "4        POINT (-73.69153706 40.67357022)  0.034176   \n",
       "\n",
       "                                                text  time_delta  \\\n",
       "0                           Why cant cole be joined?         NaN   \n",
       "1                                         Um... Wut.        82.0   \n",
       "2                   THEYRE CHANTING LETS GO SHEAMUS!        14.0   \n",
       "3  Why are there only 3 commentators in vince's m...        69.0   \n",
       "4        Why would they take out lawler and mathews?       177.0   \n",
       "\n",
       "             tweet_id       uid           user  day_cluster  home_cluster_id  \n",
       "0  242779345796608000  75153082  Andrewthemark            5              1.0  \n",
       "1  242779689851162624  75153082  Andrewthemark            5              NaN  \n",
       "2  242779747329904640  75153082  Andrewthemark            5              NaN  \n",
       "3  242780037139558400  75153082  Andrewthemark            5              NaN  \n",
       "4  242780778960912387  75153082  Andrewthemark            5              NaN  "
      ]
     },
     "execution_count": 190,
     "metadata": {},
     "output_type": "execute_result"
    }
   ],
   "source": [
    "x.head()"
   ]
  },
  {
   "cell_type": "code",
   "execution_count": null,
   "metadata": {
    "collapsed": true
   },
   "outputs": [],
   "source": []
  }
 ],
 "metadata": {
  "kernelspec": {
   "display_name": "IPython (Python 3)",
   "language": "python",
   "name": "python3"
  },
  "language_info": {
   "codemirror_mode": {
    "name": "ipython",
    "version": 3
   },
   "file_extension": ".py",
   "mimetype": "text/x-python",
   "name": "python",
   "nbconvert_exporter": "python",
   "pygments_lexer": "ipython3",
   "version": "3.4.3"
  }
 },
 "nbformat": 4,
 "nbformat_minor": 1
}
