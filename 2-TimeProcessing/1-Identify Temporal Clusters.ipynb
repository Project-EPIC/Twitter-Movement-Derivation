{
 "cells": [
  {
   "cell_type": "code",
   "execution_count": 1,
   "metadata": {
    "collapsed": false
   },
   "outputs": [],
   "source": [
    "import psycopg2, multiprocessing, psycopg2.extras, os, json, sys, time, scipy, datetime\n",
    "from multiprocessing import Pool, Manager \n",
    "from collections import Counter\n",
    "import pandas as pd\n",
    "import geopandas as gpd\n",
    "import numpy as np\n",
    "from shapely.geometry import shape, mapping\n",
    "import matplotlib.pyplot as plt\n",
    "import seaborn as sns\n",
    "%matplotlib inline"
   ]
  },
  {
   "cell_type": "markdown",
   "metadata": {},
   "source": [
    "# Temporal Clustering"
   ]
  },
  {
   "cell_type": "code",
   "execution_count": 2,
   "metadata": {
    "collapsed": false
   },
   "outputs": [],
   "source": [
    "input_directory  = \"/data/chime/geo/sandy_new_jersey_geovulnerable_contextual_stage1/\"\n",
    "output_directory = \"/data/chime/geo/sandy_new_jersey_geovulnerable_contextual_stage2\"\n",
    "\n",
    "#SANDY\n",
    "_landfall_str = '201210300000' #Need to define the new dates for Hurricane Matthew in these zones?\n",
    "_start_str    = '201210290000' # (ie when was the evacuation?)\n",
    "_end_str      = '201210310000'\n",
    "_landfall = pd.Timestamp(_landfall_str)\n",
    "_start    = pd.Timestamp(_start_str)\n",
    "_end      = pd.Timestamp(_end_str)\n",
    "\n",
    "#MATTHEW\n",
    "# _landfall_str = '201610060000' #Using these dates for Matthew...\n",
    "# _start_str    = '201610040000' # (ie when was the evacuation?)\n",
    "# _end_str      = '201610080000'\n",
    "# _landfall = pd.Timestamp(_landfall_str)\n",
    "# _start    = pd.Timestamp(_start_str)\n",
    "# _end      = pd.Timestamp(_end_str)"
   ]
  },
  {
   "cell_type": "markdown",
   "metadata": {},
   "source": [
    "## 0. Load all the geo-clustered tweets"
   ]
  },
  {
   "cell_type": "code",
   "execution_count": 3,
   "metadata": {
    "collapsed": false
   },
   "outputs": [
    {
     "name": "stdout",
     "output_type": "stream",
     "text": [
      "Found 330 users in /data/chime/geo/sandy_new_jersey_geovulnerable_contextual_stage1/\n"
     ]
    }
   ],
   "source": [
    "users_in = sorted(os.listdir(input_directory))\n",
    "print(\"Found {0} users in {1}\".format(len(users_in), input_directory))"
   ]
  },
  {
   "cell_type": "code",
   "execution_count": 4,
   "metadata": {
    "collapsed": false
   },
   "outputs": [],
   "source": [
    "def loader_function(args):\n",
    "    uFile, path, q = args\n",
    "    u = json.load(open(path+\"/\"+uFile,'r'))\n",
    "    tweets = []\n",
    "    for t in u['features']:\n",
    "        if t['geometry']:\n",
    "            t['properties']['geometry'] = shape(t['geometry'])\n",
    "        t['properties']['date'] = pd.Timestamp(t['properties']['date'])\n",
    "        tweets.append(t['properties'])\n",
    "    q.put(1)\n",
    "    return gpd.GeoDataFrame(tweets)"
   ]
  },
  {
   "cell_type": "code",
   "execution_count": 5,
   "metadata": {
    "collapsed": false
   },
   "outputs": [
    {
     "name": "stderr",
     "output_type": "stream",
     "text": [
      "Processed: 330, 100%"
     ]
    }
   ],
   "source": [
    "#Parallel runtime\n",
    "p = Pool(30)\n",
    "m = Manager()\n",
    "q = m.Queue()\n",
    "\n",
    "args = [(i, input_directory, q) for i in users_in]\n",
    "result = p.map_async(loader_function, args)\n",
    "\n",
    "# monitor loop\n",
    "while True:\n",
    "    if result.ready():\n",
    "        break\n",
    "    else:\n",
    "        size = q.qsize()\n",
    "        sys.stderr.write(\"\\rProcessed: {0}, {1:.3g}%\".format(size, size/len(args)*100))\n",
    "        time.sleep(0.5)\n",
    "sys.stderr.write(\"\\rProcessed: {0}, {1:.3g}%\".format(q.qsize(), q.qsize()/len(args)*100))\n",
    "users = result.get()\n",
    "p.close()"
   ]
  },
  {
   "cell_type": "code",
   "execution_count": 6,
   "metadata": {
    "collapsed": false
   },
   "outputs": [
    {
     "name": "stdout",
     "output_type": "stream",
     "text": [
      "280772 total tweets for all users\n"
     ]
    }
   ],
   "source": [
    "print(\"{0} total tweets for all users\".format(sum([len(x) for x in users])))"
   ]
  },
  {
   "cell_type": "code",
   "execution_count": 7,
   "metadata": {
    "collapsed": false
   },
   "outputs": [
    {
     "data": {
      "text/plain": [
       "['08243',\n",
       " '1stfitnessmc',\n",
       " '_daniellevaldez',\n",
       " 'aclive35',\n",
       " 'adtwenty7',\n",
       " 'aimee_sh',\n",
       " 'alanjonesbeats',\n",
       " 'alex_florke',\n",
       " 'alexrosenkranz',\n",
       " 'alreadywifedup1']"
      ]
     },
     "execution_count": 7,
     "metadata": {},
     "output_type": "execute_result"
    }
   ],
   "source": [
    "user_names_in = [x[:-8] for x in users_in]\n",
    "user_names_in[:10]"
   ]
  },
  {
   "cell_type": "markdown",
   "metadata": {
    "collapsed": true
   },
   "source": [
    "# Identifying Temporal Clusters\n",
    "Use a custom _worker_ function to find specific time clusters\n",
    "\n",
    "## 1. Enough Tweets?\n",
    "\n",
    "Ensure that we have the following for each user:\n",
    "1. Geo-Cluter Information (If no geo-clusters are available, remove)\n",
    "2. Enough Tweets (At least *A* Tweet during the storm)"
   ]
  },
  {
   "cell_type": "code",
   "execution_count": 8,
   "metadata": {
    "collapsed": true
   },
   "outputs": [],
   "source": [
    "def time_cluster(t):\n",
    "    t = t.tz_convert(\"EST\")\n",
    "    '''Get the timecluster'''\n",
    "    hour = t.hour//4 + 1\n",
    "    if t.weekday()>4:\n",
    "        return 6+hour\n",
    "    else:\n",
    "        return hour\n",
    "    \n",
    "def worker_function(args):\n",
    "    userDF, q = args\n",
    "    \n",
    "    #If no tweets around the time of the storm, then fail.\n",
    "    if len(userDF.query(\"date > %s & date < %s\"%(_start_str, _end_str))) < 1:\n",
    "        q.put(1)\n",
    "        return None\n",
    "    \n",
    "    userDF['day_cluster'] = userDF.date.apply(lambda t: time_cluster(t))\n",
    "    q.put(0)\n",
    "    return userDF"
   ]
  },
  {
   "cell_type": "code",
   "execution_count": 9,
   "metadata": {
    "collapsed": false,
    "scrolled": true
   },
   "outputs": [
    {
     "name": "stderr",
     "output_type": "stream",
     "text": [
      "Processed: 330, 100%"
     ]
    }
   ],
   "source": [
    "#Parallel runtime\n",
    "p = Pool(30)\n",
    "m = Manager()\n",
    "q = m.Queue()\n",
    "\n",
    "args = [(i, q) for i in users]\n",
    "result = p.map_async(worker_function, args)\n",
    "\n",
    "# monitor loop\n",
    "while True:\n",
    "    if result.ready():\n",
    "        break\n",
    "    else:\n",
    "        size = q.qsize()\n",
    "        sys.stderr.write(\"\\rProcessed: {0}, {1:.3g}%\".format(size, size/len(args)*100))\n",
    "        time.sleep(0.5)\n",
    "sys.stderr.write(\"\\rProcessed: {0}, {1:.3g}%\".format(q.qsize(), q.qsize()/len(args)*100))\n",
    "\n",
    "values = result.get()\n",
    "x = [i for i in values  if i is not None]\n",
    "nones = [i for i in values  if i is None]\n",
    "p.close()"
   ]
  },
  {
   "cell_type": "code",
   "execution_count": 10,
   "metadata": {
    "collapsed": false
   },
   "outputs": [
    {
     "name": "stdout",
     "output_type": "stream",
     "text": [
      "Successfully processed 330 users\n",
      "0 Users failed\n"
     ]
    }
   ],
   "source": [
    "print(\"Successfully processed {0} users\\n{1} Users failed\".format(len(x),len(nones)))"
   ]
  },
  {
   "cell_type": "code",
   "execution_count": 11,
   "metadata": {
    "collapsed": false
   },
   "outputs": [],
   "source": [
    "users_past_first_step = [x.user[0].lower() for x in values if x is not None]"
   ]
  },
  {
   "cell_type": "code",
   "execution_count": 12,
   "metadata": {
    "collapsed": false
   },
   "outputs": [
    {
     "data": {
      "text/plain": [
       "['08243',\n",
       " '1stfitnessmc',\n",
       " '_daniellevaldez',\n",
       " 'aclive35',\n",
       " 'adtwenty7',\n",
       " 'aimee_sh',\n",
       " 'alanjonesbeats',\n",
       " 'alex_florke',\n",
       " 'alexrosenkranz',\n",
       " 'alreadywifedup1']"
      ]
     },
     "execution_count": 12,
     "metadata": {},
     "output_type": "execute_result"
    }
   ],
   "source": [
    "users_past_first_step[:10]"
   ]
  },
  {
   "cell_type": "code",
   "execution_count": 13,
   "metadata": {
    "collapsed": false
   },
   "outputs": [
    {
     "data": {
      "text/plain": [
       "set()"
      ]
     },
     "execution_count": 13,
     "metadata": {},
     "output_type": "execute_result"
    }
   ],
   "source": [
    "#Failed:\n",
    "set(user_names_in) - set(users_past_first_step)"
   ]
  },
  {
   "cell_type": "code",
   "execution_count": 14,
   "metadata": {
    "collapsed": false
   },
   "outputs": [],
   "source": [
    "_users = sorted(x, key=lambda y: len(y), reverse=True)"
   ]
  },
  {
   "cell_type": "markdown",
   "metadata": {},
   "source": [
    "## 2. Group the clusters and find which geo-clusters correspond with home hours"
   ]
  },
  {
   "cell_type": "code",
   "execution_count": 15,
   "metadata": {
    "collapsed": false
   },
   "outputs": [],
   "source": [
    "def rank_clusters(df):\n",
    "    \"\"\"\n",
    "    There is definitely room for the logic in _this_ function to improve, but for now it looks good :) \n",
    "    \"\"\"\n",
    "    gb_geo = df.query('date < '+_start_str).groupby('cluster')\n",
    "    if len(gb_geo) < 1:\n",
    "        return (None,None)\n",
    "    _agged = gb_geo['day_cluster'].agg({\"tweets\":pd.Series.count,\n",
    "                                        \"Number Unique Times\":pd.Series.nunique,\n",
    "                                        \"day_cluster_counts\": lambda t: Counter(t),\n",
    "                                        \"HomeTimes\": lambda t: any(t==1) or any(t==2) or any(t==6),\n",
    "                                      }).sort_values('Number Unique Times', ascending=False).query('cluster>0')\n",
    "    hc = None\n",
    "    \n",
    "    #If there is a cluster with hometimes, then return that (highest rated based on unique times)\n",
    "    if len(_agged.query('HomeTimes'))>0:\n",
    "        hc = _agged.query('HomeTimes').iloc[0].name\n",
    "        \n",
    "    return hc, _agged"
   ]
  },
  {
   "cell_type": "code",
   "execution_count": 16,
   "metadata": {
    "collapsed": false
   },
   "outputs": [
    {
     "name": "stderr",
     "output_type": "stream",
     "text": [
      "330 of 330\n",
      "\n",
      "Clustered: 329, Failed: 1"
     ]
    }
   ],
   "source": [
    "vals= []\n",
    "len_users = len(_users)\n",
    "user_collection = []\n",
    "\n",
    "user_meta_collection = []\n",
    "for idx, U in enumerate(_users):\n",
    "    \n",
    "    hc = rank_clusters(U)[0]\n",
    "    if hc is None:\n",
    "        hc_coords = None\n",
    "    else:\n",
    "        hc_coords = U.query(\"cluster=={0}\".format(hc))['cluster_center'].values[0]\n",
    "        \n",
    "    user_meta_collection.append({\n",
    "            'user':U['user'].values[0],\n",
    "            'uid' :U['uid'].values[0],\n",
    "            'tweets':len(U),\n",
    "            'home_cluster': hc,\n",
    "            'home_cluster_coords':hc_coords\n",
    "        })\n",
    "\n",
    "    U['home_cluster_id'] = pd.Series(hc)\n",
    "    \n",
    "    sys.stderr.write(\"\\r{0} of {1}\".format(idx+1, len_users))\n",
    "_user_meta = pd.DataFrame(user_meta_collection)\n",
    "sys.stderr.write(\"\\n\\nClustered: {0}, Failed: {1}\".format( len(_user_meta[~np.isnan(_user_meta.home_cluster)]),\n",
    "                                                           len(_user_meta[ np.isnan(_user_meta.home_cluster)])))"
   ]
  },
  {
   "cell_type": "code",
   "execution_count": 17,
   "metadata": {
    "collapsed": false
   },
   "outputs": [],
   "source": [
    "users_with_homes = [u for u in _users if u.home_cluster_id.count()>0]"
   ]
  },
  {
   "cell_type": "markdown",
   "metadata": {},
   "source": [
    "Identify which users do not make it past?"
   ]
  },
  {
   "cell_type": "code",
   "execution_count": 18,
   "metadata": {
    "collapsed": false
   },
   "outputs": [],
   "source": [
    "users_past_second_step = [x.user[0].lower() for x in users_with_homes]"
   ]
  },
  {
   "cell_type": "code",
   "execution_count": 19,
   "metadata": {
    "collapsed": false
   },
   "outputs": [
    {
     "data": {
      "text/plain": [
       "1"
      ]
     },
     "execution_count": 19,
     "metadata": {},
     "output_type": "execute_result"
    }
   ],
   "source": [
    "pitched_users = set(user_names_in) - set(users_past_second_step)\n",
    "len(pitched_users)"
   ]
  },
  {
   "cell_type": "markdown",
   "metadata": {},
   "source": [
    "### Export these results"
   ]
  },
  {
   "cell_type": "code",
   "execution_count": 21,
   "metadata": {
    "collapsed": true
   },
   "outputs": [],
   "source": [
    "if not os.path.exists(output_directory):\n",
    "    os.mkdir(output_directory)"
   ]
  },
  {
   "cell_type": "code",
   "execution_count": 22,
   "metadata": {
    "collapsed": false
   },
   "outputs": [],
   "source": [
    "#Export the User Meta Dataframe first\n",
    "with open(output_directory+'/'+'temporal_clustered_user_meta.json','w') as metaOut:\n",
    "    metaOut.write(_user_meta.to_json())"
   ]
  },
  {
   "cell_type": "code",
   "execution_count": 23,
   "metadata": {
    "collapsed": false
   },
   "outputs": [
    {
     "data": {
      "text/html": [
       "<div>\n",
       "<table border=\"1\" class=\"dataframe\">\n",
       "  <thead>\n",
       "    <tr style=\"text-align: right;\">\n",
       "      <th></th>\n",
       "      <th>home_cluster</th>\n",
       "      <th>home_cluster_coords</th>\n",
       "      <th>tweets</th>\n",
       "      <th>uid</th>\n",
       "      <th>user</th>\n",
       "    </tr>\n",
       "  </thead>\n",
       "  <tbody>\n",
       "    <tr>\n",
       "      <th>0</th>\n",
       "      <td>1.0</td>\n",
       "      <td>{\"type\": \"Point\", \"coordinates\": [-74.10081558...</td>\n",
       "      <td>14298</td>\n",
       "      <td>139283160</td>\n",
       "      <td>kr3at</td>\n",
       "    </tr>\n",
       "    <tr>\n",
       "      <th>1</th>\n",
       "      <td>3.0</td>\n",
       "      <td>{\"type\": \"Point\", \"coordinates\": [-74.02165222...</td>\n",
       "      <td>7916</td>\n",
       "      <td>243393072</td>\n",
       "      <td>MsRockHerHips</td>\n",
       "    </tr>\n",
       "    <tr>\n",
       "      <th>2</th>\n",
       "      <td>1.0</td>\n",
       "      <td>{\"type\": \"Point\", \"coordinates\": [-74.90685881...</td>\n",
       "      <td>5121</td>\n",
       "      <td>627593291</td>\n",
       "      <td>Cwalks3</td>\n",
       "    </tr>\n",
       "    <tr>\n",
       "      <th>3</th>\n",
       "      <td>1.0</td>\n",
       "      <td>{\"type\": \"Point\", \"coordinates\": [-74.72309297...</td>\n",
       "      <td>4988</td>\n",
       "      <td>339306571</td>\n",
       "      <td>Shell_Babii</td>\n",
       "    </tr>\n",
       "    <tr>\n",
       "      <th>4</th>\n",
       "      <td>1.0</td>\n",
       "      <td>{\"type\": \"Point\", \"coordinates\": [-74.40502972...</td>\n",
       "      <td>4396</td>\n",
       "      <td>318103926</td>\n",
       "      <td>lanceeryann</td>\n",
       "    </tr>\n",
       "  </tbody>\n",
       "</table>\n",
       "</div>"
      ],
      "text/plain": [
       "   home_cluster                                home_cluster_coords  tweets  \\\n",
       "0           1.0  {\"type\": \"Point\", \"coordinates\": [-74.10081558...   14298   \n",
       "1           3.0  {\"type\": \"Point\", \"coordinates\": [-74.02165222...    7916   \n",
       "2           1.0  {\"type\": \"Point\", \"coordinates\": [-74.90685881...    5121   \n",
       "3           1.0  {\"type\": \"Point\", \"coordinates\": [-74.72309297...    4988   \n",
       "4           1.0  {\"type\": \"Point\", \"coordinates\": [-74.40502972...    4396   \n",
       "\n",
       "         uid           user  \n",
       "0  139283160          kr3at  \n",
       "1  243393072  MsRockHerHips  \n",
       "2  627593291        Cwalks3  \n",
       "3  339306571    Shell_Babii  \n",
       "4  318103926    lanceeryann  "
      ]
     },
     "execution_count": 23,
     "metadata": {},
     "output_type": "execute_result"
    }
   ],
   "source": [
    "_user_meta.head()"
   ]
  },
  {
   "cell_type": "markdown",
   "metadata": {},
   "source": [
    "## 3.  Write these users to disk"
   ]
  },
  {
   "cell_type": "code",
   "execution_count": 24,
   "metadata": {
    "collapsed": true
   },
   "outputs": [],
   "source": [
    "def safe_mapping(p):\n",
    "    if p==None or np.isnan(p).any():\n",
    "        return None\n",
    "    else:\n",
    "        return mapping(p)"
   ]
  },
  {
   "cell_type": "code",
   "execution_count": 25,
   "metadata": {
    "collapsed": false
   },
   "outputs": [],
   "source": [
    "def safe_json_export(args):\n",
    "    df, path, q = args\n",
    "    df = df.copy()\n",
    "    uName = df.head(1).user.values[0].lower()\n",
    "    df['date'] = df['date'].apply(lambda t: datetime.datetime.strftime(t,'%Y-%m-%dT%H:%M:%SZ'))\n",
    "\n",
    "    #Write the metadata:\n",
    "    with open('/data/www/chime/movement-derivation/user-metadata/'+uName+\".geojson\",'w') as userMeta:\n",
    "        userMeta.write(df.query(\"cluster=={0}\".format(df.iloc[0].home_cluster_id)).cluster_center.values[0])\n",
    "\n",
    "    clean = df.where((pd.notnull(df)), None)\n",
    "    geojson = {\"type\":\"FeatureCollection\",\"features\":[]}\n",
    "    for _, row in clean.iterrows():\n",
    "        geom = safe_mapping(row.geometry)\n",
    "        feature = {'type':'Feature',\n",
    "                   'geometry':geom,\n",
    "                   'properties':row.to_dict()\n",
    "                    }\n",
    "        del feature['properties']['geometry']\n",
    "        geojson['features'].append(feature)\n",
    "    \n",
    "    with open(path+\"/\"+uName+'.geojson','w') as oFile:\n",
    "        json.dump(geojson, oFile) \n",
    "\n",
    "    if q is not None:\n",
    "        q.put(1)"
   ]
  },
  {
   "cell_type": "code",
   "execution_count": 26,
   "metadata": {
    "collapsed": false
   },
   "outputs": [
    {
     "name": "stderr",
     "output_type": "stream",
     "text": [
      "Exporting 329 users to /data/chime/geo/sandy_new_jersey_geovulnerable_contextual_stage2\n",
      "Processed: 329, 100%"
     ]
    }
   ],
   "source": [
    "#Parallel runtime\n",
    "p = Pool(30)\n",
    "m = Manager()\n",
    "q = m.Queue()\n",
    "\n",
    "args = [(i, output_directory, q) for i in users_with_homes]\n",
    "result = p.map_async(safe_json_export, args)\n",
    "\n",
    "sys.stderr.write(\"Exporting {0} users to {1}\\n\".format(len(args),output_directory))\n",
    "\n",
    "# monitor loop\n",
    "while True:\n",
    "    if result.ready():\n",
    "        break\n",
    "    else:\n",
    "        size = q.qsize()\n",
    "        sys.stderr.write(\"\\rProcessed: {0}, {1:.3g}%\".format(size, size/len(args)*100))\n",
    "        time.sleep(0.5)\n",
    "p.close()\n",
    "sys.stderr.write(\"\\rProcessed: {0}, {1:.3g}%\".format(q.qsize(), q.qsize()/len(args)*100))"
   ]
  },
  {
   "cell_type": "markdown",
   "metadata": {},
   "source": [
    "<hr>\n",
    "<hr>\n",
    "# End of Processing "
   ]
  },
  {
   "cell_type": "markdown",
   "metadata": {},
   "source": [
    "<hr><hr>\n",
    "# Beginning of Visual Inspection"
   ]
  },
  {
   "cell_type": "code",
   "execution_count": 45,
   "metadata": {
    "collapsed": false
   },
   "outputs": [],
   "source": [
    "x = users_with_homes[0]"
   ]
  },
  {
   "cell_type": "code",
   "execution_count": 46,
   "metadata": {
    "collapsed": false
   },
   "outputs": [
    {
     "data": {
      "text/plain": [
       "287"
      ]
     },
     "execution_count": 46,
     "metadata": {},
     "output_type": "execute_result"
    }
   ],
   "source": [
    "x.cluster.count()"
   ]
  },
  {
   "cell_type": "code",
   "execution_count": 47,
   "metadata": {
    "collapsed": false
   },
   "outputs": [],
   "source": [
    "cluster_dist = pd.Series(sorted([u.cluster.nunique() for u in _users]))"
   ]
  },
  {
   "cell_type": "code",
   "execution_count": 48,
   "metadata": {
    "collapsed": false
   },
   "outputs": [
    {
     "data": {
      "text/plain": [
       "<matplotlib.axes._subplots.AxesSubplot at 0x7ff8457308d0>"
      ]
     },
     "execution_count": 48,
     "metadata": {},
     "output_type": "execute_result"
    },
    {
     "data": {
      "image/png": "[encoded data removed]",
      "text/plain": [
       "<matplotlib.figure.Figure at 0x7ff845e109b0>"
      ]
     },
     "metadata": {},
     "output_type": "display_data"
    }
   ],
   "source": [
    "cluster_dist.plot(figsize=(15,8))"
   ]
  },
  {
   "cell_type": "code",
   "execution_count": 54,
   "metadata": {
    "collapsed": false
   },
   "outputs": [
    {
     "data": {
      "text/html": [
       "<div>\n",
       "<table border=\"1\" class=\"dataframe\">\n",
       "  <thead>\n",
       "    <tr style=\"text-align: right;\">\n",
       "      <th></th>\n",
       "      <th>cluster</th>\n",
       "      <th>cluster_center</th>\n",
       "      <th>coords</th>\n",
       "      <th>date</th>\n",
       "      <th>geo_delta</th>\n",
       "      <th>geometry</th>\n",
       "      <th>speed</th>\n",
       "      <th>text</th>\n",
       "      <th>time_delta</th>\n",
       "      <th>tweet_id</th>\n",
       "      <th>uid</th>\n",
       "      <th>user</th>\n",
       "      <th>day_cluster</th>\n",
       "      <th>home_cluster_id</th>\n",
       "    </tr>\n",
       "  </thead>\n",
       "  <tbody>\n",
       "    <tr>\n",
       "      <th>0</th>\n",
       "      <td>NaN</td>\n",
       "      <td>null</td>\n",
       "      <td>None</td>\n",
       "      <td>2012-09-01 04:06:22+00:00</td>\n",
       "      <td>NaN</td>\n",
       "      <td>NaN</td>\n",
       "      <td>NaN</td>\n",
       "      <td>A New Hot War Against Liberty http://t.co/Omjn...</td>\n",
       "      <td>-6560813.0</td>\n",
       "      <td>241748810706063360</td>\n",
       "      <td>139283160</td>\n",
       "      <td>kr3at</td>\n",
       "      <td>6</td>\n",
       "      <td>1.0</td>\n",
       "    </tr>\n",
       "    <tr>\n",
       "      <th>1</th>\n",
       "      <td>NaN</td>\n",
       "      <td>null</td>\n",
       "      <td>None</td>\n",
       "      <td>2012-09-01 04:11:35+00:00</td>\n",
       "      <td>NaN</td>\n",
       "      <td>NaN</td>\n",
       "      <td>NaN</td>\n",
       "      <td>Does This Recruiting Video Reveal The Creators...</td>\n",
       "      <td>313.0</td>\n",
       "      <td>241750122059399168</td>\n",
       "      <td>139283160</td>\n",
       "      <td>kr3at</td>\n",
       "      <td>6</td>\n",
       "      <td>NaN</td>\n",
       "    </tr>\n",
       "    <tr>\n",
       "      <th>2</th>\n",
       "      <td>NaN</td>\n",
       "      <td>null</td>\n",
       "      <td>None</td>\n",
       "      <td>2012-09-01 04:16:19+00:00</td>\n",
       "      <td>NaN</td>\n",
       "      <td>NaN</td>\n",
       "      <td>NaN</td>\n",
       "      <td>Evacuee: 'The water kept coming' http://t.co/k...</td>\n",
       "      <td>284.0</td>\n",
       "      <td>241751313988337664</td>\n",
       "      <td>139283160</td>\n",
       "      <td>kr3at</td>\n",
       "      <td>6</td>\n",
       "      <td>NaN</td>\n",
       "    </tr>\n",
       "    <tr>\n",
       "      <th>3</th>\n",
       "      <td>NaN</td>\n",
       "      <td>null</td>\n",
       "      <td>None</td>\n",
       "      <td>2012-09-01 04:17:53+00:00</td>\n",
       "      <td>NaN</td>\n",
       "      <td>NaN</td>\n",
       "      <td>NaN</td>\n",
       "      <td>RNC pays tribute to the Bushes http://t.co/oXc...</td>\n",
       "      <td>94.0</td>\n",
       "      <td>241751708282281984</td>\n",
       "      <td>139283160</td>\n",
       "      <td>kr3at</td>\n",
       "      <td>6</td>\n",
       "      <td>NaN</td>\n",
       "    </tr>\n",
       "    <tr>\n",
       "      <th>4</th>\n",
       "      <td>NaN</td>\n",
       "      <td>null</td>\n",
       "      <td>None</td>\n",
       "      <td>2012-09-01 04:19:28+00:00</td>\n",
       "      <td>NaN</td>\n",
       "      <td>NaN</td>\n",
       "      <td>NaN</td>\n",
       "      <td>GOP convention targets Obama http://t.co/FvEkl...</td>\n",
       "      <td>95.0</td>\n",
       "      <td>241752107185754112</td>\n",
       "      <td>139283160</td>\n",
       "      <td>kr3at</td>\n",
       "      <td>6</td>\n",
       "      <td>NaN</td>\n",
       "    </tr>\n",
       "    <tr>\n",
       "      <th>5</th>\n",
       "      <td>NaN</td>\n",
       "      <td>null</td>\n",
       "      <td>None</td>\n",
       "      <td>2012-09-01 04:21:02+00:00</td>\n",
       "      <td>NaN</td>\n",
       "      <td>NaN</td>\n",
       "      <td>NaN</td>\n",
       "      <td>Death toll rises in China coal mine blast http...</td>\n",
       "      <td>94.0</td>\n",
       "      <td>241752502989635584</td>\n",
       "      <td>139283160</td>\n",
       "      <td>kr3at</td>\n",
       "      <td>6</td>\n",
       "      <td>NaN</td>\n",
       "    </tr>\n",
       "    <tr>\n",
       "      <th>6</th>\n",
       "      <td>NaN</td>\n",
       "      <td>null</td>\n",
       "      <td>None</td>\n",
       "      <td>2012-09-01 04:36:42+00:00</td>\n",
       "      <td>NaN</td>\n",
       "      <td>NaN</td>\n",
       "      <td>NaN</td>\n",
       "      <td>NATO troops killed in Afghan insider attack ht...</td>\n",
       "      <td>940.0</td>\n",
       "      <td>241756445220151296</td>\n",
       "      <td>139283160</td>\n",
       "      <td>kr3at</td>\n",
       "      <td>6</td>\n",
       "      <td>NaN</td>\n",
       "    </tr>\n",
       "    <tr>\n",
       "      <th>7</th>\n",
       "      <td>NaN</td>\n",
       "      <td>null</td>\n",
       "      <td>None</td>\n",
       "      <td>2012-09-01 04:48:34+00:00</td>\n",
       "      <td>NaN</td>\n",
       "      <td>NaN</td>\n",
       "      <td>NaN</td>\n",
       "      <td>The Conspiracy of an Empire: A Letter to Those...</td>\n",
       "      <td>712.0</td>\n",
       "      <td>241759431497510912</td>\n",
       "      <td>139283160</td>\n",
       "      <td>kr3at</td>\n",
       "      <td>6</td>\n",
       "      <td>NaN</td>\n",
       "    </tr>\n",
       "    <tr>\n",
       "      <th>8</th>\n",
       "      <td>NaN</td>\n",
       "      <td>null</td>\n",
       "      <td>None</td>\n",
       "      <td>2012-09-01 04:56:50+00:00</td>\n",
       "      <td>NaN</td>\n",
       "      <td>NaN</td>\n",
       "      <td>NaN</td>\n",
       "      <td>The Conspiracy of an Empire: A Letter to Those...</td>\n",
       "      <td>496.0</td>\n",
       "      <td>241761510848880640</td>\n",
       "      <td>139283160</td>\n",
       "      <td>kr3at</td>\n",
       "      <td>6</td>\n",
       "      <td>NaN</td>\n",
       "    </tr>\n",
       "    <tr>\n",
       "      <th>9</th>\n",
       "      <td>NaN</td>\n",
       "      <td>null</td>\n",
       "      <td>None</td>\n",
       "      <td>2012-09-01 05:06:50+00:00</td>\n",
       "      <td>NaN</td>\n",
       "      <td>NaN</td>\n",
       "      <td>NaN</td>\n",
       "      <td>The Deliberate Assault on American Liberties w...</td>\n",
       "      <td>600.0</td>\n",
       "      <td>241764026697256960</td>\n",
       "      <td>139283160</td>\n",
       "      <td>kr3at</td>\n",
       "      <td>7</td>\n",
       "      <td>NaN</td>\n",
       "    </tr>\n",
       "    <tr>\n",
       "      <th>10</th>\n",
       "      <td>NaN</td>\n",
       "      <td>null</td>\n",
       "      <td>None</td>\n",
       "      <td>2012-09-01 05:16:54+00:00</td>\n",
       "      <td>NaN</td>\n",
       "      <td>NaN</td>\n",
       "      <td>NaN</td>\n",
       "      <td>Exposing the FDA's Vaccine Injury Cover-up: An...</td>\n",
       "      <td>604.0</td>\n",
       "      <td>241766560857980928</td>\n",
       "      <td>139283160</td>\n",
       "      <td>kr3at</td>\n",
       "      <td>7</td>\n",
       "      <td>NaN</td>\n",
       "    </tr>\n",
       "    <tr>\n",
       "      <th>11</th>\n",
       "      <td>NaN</td>\n",
       "      <td>null</td>\n",
       "      <td>None</td>\n",
       "      <td>2012-09-01 05:18:29+00:00</td>\n",
       "      <td>NaN</td>\n",
       "      <td>NaN</td>\n",
       "      <td>NaN</td>\n",
       "      <td>Latest photos http://t.co/AwiN1xfi\\n via @kr3a...</td>\n",
       "      <td>95.0</td>\n",
       "      <td>241766959224586242</td>\n",
       "      <td>139283160</td>\n",
       "      <td>kr3at</td>\n",
       "      <td>7</td>\n",
       "      <td>NaN</td>\n",
       "    </tr>\n",
       "    <tr>\n",
       "      <th>12</th>\n",
       "      <td>NaN</td>\n",
       "      <td>null</td>\n",
       "      <td>None</td>\n",
       "      <td>2012-09-01 05:26:56+00:00</td>\n",
       "      <td>NaN</td>\n",
       "      <td>NaN</td>\n",
       "      <td>NaN</td>\n",
       "      <td>‘Corrie verdict Israeli license to kill’ http:...</td>\n",
       "      <td>507.0</td>\n",
       "      <td>241769084075773952</td>\n",
       "      <td>139283160</td>\n",
       "      <td>kr3at</td>\n",
       "      <td>7</td>\n",
       "      <td>NaN</td>\n",
       "    </tr>\n",
       "    <tr>\n",
       "      <th>13</th>\n",
       "      <td>NaN</td>\n",
       "      <td>null</td>\n",
       "      <td>None</td>\n",
       "      <td>2012-09-01 05:28:30+00:00</td>\n",
       "      <td>NaN</td>\n",
       "      <td>NaN</td>\n",
       "      <td>NaN</td>\n",
       "      <td>Rolling Stone: The Secret Bailout That Saved M...</td>\n",
       "      <td>94.0</td>\n",
       "      <td>241769479170834432</td>\n",
       "      <td>139283160</td>\n",
       "      <td>kr3at</td>\n",
       "      <td>7</td>\n",
       "      <td>NaN</td>\n",
       "    </tr>\n",
       "    <tr>\n",
       "      <th>14</th>\n",
       "      <td>NaN</td>\n",
       "      <td>null</td>\n",
       "      <td>None</td>\n",
       "      <td>2012-09-01 05:30:07+00:00</td>\n",
       "      <td>NaN</td>\n",
       "      <td>NaN</td>\n",
       "      <td>NaN</td>\n",
       "      <td>Harvard: Researchers Grow Cyborg Tissues with ...</td>\n",
       "      <td>97.0</td>\n",
       "      <td>241769884630020096</td>\n",
       "      <td>139283160</td>\n",
       "      <td>kr3at</td>\n",
       "      <td>7</td>\n",
       "      <td>NaN</td>\n",
       "    </tr>\n",
       "  </tbody>\n",
       "</table>\n",
       "</div>"
      ],
      "text/plain": [
       "    cluster cluster_center coords                      date  geo_delta  \\\n",
       "0       NaN           null   None 2012-09-01 04:06:22+00:00        NaN   \n",
       "1       NaN           null   None 2012-09-01 04:11:35+00:00        NaN   \n",
       "2       NaN           null   None 2012-09-01 04:16:19+00:00        NaN   \n",
       "3       NaN           null   None 2012-09-01 04:17:53+00:00        NaN   \n",
       "4       NaN           null   None 2012-09-01 04:19:28+00:00        NaN   \n",
       "5       NaN           null   None 2012-09-01 04:21:02+00:00        NaN   \n",
       "6       NaN           null   None 2012-09-01 04:36:42+00:00        NaN   \n",
       "7       NaN           null   None 2012-09-01 04:48:34+00:00        NaN   \n",
       "8       NaN           null   None 2012-09-01 04:56:50+00:00        NaN   \n",
       "9       NaN           null   None 2012-09-01 05:06:50+00:00        NaN   \n",
       "10      NaN           null   None 2012-09-01 05:16:54+00:00        NaN   \n",
       "11      NaN           null   None 2012-09-01 05:18:29+00:00        NaN   \n",
       "12      NaN           null   None 2012-09-01 05:26:56+00:00        NaN   \n",
       "13      NaN           null   None 2012-09-01 05:28:30+00:00        NaN   \n",
       "14      NaN           null   None 2012-09-01 05:30:07+00:00        NaN   \n",
       "\n",
       "   geometry  speed                                               text  \\\n",
       "0       NaN    NaN  A New Hot War Against Liberty http://t.co/Omjn...   \n",
       "1       NaN    NaN  Does This Recruiting Video Reveal The Creators...   \n",
       "2       NaN    NaN  Evacuee: 'The water kept coming' http://t.co/k...   \n",
       "3       NaN    NaN  RNC pays tribute to the Bushes http://t.co/oXc...   \n",
       "4       NaN    NaN  GOP convention targets Obama http://t.co/FvEkl...   \n",
       "5       NaN    NaN  Death toll rises in China coal mine blast http...   \n",
       "6       NaN    NaN  NATO troops killed in Afghan insider attack ht...   \n",
       "7       NaN    NaN  The Conspiracy of an Empire: A Letter to Those...   \n",
       "8       NaN    NaN  The Conspiracy of an Empire: A Letter to Those...   \n",
       "9       NaN    NaN  The Deliberate Assault on American Liberties w...   \n",
       "10      NaN    NaN  Exposing the FDA's Vaccine Injury Cover-up: An...   \n",
       "11      NaN    NaN  Latest photos http://t.co/AwiN1xfi\\n via @kr3a...   \n",
       "12      NaN    NaN  ‘Corrie verdict Israeli license to kill’ http:...   \n",
       "13      NaN    NaN  Rolling Stone: The Secret Bailout That Saved M...   \n",
       "14      NaN    NaN  Harvard: Researchers Grow Cyborg Tissues with ...   \n",
       "\n",
       "    time_delta            tweet_id        uid   user  day_cluster  \\\n",
       "0   -6560813.0  241748810706063360  139283160  kr3at            6   \n",
       "1        313.0  241750122059399168  139283160  kr3at            6   \n",
       "2        284.0  241751313988337664  139283160  kr3at            6   \n",
       "3         94.0  241751708282281984  139283160  kr3at            6   \n",
       "4         95.0  241752107185754112  139283160  kr3at            6   \n",
       "5         94.0  241752502989635584  139283160  kr3at            6   \n",
       "6        940.0  241756445220151296  139283160  kr3at            6   \n",
       "7        712.0  241759431497510912  139283160  kr3at            6   \n",
       "8        496.0  241761510848880640  139283160  kr3at            6   \n",
       "9        600.0  241764026697256960  139283160  kr3at            7   \n",
       "10       604.0  241766560857980928  139283160  kr3at            7   \n",
       "11        95.0  241766959224586242  139283160  kr3at            7   \n",
       "12       507.0  241769084075773952  139283160  kr3at            7   \n",
       "13        94.0  241769479170834432  139283160  kr3at            7   \n",
       "14        97.0  241769884630020096  139283160  kr3at            7   \n",
       "\n",
       "    home_cluster_id  \n",
       "0               1.0  \n",
       "1               NaN  \n",
       "2               NaN  \n",
       "3               NaN  \n",
       "4               NaN  \n",
       "5               NaN  \n",
       "6               NaN  \n",
       "7               NaN  \n",
       "8               NaN  \n",
       "9               NaN  \n",
       "10              NaN  \n",
       "11              NaN  \n",
       "12              NaN  \n",
       "13              NaN  \n",
       "14              NaN  "
      ]
     },
     "execution_count": 54,
     "metadata": {},
     "output_type": "execute_result"
    }
   ],
   "source": [
    "x.head(15)"
   ]
  },
  {
   "cell_type": "code",
   "execution_count": null,
   "metadata": {
    "collapsed": true
   },
   "outputs": [],
   "source": []
  }
 ],
 "metadata": {
  "kernelspec": {
   "display_name": "IPython (Python 3)",
   "language": "python",
   "name": "python3"
  },
  "language_info": {
   "codemirror_mode": {
    "name": "ipython",
    "version": 3
   },
   "file_extension": ".py",
   "mimetype": "text/x-python",
   "name": "python",
   "nbconvert_exporter": "python",
   "pygments_lexer": "ipython3",
   "version": "3.4.3"
  }
 },
 "nbformat": 4,
 "nbformat_minor": 1
}
