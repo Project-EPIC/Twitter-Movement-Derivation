{
 "cells": [
  {
   "cell_type": "code",
   "execution_count": 1,
   "metadata": {
    "collapsed": true
   },
   "outputs": [],
   "source": [
    "import json"
   ]
  },
  {
   "cell_type": "code",
   "execution_count": 9,
   "metadata": {
    "collapsed": false
   },
   "outputs": [],
   "source": [
    "#Load the files\n",
    "# loc_2 = sc.textFile('/home/anderstj/data/GNIP/VulnerableLocations/vulnerable_locations2')\n",
    "# loc_3 = sc.textFile('/home/anderstj/data/GNIP/VulnerableLocations/vulnerable_locations3')\n",
    "# loc_4 = sc.textFile('/home/anderstj/data/GNIP/VulnerableLocations/vulnerable_locations4')\n",
    "\n",
    "raw_strings = sc.textFile(\"all_geo_tweets.jsonl\") #HDFS\n",
    "\n",
    "#Filter out the duds\n",
    "strings = raw_strings.filter(lambda x: x!=\"\")\n",
    "\n",
    "#JSONs\n",
    "jsons  = strings.map(json.loads)\n",
    "\n",
    "tweets = jsons.filter(lambda x: 'info' not in x.keys())"
   ]
  },
  {
   "cell_type": "code",
   "execution_count": 10,
   "metadata": {
    "collapsed": false
   },
   "outputs": [
    {
     "data": {
      "text/plain": [
       "3094921"
      ]
     },
     "execution_count": 10,
     "metadata": {},
     "output_type": "execute_result"
    }
   ],
   "source": [
    "tweets.count()"
   ]
  },
  {
   "cell_type": "code",
   "execution_count": 11,
   "metadata": {
    "collapsed": false
   },
   "outputs": [
    {
     "data": {
      "text/plain": [
       "[{u'actor': {u'displayName': u'amanda blando',\n",
       "   u'favoritesCount': 74,\n",
       "   u'followersCount': 378,\n",
       "   u'friendsCount': 149,\n",
       "   u'id': u'id:twitter.com:255845453',\n",
       "   u'image': u'https://si0.twimg.com/profile_images/2624896700/q0xukoj3j9b5bl4xqrd8_normal.jpeg',\n",
       "   u'languages': [u'en'],\n",
       "   u'link': u'http://www.twitter.com/AustinThornton',\n",
       "   u'links': [{u'href': u'http://electricforest.tumblr.com', u'rel': u'me'}],\n",
       "   u'listedCount': 0,\n",
       "   u'location': {u'displayName': u'new york city', u'objectType': u'place'},\n",
       "   u'objectType': u'person',\n",
       "   u'postedTime': u'2011-02-22T04:35:28.000Z',\n",
       "   u'preferredUsername': u'AustinThornton',\n",
       "   u'statusesCount': 12480,\n",
       "   u'summary': u\"I'M SO METAL I RUST IN THE SHOWER\",\n",
       "   u'twitterTimeZone': u'Mountain Time (US & Canada)',\n",
       "   u'utcOffset': u'-25200',\n",
       "   u'verified': False},\n",
       "  u'body': u'Hopefully I can get a cheap costume last minute lol...',\n",
       "  u'generator': {u'displayName': u'Twitter for iPhone',\n",
       "   u'link': u'http://twitter.com/download/iphone'},\n",
       "  u'geo': {u'coordinates': [40.73684888, -73.87361703], u'type': u'Point'},\n",
       "  u'gnip': {u'language': {u'value': u'en'},\n",
       "   u'matching_rules': [{u'tag': u'[-73.90439842451303,40.739535040664876]',\n",
       "     u'value': u'bounding_box:[-73.949314188719 40.70550308089975 -73.85948266030705 40.77356700042999]'}]},\n",
       "  u'id': u'tag:search.twitter.com,2005:263651553431400449',\n",
       "  u'link': u'http://twitter.com/AustinThornton/statuses/263651553431400449',\n",
       "  u'location': {u'country_code': u'United States',\n",
       "   u'displayName': u'Queens, NY',\n",
       "   u'geo': {u'coordinates': [[[-74.042112, 40.489794],\n",
       "      [-73.700272, 40.489794],\n",
       "      [-73.700272, 40.812242],\n",
       "      [-74.042112, 40.812242]]],\n",
       "    u'type': u'Polygon'},\n",
       "   u'link': u'http://api.twitter.com/1/geo/id/b6ea2e341ba4356f.json',\n",
       "   u'name': u'Queens',\n",
       "   u'objectType': u'place',\n",
       "   u'twitter_country_code': u'US',\n",
       "   u'twitter_place_type': u'city'},\n",
       "  u'object': {u'id': u'object:search.twitter.com,2005:263651553431400449',\n",
       "   u'link': u'http://twitter.com/AustinThornton/statuses/263651553431400449',\n",
       "   u'objectType': u'note',\n",
       "   u'postedTime': u'2012-10-31T14:40:03.000Z',\n",
       "   u'summary': u'Hopefully I can get a cheap costume last minute lol...'},\n",
       "  u'objectType': u'activity',\n",
       "  u'postedTime': u'2012-10-31T14:40:03.000Z',\n",
       "  u'provider': {u'displayName': u'Twitter',\n",
       "   u'link': u'http://www.twitter.com',\n",
       "   u'objectType': u'service'},\n",
       "  u'retweetCount': 0,\n",
       "  u'twitter_entities': {u'hashtags': [], u'urls': [], u'user_mentions': []},\n",
       "  u'verb': u'post'}]"
      ]
     },
     "execution_count": 11,
     "metadata": {},
     "output_type": "execute_result"
    }
   ],
   "source": [
    "tweets.take(1)"
   ]
  },
  {
   "cell_type": "code",
   "execution_count": 12,
   "metadata": {
    "collapsed": false
   },
   "outputs": [],
   "source": [
    "tweets_with_geo = tweets.filter(lambda t: 'geo' in t.keys())\n",
    "#tweets_with_geo.count()"
   ]
  },
  {
   "cell_type": "code",
   "execution_count": 19,
   "metadata": {
    "collapsed": true
   },
   "outputs": [],
   "source": [
    "def to_geojson_string(t):\n",
    "    t['geo'][\"coordinates\"].reverse()\n",
    "    f = {\"type\":\"Feature\",\n",
    "         \"geometry\": t['geo'],\n",
    "         \"properties\":{\n",
    "                \"verb\": t[\"verb\"],\n",
    "                \"source\":t[\"generator\"],\n",
    "                \"time\":t[\"postedTime\"],\n",
    "                \"user\":t[\"actor\"][\"preferredUsername\"],\n",
    "                \"text\":t[\"body\"],\n",
    "                \"u_utc\":t['actor']['utcOffset'],\n",
    "                \"gnip\":t['gnip']\n",
    "        }}\n",
    "    return (json.dumps(f))"
   ]
  },
  {
   "cell_type": "code",
   "execution_count": 20,
   "metadata": {
    "collapsed": false
   },
   "outputs": [],
   "source": [
    "strings = tweets_with_geo.map(to_geojson_string)\n",
    "strings.saveAsTextFile('results_2_3_4.jsonl')"
   ]
  },
  {
   "cell_type": "code",
   "execution_count": 21,
   "metadata": {
    "collapsed": false
   },
   "outputs": [
    {
     "data": {
      "text/plain": [
       "3074972"
      ]
     },
     "execution_count": 21,
     "metadata": {},
     "output_type": "execute_result"
    }
   ],
   "source": [
    "tweets_with_geo.count()"
   ]
  },
  {
   "cell_type": "code",
   "execution_count": null,
   "metadata": {
    "collapsed": false
   },
   "outputs": [],
   "source": [
    "# with open('full_tweets_dump.jsonl', 'w') as outfile:\n",
    "#     for t in local[:10]:\n",
    "        t[\"geometry\"][\"coordinates\"].reverse()\n",
    "        outFile.write(json.dumps({\"type\":\"Feature\",\n",
    "         \"geometry\": t['geometry'],\n",
    "         \"properties\":t['properties']})+\"\\n\")"
   ]
  },
  {
   "cell_type": "code",
   "execution_count": 44,
   "metadata": {
    "collapsed": false
   },
   "outputs": [],
   "source": []
  },
  {
   "cell_type": "code",
   "execution_count": null,
   "metadata": {
    "collapsed": true
   },
   "outputs": [],
   "source": [
    "3074972"
   ]
  }
 ],
 "metadata": {
  "kernelspec": {
   "display_name": "pySpark (Spark 1.5.2)",
   "language": "python",
   "name": "pyspark"
  },
  "language_info": {
   "codemirror_mode": {
    "name": "ipython",
    "version": 2
   },
   "file_extension": ".py",
   "mimetype": "text/x-python",
   "name": "python",
   "nbconvert_exporter": "python",
   "pygments_lexer": "ipython2",
   "version": "2.7.6"
  }
 },
 "nbformat": 4,
 "nbformat_minor": 0
}
