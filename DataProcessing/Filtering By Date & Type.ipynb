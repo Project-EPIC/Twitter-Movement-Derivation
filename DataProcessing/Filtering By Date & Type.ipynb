{
 "cells": [
  {
   "cell_type": "markdown",
   "metadata": {},
   "source": [
    "# Filter tweets by time and type and write to to file"
   ]
  },
  {
   "cell_type": "code",
   "execution_count": 10,
   "metadata": {
    "collapsed": true
   },
   "outputs": [],
   "source": [
    "import json, datetime, iso8601, pytz\n",
    "from urllib.parse import quote"
   ]
  },
  {
   "cell_type": "code",
   "execution_count": 11,
   "metadata": {
    "collapsed": false
   },
   "outputs": [],
   "source": [
    "class TweetFileHandler:\n",
    "    def __init__(self):\n",
    "        self.before       = open('before.geojsonl','w')\n",
    "        self.during       = open('during.geojsonl','w')\n",
    "        self.after        = open('after.geojsonl', 'w')\n",
    "        self.before_count = 0;\n",
    "        self.during_count = 0;\n",
    "        self.after_count  = 0;\n",
    "        self.LANDFALL = datetime.datetime(2012,10,29,20,0,0,tzinfo=pytz.utc) #Landfall as UTC\n",
    "        self.AFTER    = datetime.datetime(2012,11,4,0,0,0,tzinfo=pytz.utc)  #After as UTC\n",
    "        self.gnip_bounding_boxes = {}\n",
    "    \n",
    "    def write_before(self,tweet):\n",
    "        self.before_count += 1\n",
    "        self.before.write(json.dumps(tweet)+\"\\n\")\n",
    "        \n",
    "    def write_during(self,tweet):\n",
    "        self.during_count += 1\n",
    "        self.during.write(json.dumps(tweet)+\"\\n\")\n",
    "        \n",
    "    def write_after(self,tweet):\n",
    "        self.after_count += 1    \n",
    "        self.after.write(json.dumps(tweet)+\"\\n\")\n",
    "    \n",
    "    def process_tweet(self, tweet):\n",
    "        time = iso8601.parse_date(tweet['properties']['time'])\n",
    "        del tweet['properties']['gnip']\n",
    "        tweet['properties']['text'] = quote(tweet['properties']['text'])\n",
    "        if time < self.LANDFALL:\n",
    "            self.write_before(tweet)\n",
    "        elif time < self.AFTER:\n",
    "            self.write_during(tweet)\n",
    "        else:\n",
    "            self.write_after(tweet)\n",
    "            \n",
    "    def count_by_box(self,tweet):\n",
    "        key = json.dumps(tweet['properties']['gnip']['matching_rules'])\n",
    "        if key in self.gnip_bounding_boxes:\n",
    "            self.gnip_bounding_boxes[key] += 1\n",
    "        else:\n",
    "            self.gnip_bounding_boxes[key] = 1\n",
    "            \n",
    "    def close(self):\n",
    "        self.before.close()\n",
    "        self.during.close()\n",
    "        self.after.close()"
   ]
  },
  {
   "cell_type": "code",
   "execution_count": null,
   "metadata": {
    "collapsed": false
   },
   "outputs": [],
   "source": [
    "count = 0;\n",
    "threshold = 10000000\n",
    "handler = TweetFileHandler()\n",
    "with open('../result_data/all_tweets_one_file.jsonl','r') as inFile:\n",
    "    for line in inFile:\n",
    "        if count<threshold:\n",
    "#             handler.count_by_box(json.loads(line.strip()))\n",
    "            handler.process_tweet(json.loads(line.strip()))\n",
    "\n",
    "        else:\n",
    "            break\n",
    "        count+=1\n",
    "        if count%100000==0:\n",
    "            print(\".\",end=\"\")\n",
    "            if count%10000:\n",
    "                print(count,end=\"\")\n",
    "            \n",
    "    handler.close()\n",
    "        \n",
    "print(\"\")\n",
    "print(handler.before_count)\n",
    "print(handler.during_count)\n",
    "print(handler.after_count)\n",
    "# for k,v in handler.gnip_bounding_boxes.items():\n",
    "#     print(json.loads(k)[0]['tag'], v)"
   ]
  },
  {
   "cell_type": "code",
   "execution_count": 71,
   "metadata": {
    "collapsed": false
   },
   "outputs": [],
   "source": [
    "output = {'type':'FeatureCollection','features':[]}\n",
    "for k,v in handler.gnip_bounding_boxes.items():\n",
    "    parsed = json.loads(k)[0]\n",
    "#     print(parsed['tag'])\n",
    "    bbox = parsed['value'][14:-1].split()\n",
    "    ll, ur = ([float(bbox[0]),float(bbox[1])],[float(bbox[2]),float(bbox[3])])\n",
    "    ul, lr = ([float(bbox[0]),float(bbox[3])],[float(bbox[2]),float(bbox[1])])\n",
    "    geometry = [[ll,ul,ur, lr, ll]]\n",
    "    output['features'].append({'type':'Feature',\n",
    "                              'geometry':{'type':'Polygon','coordinates':geometry},\n",
    "                              'properties':{'center':parsed['tag'],'tweets':v}})\n",
    "with open('gnip_bboxes_with_counts.geojson','w') as outFile:\n",
    "    outFile.write(json.dumps(output))"
   ]
  },
  {
   "cell_type": "code",
   "execution_count": null,
   "metadata": {
    "collapsed": true
   },
   "outputs": [],
   "source": []
  },
  {
   "cell_type": "code",
   "execution_count": null,
   "metadata": {
    "collapsed": true
   },
   "outputs": [],
   "source": []
  }
 ],
 "metadata": {
  "kernelspec": {
   "display_name": "Python 3",
   "language": "python",
   "name": "python3"
  },
  "language_info": {
   "name": "python",
   "version": "3.4.3"
  }
 },
 "nbformat": 4,
 "nbformat_minor": 0
}
