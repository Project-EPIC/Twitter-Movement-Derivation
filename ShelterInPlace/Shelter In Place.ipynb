{
 "cells": [
  {
   "cell_type": "markdown",
   "metadata": {},
   "source": [
    "# Identify users who are presumabely sheltering-in-place\n",
    "If they are tweeting from Zone A during landfall, then we want to know if we can clearly tell that they have chosen to shelter-in-place."
   ]
  },
  {
   "cell_type": "code",
   "execution_count": 17,
   "metadata": {
    "collapsed": false
   },
   "outputs": [],
   "source": [
    "import pandas as pd; import numpy as np; from multiprocessing import Pool; import numpy as np\n",
    "import matplotlib.pyplot as plt; import seaborn as sns\n",
    "import matplotlib, os, json"
   ]
  },
  {
   "cell_type": "code",
   "execution_count": 5,
   "metadata": {
    "collapsed": false
   },
   "outputs": [],
   "source": [
    "_landfall = pd.Timestamp('201210300000Z')\n",
    "_start    = pd.Timestamp('201210290000Z')\n",
    "_end      = pd.Timestamp('201210310000Z')"
   ]
  },
  {
   "cell_type": "markdown",
   "metadata": {},
   "source": [
    "## Read in Tweets in Parallel"
   ]
  },
  {
   "cell_type": "code",
   "execution_count": 14,
   "metadata": {
    "collapsed": false
   },
   "outputs": [],
   "source": [
    "working_dir = '../working_data/zone_a_clustered/'\n",
    "file_names = os.listdir(working_dir)"
   ]
  },
  {
   "cell_type": "code",
   "execution_count": 18,
   "metadata": {
    "collapsed": false
   },
   "outputs": [],
   "source": [
    "#Heavy lifting: Load all the users in parallel\n",
    "def load_user(file_name):\n",
    "    return json.load(open(working_dir+file_name,'r'))\n",
    "\n",
    "pool = Pool(processes=24)\n",
    "res = pool.map_async(load_user, file_names)\n",
    "pool.close()\n",
    "pool.join()"
   ]
  },
  {
   "cell_type": "code",
   "execution_count": 19,
   "metadata": {
    "collapsed": false
   },
   "outputs": [],
   "source": [
    "users = res.get()"
   ]
  },
  {
   "cell_type": "markdown",
   "metadata": {},
   "source": [
    "## Import the Zone A Geometry"
   ]
  },
  {
   "cell_type": "code",
   "execution_count": 4,
   "metadata": {
    "collapsed": false
   },
   "outputs": [
    {
     "data": {
      "text/plain": [
       "True"
      ]
     },
     "execution_count": 4,
     "metadata": {},
     "output_type": "execute_result"
    }
   ],
   "source": [
    "import fiona, shapely; from osgeo import ogr; from shapely.geometry import mapping, shape\n",
    "c = fiona.open('../ZoneA_Geometry/ZoneA/OGRGeoJSON.shp','r')\n",
    "pol = c.next(); zoneA = shape(pol['geometry']).buffer(0); zoneA.is_valid"
   ]
  },
  {
   "cell_type": "code",
   "execution_count": null,
   "metadata": {
    "collapsed": true
   },
   "outputs": [],
   "source": []
  }
 ],
 "metadata": {
  "kernelspec": {
   "display_name": "IPython (Python 3)",
   "language": "python",
   "name": "python3"
  },
  "language_info": {
   "name": "python",
   "version": "3.4.3"
  }
 },
 "nbformat": 4,
 "nbformat_minor": 1
}
