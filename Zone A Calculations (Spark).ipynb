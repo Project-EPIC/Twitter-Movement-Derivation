{
 "cells": [
  {
   "cell_type": "code",
   "execution_count": 1,
   "metadata": {
    "collapsed": true
   },
   "outputs": [],
   "source": [
    "from osgeo import ogr\n",
    "import shapely, fiona, json"
   ]
  },
  {
   "cell_type": "code",
   "execution_count": 2,
   "metadata": {
    "collapsed": true
   },
   "outputs": [],
   "source": [
    "raw_strings = sc.textFile(\"all_tweets_one_file.jsonl\") # Would Using HDFS be smarter here?"
   ]
  },
  {
   "cell_type": "code",
   "execution_count": 3,
   "metadata": {
    "collapsed": false
   },
   "outputs": [
    {
     "data": {
      "text/plain": [
       "[u'{\"geometry\": {\"type\": \"Point\", \"coordinates\": [-74.5342206, 39.3954102]}, \"type\": \"Feature\", \"properties\": {\"u_utc\": null, \"text\": \"- I do my own thing , you made me this way .\", \"source\": {\"link\": \"http://twitter.com/download/android\", \"displayName\": \"Twitter for Android\"}, \"verb\": \"post\", \"user\": \"Dougieee_Nastyy\", \"time\": \"2012-10-25T11:25:26.000Z\", \"gnip\": {\"matching_rules\": [{\"tag\": \"[-74.53321912339669,39.36436374931048]\", \"value\": \"bounding_box:[-74.57813488760267 39.329638110038545 -74.48830335919072 39.39908938858241]\"}], \"language\": {\"value\": \"en\"}}}}']"
      ]
     },
     "execution_count": 3,
     "metadata": {},
     "output_type": "execute_result"
    }
   ],
   "source": [
    "raw_strings.take(1)"
   ]
  },
  {
   "cell_type": "code",
   "execution_count": 7,
   "metadata": {
    "collapsed": false
   },
   "outputs": [
    {
     "data": {
      "text/plain": [
       "PythonRDD[4] at RDD at PythonRDD.scala:53"
      ]
     },
     "execution_count": 7,
     "metadata": {},
     "output_type": "execute_result"
    }
   ],
   "source": [
    "tweets = raw_strings.map(json.loads)\n",
    "tweets.cache()"
   ]
  },
  {
   "cell_type": "code",
   "execution_count": 8,
   "metadata": {
    "collapsed": false
   },
   "outputs": [],
   "source": [
    "t1 = tweets.take(1)[0]"
   ]
  },
  {
   "cell_type": "code",
   "execution_count": 9,
   "metadata": {
    "collapsed": false
   },
   "outputs": [
    {
     "name": "stdout",
     "output_type": "stream",
     "text": [
      "{u'geometry': {u'type': u'Point', u'coordinates': [-74.5342206, 39.3954102]}, u'type': u'Feature', u'properties': {u'u_utc': None, u'text': u'- I do my own thing , you made me this way .', u'source': {u'displayName': u'Twitter for Android', u'link': u'http://twitter.com/download/android'}, u'verb': u'post', u'user': u'Dougieee_Nastyy', u'time': u'2012-10-25T11:25:26.000Z', u'gnip': {u'matching_rules': [{u'tag': u'[-74.53321912339669,39.36436374931048]', u'value': u'bounding_box:[-74.57813488760267 39.329638110038545 -74.48830335919072 39.39908938858241]'}], u'language': {u'value': u'en'}}}}\n"
     ]
    }
   ],
   "source": [
    "print(t1)"
   ]
  },
  {
   "cell_type": "markdown",
   "metadata": {},
   "source": [
    "## Load Zone A as a Geometry"
   ]
  },
  {
   "cell_type": "code",
   "execution_count": 32,
   "metadata": {
    "collapsed": false
   },
   "outputs": [],
   "source": [
    "with open('ZoneA_SingleGeometry.geojson','r') as zoneAFile:\n",
    "    zoneAJSON = json.loads(zoneAFile.read())\n",
    "    geom = zoneAJSON['features'][0]['geometry']\n",
    "    zoneA = ogr.CreateGeometryFromJson(json.dumps(geom))"
   ]
  },
  {
   "cell_type": "code",
   "execution_count": 53,
   "metadata": {
    "collapsed": false
   },
   "outputs": [
    {
     "data": {
      "text/plain": [
       "False"
      ]
     },
     "execution_count": 53,
     "metadata": {},
     "output_type": "execute_result"
    }
   ],
   "source": [
    "# from shapely.wkt import dumps, loads\n",
    "# dumps(loads('POINT (0 0)'))\n",
    "# 'POINT (0.0000000000000000 0.0000000000000000)'\n",
    "# Shapely can also integrate with other Python GIS packages using GeoJSON-like dicts.\n",
    "\n",
    "\n",
    "s.is_valid"
   ]
  },
  {
   "cell_type": "code",
   "execution_count": 89,
   "metadata": {
    "collapsed": false
   },
   "outputs": [
    {
     "data": {
      "text/plain": [
       "True"
      ]
     },
     "execution_count": 89,
     "metadata": {},
     "output_type": "execute_result"
    }
   ],
   "source": [
    "from shapely.geometry import mapping, shape\n",
    "c = fiona.open('ZoneA/OGRGeoJSON.shp','r')\n",
    "pol = c.next()\n",
    "geom = shape(pol['geometry']).buffer(0)\n",
    "geom.is_valid"
   ]
  },
  {
   "cell_type": "code",
   "execution_count": 90,
   "metadata": {
    "collapsed": false
   },
   "outputs": [],
   "source": [
    "zoneABroadcast = sc.broadcast(geom)"
   ]
  },
  {
   "cell_type": "code",
   "execution_count": 91,
   "metadata": {
    "collapsed": false
   },
   "outputs": [
    {
     "name": "stdout",
     "output_type": "stream",
     "text": [
      "POINT (-73.949 40.73389)\n",
      "True\n",
      "POINT (-73.99753114562988 40.73093368341445)\n",
      "False\n"
     ]
    }
   ],
   "source": [
    "#Testing:\n",
    "in_bounds = shape({'type': \"Point\", 'coordinates': [-73.94900, 40.73389]})\n",
    "print in_bounds\n",
    "print( geom.contains(in_bounds))\n",
    "# print(\"In Bounds (Should be True): \" + str( point_in_bounds.Within(zoneABroadcast.value)))\n",
    "\n",
    "out_of_bounds = shape({\"type\": \"Point\",\"coordinates\": [-73.99753114562988,40.73093368341445]})\n",
    "print out_of_bounds\n",
    "print geom.contains(out_of_bounds)"
   ]
  },
  {
   "cell_type": "code",
   "execution_count": 92,
   "metadata": {
    "collapsed": false
   },
   "outputs": [
    {
     "name": "stdout",
     "output_type": "stream",
     "text": [
      "POINT (-74.5342206 39.3954102)\n"
     ]
    },
    {
     "data": {
      "text/plain": [
       "<shapely.geometry.point.Point at 0x7f888ebf5b10>"
      ]
     },
     "execution_count": 92,
     "metadata": {},
     "output_type": "execute_result"
    }
   ],
   "source": [
    "def get_point(tweet):\n",
    "    return shape(tweet[\"geometry\"])\n",
    "\n",
    "#Test it:\n",
    "p = get_point(t1)\n",
    "print(p)\n",
    "p"
   ]
  },
  {
   "cell_type": "markdown",
   "metadata": {},
   "source": [
    "### Use Spark to find ZoneA tweets"
   ]
  },
  {
   "cell_type": "code",
   "execution_count": 96,
   "metadata": {
    "collapsed": false
   },
   "outputs": [],
   "source": [
    "inZoneA = tweets.filter(lambda t: zoneABroadcast.value.contains(get_point(t)))"
   ]
  },
  {
   "cell_type": "code",
   "execution_count": 97,
   "metadata": {
    "collapsed": false
   },
   "outputs": [
    {
     "data": {
      "text/plain": [
       "110111"
      ]
     },
     "execution_count": 97,
     "metadata": {},
     "output_type": "execute_result"
    }
   ],
   "source": [
    "# Kick off the Action, save the tweets\n",
    "inZoneA.cache()\n",
    "inZoneA.count()"
   ]
  },
  {
   "cell_type": "code",
   "execution_count": 98,
   "metadata": {
    "collapsed": false
   },
   "outputs": [],
   "source": [
    "inZoneA.saveAsTextFile('inZoneA.txt')"
   ]
  },
  {
   "cell_type": "code",
   "execution_count": 101,
   "metadata": {
    "collapsed": false
   },
   "outputs": [
    {
     "name": "stdout",
     "output_type": "stream",
     "text": [
      "Users: 22042\n"
     ]
    }
   ],
   "source": [
    "grouped_by_user = inZoneA.groupBy(lambda t: t['properties']['user'])\n",
    "count_by_user   = grouped_by_user.map(lambda tu: (tu[0],len(tu[1]) ))\n",
    "sorted_by_quant = count_by_user.sortBy(lambda tu: -tu[1])\n",
    "sorted_by_quant.cache()\n",
    "print(\"Users: \" + str(sorted_by_quant.count()))"
   ]
  },
  {
   "cell_type": "code",
   "execution_count": null,
   "metadata": {
    "collapsed": false
   },
   "outputs": [],
   "source": [
    "# Write out all the tweets to GeoJSON\n",
    "\n",
    "# Now build a secondary GeoJSON server to only serve specific dates?\n",
    "\n",
    "# for tu in sorted_by_quant.collect():\n",
    "#     u_tweets = tweets.filter(lambda t: t['properties']['user'] == tu[0])\n",
    "#     features = u_tweets.collect()\n",
    "#     with open('zone_a_twitterers/'+tu[0]+'.geojson','w') as outGeo:\n",
    "#         json.dump({\"type\":\"FeatureCollection\",\"features\":features},outGeo)"
   ]
  },
  {
   "cell_type": "code",
   "execution_count": null,
   "metadata": {
    "collapsed": true
   },
   "outputs": [],
   "source": []
  }
 ],
 "metadata": {
  "kernelspec": {
   "display_name": "pySpark (Spark 1.5.2)",
   "language": "python",
   "name": "pyspark"
  },
  "language_info": {
   "codemirror_mode": {
    "name": "ipython",
    "version": 2
   },
   "file_extension": ".py",
   "mimetype": "text/x-python",
   "name": "python",
   "nbconvert_exporter": "python",
   "pygments_lexer": "ipython2",
   "version": "2.7.6"
  }
 },
 "nbformat": 4,
 "nbformat_minor": 0
}
